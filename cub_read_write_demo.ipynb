{
 "cells": [
  {
   "cell_type": "markdown",
   "metadata": {},
   "source": [
    "# Caltech-UCSD Birds-200-2011 (CUB) - Reader Writer class"
   ]
  },
  {
   "cell_type": "markdown",
   "metadata": {},
   "source": [
    "## Imports"
   ]
  },
  {
   "cell_type": "code",
   "execution_count": 1,
   "metadata": {},
   "outputs": [],
   "source": [
    "import numpy as np\n",
    "import os\n",
    "import csv\n",
    "import cv2\n",
    "import sys\n",
    "import pandas as pd\n",
    "from pandas import DataFrame\n",
    "from PIL import Image\n",
    "from matplotlib import pyplot as plt\n",
    "import pprint\n",
    "from cub_read_write_class  import CUB_ReadWrite  #importing our class"
   ]
  },
  {
   "cell_type": "markdown",
   "metadata": {},
   "source": [
    "## Globals"
   ]
  },
  {
   "cell_type": "code",
   "execution_count": 2,
   "metadata": {},
   "outputs": [],
   "source": [
    "CUB_PATH = \"../../CUB_200_2011/\"\n",
    "CSV_PATH = \"cub_csv.csv\"\n",
    "PROCESS_CUB = True"
   ]
  },
  {
   "cell_type": "markdown",
   "metadata": {},
   "source": [
    "## Helpers (functions for the demo only)"
   ]
  },
  {
   "cell_type": "code",
   "execution_count": 3,
   "metadata": {},
   "outputs": [],
   "source": [
    "# read csv file into pandas dataframe\n",
    "def getCsv(csvPath):\n",
    "    csvData =  pd.read_csv(csvPath)\n",
    "    return csvData\n",
    "\n",
    "# return first top items from dictionary\n",
    "def head(d, top):\n",
    "    return dict(list(d.items())[0:top-1])\n",
    "\n",
    "# draw bounding box, class, image size & box size title on csv row image\n",
    "def draw_box(csvRow):\n",
    "    img = cv2.imread(csvRow['filename'])\n",
    "    img = cv2.rectangle(img, (csvRow['xmin'], csvRow['ymin']), (csvRow['xmax'], csvRow['ymax']), (0, 0, 0), 1)\n",
    "    font = cv2.FONT_HERSHEY_SIMPLEX\n",
    "    cv2.putText(img,csvRow['class'],(csvRow['xmin'],csvRow['ymin']), font, 0.5,(255,255,255),1)\n",
    "    cv2.putText(img,str(csvRow['width'])+\"x\"+str(csvRow['height']),(0,csvRow['height']), font, 0.4,(255,255,255),1)\n",
    "    cv2.putText(img,str(csvRow['b-width'])+\"x\"+str(csvRow['b-height']),(csvRow['xmin'],csvRow['ymax']), font, 0.3,(255,255,255),1)\n",
    "\n",
    "    return img\n",
    "\n",
    "\n",
    "#display csv images from csv rows dataset \n",
    "def showCsvImages(csvRows):\n",
    "    for idx in range(len(csvRows.index)):\n",
    "        row = csvRows.iloc[idx]\n",
    "        pilImage = Image.fromarray(cv2.cvtColor(draw_box(row),cv2.COLOR_BGR2RGB))\n",
    "        display(pilImage)"
   ]
  },
  {
   "cell_type": "markdown",
   "metadata": {},
   "source": [
    "## CUB read write class (display the class source here for clarity only)"
   ]
  },
  {
   "cell_type": "code",
   "execution_count": null,
   "metadata": {},
   "outputs": [],
   "source": [
    "#uncomment to see class source\n",
    "%pycat cub_read_write_class.py"
   ]
  },
  {
   "cell_type": "markdown",
   "metadata": {},
   "source": [
    "## Usage sample\n",
    "- init class object\n",
    "- print CUB methods data (for demo only)\n",
    "- write data into the csv file\n",
    "- read CUB csv file\n",
    "- debug print 10 lines header\n",
    "- display sample image (by number) with bounding box and class as title"
   ]
  },
  {
   "cell_type": "code",
   "execution_count": null,
   "metadata": {
    "scrolled": true
   },
   "outputs": [],
   "source": [
    "if (PROCESS_CUB):   # enables reloading the notebook wothout reading the data (csv read mode only)\n",
    "    try:\n",
    "        cub = CUB_ReadWrite(CUB_PATH)         # initialize class object cub\n",
    "    except ValueError as e:\n",
    "        print(\"error in class constructor: \",e)\n",
    "        sys.exit()\n",
    "    \n",
    "    # this part is class methods demo (prints the class methods returned data) \n",
    "    # ---------------------------------------------------------------------------------------------------\n",
    "    print(cub.getCubSize())                      # CUB records (int)\n",
    "    pprint.pprint(head(cub.getImages(),10))      # images path (dict - {id : path})\n",
    "    pprint.pprint(head(cub.getImagesSizes(),10)) # images sizes (dict - {id : [width,height]})\n",
    "    pprint.pprint(head(cub.getImgClasses(),10))  # images class id (dict - {id : class id} )\n",
    "    pprint.pprint(head(cub.getBoxes(),10))       # images boxes(dict - {id : [xmin, ymin, width, height]})\n",
    "    pprint.pprint(head(cub.getClasses(),10))     # CUB class names (dict - {id : class name})\n",
    "    \n",
    "    # --------------------------------------------------------------------------------------------------\n",
    "    \n",
    "    cub.writeCubToCsv(CSV_PATH)           # write CUB data to the csv file\n",
    "    del(cub)                              # delete cub object\n",
    "    "
   ]
  },
  {
   "cell_type": "code",
   "execution_count": null,
   "metadata": {},
   "outputs": [],
   "source": [
    "csvData = getCsv(CSV_PATH)    # read csv file into csvData object\n",
    "csvData.head(10)              # show first 10 lines"
   ]
  },
  {
   "cell_type": "code",
   "execution_count": null,
   "metadata": {},
   "outputs": [],
   "source": [
    "# query csv dataframe display each, including bounding box and class as title\n",
    "# (uncomment for different queries samples)\n",
    "\n",
    "#query by partial class name\n",
    "#csvRows = csvData[csvData['class'].str.contains(\"Pelican\")]\n",
    "\n",
    "# query by image numbers\n",
    "csvRows = csvData.iloc[123:128]\n",
    "\n",
    "# query by iamge size\n",
    "#csvRows = csvData[(csvData['width'] < 500) & (csvData['height'] < 400)] \n",
    "\n",
    "found = len(csvRows.index)\n",
    "if (found > 0):\n",
    "    print (\"Found {} records\".format(found)) \n",
    "    showCsvImages(csvRows)\n",
    "else:\n",
    "    print (\"No records found\")"
   ]
  }
 ],
 "metadata": {
  "kernelspec": {
   "display_name": "Python 3",
   "language": "python",
   "name": "python3"
  },
  "language_info": {
   "codemirror_mode": {
    "name": "ipython",
    "version": 3
   },
   "file_extension": ".py",
   "mimetype": "text/x-python",
   "name": "python",
   "nbconvert_exporter": "python",
   "pygments_lexer": "ipython3",
   "version": "3.6.6"
  }
 },
 "nbformat": 4,
 "nbformat_minor": 2
}
