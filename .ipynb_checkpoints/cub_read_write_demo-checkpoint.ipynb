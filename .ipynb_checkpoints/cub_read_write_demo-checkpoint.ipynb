{
 "cells": [
  {
   "cell_type": "markdown",
   "metadata": {},
   "source": [
    "# Caltech-UCSD Birds-200-2011 (CUB) - Reader Writer class"
   ]
  },
  {
   "cell_type": "markdown",
   "metadata": {},
   "source": [
    "## Imports"
   ]
  },
  {
   "cell_type": "code",
   "execution_count": 1,
   "metadata": {},
   "outputs": [],
   "source": [
    "import numpy as np\n",
    "import os\n",
    "import csv\n",
    "import cv2\n",
    "import sys\n",
    "import pandas as pd\n",
    "from PIL import Image\n",
    "from matplotlib import pyplot as plt\n",
    "import pprint"
   ]
  },
  {
   "cell_type": "markdown",
   "metadata": {},
   "source": [
    "## Globals"
   ]
  },
  {
   "cell_type": "code",
   "execution_count": 2,
   "metadata": {},
   "outputs": [],
   "source": [
    "CUB_PATH = \"../../CUB_200_2011/\"\n",
    "CSV_PATH = \"cub_csv.csv\"\n",
    "PROCESS_CUB = True"
   ]
  },
  {
   "cell_type": "markdown",
   "metadata": {},
   "source": [
    "## Helpers"
   ]
  },
  {
   "cell_type": "code",
   "execution_count": 3,
   "metadata": {},
   "outputs": [],
   "source": [
    "# get row from csv file\n",
    "def getCsvRow(csvData,rowNumber):\n",
    "    return csvData[csvData.index == rowNumber]\n",
    "\n",
    "# draw bounding box and clss title on csv row image\n",
    "def draw_box(csvRow):\n",
    "    for index, row in csvRow.iterrows():\n",
    "        img = cv2.imread(row['filename'])\n",
    "        img = cv2.rectangle(img, (row['xmin'], row['ymin']), (row['xmax'], row['ymax']), (0, 0, 0), 1)\n",
    "        font = cv2.FONT_HERSHEY_SIMPLEX\n",
    "        cv2.putText(img,row['class'],(row['xmin'],row['ymin']), font, 1,(0,0,0),1)\n",
    "    return img\n",
    "\n",
    "# read csv file\n",
    "def getCsv(csvPath):\n",
    "    csvData =  pd.read_csv(csvPath)\n",
    "    #csvData.head()\n",
    "    return csvData\n",
    "\n",
    "# return first top items from dictionary\n",
    "def head(d, top):\n",
    "    return dict(list(d.items())[0:top-1])"
   ]
  },
  {
   "cell_type": "markdown",
   "metadata": {},
   "source": [
    "## CUB to csv class"
   ]
  },
  {
   "cell_type": "code",
   "execution_count": 4,
   "metadata": {},
   "outputs": [],
   "source": [
    "class CUB_ReadWrite:\n",
    "    \n",
    "    def __init__(self,cubPath):\n",
    "        IMAGES_FILE   = \"images.txt\"\n",
    "        BBOX_FILE     = \"bounding_boxes.txt\"\n",
    "        IMGCLASS_FILE = \"image_class_labels.txt\"\n",
    "        CLASSES_FILE  = \"classes.txt\"\n",
    "        \n",
    "        print(os.path.exists(cubPath))\n",
    "        if (not (os.path.exists(cubPath))):\n",
    "            raise ValueError(\"CUB data folder %s not found\" % cubPath)\n",
    "        else:\n",
    "            self.cubPath = cubPath\n",
    "            self.imgTxtPath = os.path.join(cubPath,IMAGES_FILE)\n",
    "            print (self.imgTxtPath)\n",
    "            self.bbTxtPath = os.path.join(cubPath,BBOX_FILE)\n",
    "            self.imgClassPath = os.path.join(cubPath,IMGCLASS_FILE)\n",
    "            self.classesPath = os.path.join(cubPath,CLASSES_FILE)\n",
    "            if (not (os.path.exists(self.imgTxtPath) and os.path.exists(self.bbTxtPath) and os.path.exists(self.imgClassPath) \\\n",
    "                    and os.path.exists(self.classesPath) and os.path.exists(os.path.join(cubPath,'images')))):\n",
    "                raise ValueError(\"a CUB data file not found ({} ,{} ,{}, {}, {})\".format(self.imgTxtPath, self.bbTxtPath, \\\n",
    "                               self.imgClassPath, self.classesPath, 'images folder' ))\n",
    "            else: \n",
    "                self.imgList,self.imgDict,self.imgSizesDict = self._readImgTxt()\n",
    "                self.bboxDict = self._readBB()\n",
    "                self.imgClassDict = self._readImgClass()\n",
    "                self.classesDict = self._readClasses()\n",
    "        \n",
    "    def _getImgSize(self,imgPath):\n",
    "        im = Image.open(imgPath)\n",
    "        return im.size\n",
    "\n",
    "    def _readImgTxt(self):\n",
    "        imgList = []\n",
    "        imgDict = {}\n",
    "        imgSizesDict = {}\n",
    "        with open(self.imgTxtPath) as f:\n",
    "            spamreader = csv.reader(f, delimiter=' ')\n",
    "            for row in spamreader:\n",
    "                imgList.append(int(row[0]))\n",
    "                imgPath = os.path.join(self.cubPath+'images',row[1])\n",
    "                width,height = self._getImgSize(imgPath)\n",
    "                imgDict[int(row[0])] = imgPath\n",
    "                imgSizesDict[int(row[0])] = [width,height]\n",
    "        return imgList,imgDict,imgSizesDict\n",
    "\n",
    "    def _readBB(self):\n",
    "        bboxDict = {}\n",
    "        with open(self.bbTxtPath) as f:\n",
    "            spamreader = csv.reader(f, delimiter=' ')\n",
    "            for row in spamreader:\n",
    "                bboxDict[int(row[0])] = [ int(float(x)) for x in row[1:5] ]\n",
    "        return bboxDict\n",
    "\n",
    "    def _readImgClass(self):\n",
    "        imgClassDict = {}\n",
    "        with open(self.imgClassPath) as f:\n",
    "            spamreader = csv.reader(f, delimiter=' ')\n",
    "            for row in spamreader:\n",
    "                imgClassDict[int(row[0])] = int(row[1])  #offset by 0 \n",
    "        return imgClassDict\n",
    "\n",
    "    def _readClasses(self):\n",
    "        classDict = {}\n",
    "        with open(self.classesPath) as f:\n",
    "            spamreader = csv.reader(f, delimiter=' ')\n",
    "            for row in spamreader:\n",
    "                classDict[int(row[0])] = row[1]\n",
    "        return classDict\n",
    "    \n",
    "    def getImages(self):\n",
    "        return self.imgDict\n",
    "   \n",
    "    def getImagesSizes(self):\n",
    "        return self.imgSizesDict\n",
    "    \n",
    "    def getBoxes(self):\n",
    "        return self.bboxDict\n",
    "    \n",
    "    def getImgClasses(self):\n",
    "        return self.imgClassDict\n",
    "    \n",
    "    def getClasses(self):\n",
    "        return self.classesDict\n",
    "    \n",
    "    def getCubSize(self):\n",
    "        return len(self.imgList) , len(self.classesDict)    \n",
    "    \n",
    "    def writeCubToCsv(self,csvFilePath):\n",
    "        with open(csvFilePath, 'w') as csvfile:\n",
    "            fieldnames = ['filename', 'image-width', 'image-height', 'class', 'xmin', 'ymin', 'xmax', 'ymax', 'centerx', 'centery', 'width', 'height' ]\n",
    "            writer = csv.DictWriter(csvfile, fieldnames=fieldnames)\n",
    "            writer.writeheader()\n",
    "            for k in self.imgList:\n",
    "                i = k -1  # reindexing\n",
    "                #imgPath = os.path.join(self.cubPath, self.imgDict[self.imgList[i]])\n",
    "                imgPath  = self.imgDict[self.imgList[i]]\n",
    "                imWidth  = self.imgSizesDict[self.imgList[i]][0]\n",
    "                imHeight = self.imgSizesDict[self.imgList[i]][1] \n",
    "                imgClass = self.classesDict[self.imgClassDict[self.imgList[i]]]\n",
    "                boxWidth = int(self.bboxDict[self.imgList[i]][2])\n",
    "                boxHeight = int(self.bboxDict[self.imgList[i]][3])\n",
    "                xmin = int(self.bboxDict[self.imgList[i]][0])\n",
    "                ymin = int(self.bboxDict[self.imgList[i]][1])\n",
    "                xmax = int(self.bboxDict[self.imgList[i]][0] + boxWidth)\n",
    "                ymax = int(self.bboxDict[self.imgList[i]][1] + boxHeight)\n",
    "                centerx = int(self.bboxDict[self.imgList[i]][0] + boxWidth / 2)\n",
    "                centery = int(self.bboxDict[self.imgList[i]][1] + boxHeight / 2)\n",
    "                writer.writerow({'filename' : imgPath,'image-width' : imWidth, 'image-height' : imHeight,'class' : imgClass,'xmin' : xmin,\\\n",
    "                     'ymin' : ymin,'xmax' : xmax,'ymax' : ymax, 'centerx' : centerx, 'centery' : centery, 'width' : boxWidth, 'height' : boxHeight})\n",
    "    "
   ]
  },
  {
   "cell_type": "markdown",
   "metadata": {},
   "source": [
    "## Usage sample\n",
    "- init class object\n",
    " - print CUB data for debug\n",
    "- write data into csv file\n",
    "- read CUB csv file\n",
    " - debug print 10 lines header\n",
    "- display sample image (by number) with bounding box and class as title"
   ]
  },
  {
   "cell_type": "code",
   "execution_count": 5,
   "metadata": {
    "scrolled": true
   },
   "outputs": [
    {
     "name": "stdout",
     "output_type": "stream",
     "text": [
      "True\n",
      "../../CUB_200_2011/images.txt\n"
     ]
    },
    {
     "ename": "FileNotFoundError",
     "evalue": "[Errno 2] No such file or directory: 'images\\\\001.Black_footed_Albatross/Black_Footed_Albatross_0046_18.jpg'",
     "output_type": "error",
     "traceback": [
      "\u001b[1;31m---------------------------------------------------------------------------\u001b[0m",
      "\u001b[1;31mFileNotFoundError\u001b[0m                         Traceback (most recent call last)",
      "\u001b[1;32m<ipython-input-5-39198c89e33a>\u001b[0m in \u001b[0;36m<module>\u001b[1;34m\u001b[0m\n\u001b[0;32m      2\u001b[0m \u001b[1;32mif\u001b[0m \u001b[1;33m(\u001b[0m\u001b[0mPROCESS_CUB\u001b[0m\u001b[1;33m)\u001b[0m\u001b[1;33m:\u001b[0m   \u001b[1;31m# enables reloading the notebook wothout reading the data (csv read only)\u001b[0m\u001b[1;33m\u001b[0m\u001b[0m\n\u001b[0;32m      3\u001b[0m     \u001b[1;32mtry\u001b[0m\u001b[1;33m:\u001b[0m\u001b[1;33m\u001b[0m\u001b[0m\n\u001b[1;32m----> 4\u001b[1;33m         \u001b[0mcub\u001b[0m \u001b[1;33m=\u001b[0m \u001b[0mCUB_ReadWrite\u001b[0m\u001b[1;33m(\u001b[0m\u001b[0mCUB_PATH\u001b[0m\u001b[1;33m)\u001b[0m         \u001b[1;31m# initialize class object cub\u001b[0m\u001b[1;33m\u001b[0m\u001b[0m\n\u001b[0m\u001b[0;32m      5\u001b[0m     \u001b[1;32mexcept\u001b[0m \u001b[0mValueError\u001b[0m \u001b[1;32mas\u001b[0m \u001b[0me\u001b[0m\u001b[1;33m:\u001b[0m\u001b[1;33m\u001b[0m\u001b[0m\n\u001b[0;32m      6\u001b[0m         \u001b[0mprint\u001b[0m\u001b[1;33m(\u001b[0m\u001b[1;34m\"error in class constructor: \"\u001b[0m\u001b[1;33m,\u001b[0m\u001b[0me\u001b[0m\u001b[1;33m)\u001b[0m\u001b[1;33m\u001b[0m\u001b[0m\n",
      "\u001b[1;32m<ipython-input-4-138ff528b84b>\u001b[0m in \u001b[0;36m__init__\u001b[1;34m(self, cubPath)\u001b[0m\n\u001b[0;32m     22\u001b[0m                                self.imgClassPath, self.classesPath ))\n\u001b[0;32m     23\u001b[0m             \u001b[1;32melse\u001b[0m\u001b[1;33m:\u001b[0m\u001b[1;33m\u001b[0m\u001b[0m\n\u001b[1;32m---> 24\u001b[1;33m                 \u001b[0mself\u001b[0m\u001b[1;33m.\u001b[0m\u001b[0mimgList\u001b[0m\u001b[1;33m,\u001b[0m\u001b[0mself\u001b[0m\u001b[1;33m.\u001b[0m\u001b[0mimgDict\u001b[0m\u001b[1;33m,\u001b[0m\u001b[0mself\u001b[0m\u001b[1;33m.\u001b[0m\u001b[0mimgSizesDict\u001b[0m \u001b[1;33m=\u001b[0m \u001b[0mself\u001b[0m\u001b[1;33m.\u001b[0m\u001b[0m_readImgTxt\u001b[0m\u001b[1;33m(\u001b[0m\u001b[1;33m)\u001b[0m\u001b[1;33m\u001b[0m\u001b[0m\n\u001b[0m\u001b[0;32m     25\u001b[0m                 \u001b[0mself\u001b[0m\u001b[1;33m.\u001b[0m\u001b[0mbboxDict\u001b[0m \u001b[1;33m=\u001b[0m \u001b[0mself\u001b[0m\u001b[1;33m.\u001b[0m\u001b[0m_readBB\u001b[0m\u001b[1;33m(\u001b[0m\u001b[1;33m)\u001b[0m\u001b[1;33m\u001b[0m\u001b[0m\n\u001b[0;32m     26\u001b[0m                 \u001b[0mself\u001b[0m\u001b[1;33m.\u001b[0m\u001b[0mimgClassDict\u001b[0m \u001b[1;33m=\u001b[0m \u001b[0mself\u001b[0m\u001b[1;33m.\u001b[0m\u001b[0m_readImgClass\u001b[0m\u001b[1;33m(\u001b[0m\u001b[1;33m)\u001b[0m\u001b[1;33m\u001b[0m\u001b[0m\n",
      "\u001b[1;32m<ipython-input-4-138ff528b84b>\u001b[0m in \u001b[0;36m_readImgTxt\u001b[1;34m(self)\u001b[0m\n\u001b[0;32m     40\u001b[0m                 \u001b[0mimgList\u001b[0m\u001b[1;33m.\u001b[0m\u001b[0mappend\u001b[0m\u001b[1;33m(\u001b[0m\u001b[0mint\u001b[0m\u001b[1;33m(\u001b[0m\u001b[0mrow\u001b[0m\u001b[1;33m[\u001b[0m\u001b[1;36m0\u001b[0m\u001b[1;33m]\u001b[0m\u001b[1;33m)\u001b[0m\u001b[1;33m)\u001b[0m\u001b[1;33m\u001b[0m\u001b[0m\n\u001b[0;32m     41\u001b[0m                 \u001b[0mimgPath\u001b[0m \u001b[1;33m=\u001b[0m \u001b[0mos\u001b[0m\u001b[1;33m.\u001b[0m\u001b[0mpath\u001b[0m\u001b[1;33m.\u001b[0m\u001b[0mjoin\u001b[0m\u001b[1;33m(\u001b[0m\u001b[1;34m'images'\u001b[0m\u001b[1;33m,\u001b[0m\u001b[0mrow\u001b[0m\u001b[1;33m[\u001b[0m\u001b[1;36m1\u001b[0m\u001b[1;33m]\u001b[0m\u001b[1;33m)\u001b[0m\u001b[1;33m\u001b[0m\u001b[0m\n\u001b[1;32m---> 42\u001b[1;33m                 \u001b[0mwidth\u001b[0m\u001b[1;33m,\u001b[0m\u001b[0mheight\u001b[0m \u001b[1;33m=\u001b[0m \u001b[0mself\u001b[0m\u001b[1;33m.\u001b[0m\u001b[0m_getImgSize\u001b[0m\u001b[1;33m(\u001b[0m\u001b[0mimgPath\u001b[0m\u001b[1;33m)\u001b[0m\u001b[1;33m\u001b[0m\u001b[0m\n\u001b[0m\u001b[0;32m     43\u001b[0m                 \u001b[0mimgDict\u001b[0m\u001b[1;33m[\u001b[0m\u001b[0mint\u001b[0m\u001b[1;33m(\u001b[0m\u001b[0mrow\u001b[0m\u001b[1;33m[\u001b[0m\u001b[1;36m0\u001b[0m\u001b[1;33m]\u001b[0m\u001b[1;33m)\u001b[0m\u001b[1;33m]\u001b[0m \u001b[1;33m=\u001b[0m \u001b[0mimgPath\u001b[0m\u001b[1;33m\u001b[0m\u001b[0m\n\u001b[0;32m     44\u001b[0m                 \u001b[0mimgSizesDict\u001b[0m\u001b[1;33m[\u001b[0m\u001b[0mint\u001b[0m\u001b[1;33m(\u001b[0m\u001b[0mrow\u001b[0m\u001b[1;33m[\u001b[0m\u001b[1;36m0\u001b[0m\u001b[1;33m]\u001b[0m\u001b[1;33m)\u001b[0m\u001b[1;33m]\u001b[0m \u001b[1;33m=\u001b[0m \u001b[1;33m[\u001b[0m\u001b[0mwidth\u001b[0m\u001b[1;33m,\u001b[0m\u001b[0mheight\u001b[0m\u001b[1;33m]\u001b[0m\u001b[1;33m\u001b[0m\u001b[0m\n",
      "\u001b[1;32m<ipython-input-4-138ff528b84b>\u001b[0m in \u001b[0;36m_getImgSize\u001b[1;34m(self, imgPath)\u001b[0m\n\u001b[0;32m     28\u001b[0m \u001b[1;33m\u001b[0m\u001b[0m\n\u001b[0;32m     29\u001b[0m     \u001b[1;32mdef\u001b[0m \u001b[0m_getImgSize\u001b[0m\u001b[1;33m(\u001b[0m\u001b[0mself\u001b[0m\u001b[1;33m,\u001b[0m\u001b[0mimgPath\u001b[0m\u001b[1;33m)\u001b[0m\u001b[1;33m:\u001b[0m\u001b[1;33m\u001b[0m\u001b[0m\n\u001b[1;32m---> 30\u001b[1;33m         \u001b[0mim\u001b[0m \u001b[1;33m=\u001b[0m \u001b[0mImage\u001b[0m\u001b[1;33m.\u001b[0m\u001b[0mopen\u001b[0m\u001b[1;33m(\u001b[0m\u001b[0mimgPath\u001b[0m\u001b[1;33m)\u001b[0m\u001b[1;33m\u001b[0m\u001b[0m\n\u001b[0m\u001b[0;32m     31\u001b[0m         \u001b[1;32mreturn\u001b[0m \u001b[0mim\u001b[0m\u001b[1;33m.\u001b[0m\u001b[0msize\u001b[0m\u001b[1;33m\u001b[0m\u001b[0m\n\u001b[0;32m     32\u001b[0m \u001b[1;33m\u001b[0m\u001b[0m\n",
      "\u001b[1;32mc:\\program files\\python36\\lib\\site-packages\\PIL\\Image.py\u001b[0m in \u001b[0;36mopen\u001b[1;34m(fp, mode)\u001b[0m\n\u001b[0;32m   2607\u001b[0m \u001b[1;33m\u001b[0m\u001b[0m\n\u001b[0;32m   2608\u001b[0m     \u001b[1;32mif\u001b[0m \u001b[0mfilename\u001b[0m\u001b[1;33m:\u001b[0m\u001b[1;33m\u001b[0m\u001b[0m\n\u001b[1;32m-> 2609\u001b[1;33m         \u001b[0mfp\u001b[0m \u001b[1;33m=\u001b[0m \u001b[0mbuiltins\u001b[0m\u001b[1;33m.\u001b[0m\u001b[0mopen\u001b[0m\u001b[1;33m(\u001b[0m\u001b[0mfilename\u001b[0m\u001b[1;33m,\u001b[0m \u001b[1;34m\"rb\"\u001b[0m\u001b[1;33m)\u001b[0m\u001b[1;33m\u001b[0m\u001b[0m\n\u001b[0m\u001b[0;32m   2610\u001b[0m         \u001b[0mexclusive_fp\u001b[0m \u001b[1;33m=\u001b[0m \u001b[1;32mTrue\u001b[0m\u001b[1;33m\u001b[0m\u001b[0m\n\u001b[0;32m   2611\u001b[0m \u001b[1;33m\u001b[0m\u001b[0m\n",
      "\u001b[1;31mFileNotFoundError\u001b[0m: [Errno 2] No such file or directory: 'images\\\\001.Black_footed_Albatross/Black_Footed_Albatross_0046_18.jpg'"
     ]
    }
   ],
   "source": [
    "\n",
    "if (PROCESS_CUB):   # enables reloading the notebook wothout reading the data (csv read only)\n",
    "    try:\n",
    "        cub = CUB_ReadWrite(CUB_PATH)         # initialize class object cub\n",
    "    except ValueError as e:\n",
    "        print(\"error in class constructor: \",e)\n",
    "        sys.exit()\n",
    "    \n",
    "    # this part is debug print only of the class methods returned data \n",
    "    # ---------------------------------------------------------------------------------------------------\n",
    "    print(cub.getCubSize())                      # CUB records (int)\n",
    "    pprint.pprint(head(cub.getImages(),10))      # images path (dict - {id : path})\n",
    "    pprint.pprint(head(cub.getImagesSizes(),10)) # images sizes (dict - {id : [width,height]})\n",
    "    pprint.pprint(head(cub.getImgClasses(),10))  # images class id (dict - {id : class id} )\n",
    "    pprint.pprint(head(cub.getBoxes(),10))       # images boxes(dict - {id : [xmin, ymin, width, height]})\n",
    "    pprint.pprint(head(cub.getClasses(),10))     # CUB class names (dict - {id : class name})\n",
    "    \n",
    "    # --------------------------------------------------------------------------------------------------\n",
    "    \n",
    "    cub.writeCubToCsv(CSV_PATH)           # write to csv file\n",
    "    del(cub)                              # delete cub object\n",
    "    "
   ]
  },
  {
   "cell_type": "code",
   "execution_count": null,
   "metadata": {},
   "outputs": [],
   "source": [
    "csvData = getCsv(CSV_PATH)    # read csv file into csvData object\n",
    "csvData.head(10)              # show first 10 lines"
   ]
  },
  {
   "cell_type": "code",
   "execution_count": null,
   "metadata": {},
   "outputs": [],
   "source": [
    "# show image by number including bounding box and class as title\n",
    "imgNum = 10000\n",
    "csvRow= getCsvRow(csvData,imgNum)\n",
    "pilImage = Image.fromarray(cv2.cvtColor(draw_box(csvRow),cv2.COLOR_BGR2RGB))\n",
    "pilImage"
   ]
  },
  {
   "cell_type": "code",
   "execution_count": null,
   "metadata": {},
   "outputs": [],
   "source": [
    "# open image in external image viewer\n",
    "pilImage.show()"
   ]
  }
 ],
 "metadata": {
  "kernelspec": {
   "display_name": "Python 3",
   "language": "python",
   "name": "python3"
  },
  "language_info": {
   "codemirror_mode": {
    "name": "ipython",
    "version": 3
   },
   "file_extension": ".py",
   "mimetype": "text/x-python",
   "name": "python",
   "nbconvert_exporter": "python",
   "pygments_lexer": "ipython3",
   "version": "3.6.6"
  }
 },
 "nbformat": 4,
 "nbformat_minor": 2
}
