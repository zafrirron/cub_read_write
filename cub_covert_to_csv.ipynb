<!DOCTYPE html>
<html>
<head><meta charset="utf-8" />

<title>cub_convert_to_csv</title>

<script src="https://cdnjs.cloudflare.com/ajax/libs/require.js/2.1.10/require.min.js"></script>
<script src="https://cdnjs.cloudflare.com/ajax/libs/jquery/2.0.3/jquery.min.js"></script>



<style type="text/css">
    /*!
*
* Twitter Bootstrap
*
*/
/*!
 * Bootstrap v3.3.7 (http://getbootstrap.com)
 * Copyright 2011-2016 Twitter, Inc.
 * Licensed under MIT (https://github.com/twbs/bootstrap/blob/master/LICENSE)
 */
/*! normalize.css v3.0.3 | MIT License | github.com/necolas/normalize.css */
html {
  font-family: sans-serif;
  -ms-text-size-adjust: 100%;
  -webkit-text-size-adjust: 100%;
}
body {
  margin: 0;
}
article,
aside,
details,
figcaption,
figure,
footer,
header,
hgroup,
main,
menu,
nav,
section,
summary {
  display: block;
}
audio,
canvas,
progress,
video {
  display: inline-block;
  vertical-align: baseline;
}
audio:not([controls]) {
  display: none;
  height: 0;
}
[hidden],
template {
  display: none;
}
a {
  background-color: transparent;
}
a:active,
a:hover {
  outline: 0;
}
abbr[title] {
  border-bottom: 1px dotted;
}
b,
strong {
  font-weight: bold;
}
dfn {
  font-style: italic;
}
h1 {
  font-size: 2em;
  margin: 0.67em 0;
}
mark {
  background: #ff0;
  color: #000;
}
small {
  font-size: 80%;
}
sub,
sup {
  font-size: 75%;
  line-height: 0;
  position: relative;
  vertical-align: baseline;
}
sup {
  top: -0.5em;
}
sub {
  bottom: -0.25em;
}
img {
  border: 0;
}
svg:not(:root) {
  overflow: hidden;
}
figure {
  margin: 1em 40px;
}
hr {
  box-sizing: content-box;
  height: 0;
}
pre {
  overflow: auto;
}
code,
kbd,
pre,
samp {
  font-family: monospace, monospace;
  font-size: 1em;
}
button,
input,
optgroup,
select,
textarea {
  color: inherit;
  font: inherit;
  margin: 0;
}
button {
  overflow: visible;
}
button,
select {
  text-transform: none;
}
button,
html input[type="button"],
input[type="reset"],
input[type="submit"] {
  -webkit-appearance: button;
  cursor: pointer;
}
button[disabled],
html input[disabled] {
  cursor: default;
}
button::-moz-focus-inner,
input::-moz-focus-inner {
  border: 0;
  padding: 0;
}
input {
  line-height: normal;
}
input[type="checkbox"],
input[type="radio"] {
  box-sizing: border-box;
  padding: 0;
}
input[type="number"]::-webkit-inner-spin-button,
input[type="number"]::-webkit-outer-spin-button {
  height: auto;
}
input[type="search"] {
  -webkit-appearance: textfield;
  box-sizing: content-box;
}
input[type="search"]::-webkit-search-cancel-button,
input[type="search"]::-webkit-search-decoration {
  -webkit-appearance: none;
}
fieldset {
  border: 1px solid #c0c0c0;
  margin: 0 2px;
  padding: 0.35em 0.625em 0.75em;
}
legend {
  border: 0;
  padding: 0;
}
textarea {
  overflow: auto;
}
optgroup {
  font-weight: bold;
}
table {
  border-collapse: collapse;
  border-spacing: 0;
}
td,
th {
  padding: 0;
}
/*! Source: https://github.com/h5bp/html5-boilerplate/blob/master/src/css/main.css */
@media print {
  *,
  *:before,
  *:after {
    background: transparent !important;
    box-shadow: none !important;
    text-shadow: none !important;
  }
  a,
  a:visited {
    text-decoration: underline;
  }
  a[href]:after {
    content: " (" attr(href) ")";
  }
  abbr[title]:after {
    content: " (" attr(title) ")";
  }
  a[href^="#"]:after,
  a[href^="javascript:"]:after {
    content: "";
  }
  pre,
  blockquote {
    border: 1px solid #999;
    page-break-inside: avoid;
  }
  thead {
    display: table-header-group;
  }
  tr,
  img {
    page-break-inside: avoid;
  }
  img {
    max-width: 100% !important;
  }
  p,
  h2,
  h3 {
    orphans: 3;
    widows: 3;
  }
  h2,
  h3 {
    page-break-after: avoid;
  }
  .navbar {
    display: none;
  }
  .btn > .caret,
  .dropup > .btn > .caret {
    border-top-color: #000 !important;
  }
  .label {
    border: 1px solid #000;
  }
  .table {
    border-collapse: collapse !important;
  }
  .table td,
  .table th {
    background-color: #fff !important;
  }
  .table-bordered th,
  .table-bordered td {
    border: 1px solid #ddd !important;
  }
}
@font-face {
  font-family: 'Glyphicons Halflings';
  src: url('../components/bootstrap/fonts/glyphicons-halflings-regular.eot');
  src: url('../components/bootstrap/fonts/glyphicons-halflings-regular.eot?#iefix') format('embedded-opentype'), url('../components/bootstrap/fonts/glyphicons-halflings-regular.woff2') format('woff2'), url('../components/bootstrap/fonts/glyphicons-halflings-regular.woff') format('woff'), url('../components/bootstrap/fonts/glyphicons-halflings-regular.ttf') format('truetype'), url('../components/bootstrap/fonts/glyphicons-halflings-regular.svg#glyphicons_halflingsregular') format('svg');
}
.glyphicon {
  position: relative;
  top: 1px;
  display: inline-block;
  font-family: 'Glyphicons Halflings';
  font-style: normal;
  font-weight: normal;
  line-height: 1;
  -webkit-font-smoothing: antialiased;
  -moz-osx-font-smoothing: grayscale;
}
.glyphicon-asterisk:before {
  content: "\002a";
}
.glyphicon-plus:before {
  content: "\002b";
}
.glyphicon-euro:before,
.glyphicon-eur:before {
  content: "\20ac";
}
.glyphicon-minus:before {
  content: "\2212";
}
.glyphicon-cloud:before {
  content: "\2601";
}
.glyphicon-envelope:before {
  content: "\2709";
}
.glyphicon-pencil:before {
  content: "\270f";
}
.glyphicon-glass:before {
  content: "\e001";
}
.glyphicon-music:before {
  content: "\e002";
}
.glyphicon-search:before {
  content: "\e003";
}
.glyphicon-heart:before {
  content: "\e005";
}
.glyphicon-star:before {
  content: "\e006";
}
.glyphicon-star-empty:before {
  content: "\e007";
}
.glyphicon-user:before {
  content: "\e008";
}
.glyphicon-film:before {
  content: "\e009";
}
.glyphicon-th-large:before {
  content: "\e010";
}
.glyphicon-th:before {
  content: "\e011";
}
.glyphicon-th-list:before {
  content: "\e012";
}
.glyphicon-ok:before {
  content: "\e013";
}
.glyphicon-remove:before {
  content: "\e014";
}
.glyphicon-zoom-in:before {
  content: "\e015";
}
.glyphicon-zoom-out:before {
  content: "\e016";
}
.glyphicon-off:before {
  content: "\e017";
}
.glyphicon-signal:before {
  content: "\e018";
}
.glyphicon-cog:before {
  content: "\e019";
}
.glyphicon-trash:before {
  content: "\e020";
}
.glyphicon-home:before {
  content: "\e021";
}
.glyphicon-file:before {
  content: "\e022";
}
.glyphicon-time:before {
  content: "\e023";
}
.glyphicon-road:before {
  content: "\e024";
}
.glyphicon-download-alt:before {
  content: "\e025";
}
.glyphicon-download:before {
  content: "\e026";
}
.glyphicon-upload:before {
  content: "\e027";
}
.glyphicon-inbox:before {
  content: "\e028";
}
.glyphicon-play-circle:before {
  content: "\e029";
}
.glyphicon-repeat:before {
  content: "\e030";
}
.glyphicon-refresh:before {
  content: "\e031";
}
.glyphicon-list-alt:before {
  content: "\e032";
}
.glyphicon-lock:before {
  content: "\e033";
}
.glyphicon-flag:before {
  content: "\e034";
}
.glyphicon-headphones:before {
  content: "\e035";
}
.glyphicon-volume-off:before {
  content: "\e036";
}
.glyphicon-volume-down:before {
  content: "\e037";
}
.glyphicon-volume-up:before {
  content: "\e038";
}
.glyphicon-qrcode:before {
  content: "\e039";
}
.glyphicon-barcode:before {
  content: "\e040";
}
.glyphicon-tag:before {
  content: "\e041";
}
.glyphicon-tags:before {
  content: "\e042";
}
.glyphicon-book:before {
  content: "\e043";
}
.glyphicon-bookmark:before {
  content: "\e044";
}
.glyphicon-print:before {
  content: "\e045";
}
.glyphicon-camera:before {
  content: "\e046";
}
.glyphicon-font:before {
  content: "\e047";
}
.glyphicon-bold:before {
  content: "\e048";
}
.glyphicon-italic:before {
  content: "\e049";
}
.glyphicon-text-height:before {
  content: "\e050";
}
.glyphicon-text-width:before {
  content: "\e051";
}
.glyphicon-align-left:before {
  content: "\e052";
}
.glyphicon-align-center:before {
  content: "\e053";
}
.glyphicon-align-right:before {
  content: "\e054";
}
.glyphicon-align-justify:before {
  content: "\e055";
}
.glyphicon-list:before {
  content: "\e056";
}
.glyphicon-indent-left:before {
  content: "\e057";
}
.glyphicon-indent-right:before {
  content: "\e058";
}
.glyphicon-facetime-video:before {
  content: "\e059";
}
.glyphicon-picture:before {
  content: "\e060";
}
.glyphicon-map-marker:before {
  content: "\e062";
}
.glyphicon-adjust:before {
  content: "\e063";
}
.glyphicon-tint:before {
  content: "\e064";
}
.glyphicon-edit:before {
  content: "\e065";
}
.glyphicon-share:before {
  content: "\e066";
}
.glyphicon-check:before {
  content: "\e067";
}
.glyphicon-move:before {
  content: "\e068";
}
.glyphicon-step-backward:before {
  content: "\e069";
}
.glyphicon-fast-backward:before {
  content: "\e070";
}
.glyphicon-backward:before {
  content: "\e071";
}
.glyphicon-play:before {
  content: "\e072";
}
.glyphicon-pause:before {
  content: "\e073";
}
.glyphicon-stop:before {
  content: "\e074";
}
.glyphicon-forward:before {
  content: "\e075";
}
.glyphicon-fast-forward:before {
  content: "\e076";
}
.glyphicon-step-forward:before {
  content: "\e077";
}
.glyphicon-eject:before {
  content: "\e078";
}
.glyphicon-chevron-left:before {
  content: "\e079";
}
.glyphicon-chevron-right:before {
  content: "\e080";
}
.glyphicon-plus-sign:before {
  content: "\e081";
}
.glyphicon-minus-sign:before {
  content: "\e082";
}
.glyphicon-remove-sign:before {
  content: "\e083";
}
.glyphicon-ok-sign:before {
  content: "\e084";
}
.glyphicon-question-sign:before {
  content: "\e085";
}
.glyphicon-info-sign:before {
  content: "\e086";
}
.glyphicon-screenshot:before {
  content: "\e087";
}
.glyphicon-remove-circle:before {
  content: "\e088";
}
.glyphicon-ok-circle:before {
  content: "\e089";
}
.glyphicon-ban-circle:before {
  content: "\e090";
}
.glyphicon-arrow-left:before {
  content: "\e091";
}
.glyphicon-arrow-right:before {
  content: "\e092";
}
.glyphicon-arrow-up:before {
  content: "\e093";
}
.glyphicon-arrow-down:before {
  content: "\e094";
}
.glyphicon-share-alt:before {
  content: "\e095";
}
.glyphicon-resize-full:before {
  content: "\e096";
}
.glyphicon-resize-small:before {
  content: "\e097";
}
.glyphicon-exclamation-sign:before {
  content: "\e101";
}
.glyphicon-gift:before {
  content: "\e102";
}
.glyphicon-leaf:before {
  content: "\e103";
}
.glyphicon-fire:before {
  content: "\e104";
}
.glyphicon-eye-open:before {
  content: "\e105";
}
.glyphicon-eye-close:before {
  content: "\e106";
}
.glyphicon-warning-sign:before {
  content: "\e107";
}
.glyphicon-plane:before {
  content: "\e108";
}
.glyphicon-calendar:before {
  content: "\e109";
}
.glyphicon-random:before {
  content: "\e110";
}
.glyphicon-comment:before {
  content: "\e111";
}
.glyphicon-magnet:before {
  content: "\e112";
}
.glyphicon-chevron-up:before {
  content: "\e113";
}
.glyphicon-chevron-down:before {
  content: "\e114";
}
.glyphicon-retweet:before {
  content: "\e115";
}
.glyphicon-shopping-cart:before {
  content: "\e116";
}
.glyphicon-folder-close:before {
  content: "\e117";
}
.glyphicon-folder-open:before {
  content: "\e118";
}
.glyphicon-resize-vertical:before {
  content: "\e119";
}
.glyphicon-resize-horizontal:before {
  content: "\e120";
}
.glyphicon-hdd:before {
  content: "\e121";
}
.glyphicon-bullhorn:before {
  content: "\e122";
}
.glyphicon-bell:before {
  content: "\e123";
}
.glyphicon-certificate:before {
  content: "\e124";
}
.glyphicon-thumbs-up:before {
  content: "\e125";
}
.glyphicon-thumbs-down:before {
  content: "\e126";
}
.glyphicon-hand-right:before {
  content: "\e127";
}
.glyphicon-hand-left:before {
  content: "\e128";
}
.glyphicon-hand-up:before {
  content: "\e129";
}
.glyphicon-hand-down:before {
  content: "\e130";
}
.glyphicon-circle-arrow-right:before {
  content: "\e131";
}
.glyphicon-circle-arrow-left:before {
  content: "\e132";
}
.glyphicon-circle-arrow-up:before {
  content: "\e133";
}
.glyphicon-circle-arrow-down:before {
  content: "\e134";
}
.glyphicon-globe:before {
  content: "\e135";
}
.glyphicon-wrench:before {
  content: "\e136";
}
.glyphicon-tasks:before {
  content: "\e137";
}
.glyphicon-filter:before {
  content: "\e138";
}
.glyphicon-briefcase:before {
  content: "\e139";
}
.glyphicon-fullscreen:before {
  content: "\e140";
}
.glyphicon-dashboard:before {
  content: "\e141";
}
.glyphicon-paperclip:before {
  content: "\e142";
}
.glyphicon-heart-empty:before {
  content: "\e143";
}
.glyphicon-link:before {
  content: "\e144";
}
.glyphicon-phone:before {
  content: "\e145";
}
.glyphicon-pushpin:before {
  content: "\e146";
}
.glyphicon-usd:before {
  content: "\e148";
}
.glyphicon-gbp:before {
  content: "\e149";
}
.glyphicon-sort:before {
  content: "\e150";
}
.glyphicon-sort-by-alphabet:before {
  content: "\e151";
}
.glyphicon-sort-by-alphabet-alt:before {
  content: "\e152";
}
.glyphicon-sort-by-order:before {
  content: "\e153";
}
.glyphicon-sort-by-order-alt:before {
  content: "\e154";
}
.glyphicon-sort-by-attributes:before {
  content: "\e155";
}
.glyphicon-sort-by-attributes-alt:before {
  content: "\e156";
}
.glyphicon-unchecked:before {
  content: "\e157";
}
.glyphicon-expand:before {
  content: "\e158";
}
.glyphicon-collapse-down:before {
  content: "\e159";
}
.glyphicon-collapse-up:before {
  content: "\e160";
}
.glyphicon-log-in:before {
  content: "\e161";
}
.glyphicon-flash:before {
  content: "\e162";
}
.glyphicon-log-out:before {
  content: "\e163";
}
.glyphicon-new-window:before {
  content: "\e164";
}
.glyphicon-record:before {
  content: "\e165";
}
.glyphicon-save:before {
  content: "\e166";
}
.glyphicon-open:before {
  content: "\e167";
}
.glyphicon-saved:before {
  content: "\e168";
}
.glyphicon-import:before {
  content: "\e169";
}
.glyphicon-export:before {
  content: "\e170";
}
.glyphicon-send:before {
  content: "\e171";
}
.glyphicon-floppy-disk:before {
  content: "\e172";
}
.glyphicon-floppy-saved:before {
  content: "\e173";
}
.glyphicon-floppy-remove:before {
  content: "\e174";
}
.glyphicon-floppy-save:before {
  content: "\e175";
}
.glyphicon-floppy-open:before {
  content: "\e176";
}
.glyphicon-credit-card:before {
  content: "\e177";
}
.glyphicon-transfer:before {
  content: "\e178";
}
.glyphicon-cutlery:before {
  content: "\e179";
}
.glyphicon-header:before {
  content: "\e180";
}
.glyphicon-compressed:before {
  content: "\e181";
}
.glyphicon-earphone:before {
  content: "\e182";
}
.glyphicon-phone-alt:before {
  content: "\e183";
}
.glyphicon-tower:before {
  content: "\e184";
}
.glyphicon-stats:before {
  content: "\e185";
}
.glyphicon-sd-video:before {
  content: "\e186";
}
.glyphicon-hd-video:before {
  content: "\e187";
}
.glyphicon-subtitles:before {
  content: "\e188";
}
.glyphicon-sound-stereo:before {
  content: "\e189";
}
.glyphicon-sound-dolby:before {
  content: "\e190";
}
.glyphicon-sound-5-1:before {
  content: "\e191";
}
.glyphicon-sound-6-1:before {
  content: "\e192";
}
.glyphicon-sound-7-1:before {
  content: "\e193";
}
.glyphicon-copyright-mark:before {
  content: "\e194";
}
.glyphicon-registration-mark:before {
  content: "\e195";
}
.glyphicon-cloud-download:before {
  content: "\e197";
}
.glyphicon-cloud-upload:before {
  content: "\e198";
}
.glyphicon-tree-conifer:before {
  content: "\e199";
}
.glyphicon-tree-deciduous:before {
  content: "\e200";
}
.glyphicon-cd:before {
  content: "\e201";
}
.glyphicon-save-file:before {
  content: "\e202";
}
.glyphicon-open-file:before {
  content: "\e203";
}
.glyphicon-level-up:before {
  content: "\e204";
}
.glyphicon-copy:before {
  content: "\e205";
}
.glyphicon-paste:before {
  content: "\e206";
}
.glyphicon-alert:before {
  content: "\e209";
}
.glyphicon-equalizer:before {
  content: "\e210";
}
.glyphicon-king:before {
  content: "\e211";
}
.glyphicon-queen:before {
  content: "\e212";
}
.glyphicon-pawn:before {
  content: "\e213";
}
.glyphicon-bishop:before {
  content: "\e214";
}
.glyphicon-knight:before {
  content: "\e215";
}
.glyphicon-baby-formula:before {
  content: "\e216";
}
.glyphicon-tent:before {
  content: "\26fa";
}
.glyphicon-blackboard:before {
  content: "\e218";
}
.glyphicon-bed:before {
  content: "\e219";
}
.glyphicon-apple:before {
  content: "\f8ff";
}
.glyphicon-erase:before {
  content: "\e221";
}
.glyphicon-hourglass:before {
  content: "\231b";
}
.glyphicon-lamp:before {
  content: "\e223";
}
.glyphicon-duplicate:before {
  content: "\e224";
}
.glyphicon-piggy-bank:before {
  content: "\e225";
}
.glyphicon-scissors:before {
  content: "\e226";
}
.glyphicon-bitcoin:before {
  content: "\e227";
}
.glyphicon-btc:before {
  content: "\e227";
}
.glyphicon-xbt:before {
  content: "\e227";
}
.glyphicon-yen:before {
  content: "\00a5";
}
.glyphicon-jpy:before {
  content: "\00a5";
}
.glyphicon-ruble:before {
  content: "\20bd";
}
.glyphicon-rub:before {
  content: "\20bd";
}
.glyphicon-scale:before {
  content: "\e230";
}
.glyphicon-ice-lolly:before {
  content: "\e231";
}
.glyphicon-ice-lolly-tasted:before {
  content: "\e232";
}
.glyphicon-education:before {
  content: "\e233";
}
.glyphicon-option-horizontal:before {
  content: "\e234";
}
.glyphicon-option-vertical:before {
  content: "\e235";
}
.glyphicon-menu-hamburger:before {
  content: "\e236";
}
.glyphicon-modal-window:before {
  content: "\e237";
}
.glyphicon-oil:before {
  content: "\e238";
}
.glyphicon-grain:before {
  content: "\e239";
}
.glyphicon-sunglasses:before {
  content: "\e240";
}
.glyphicon-text-size:before {
  content: "\e241";
}
.glyphicon-text-color:before {
  content: "\e242";
}
.glyphicon-text-background:before {
  content: "\e243";
}
.glyphicon-object-align-top:before {
  content: "\e244";
}
.glyphicon-object-align-bottom:before {
  content: "\e245";
}
.glyphicon-object-align-horizontal:before {
  content: "\e246";
}
.glyphicon-object-align-left:before {
  content: "\e247";
}
.glyphicon-object-align-vertical:before {
  content: "\e248";
}
.glyphicon-object-align-right:before {
  content: "\e249";
}
.glyphicon-triangle-right:before {
  content: "\e250";
}
.glyphicon-triangle-left:before {
  content: "\e251";
}
.glyphicon-triangle-bottom:before {
  content: "\e252";
}
.glyphicon-triangle-top:before {
  content: "\e253";
}
.glyphicon-console:before {
  content: "\e254";
}
.glyphicon-superscript:before {
  content: "\e255";
}
.glyphicon-subscript:before {
  content: "\e256";
}
.glyphicon-menu-left:before {
  content: "\e257";
}
.glyphicon-menu-right:before {
  content: "\e258";
}
.glyphicon-menu-down:before {
  content: "\e259";
}
.glyphicon-menu-up:before {
  content: "\e260";
}
* {
  -webkit-box-sizing: border-box;
  -moz-box-sizing: border-box;
  box-sizing: border-box;
}
*:before,
*:after {
  -webkit-box-sizing: border-box;
  -moz-box-sizing: border-box;
  box-sizing: border-box;
}
html {
  font-size: 10px;
  -webkit-tap-highlight-color: rgba(0, 0, 0, 0);
}
body {
  font-family: "Helvetica Neue", Helvetica, Arial, sans-serif;
  font-size: 13px;
  line-height: 1.42857143;
  color: #000;
  background-color: #fff;
}
input,
button,
select,
textarea {
  font-family: inherit;
  font-size: inherit;
  line-height: inherit;
}
a {
  color: #337ab7;
  text-decoration: none;
}
a:hover,
a:focus {
  color: #23527c;
  text-decoration: underline;
}
a:focus {
  outline: 5px auto -webkit-focus-ring-color;
  outline-offset: -2px;
}
figure {
  margin: 0;
}
img {
  vertical-align: middle;
}
.img-responsive,
.thumbnail > img,
.thumbnail a > img,
.carousel-inner > .item > img,
.carousel-inner > .item > a > img {
  display: block;
  max-width: 100%;
  height: auto;
}
.img-rounded {
  border-radius: 3px;
}
.img-thumbnail {
  padding: 4px;
  line-height: 1.42857143;
  background-color: #fff;
  border: 1px solid #ddd;
  border-radius: 2px;
  -webkit-transition: all 0.2s ease-in-out;
  -o-transition: all 0.2s ease-in-out;
  transition: all 0.2s ease-in-out;
  display: inline-block;
  max-width: 100%;
  height: auto;
}
.img-circle {
  border-radius: 50%;
}
hr {
  margin-top: 18px;
  margin-bottom: 18px;
  border: 0;
  border-top: 1px solid #eeeeee;
}
.sr-only {
  position: absolute;
  width: 1px;
  height: 1px;
  margin: -1px;
  padding: 0;
  overflow: hidden;
  clip: rect(0, 0, 0, 0);
  border: 0;
}
.sr-only-focusable:active,
.sr-only-focusable:focus {
  position: static;
  width: auto;
  height: auto;
  margin: 0;
  overflow: visible;
  clip: auto;
}
[role="button"] {
  cursor: pointer;
}
h1,
h2,
h3,
h4,
h5,
h6,
.h1,
.h2,
.h3,
.h4,
.h5,
.h6 {
  font-family: inherit;
  font-weight: 500;
  line-height: 1.1;
  color: inherit;
}
h1 small,
h2 small,
h3 small,
h4 small,
h5 small,
h6 small,
.h1 small,
.h2 small,
.h3 small,
.h4 small,
.h5 small,
.h6 small,
h1 .small,
h2 .small,
h3 .small,
h4 .small,
h5 .small,
h6 .small,
.h1 .small,
.h2 .small,
.h3 .small,
.h4 .small,
.h5 .small,
.h6 .small {
  font-weight: normal;
  line-height: 1;
  color: #777777;
}
h1,
.h1,
h2,
.h2,
h3,
.h3 {
  margin-top: 18px;
  margin-bottom: 9px;
}
h1 small,
.h1 small,
h2 small,
.h2 small,
h3 small,
.h3 small,
h1 .small,
.h1 .small,
h2 .small,
.h2 .small,
h3 .small,
.h3 .small {
  font-size: 65%;
}
h4,
.h4,
h5,
.h5,
h6,
.h6 {
  margin-top: 9px;
  margin-bottom: 9px;
}
h4 small,
.h4 small,
h5 small,
.h5 small,
h6 small,
.h6 small,
h4 .small,
.h4 .small,
h5 .small,
.h5 .small,
h6 .small,
.h6 .small {
  font-size: 75%;
}
h1,
.h1 {
  font-size: 33px;
}
h2,
.h2 {
  font-size: 27px;
}
h3,
.h3 {
  font-size: 23px;
}
h4,
.h4 {
  font-size: 17px;
}
h5,
.h5 {
  font-size: 13px;
}
h6,
.h6 {
  font-size: 12px;
}
p {
  margin: 0 0 9px;
}
.lead {
  margin-bottom: 18px;
  font-size: 14px;
  font-weight: 300;
  line-height: 1.4;
}
@media (min-width: 768px) {
  .lead {
    font-size: 19.5px;
  }
}
small,
.small {
  font-size: 92%;
}
mark,
.mark {
  background-color: #fcf8e3;
  padding: .2em;
}
.text-left {
  text-align: left;
}
.text-right {
  text-align: right;
}
.text-center {
  text-align: center;
}
.text-justify {
  text-align: justify;
}
.text-nowrap {
  white-space: nowrap;
}
.text-lowercase {
  text-transform: lowercase;
}
.text-uppercase {
  text-transform: uppercase;
}
.text-capitalize {
  text-transform: capitalize;
}
.text-muted {
  color: #777777;
}
.text-primary {
  color: #337ab7;
}
a.text-primary:hover,
a.text-primary:focus {
  color: #286090;
}
.text-success {
  color: #3c763d;
}
a.text-success:hover,
a.text-success:focus {
  color: #2b542c;
}
.text-info {
  color: #31708f;
}
a.text-info:hover,
a.text-info:focus {
  color: #245269;
}
.text-warning {
  color: #8a6d3b;
}
a.text-warning:hover,
a.text-warning:focus {
  color: #66512c;
}
.text-danger {
  color: #a94442;
}
a.text-danger:hover,
a.text-danger:focus {
  color: #843534;
}
.bg-primary {
  color: #fff;
  background-color: #337ab7;
}
a.bg-primary:hover,
a.bg-primary:focus {
  background-color: #286090;
}
.bg-success {
  background-color: #dff0d8;
}
a.bg-success:hover,
a.bg-success:focus {
  background-color: #c1e2b3;
}
.bg-info {
  background-color: #d9edf7;
}
a.bg-info:hover,
a.bg-info:focus {
  background-color: #afd9ee;
}
.bg-warning {
  background-color: #fcf8e3;
}
a.bg-warning:hover,
a.bg-warning:focus {
  background-color: #f7ecb5;
}
.bg-danger {
  background-color: #f2dede;
}
a.bg-danger:hover,
a.bg-danger:focus {
  background-color: #e4b9b9;
}
.page-header {
  padding-bottom: 8px;
  margin: 36px 0 18px;
  border-bottom: 1px solid #eeeeee;
}
ul,
ol {
  margin-top: 0;
  margin-bottom: 9px;
}
ul ul,
ol ul,
ul ol,
ol ol {
  margin-bottom: 0;
}
.list-unstyled {
  padding-left: 0;
  list-style: none;
}
.list-inline {
  padding-left: 0;
  list-style: none;
  margin-left: -5px;
}
.list-inline > li {
  display: inline-block;
  padding-left: 5px;
  padding-right: 5px;
}
dl {
  margin-top: 0;
  margin-bottom: 18px;
}
dt,
dd {
  line-height: 1.42857143;
}
dt {
  font-weight: bold;
}
dd {
  margin-left: 0;
}
@media (min-width: 541px) {
  .dl-horizontal dt {
    float: left;
    width: 160px;
    clear: left;
    text-align: right;
    overflow: hidden;
    text-overflow: ellipsis;
    white-space: nowrap;
  }
  .dl-horizontal dd {
    margin-left: 180px;
  }
}
abbr[title],
abbr[data-original-title] {
  cursor: help;
  border-bottom: 1px dotted #777777;
}
.initialism {
  font-size: 90%;
  text-transform: uppercase;
}
blockquote {
  padding: 9px 18px;
  margin: 0 0 18px;
  font-size: inherit;
  border-left: 5px solid #eeeeee;
}
blockquote p:last-child,
blockquote ul:last-child,
blockquote ol:last-child {
  margin-bottom: 0;
}
blockquote footer,
blockquote small,
blockquote .small {
  display: block;
  font-size: 80%;
  line-height: 1.42857143;
  color: #777777;
}
blockquote footer:before,
blockquote small:before,
blockquote .small:before {
  content: '\2014 \00A0';
}
.blockquote-reverse,
blockquote.pull-right {
  padding-right: 15px;
  padding-left: 0;
  border-right: 5px solid #eeeeee;
  border-left: 0;
  text-align: right;
}
.blockquote-reverse footer:before,
blockquote.pull-right footer:before,
.blockquote-reverse small:before,
blockquote.pull-right small:before,
.blockquote-reverse .small:before,
blockquote.pull-right .small:before {
  content: '';
}
.blockquote-reverse footer:after,
blockquote.pull-right footer:after,
.blockquote-reverse small:after,
blockquote.pull-right small:after,
.blockquote-reverse .small:after,
blockquote.pull-right .small:after {
  content: '\00A0 \2014';
}
address {
  margin-bottom: 18px;
  font-style: normal;
  line-height: 1.42857143;
}
code,
kbd,
pre,
samp {
  font-family: monospace;
}
code {
  padding: 2px 4px;
  font-size: 90%;
  color: #c7254e;
  background-color: #f9f2f4;
  border-radius: 2px;
}
kbd {
  padding: 2px 4px;
  font-size: 90%;
  color: #888;
  background-color: transparent;
  border-radius: 1px;
  box-shadow: inset 0 -1px 0 rgba(0, 0, 0, 0.25);
}
kbd kbd {
  padding: 0;
  font-size: 100%;
  font-weight: bold;
  box-shadow: none;
}
pre {
  display: block;
  padding: 8.5px;
  margin: 0 0 9px;
  font-size: 12px;
  line-height: 1.42857143;
  word-break: break-all;
  word-wrap: break-word;
  color: #333333;
  background-color: #f5f5f5;
  border: 1px solid #ccc;
  border-radius: 2px;
}
pre code {
  padding: 0;
  font-size: inherit;
  color: inherit;
  white-space: pre-wrap;
  background-color: transparent;
  border-radius: 0;
}
.pre-scrollable {
  max-height: 340px;
  overflow-y: scroll;
}
.container {
  margin-right: auto;
  margin-left: auto;
  padding-left: 0px;
  padding-right: 0px;
}
@media (min-width: 768px) {
  .container {
    width: 768px;
  }
}
@media (min-width: 992px) {
  .container {
    width: 940px;
  }
}
@media (min-width: 1200px) {
  .container {
    width: 1140px;
  }
}
.container-fluid {
  margin-right: auto;
  margin-left: auto;
  padding-left: 0px;
  padding-right: 0px;
}
.row {
  margin-left: 0px;
  margin-right: 0px;
}
.col-xs-1, .col-sm-1, .col-md-1, .col-lg-1, .col-xs-2, .col-sm-2, .col-md-2, .col-lg-2, .col-xs-3, .col-sm-3, .col-md-3, .col-lg-3, .col-xs-4, .col-sm-4, .col-md-4, .col-lg-4, .col-xs-5, .col-sm-5, .col-md-5, .col-lg-5, .col-xs-6, .col-sm-6, .col-md-6, .col-lg-6, .col-xs-7, .col-sm-7, .col-md-7, .col-lg-7, .col-xs-8, .col-sm-8, .col-md-8, .col-lg-8, .col-xs-9, .col-sm-9, .col-md-9, .col-lg-9, .col-xs-10, .col-sm-10, .col-md-10, .col-lg-10, .col-xs-11, .col-sm-11, .col-md-11, .col-lg-11, .col-xs-12, .col-sm-12, .col-md-12, .col-lg-12 {
  position: relative;
  min-height: 1px;
  padding-left: 0px;
  padding-right: 0px;
}
.col-xs-1, .col-xs-2, .col-xs-3, .col-xs-4, .col-xs-5, .col-xs-6, .col-xs-7, .col-xs-8, .col-xs-9, .col-xs-10, .col-xs-11, .col-xs-12 {
  float: left;
}
.col-xs-12 {
  width: 100%;
}
.col-xs-11 {
  width: 91.66666667%;
}
.col-xs-10 {
  width: 83.33333333%;
}
.col-xs-9 {
  width: 75%;
}
.col-xs-8 {
  width: 66.66666667%;
}
.col-xs-7 {
  width: 58.33333333%;
}
.col-xs-6 {
  width: 50%;
}
.col-xs-5 {
  width: 41.66666667%;
}
.col-xs-4 {
  width: 33.33333333%;
}
.col-xs-3 {
  width: 25%;
}
.col-xs-2 {
  width: 16.66666667%;
}
.col-xs-1 {
  width: 8.33333333%;
}
.col-xs-pull-12 {
  right: 100%;
}
.col-xs-pull-11 {
  right: 91.66666667%;
}
.col-xs-pull-10 {
  right: 83.33333333%;
}
.col-xs-pull-9 {
  right: 75%;
}
.col-xs-pull-8 {
  right: 66.66666667%;
}
.col-xs-pull-7 {
  right: 58.33333333%;
}
.col-xs-pull-6 {
  right: 50%;
}
.col-xs-pull-5 {
  right: 41.66666667%;
}
.col-xs-pull-4 {
  right: 33.33333333%;
}
.col-xs-pull-3 {
  right: 25%;
}
.col-xs-pull-2 {
  right: 16.66666667%;
}
.col-xs-pull-1 {
  right: 8.33333333%;
}
.col-xs-pull-0 {
  right: auto;
}
.col-xs-push-12 {
  left: 100%;
}
.col-xs-push-11 {
  left: 91.66666667%;
}
.col-xs-push-10 {
  left: 83.33333333%;
}
.col-xs-push-9 {
  left: 75%;
}
.col-xs-push-8 {
  left: 66.66666667%;
}
.col-xs-push-7 {
  left: 58.33333333%;
}
.col-xs-push-6 {
  left: 50%;
}
.col-xs-push-5 {
  left: 41.66666667%;
}
.col-xs-push-4 {
  left: 33.33333333%;
}
.col-xs-push-3 {
  left: 25%;
}
.col-xs-push-2 {
  left: 16.66666667%;
}
.col-xs-push-1 {
  left: 8.33333333%;
}
.col-xs-push-0 {
  left: auto;
}
.col-xs-offset-12 {
  margin-left: 100%;
}
.col-xs-offset-11 {
  margin-left: 91.66666667%;
}
.col-xs-offset-10 {
  margin-left: 83.33333333%;
}
.col-xs-offset-9 {
  margin-left: 75%;
}
.col-xs-offset-8 {
  margin-left: 66.66666667%;
}
.col-xs-offset-7 {
  margin-left: 58.33333333%;
}
.col-xs-offset-6 {
  margin-left: 50%;
}
.col-xs-offset-5 {
  margin-left: 41.66666667%;
}
.col-xs-offset-4 {
  margin-left: 33.33333333%;
}
.col-xs-offset-3 {
  margin-left: 25%;
}
.col-xs-offset-2 {
  margin-left: 16.66666667%;
}
.col-xs-offset-1 {
  margin-left: 8.33333333%;
}
.col-xs-offset-0 {
  margin-left: 0%;
}
@media (min-width: 768px) {
  .col-sm-1, .col-sm-2, .col-sm-3, .col-sm-4, .col-sm-5, .col-sm-6, .col-sm-7, .col-sm-8, .col-sm-9, .col-sm-10, .col-sm-11, .col-sm-12 {
    float: left;
  }
  .col-sm-12 {
    width: 100%;
  }
  .col-sm-11 {
    width: 91.66666667%;
  }
  .col-sm-10 {
    width: 83.33333333%;
  }
  .col-sm-9 {
    width: 75%;
  }
  .col-sm-8 {
    width: 66.66666667%;
  }
  .col-sm-7 {
    width: 58.33333333%;
  }
  .col-sm-6 {
    width: 50%;
  }
  .col-sm-5 {
    width: 41.66666667%;
  }
  .col-sm-4 {
    width: 33.33333333%;
  }
  .col-sm-3 {
    width: 25%;
  }
  .col-sm-2 {
    width: 16.66666667%;
  }
  .col-sm-1 {
    width: 8.33333333%;
  }
  .col-sm-pull-12 {
    right: 100%;
  }
  .col-sm-pull-11 {
    right: 91.66666667%;
  }
  .col-sm-pull-10 {
    right: 83.33333333%;
  }
  .col-sm-pull-9 {
    right: 75%;
  }
  .col-sm-pull-8 {
    right: 66.66666667%;
  }
  .col-sm-pull-7 {
    right: 58.33333333%;
  }
  .col-sm-pull-6 {
    right: 50%;
  }
  .col-sm-pull-5 {
    right: 41.66666667%;
  }
  .col-sm-pull-4 {
    right: 33.33333333%;
  }
  .col-sm-pull-3 {
    right: 25%;
  }
  .col-sm-pull-2 {
    right: 16.66666667%;
  }
  .col-sm-pull-1 {
    right: 8.33333333%;
  }
  .col-sm-pull-0 {
    right: auto;
  }
  .col-sm-push-12 {
    left: 100%;
  }
  .col-sm-push-11 {
    left: 91.66666667%;
  }
  .col-sm-push-10 {
    left: 83.33333333%;
  }
  .col-sm-push-9 {
    left: 75%;
  }
  .col-sm-push-8 {
    left: 66.66666667%;
  }
  .col-sm-push-7 {
    left: 58.33333333%;
  }
  .col-sm-push-6 {
    left: 50%;
  }
  .col-sm-push-5 {
    left: 41.66666667%;
  }
  .col-sm-push-4 {
    left: 33.33333333%;
  }
  .col-sm-push-3 {
    left: 25%;
  }
  .col-sm-push-2 {
    left: 16.66666667%;
  }
  .col-sm-push-1 {
    left: 8.33333333%;
  }
  .col-sm-push-0 {
    left: auto;
  }
  .col-sm-offset-12 {
    margin-left: 100%;
  }
  .col-sm-offset-11 {
    margin-left: 91.66666667%;
  }
  .col-sm-offset-10 {
    margin-left: 83.33333333%;
  }
  .col-sm-offset-9 {
    margin-left: 75%;
  }
  .col-sm-offset-8 {
    margin-left: 66.66666667%;
  }
  .col-sm-offset-7 {
    margin-left: 58.33333333%;
  }
  .col-sm-offset-6 {
    margin-left: 50%;
  }
  .col-sm-offset-5 {
    margin-left: 41.66666667%;
  }
  .col-sm-offset-4 {
    margin-left: 33.33333333%;
  }
  .col-sm-offset-3 {
    margin-left: 25%;
  }
  .col-sm-offset-2 {
    margin-left: 16.66666667%;
  }
  .col-sm-offset-1 {
    margin-left: 8.33333333%;
  }
  .col-sm-offset-0 {
    margin-left: 0%;
  }
}
@media (min-width: 992px) {
  .col-md-1, .col-md-2, .col-md-3, .col-md-4, .col-md-5, .col-md-6, .col-md-7, .col-md-8, .col-md-9, .col-md-10, .col-md-11, .col-md-12 {
    float: left;
  }
  .col-md-12 {
    width: 100%;
  }
  .col-md-11 {
    width: 91.66666667%;
  }
  .col-md-10 {
    width: 83.33333333%;
  }
  .col-md-9 {
    width: 75%;
  }
  .col-md-8 {
    width: 66.66666667%;
  }
  .col-md-7 {
    width: 58.33333333%;
  }
  .col-md-6 {
    width: 50%;
  }
  .col-md-5 {
    width: 41.66666667%;
  }
  .col-md-4 {
    width: 33.33333333%;
  }
  .col-md-3 {
    width: 25%;
  }
  .col-md-2 {
    width: 16.66666667%;
  }
  .col-md-1 {
    width: 8.33333333%;
  }
  .col-md-pull-12 {
    right: 100%;
  }
  .col-md-pull-11 {
    right: 91.66666667%;
  }
  .col-md-pull-10 {
    right: 83.33333333%;
  }
  .col-md-pull-9 {
    right: 75%;
  }
  .col-md-pull-8 {
    right: 66.66666667%;
  }
  .col-md-pull-7 {
    right: 58.33333333%;
  }
  .col-md-pull-6 {
    right: 50%;
  }
  .col-md-pull-5 {
    right: 41.66666667%;
  }
  .col-md-pull-4 {
    right: 33.33333333%;
  }
  .col-md-pull-3 {
    right: 25%;
  }
  .col-md-pull-2 {
    right: 16.66666667%;
  }
  .col-md-pull-1 {
    right: 8.33333333%;
  }
  .col-md-pull-0 {
    right: auto;
  }
  .col-md-push-12 {
    left: 100%;
  }
  .col-md-push-11 {
    left: 91.66666667%;
  }
  .col-md-push-10 {
    left: 83.33333333%;
  }
  .col-md-push-9 {
    left: 75%;
  }
  .col-md-push-8 {
    left: 66.66666667%;
  }
  .col-md-push-7 {
    left: 58.33333333%;
  }
  .col-md-push-6 {
    left: 50%;
  }
  .col-md-push-5 {
    left: 41.66666667%;
  }
  .col-md-push-4 {
    left: 33.33333333%;
  }
  .col-md-push-3 {
    left: 25%;
  }
  .col-md-push-2 {
    left: 16.66666667%;
  }
  .col-md-push-1 {
    left: 8.33333333%;
  }
  .col-md-push-0 {
    left: auto;
  }
  .col-md-offset-12 {
    margin-left: 100%;
  }
  .col-md-offset-11 {
    margin-left: 91.66666667%;
  }
  .col-md-offset-10 {
    margin-left: 83.33333333%;
  }
  .col-md-offset-9 {
    margin-left: 75%;
  }
  .col-md-offset-8 {
    margin-left: 66.66666667%;
  }
  .col-md-offset-7 {
    margin-left: 58.33333333%;
  }
  .col-md-offset-6 {
    margin-left: 50%;
  }
  .col-md-offset-5 {
    margin-left: 41.66666667%;
  }
  .col-md-offset-4 {
    margin-left: 33.33333333%;
  }
  .col-md-offset-3 {
    margin-left: 25%;
  }
  .col-md-offset-2 {
    margin-left: 16.66666667%;
  }
  .col-md-offset-1 {
    margin-left: 8.33333333%;
  }
  .col-md-offset-0 {
    margin-left: 0%;
  }
}
@media (min-width: 1200px) {
  .col-lg-1, .col-lg-2, .col-lg-3, .col-lg-4, .col-lg-5, .col-lg-6, .col-lg-7, .col-lg-8, .col-lg-9, .col-lg-10, .col-lg-11, .col-lg-12 {
    float: left;
  }
  .col-lg-12 {
    width: 100%;
  }
  .col-lg-11 {
    width: 91.66666667%;
  }
  .col-lg-10 {
    width: 83.33333333%;
  }
  .col-lg-9 {
    width: 75%;
  }
  .col-lg-8 {
    width: 66.66666667%;
  }
  .col-lg-7 {
    width: 58.33333333%;
  }
  .col-lg-6 {
    width: 50%;
  }
  .col-lg-5 {
    width: 41.66666667%;
  }
  .col-lg-4 {
    width: 33.33333333%;
  }
  .col-lg-3 {
    width: 25%;
  }
  .col-lg-2 {
    width: 16.66666667%;
  }
  .col-lg-1 {
    width: 8.33333333%;
  }
  .col-lg-pull-12 {
    right: 100%;
  }
  .col-lg-pull-11 {
    right: 91.66666667%;
  }
  .col-lg-pull-10 {
    right: 83.33333333%;
  }
  .col-lg-pull-9 {
    right: 75%;
  }
  .col-lg-pull-8 {
    right: 66.66666667%;
  }
  .col-lg-pull-7 {
    right: 58.33333333%;
  }
  .col-lg-pull-6 {
    right: 50%;
  }
  .col-lg-pull-5 {
    right: 41.66666667%;
  }
  .col-lg-pull-4 {
    right: 33.33333333%;
  }
  .col-lg-pull-3 {
    right: 25%;
  }
  .col-lg-pull-2 {
    right: 16.66666667%;
  }
  .col-lg-pull-1 {
    right: 8.33333333%;
  }
  .col-lg-pull-0 {
    right: auto;
  }
  .col-lg-push-12 {
    left: 100%;
  }
  .col-lg-push-11 {
    left: 91.66666667%;
  }
  .col-lg-push-10 {
    left: 83.33333333%;
  }
  .col-lg-push-9 {
    left: 75%;
  }
  .col-lg-push-8 {
    left: 66.66666667%;
  }
  .col-lg-push-7 {
    left: 58.33333333%;
  }
  .col-lg-push-6 {
    left: 50%;
  }
  .col-lg-push-5 {
    left: 41.66666667%;
  }
  .col-lg-push-4 {
    left: 33.33333333%;
  }
  .col-lg-push-3 {
    left: 25%;
  }
  .col-lg-push-2 {
    left: 16.66666667%;
  }
  .col-lg-push-1 {
    left: 8.33333333%;
  }
  .col-lg-push-0 {
    left: auto;
  }
  .col-lg-offset-12 {
    margin-left: 100%;
  }
  .col-lg-offset-11 {
    margin-left: 91.66666667%;
  }
  .col-lg-offset-10 {
    margin-left: 83.33333333%;
  }
  .col-lg-offset-9 {
    margin-left: 75%;
  }
  .col-lg-offset-8 {
    margin-left: 66.66666667%;
  }
  .col-lg-offset-7 {
    margin-left: 58.33333333%;
  }
  .col-lg-offset-6 {
    margin-left: 50%;
  }
  .col-lg-offset-5 {
    margin-left: 41.66666667%;
  }
  .col-lg-offset-4 {
    margin-left: 33.33333333%;
  }
  .col-lg-offset-3 {
    margin-left: 25%;
  }
  .col-lg-offset-2 {
    margin-left: 16.66666667%;
  }
  .col-lg-offset-1 {
    margin-left: 8.33333333%;
  }
  .col-lg-offset-0 {
    margin-left: 0%;
  }
}
table {
  background-color: transparent;
}
caption {
  padding-top: 8px;
  padding-bottom: 8px;
  color: #777777;
  text-align: left;
}
th {
  text-align: left;
}
.table {
  width: 100%;
  max-width: 100%;
  margin-bottom: 18px;
}
.table > thead > tr > th,
.table > tbody > tr > th,
.table > tfoot > tr > th,
.table > thead > tr > td,
.table > tbody > tr > td,
.table > tfoot > tr > td {
  padding: 8px;
  line-height: 1.42857143;
  vertical-align: top;
  border-top: 1px solid #ddd;
}
.table > thead > tr > th {
  vertical-align: bottom;
  border-bottom: 2px solid #ddd;
}
.table > caption + thead > tr:first-child > th,
.table > colgroup + thead > tr:first-child > th,
.table > thead:first-child > tr:first-child > th,
.table > caption + thead > tr:first-child > td,
.table > colgroup + thead > tr:first-child > td,
.table > thead:first-child > tr:first-child > td {
  border-top: 0;
}
.table > tbody + tbody {
  border-top: 2px solid #ddd;
}
.table .table {
  background-color: #fff;
}
.table-condensed > thead > tr > th,
.table-condensed > tbody > tr > th,
.table-condensed > tfoot > tr > th,
.table-condensed > thead > tr > td,
.table-condensed > tbody > tr > td,
.table-condensed > tfoot > tr > td {
  padding: 5px;
}
.table-bordered {
  border: 1px solid #ddd;
}
.table-bordered > thead > tr > th,
.table-bordered > tbody > tr > th,
.table-bordered > tfoot > tr > th,
.table-bordered > thead > tr > td,
.table-bordered > tbody > tr > td,
.table-bordered > tfoot > tr > td {
  border: 1px solid #ddd;
}
.table-bordered > thead > tr > th,
.table-bordered > thead > tr > td {
  border-bottom-width: 2px;
}
.table-striped > tbody > tr:nth-of-type(odd) {
  background-color: #f9f9f9;
}
.table-hover > tbody > tr:hover {
  background-color: #f5f5f5;
}
table col[class*="col-"] {
  position: static;
  float: none;
  display: table-column;
}
table td[class*="col-"],
table th[class*="col-"] {
  position: static;
  float: none;
  display: table-cell;
}
.table > thead > tr > td.active,
.table > tbody > tr > td.active,
.table > tfoot > tr > td.active,
.table > thead > tr > th.active,
.table > tbody > tr > th.active,
.table > tfoot > tr > th.active,
.table > thead > tr.active > td,
.table > tbody > tr.active > td,
.table > tfoot > tr.active > td,
.table > thead > tr.active > th,
.table > tbody > tr.active > th,
.table > tfoot > tr.active > th {
  background-color: #f5f5f5;
}
.table-hover > tbody > tr > td.active:hover,
.table-hover > tbody > tr > th.active:hover,
.table-hover > tbody > tr.active:hover > td,
.table-hover > tbody > tr:hover > .active,
.table-hover > tbody > tr.active:hover > th {
  background-color: #e8e8e8;
}
.table > thead > tr > td.success,
.table > tbody > tr > td.success,
.table > tfoot > tr > td.success,
.table > thead > tr > th.success,
.table > tbody > tr > th.success,
.table > tfoot > tr > th.success,
.table > thead > tr.success > td,
.table > tbody > tr.success > td,
.table > tfoot > tr.success > td,
.table > thead > tr.success > th,
.table > tbody > tr.success > th,
.table > tfoot > tr.success > th {
  background-color: #dff0d8;
}
.table-hover > tbody > tr > td.success:hover,
.table-hover > tbody > tr > th.success:hover,
.table-hover > tbody > tr.success:hover > td,
.table-hover > tbody > tr:hover > .success,
.table-hover > tbody > tr.success:hover > th {
  background-color: #d0e9c6;
}
.table > thead > tr > td.info,
.table > tbody > tr > td.info,
.table > tfoot > tr > td.info,
.table > thead > tr > th.info,
.table > tbody > tr > th.info,
.table > tfoot > tr > th.info,
.table > thead > tr.info > td,
.table > tbody > tr.info > td,
.table > tfoot > tr.info > td,
.table > thead > tr.info > th,
.table > tbody > tr.info > th,
.table > tfoot > tr.info > th {
  background-color: #d9edf7;
}
.table-hover > tbody > tr > td.info:hover,
.table-hover > tbody > tr > th.info:hover,
.table-hover > tbody > tr.info:hover > td,
.table-hover > tbody > tr:hover > .info,
.table-hover > tbody > tr.info:hover > th {
  background-color: #c4e3f3;
}
.table > thead > tr > td.warning,
.table > tbody > tr > td.warning,
.table > tfoot > tr > td.warning,
.table > thead > tr > th.warning,
.table > tbody > tr > th.warning,
.table > tfoot > tr > th.warning,
.table > thead > tr.warning > td,
.table > tbody > tr.warning > td,
.table > tfoot > tr.warning > td,
.table > thead > tr.warning > th,
.table > tbody > tr.warning > th,
.table > tfoot > tr.warning > th {
  background-color: #fcf8e3;
}
.table-hover > tbody > tr > td.warning:hover,
.table-hover > tbody > tr > th.warning:hover,
.table-hover > tbody > tr.warning:hover > td,
.table-hover > tbody > tr:hover > .warning,
.table-hover > tbody > tr.warning:hover > th {
  background-color: #faf2cc;
}
.table > thead > tr > td.danger,
.table > tbody > tr > td.danger,
.table > tfoot > tr > td.danger,
.table > thead > tr > th.danger,
.table > tbody > tr > th.danger,
.table > tfoot > tr > th.danger,
.table > thead > tr.danger > td,
.table > tbody > tr.danger > td,
.table > tfoot > tr.danger > td,
.table > thead > tr.danger > th,
.table > tbody > tr.danger > th,
.table > tfoot > tr.danger > th {
  background-color: #f2dede;
}
.table-hover > tbody > tr > td.danger:hover,
.table-hover > tbody > tr > th.danger:hover,
.table-hover > tbody > tr.danger:hover > td,
.table-hover > tbody > tr:hover > .danger,
.table-hover > tbody > tr.danger:hover > th {
  background-color: #ebcccc;
}
.table-responsive {
  overflow-x: auto;
  min-height: 0.01%;
}
@media screen and (max-width: 767px) {
  .table-responsive {
    width: 100%;
    margin-bottom: 13.5px;
    overflow-y: hidden;
    -ms-overflow-style: -ms-autohiding-scrollbar;
    border: 1px solid #ddd;
  }
  .table-responsive > .table {
    margin-bottom: 0;
  }
  .table-responsive > .table > thead > tr > th,
  .table-responsive > .table > tbody > tr > th,
  .table-responsive > .table > tfoot > tr > th,
  .table-responsive > .table > thead > tr > td,
  .table-responsive > .table > tbody > tr > td,
  .table-responsive > .table > tfoot > tr > td {
    white-space: nowrap;
  }
  .table-responsive > .table-bordered {
    border: 0;
  }
  .table-responsive > .table-bordered > thead > tr > th:first-child,
  .table-responsive > .table-bordered > tbody > tr > th:first-child,
  .table-responsive > .table-bordered > tfoot > tr > th:first-child,
  .table-responsive > .table-bordered > thead > tr > td:first-child,
  .table-responsive > .table-bordered > tbody > tr > td:first-child,
  .table-responsive > .table-bordered > tfoot > tr > td:first-child {
    border-left: 0;
  }
  .table-responsive > .table-bordered > thead > tr > th:last-child,
  .table-responsive > .table-bordered > tbody > tr > th:last-child,
  .table-responsive > .table-bordered > tfoot > tr > th:last-child,
  .table-responsive > .table-bordered > thead > tr > td:last-child,
  .table-responsive > .table-bordered > tbody > tr > td:last-child,
  .table-responsive > .table-bordered > tfoot > tr > td:last-child {
    border-right: 0;
  }
  .table-responsive > .table-bordered > tbody > tr:last-child > th,
  .table-responsive > .table-bordered > tfoot > tr:last-child > th,
  .table-responsive > .table-bordered > tbody > tr:last-child > td,
  .table-responsive > .table-bordered > tfoot > tr:last-child > td {
    border-bottom: 0;
  }
}
fieldset {
  padding: 0;
  margin: 0;
  border: 0;
  min-width: 0;
}
legend {
  display: block;
  width: 100%;
  padding: 0;
  margin-bottom: 18px;
  font-size: 19.5px;
  line-height: inherit;
  color: #333333;
  border: 0;
  border-bottom: 1px solid #e5e5e5;
}
label {
  display: inline-block;
  max-width: 100%;
  margin-bottom: 5px;
  font-weight: bold;
}
input[type="search"] {
  -webkit-box-sizing: border-box;
  -moz-box-sizing: border-box;
  box-sizing: border-box;
}
input[type="radio"],
input[type="checkbox"] {
  margin: 4px 0 0;
  margin-top: 1px \9;
  line-height: normal;
}
input[type="file"] {
  display: block;
}
input[type="range"] {
  display: block;
  width: 100%;
}
select[multiple],
select[size] {
  height: auto;
}
input[type="file"]:focus,
input[type="radio"]:focus,
input[type="checkbox"]:focus {
  outline: 5px auto -webkit-focus-ring-color;
  outline-offset: -2px;
}
output {
  display: block;
  padding-top: 7px;
  font-size: 13px;
  line-height: 1.42857143;
  color: #555555;
}
.form-control {
  display: block;
  width: 100%;
  height: 32px;
  padding: 6px 12px;
  font-size: 13px;
  line-height: 1.42857143;
  color: #555555;
  background-color: #fff;
  background-image: none;
  border: 1px solid #ccc;
  border-radius: 2px;
  -webkit-box-shadow: inset 0 1px 1px rgba(0, 0, 0, 0.075);
  box-shadow: inset 0 1px 1px rgba(0, 0, 0, 0.075);
  -webkit-transition: border-color ease-in-out .15s, box-shadow ease-in-out .15s;
  -o-transition: border-color ease-in-out .15s, box-shadow ease-in-out .15s;
  transition: border-color ease-in-out .15s, box-shadow ease-in-out .15s;
}
.form-control:focus {
  border-color: #66afe9;
  outline: 0;
  -webkit-box-shadow: inset 0 1px 1px rgba(0,0,0,.075), 0 0 8px rgba(102, 175, 233, 0.6);
  box-shadow: inset 0 1px 1px rgba(0,0,0,.075), 0 0 8px rgba(102, 175, 233, 0.6);
}
.form-control::-moz-placeholder {
  color: #999;
  opacity: 1;
}
.form-control:-ms-input-placeholder {
  color: #999;
}
.form-control::-webkit-input-placeholder {
  color: #999;
}
.form-control::-ms-expand {
  border: 0;
  background-color: transparent;
}
.form-control[disabled],
.form-control[readonly],
fieldset[disabled] .form-control {
  background-color: #eeeeee;
  opacity: 1;
}
.form-control[disabled],
fieldset[disabled] .form-control {
  cursor: not-allowed;
}
textarea.form-control {
  height: auto;
}
input[type="search"] {
  -webkit-appearance: none;
}
@media screen and (-webkit-min-device-pixel-ratio: 0) {
  input[type="date"].form-control,
  input[type="time"].form-control,
  input[type="datetime-local"].form-control,
  input[type="month"].form-control {
    line-height: 32px;
  }
  input[type="date"].input-sm,
  input[type="time"].input-sm,
  input[type="datetime-local"].input-sm,
  input[type="month"].input-sm,
  .input-group-sm input[type="date"],
  .input-group-sm input[type="time"],
  .input-group-sm input[type="datetime-local"],
  .input-group-sm input[type="month"] {
    line-height: 30px;
  }
  input[type="date"].input-lg,
  input[type="time"].input-lg,
  input[type="datetime-local"].input-lg,
  input[type="month"].input-lg,
  .input-group-lg input[type="date"],
  .input-group-lg input[type="time"],
  .input-group-lg input[type="datetime-local"],
  .input-group-lg input[type="month"] {
    line-height: 45px;
  }
}
.form-group {
  margin-bottom: 15px;
}
.radio,
.checkbox {
  position: relative;
  display: block;
  margin-top: 10px;
  margin-bottom: 10px;
}
.radio label,
.checkbox label {
  min-height: 18px;
  padding-left: 20px;
  margin-bottom: 0;
  font-weight: normal;
  cursor: pointer;
}
.radio input[type="radio"],
.radio-inline input[type="radio"],
.checkbox input[type="checkbox"],
.checkbox-inline input[type="checkbox"] {
  position: absolute;
  margin-left: -20px;
  margin-top: 4px \9;
}
.radio + .radio,
.checkbox + .checkbox {
  margin-top: -5px;
}
.radio-inline,
.checkbox-inline {
  position: relative;
  display: inline-block;
  padding-left: 20px;
  margin-bottom: 0;
  vertical-align: middle;
  font-weight: normal;
  cursor: pointer;
}
.radio-inline + .radio-inline,
.checkbox-inline + .checkbox-inline {
  margin-top: 0;
  margin-left: 10px;
}
input[type="radio"][disabled],
input[type="checkbox"][disabled],
input[type="radio"].disabled,
input[type="checkbox"].disabled,
fieldset[disabled] input[type="radio"],
fieldset[disabled] input[type="checkbox"] {
  cursor: not-allowed;
}
.radio-inline.disabled,
.checkbox-inline.disabled,
fieldset[disabled] .radio-inline,
fieldset[disabled] .checkbox-inline {
  cursor: not-allowed;
}
.radio.disabled label,
.checkbox.disabled label,
fieldset[disabled] .radio label,
fieldset[disabled] .checkbox label {
  cursor: not-allowed;
}
.form-control-static {
  padding-top: 7px;
  padding-bottom: 7px;
  margin-bottom: 0;
  min-height: 31px;
}
.form-control-static.input-lg,
.form-control-static.input-sm {
  padding-left: 0;
  padding-right: 0;
}
.input-sm {
  height: 30px;
  padding: 5px 10px;
  font-size: 12px;
  line-height: 1.5;
  border-radius: 1px;
}
select.input-sm {
  height: 30px;
  line-height: 30px;
}
textarea.input-sm,
select[multiple].input-sm {
  height: auto;
}
.form-group-sm .form-control {
  height: 30px;
  padding: 5px 10px;
  font-size: 12px;
  line-height: 1.5;
  border-radius: 1px;
}
.form-group-sm select.form-control {
  height: 30px;
  line-height: 30px;
}
.form-group-sm textarea.form-control,
.form-group-sm select[multiple].form-control {
  height: auto;
}
.form-group-sm .form-control-static {
  height: 30px;
  min-height: 30px;
  padding: 6px 10px;
  font-size: 12px;
  line-height: 1.5;
}
.input-lg {
  height: 45px;
  padding: 10px 16px;
  font-size: 17px;
  line-height: 1.3333333;
  border-radius: 3px;
}
select.input-lg {
  height: 45px;
  line-height: 45px;
}
textarea.input-lg,
select[multiple].input-lg {
  height: auto;
}
.form-group-lg .form-control {
  height: 45px;
  padding: 10px 16px;
  font-size: 17px;
  line-height: 1.3333333;
  border-radius: 3px;
}
.form-group-lg select.form-control {
  height: 45px;
  line-height: 45px;
}
.form-group-lg textarea.form-control,
.form-group-lg select[multiple].form-control {
  height: auto;
}
.form-group-lg .form-control-static {
  height: 45px;
  min-height: 35px;
  padding: 11px 16px;
  font-size: 17px;
  line-height: 1.3333333;
}
.has-feedback {
  position: relative;
}
.has-feedback .form-control {
  padding-right: 40px;
}
.form-control-feedback {
  position: absolute;
  top: 0;
  right: 0;
  z-index: 2;
  display: block;
  width: 32px;
  height: 32px;
  line-height: 32px;
  text-align: center;
  pointer-events: none;
}
.input-lg + .form-control-feedback,
.input-group-lg + .form-control-feedback,
.form-group-lg .form-control + .form-control-feedback {
  width: 45px;
  height: 45px;
  line-height: 45px;
}
.input-sm + .form-control-feedback,
.input-group-sm + .form-control-feedback,
.form-group-sm .form-control + .form-control-feedback {
  width: 30px;
  height: 30px;
  line-height: 30px;
}
.has-success .help-block,
.has-success .control-label,
.has-success .radio,
.has-success .checkbox,
.has-success .radio-inline,
.has-success .checkbox-inline,
.has-success.radio label,
.has-success.checkbox label,
.has-success.radio-inline label,
.has-success.checkbox-inline label {
  color: #3c763d;
}
.has-success .form-control {
  border-color: #3c763d;
  -webkit-box-shadow: inset 0 1px 1px rgba(0, 0, 0, 0.075);
  box-shadow: inset 0 1px 1px rgba(0, 0, 0, 0.075);
}
.has-success .form-control:focus {
  border-color: #2b542c;
  -webkit-box-shadow: inset 0 1px 1px rgba(0, 0, 0, 0.075), 0 0 6px #67b168;
  box-shadow: inset 0 1px 1px rgba(0, 0, 0, 0.075), 0 0 6px #67b168;
}
.has-success .input-group-addon {
  color: #3c763d;
  border-color: #3c763d;
  background-color: #dff0d8;
}
.has-success .form-control-feedback {
  color: #3c763d;
}
.has-warning .help-block,
.has-warning .control-label,
.has-warning .radio,
.has-warning .checkbox,
.has-warning .radio-inline,
.has-warning .checkbox-inline,
.has-warning.radio label,
.has-warning.checkbox label,
.has-warning.radio-inline label,
.has-warning.checkbox-inline label {
  color: #8a6d3b;
}
.has-warning .form-control {
  border-color: #8a6d3b;
  -webkit-box-shadow: inset 0 1px 1px rgba(0, 0, 0, 0.075);
  box-shadow: inset 0 1px 1px rgba(0, 0, 0, 0.075);
}
.has-warning .form-control:focus {
  border-color: #66512c;
  -webkit-box-shadow: inset 0 1px 1px rgba(0, 0, 0, 0.075), 0 0 6px #c0a16b;
  box-shadow: inset 0 1px 1px rgba(0, 0, 0, 0.075), 0 0 6px #c0a16b;
}
.has-warning .input-group-addon {
  color: #8a6d3b;
  border-color: #8a6d3b;
  background-color: #fcf8e3;
}
.has-warning .form-control-feedback {
  color: #8a6d3b;
}
.has-error .help-block,
.has-error .control-label,
.has-error .radio,
.has-error .checkbox,
.has-error .radio-inline,
.has-error .checkbox-inline,
.has-error.radio label,
.has-error.checkbox label,
.has-error.radio-inline label,
.has-error.checkbox-inline label {
  color: #a94442;
}
.has-error .form-control {
  border-color: #a94442;
  -webkit-box-shadow: inset 0 1px 1px rgba(0, 0, 0, 0.075);
  box-shadow: inset 0 1px 1px rgba(0, 0, 0, 0.075);
}
.has-error .form-control:focus {
  border-color: #843534;
  -webkit-box-shadow: inset 0 1px 1px rgba(0, 0, 0, 0.075), 0 0 6px #ce8483;
  box-shadow: inset 0 1px 1px rgba(0, 0, 0, 0.075), 0 0 6px #ce8483;
}
.has-error .input-group-addon {
  color: #a94442;
  border-color: #a94442;
  background-color: #f2dede;
}
.has-error .form-control-feedback {
  color: #a94442;
}
.has-feedback label ~ .form-control-feedback {
  top: 23px;
}
.has-feedback label.sr-only ~ .form-control-feedback {
  top: 0;
}
.help-block {
  display: block;
  margin-top: 5px;
  margin-bottom: 10px;
  color: #404040;
}
@media (min-width: 768px) {
  .form-inline .form-group {
    display: inline-block;
    margin-bottom: 0;
    vertical-align: middle;
  }
  .form-inline .form-control {
    display: inline-block;
    width: auto;
    vertical-align: middle;
  }
  .form-inline .form-control-static {
    display: inline-block;
  }
  .form-inline .input-group {
    display: inline-table;
    vertical-align: middle;
  }
  .form-inline .input-group .input-group-addon,
  .form-inline .input-group .input-group-btn,
  .form-inline .input-group .form-control {
    width: auto;
  }
  .form-inline .input-group > .form-control {
    width: 100%;
  }
  .form-inline .control-label {
    margin-bottom: 0;
    vertical-align: middle;
  }
  .form-inline .radio,
  .form-inline .checkbox {
    display: inline-block;
    margin-top: 0;
    margin-bottom: 0;
    vertical-align: middle;
  }
  .form-inline .radio label,
  .form-inline .checkbox label {
    padding-left: 0;
  }
  .form-inline .radio input[type="radio"],
  .form-inline .checkbox input[type="checkbox"] {
    position: relative;
    margin-left: 0;
  }
  .form-inline .has-feedback .form-control-feedback {
    top: 0;
  }
}
.form-horizontal .radio,
.form-horizontal .checkbox,
.form-horizontal .radio-inline,
.form-horizontal .checkbox-inline {
  margin-top: 0;
  margin-bottom: 0;
  padding-top: 7px;
}
.form-horizontal .radio,
.form-horizontal .checkbox {
  min-height: 25px;
}
.form-horizontal .form-group {
  margin-left: 0px;
  margin-right: 0px;
}
@media (min-width: 768px) {
  .form-horizontal .control-label {
    text-align: right;
    margin-bottom: 0;
    padding-top: 7px;
  }
}
.form-horizontal .has-feedback .form-control-feedback {
  right: 0px;
}
@media (min-width: 768px) {
  .form-horizontal .form-group-lg .control-label {
    padding-top: 11px;
    font-size: 17px;
  }
}
@media (min-width: 768px) {
  .form-horizontal .form-group-sm .control-label {
    padding-top: 6px;
    font-size: 12px;
  }
}
.btn {
  display: inline-block;
  margin-bottom: 0;
  font-weight: normal;
  text-align: center;
  vertical-align: middle;
  touch-action: manipulation;
  cursor: pointer;
  background-image: none;
  border: 1px solid transparent;
  white-space: nowrap;
  padding: 6px 12px;
  font-size: 13px;
  line-height: 1.42857143;
  border-radius: 2px;
  -webkit-user-select: none;
  -moz-user-select: none;
  -ms-user-select: none;
  user-select: none;
}
.btn:focus,
.btn:active:focus,
.btn.active:focus,
.btn.focus,
.btn:active.focus,
.btn.active.focus {
  outline: 5px auto -webkit-focus-ring-color;
  outline-offset: -2px;
}
.btn:hover,
.btn:focus,
.btn.focus {
  color: #333;
  text-decoration: none;
}
.btn:active,
.btn.active {
  outline: 0;
  background-image: none;
  -webkit-box-shadow: inset 0 3px 5px rgba(0, 0, 0, 0.125);
  box-shadow: inset 0 3px 5px rgba(0, 0, 0, 0.125);
}
.btn.disabled,
.btn[disabled],
fieldset[disabled] .btn {
  cursor: not-allowed;
  opacity: 0.65;
  filter: alpha(opacity=65);
  -webkit-box-shadow: none;
  box-shadow: none;
}
a.btn.disabled,
fieldset[disabled] a.btn {
  pointer-events: none;
}
.btn-default {
  color: #333;
  background-color: #fff;
  border-color: #ccc;
}
.btn-default:focus,
.btn-default.focus {
  color: #333;
  background-color: #e6e6e6;
  border-color: #8c8c8c;
}
.btn-default:hover {
  color: #333;
  background-color: #e6e6e6;
  border-color: #adadad;
}
.btn-default:active,
.btn-default.active,
.open > .dropdown-toggle.btn-default {
  color: #333;
  background-color: #e6e6e6;
  border-color: #adadad;
}
.btn-default:active:hover,
.btn-default.active:hover,
.open > .dropdown-toggle.btn-default:hover,
.btn-default:active:focus,
.btn-default.active:focus,
.open > .dropdown-toggle.btn-default:focus,
.btn-default:active.focus,
.btn-default.active.focus,
.open > .dropdown-toggle.btn-default.focus {
  color: #333;
  background-color: #d4d4d4;
  border-color: #8c8c8c;
}
.btn-default:active,
.btn-default.active,
.open > .dropdown-toggle.btn-default {
  background-image: none;
}
.btn-default.disabled:hover,
.btn-default[disabled]:hover,
fieldset[disabled] .btn-default:hover,
.btn-default.disabled:focus,
.btn-default[disabled]:focus,
fieldset[disabled] .btn-default:focus,
.btn-default.disabled.focus,
.btn-default[disabled].focus,
fieldset[disabled] .btn-default.focus {
  background-color: #fff;
  border-color: #ccc;
}
.btn-default .badge {
  color: #fff;
  background-color: #333;
}
.btn-primary {
  color: #fff;
  background-color: #337ab7;
  border-color: #2e6da4;
}
.btn-primary:focus,
.btn-primary.focus {
  color: #fff;
  background-color: #286090;
  border-color: #122b40;
}
.btn-primary:hover {
  color: #fff;
  background-color: #286090;
  border-color: #204d74;
}
.btn-primary:active,
.btn-primary.active,
.open > .dropdown-toggle.btn-primary {
  color: #fff;
  background-color: #286090;
  border-color: #204d74;
}
.btn-primary:active:hover,
.btn-primary.active:hover,
.open > .dropdown-toggle.btn-primary:hover,
.btn-primary:active:focus,
.btn-primary.active:focus,
.open > .dropdown-toggle.btn-primary:focus,
.btn-primary:active.focus,
.btn-primary.active.focus,
.open > .dropdown-toggle.btn-primary.focus {
  color: #fff;
  background-color: #204d74;
  border-color: #122b40;
}
.btn-primary:active,
.btn-primary.active,
.open > .dropdown-toggle.btn-primary {
  background-image: none;
}
.btn-primary.disabled:hover,
.btn-primary[disabled]:hover,
fieldset[disabled] .btn-primary:hover,
.btn-primary.disabled:focus,
.btn-primary[disabled]:focus,
fieldset[disabled] .btn-primary:focus,
.btn-primary.disabled.focus,
.btn-primary[disabled].focus,
fieldset[disabled] .btn-primary.focus {
  background-color: #337ab7;
  border-color: #2e6da4;
}
.btn-primary .badge {
  color: #337ab7;
  background-color: #fff;
}
.btn-success {
  color: #fff;
  background-color: #5cb85c;
  border-color: #4cae4c;
}
.btn-success:focus,
.btn-success.focus {
  color: #fff;
  background-color: #449d44;
  border-color: #255625;
}
.btn-success:hover {
  color: #fff;
  background-color: #449d44;
  border-color: #398439;
}
.btn-success:active,
.btn-success.active,
.open > .dropdown-toggle.btn-success {
  color: #fff;
  background-color: #449d44;
  border-color: #398439;
}
.btn-success:active:hover,
.btn-success.active:hover,
.open > .dropdown-toggle.btn-success:hover,
.btn-success:active:focus,
.btn-success.active:focus,
.open > .dropdown-toggle.btn-success:focus,
.btn-success:active.focus,
.btn-success.active.focus,
.open > .dropdown-toggle.btn-success.focus {
  color: #fff;
  background-color: #398439;
  border-color: #255625;
}
.btn-success:active,
.btn-success.active,
.open > .dropdown-toggle.btn-success {
  background-image: none;
}
.btn-success.disabled:hover,
.btn-success[disabled]:hover,
fieldset[disabled] .btn-success:hover,
.btn-success.disabled:focus,
.btn-success[disabled]:focus,
fieldset[disabled] .btn-success:focus,
.btn-success.disabled.focus,
.btn-success[disabled].focus,
fieldset[disabled] .btn-success.focus {
  background-color: #5cb85c;
  border-color: #4cae4c;
}
.btn-success .badge {
  color: #5cb85c;
  background-color: #fff;
}
.btn-info {
  color: #fff;
  background-color: #5bc0de;
  border-color: #46b8da;
}
.btn-info:focus,
.btn-info.focus {
  color: #fff;
  background-color: #31b0d5;
  border-color: #1b6d85;
}
.btn-info:hover {
  color: #fff;
  background-color: #31b0d5;
  border-color: #269abc;
}
.btn-info:active,
.btn-info.active,
.open > .dropdown-toggle.btn-info {
  color: #fff;
  background-color: #31b0d5;
  border-color: #269abc;
}
.btn-info:active:hover,
.btn-info.active:hover,
.open > .dropdown-toggle.btn-info:hover,
.btn-info:active:focus,
.btn-info.active:focus,
.open > .dropdown-toggle.btn-info:focus,
.btn-info:active.focus,
.btn-info.active.focus,
.open > .dropdown-toggle.btn-info.focus {
  color: #fff;
  background-color: #269abc;
  border-color: #1b6d85;
}
.btn-info:active,
.btn-info.active,
.open > .dropdown-toggle.btn-info {
  background-image: none;
}
.btn-info.disabled:hover,
.btn-info[disabled]:hover,
fieldset[disabled] .btn-info:hover,
.btn-info.disabled:focus,
.btn-info[disabled]:focus,
fieldset[disabled] .btn-info:focus,
.btn-info.disabled.focus,
.btn-info[disabled].focus,
fieldset[disabled] .btn-info.focus {
  background-color: #5bc0de;
  border-color: #46b8da;
}
.btn-info .badge {
  color: #5bc0de;
  background-color: #fff;
}
.btn-warning {
  color: #fff;
  background-color: #f0ad4e;
  border-color: #eea236;
}
.btn-warning:focus,
.btn-warning.focus {
  color: #fff;
  background-color: #ec971f;
  border-color: #985f0d;
}
.btn-warning:hover {
  color: #fff;
  background-color: #ec971f;
  border-color: #d58512;
}
.btn-warning:active,
.btn-warning.active,
.open > .dropdown-toggle.btn-warning {
  color: #fff;
  background-color: #ec971f;
  border-color: #d58512;
}
.btn-warning:active:hover,
.btn-warning.active:hover,
.open > .dropdown-toggle.btn-warning:hover,
.btn-warning:active:focus,
.btn-warning.active:focus,
.open > .dropdown-toggle.btn-warning:focus,
.btn-warning:active.focus,
.btn-warning.active.focus,
.open > .dropdown-toggle.btn-warning.focus {
  color: #fff;
  background-color: #d58512;
  border-color: #985f0d;
}
.btn-warning:active,
.btn-warning.active,
.open > .dropdown-toggle.btn-warning {
  background-image: none;
}
.btn-warning.disabled:hover,
.btn-warning[disabled]:hover,
fieldset[disabled] .btn-warning:hover,
.btn-warning.disabled:focus,
.btn-warning[disabled]:focus,
fieldset[disabled] .btn-warning:focus,
.btn-warning.disabled.focus,
.btn-warning[disabled].focus,
fieldset[disabled] .btn-warning.focus {
  background-color: #f0ad4e;
  border-color: #eea236;
}
.btn-warning .badge {
  color: #f0ad4e;
  background-color: #fff;
}
.btn-danger {
  color: #fff;
  background-color: #d9534f;
  border-color: #d43f3a;
}
.btn-danger:focus,
.btn-danger.focus {
  color: #fff;
  background-color: #c9302c;
  border-color: #761c19;
}
.btn-danger:hover {
  color: #fff;
  background-color: #c9302c;
  border-color: #ac2925;
}
.btn-danger:active,
.btn-danger.active,
.open > .dropdown-toggle.btn-danger {
  color: #fff;
  background-color: #c9302c;
  border-color: #ac2925;
}
.btn-danger:active:hover,
.btn-danger.active:hover,
.open > .dropdown-toggle.btn-danger:hover,
.btn-danger:active:focus,
.btn-danger.active:focus,
.open > .dropdown-toggle.btn-danger:focus,
.btn-danger:active.focus,
.btn-danger.active.focus,
.open > .dropdown-toggle.btn-danger.focus {
  color: #fff;
  background-color: #ac2925;
  border-color: #761c19;
}
.btn-danger:active,
.btn-danger.active,
.open > .dropdown-toggle.btn-danger {
  background-image: none;
}
.btn-danger.disabled:hover,
.btn-danger[disabled]:hover,
fieldset[disabled] .btn-danger:hover,
.btn-danger.disabled:focus,
.btn-danger[disabled]:focus,
fieldset[disabled] .btn-danger:focus,
.btn-danger.disabled.focus,
.btn-danger[disabled].focus,
fieldset[disabled] .btn-danger.focus {
  background-color: #d9534f;
  border-color: #d43f3a;
}
.btn-danger .badge {
  color: #d9534f;
  background-color: #fff;
}
.btn-link {
  color: #337ab7;
  font-weight: normal;
  border-radius: 0;
}
.btn-link,
.btn-link:active,
.btn-link.active,
.btn-link[disabled],
fieldset[disabled] .btn-link {
  background-color: transparent;
  -webkit-box-shadow: none;
  box-shadow: none;
}
.btn-link,
.btn-link:hover,
.btn-link:focus,
.btn-link:active {
  border-color: transparent;
}
.btn-link:hover,
.btn-link:focus {
  color: #23527c;
  text-decoration: underline;
  background-color: transparent;
}
.btn-link[disabled]:hover,
fieldset[disabled] .btn-link:hover,
.btn-link[disabled]:focus,
fieldset[disabled] .btn-link:focus {
  color: #777777;
  text-decoration: none;
}
.btn-lg,
.btn-group-lg > .btn {
  padding: 10px 16px;
  font-size: 17px;
  line-height: 1.3333333;
  border-radius: 3px;
}
.btn-sm,
.btn-group-sm > .btn {
  padding: 5px 10px;
  font-size: 12px;
  line-height: 1.5;
  border-radius: 1px;
}
.btn-xs,
.btn-group-xs > .btn {
  padding: 1px 5px;
  font-size: 12px;
  line-height: 1.5;
  border-radius: 1px;
}
.btn-block {
  display: block;
  width: 100%;
}
.btn-block + .btn-block {
  margin-top: 5px;
}
input[type="submit"].btn-block,
input[type="reset"].btn-block,
input[type="button"].btn-block {
  width: 100%;
}
.fade {
  opacity: 0;
  -webkit-transition: opacity 0.15s linear;
  -o-transition: opacity 0.15s linear;
  transition: opacity 0.15s linear;
}
.fade.in {
  opacity: 1;
}
.collapse {
  display: none;
}
.collapse.in {
  display: block;
}
tr.collapse.in {
  display: table-row;
}
tbody.collapse.in {
  display: table-row-group;
}
.collapsing {
  position: relative;
  height: 0;
  overflow: hidden;
  -webkit-transition-property: height, visibility;
  transition-property: height, visibility;
  -webkit-transition-duration: 0.35s;
  transition-duration: 0.35s;
  -webkit-transition-timing-function: ease;
  transition-timing-function: ease;
}
.caret {
  display: inline-block;
  width: 0;
  height: 0;
  margin-left: 2px;
  vertical-align: middle;
  border-top: 4px dashed;
  border-top: 4px solid \9;
  border-right: 4px solid transparent;
  border-left: 4px solid transparent;
}
.dropup,
.dropdown {
  position: relative;
}
.dropdown-toggle:focus {
  outline: 0;
}
.dropdown-menu {
  position: absolute;
  top: 100%;
  left: 0;
  z-index: 1000;
  display: none;
  float: left;
  min-width: 160px;
  padding: 5px 0;
  margin: 2px 0 0;
  list-style: none;
  font-size: 13px;
  text-align: left;
  background-color: #fff;
  border: 1px solid #ccc;
  border: 1px solid rgba(0, 0, 0, 0.15);
  border-radius: 2px;
  -webkit-box-shadow: 0 6px 12px rgba(0, 0, 0, 0.175);
  box-shadow: 0 6px 12px rgba(0, 0, 0, 0.175);
  background-clip: padding-box;
}
.dropdown-menu.pull-right {
  right: 0;
  left: auto;
}
.dropdown-menu .divider {
  height: 1px;
  margin: 8px 0;
  overflow: hidden;
  background-color: #e5e5e5;
}
.dropdown-menu > li > a {
  display: block;
  padding: 3px 20px;
  clear: both;
  font-weight: normal;
  line-height: 1.42857143;
  color: #333333;
  white-space: nowrap;
}
.dropdown-menu > li > a:hover,
.dropdown-menu > li > a:focus {
  text-decoration: none;
  color: #262626;
  background-color: #f5f5f5;
}
.dropdown-menu > .active > a,
.dropdown-menu > .active > a:hover,
.dropdown-menu > .active > a:focus {
  color: #fff;
  text-decoration: none;
  outline: 0;
  background-color: #337ab7;
}
.dropdown-menu > .disabled > a,
.dropdown-menu > .disabled > a:hover,
.dropdown-menu > .disabled > a:focus {
  color: #777777;
}
.dropdown-menu > .disabled > a:hover,
.dropdown-menu > .disabled > a:focus {
  text-decoration: none;
  background-color: transparent;
  background-image: none;
  filter: progid:DXImageTransform.Microsoft.gradient(enabled = false);
  cursor: not-allowed;
}
.open > .dropdown-menu {
  display: block;
}
.open > a {
  outline: 0;
}
.dropdown-menu-right {
  left: auto;
  right: 0;
}
.dropdown-menu-left {
  left: 0;
  right: auto;
}
.dropdown-header {
  display: block;
  padding: 3px 20px;
  font-size: 12px;
  line-height: 1.42857143;
  color: #777777;
  white-space: nowrap;
}
.dropdown-backdrop {
  position: fixed;
  left: 0;
  right: 0;
  bottom: 0;
  top: 0;
  z-index: 990;
}
.pull-right > .dropdown-menu {
  right: 0;
  left: auto;
}
.dropup .caret,
.navbar-fixed-bottom .dropdown .caret {
  border-top: 0;
  border-bottom: 4px dashed;
  border-bottom: 4px solid \9;
  content: "";
}
.dropup .dropdown-menu,
.navbar-fixed-bottom .dropdown .dropdown-menu {
  top: auto;
  bottom: 100%;
  margin-bottom: 2px;
}
@media (min-width: 541px) {
  .navbar-right .dropdown-menu {
    left: auto;
    right: 0;
  }
  .navbar-right .dropdown-menu-left {
    left: 0;
    right: auto;
  }
}
.btn-group,
.btn-group-vertical {
  position: relative;
  display: inline-block;
  vertical-align: middle;
}
.btn-group > .btn,
.btn-group-vertical > .btn {
  position: relative;
  float: left;
}
.btn-group > .btn:hover,
.btn-group-vertical > .btn:hover,
.btn-group > .btn:focus,
.btn-group-vertical > .btn:focus,
.btn-group > .btn:active,
.btn-group-vertical > .btn:active,
.btn-group > .btn.active,
.btn-group-vertical > .btn.active {
  z-index: 2;
}
.btn-group .btn + .btn,
.btn-group .btn + .btn-group,
.btn-group .btn-group + .btn,
.btn-group .btn-group + .btn-group {
  margin-left: -1px;
}
.btn-toolbar {
  margin-left: -5px;
}
.btn-toolbar .btn,
.btn-toolbar .btn-group,
.btn-toolbar .input-group {
  float: left;
}
.btn-toolbar > .btn,
.btn-toolbar > .btn-group,
.btn-toolbar > .input-group {
  margin-left: 5px;
}
.btn-group > .btn:not(:first-child):not(:last-child):not(.dropdown-toggle) {
  border-radius: 0;
}
.btn-group > .btn:first-child {
  margin-left: 0;
}
.btn-group > .btn:first-child:not(:last-child):not(.dropdown-toggle) {
  border-bottom-right-radius: 0;
  border-top-right-radius: 0;
}
.btn-group > .btn:last-child:not(:first-child),
.btn-group > .dropdown-toggle:not(:first-child) {
  border-bottom-left-radius: 0;
  border-top-left-radius: 0;
}
.btn-group > .btn-group {
  float: left;
}
.btn-group > .btn-group:not(:first-child):not(:last-child) > .btn {
  border-radius: 0;
}
.btn-group > .btn-group:first-child:not(:last-child) > .btn:last-child,
.btn-group > .btn-group:first-child:not(:last-child) > .dropdown-toggle {
  border-bottom-right-radius: 0;
  border-top-right-radius: 0;
}
.btn-group > .btn-group:last-child:not(:first-child) > .btn:first-child {
  border-bottom-left-radius: 0;
  border-top-left-radius: 0;
}
.btn-group .dropdown-toggle:active,
.btn-group.open .dropdown-toggle {
  outline: 0;
}
.btn-group > .btn + .dropdown-toggle {
  padding-left: 8px;
  padding-right: 8px;
}
.btn-group > .btn-lg + .dropdown-toggle {
  padding-left: 12px;
  padding-right: 12px;
}
.btn-group.open .dropdown-toggle {
  -webkit-box-shadow: inset 0 3px 5px rgba(0, 0, 0, 0.125);
  box-shadow: inset 0 3px 5px rgba(0, 0, 0, 0.125);
}
.btn-group.open .dropdown-toggle.btn-link {
  -webkit-box-shadow: none;
  box-shadow: none;
}
.btn .caret {
  margin-left: 0;
}
.btn-lg .caret {
  border-width: 5px 5px 0;
  border-bottom-width: 0;
}
.dropup .btn-lg .caret {
  border-width: 0 5px 5px;
}
.btn-group-vertical > .btn,
.btn-group-vertical > .btn-group,
.btn-group-vertical > .btn-group > .btn {
  display: block;
  float: none;
  width: 100%;
  max-width: 100%;
}
.btn-group-vertical > .btn-group > .btn {
  float: none;
}
.btn-group-vertical > .btn + .btn,
.btn-group-vertical > .btn + .btn-group,
.btn-group-vertical > .btn-group + .btn,
.btn-group-vertical > .btn-group + .btn-group {
  margin-top: -1px;
  margin-left: 0;
}
.btn-group-vertical > .btn:not(:first-child):not(:last-child) {
  border-radius: 0;
}
.btn-group-vertical > .btn:first-child:not(:last-child) {
  border-top-right-radius: 2px;
  border-top-left-radius: 2px;
  border-bottom-right-radius: 0;
  border-bottom-left-radius: 0;
}
.btn-group-vertical > .btn:last-child:not(:first-child) {
  border-top-right-radius: 0;
  border-top-left-radius: 0;
  border-bottom-right-radius: 2px;
  border-bottom-left-radius: 2px;
}
.btn-group-vertical > .btn-group:not(:first-child):not(:last-child) > .btn {
  border-radius: 0;
}
.btn-group-vertical > .btn-group:first-child:not(:last-child) > .btn:last-child,
.btn-group-vertical > .btn-group:first-child:not(:last-child) > .dropdown-toggle {
  border-bottom-right-radius: 0;
  border-bottom-left-radius: 0;
}
.btn-group-vertical > .btn-group:last-child:not(:first-child) > .btn:first-child {
  border-top-right-radius: 0;
  border-top-left-radius: 0;
}
.btn-group-justified {
  display: table;
  width: 100%;
  table-layout: fixed;
  border-collapse: separate;
}
.btn-group-justified > .btn,
.btn-group-justified > .btn-group {
  float: none;
  display: table-cell;
  width: 1%;
}
.btn-group-justified > .btn-group .btn {
  width: 100%;
}
.btn-group-justified > .btn-group .dropdown-menu {
  left: auto;
}
[data-toggle="buttons"] > .btn input[type="radio"],
[data-toggle="buttons"] > .btn-group > .btn input[type="radio"],
[data-toggle="buttons"] > .btn input[type="checkbox"],
[data-toggle="buttons"] > .btn-group > .btn input[type="checkbox"] {
  position: absolute;
  clip: rect(0, 0, 0, 0);
  pointer-events: none;
}
.input-group {
  position: relative;
  display: table;
  border-collapse: separate;
}
.input-group[class*="col-"] {
  float: none;
  padding-left: 0;
  padding-right: 0;
}
.input-group .form-control {
  position: relative;
  z-index: 2;
  float: left;
  width: 100%;
  margin-bottom: 0;
}
.input-group .form-control:focus {
  z-index: 3;
}
.input-group-lg > .form-control,
.input-group-lg > .input-group-addon,
.input-group-lg > .input-group-btn > .btn {
  height: 45px;
  padding: 10px 16px;
  font-size: 17px;
  line-height: 1.3333333;
  border-radius: 3px;
}
select.input-group-lg > .form-control,
select.input-group-lg > .input-group-addon,
select.input-group-lg > .input-group-btn > .btn {
  height: 45px;
  line-height: 45px;
}
textarea.input-group-lg > .form-control,
textarea.input-group-lg > .input-group-addon,
textarea.input-group-lg > .input-group-btn > .btn,
select[multiple].input-group-lg > .form-control,
select[multiple].input-group-lg > .input-group-addon,
select[multiple].input-group-lg > .input-group-btn > .btn {
  height: auto;
}
.input-group-sm > .form-control,
.input-group-sm > .input-group-addon,
.input-group-sm > .input-group-btn > .btn {
  height: 30px;
  padding: 5px 10px;
  font-size: 12px;
  line-height: 1.5;
  border-radius: 1px;
}
select.input-group-sm > .form-control,
select.input-group-sm > .input-group-addon,
select.input-group-sm > .input-group-btn > .btn {
  height: 30px;
  line-height: 30px;
}
textarea.input-group-sm > .form-control,
textarea.input-group-sm > .input-group-addon,
textarea.input-group-sm > .input-group-btn > .btn,
select[multiple].input-group-sm > .form-control,
select[multiple].input-group-sm > .input-group-addon,
select[multiple].input-group-sm > .input-group-btn > .btn {
  height: auto;
}
.input-group-addon,
.input-group-btn,
.input-group .form-control {
  display: table-cell;
}
.input-group-addon:not(:first-child):not(:last-child),
.input-group-btn:not(:first-child):not(:last-child),
.input-group .form-control:not(:first-child):not(:last-child) {
  border-radius: 0;
}
.input-group-addon,
.input-group-btn {
  width: 1%;
  white-space: nowrap;
  vertical-align: middle;
}
.input-group-addon {
  padding: 6px 12px;
  font-size: 13px;
  font-weight: normal;
  line-height: 1;
  color: #555555;
  text-align: center;
  background-color: #eeeeee;
  border: 1px solid #ccc;
  border-radius: 2px;
}
.input-group-addon.input-sm {
  padding: 5px 10px;
  font-size: 12px;
  border-radius: 1px;
}
.input-group-addon.input-lg {
  padding: 10px 16px;
  font-size: 17px;
  border-radius: 3px;
}
.input-group-addon input[type="radio"],
.input-group-addon input[type="checkbox"] {
  margin-top: 0;
}
.input-group .form-control:first-child,
.input-group-addon:first-child,
.input-group-btn:first-child > .btn,
.input-group-btn:first-child > .btn-group > .btn,
.input-group-btn:first-child > .dropdown-toggle,
.input-group-btn:last-child > .btn:not(:last-child):not(.dropdown-toggle),
.input-group-btn:last-child > .btn-group:not(:last-child) > .btn {
  border-bottom-right-radius: 0;
  border-top-right-radius: 0;
}
.input-group-addon:first-child {
  border-right: 0;
}
.input-group .form-control:last-child,
.input-group-addon:last-child,
.input-group-btn:last-child > .btn,
.input-group-btn:last-child > .btn-group > .btn,
.input-group-btn:last-child > .dropdown-toggle,
.input-group-btn:first-child > .btn:not(:first-child),
.input-group-btn:first-child > .btn-group:not(:first-child) > .btn {
  border-bottom-left-radius: 0;
  border-top-left-radius: 0;
}
.input-group-addon:last-child {
  border-left: 0;
}
.input-group-btn {
  position: relative;
  font-size: 0;
  white-space: nowrap;
}
.input-group-btn > .btn {
  position: relative;
}
.input-group-btn > .btn + .btn {
  margin-left: -1px;
}
.input-group-btn > .btn:hover,
.input-group-btn > .btn:focus,
.input-group-btn > .btn:active {
  z-index: 2;
}
.input-group-btn:first-child > .btn,
.input-group-btn:first-child > .btn-group {
  margin-right: -1px;
}
.input-group-btn:last-child > .btn,
.input-group-btn:last-child > .btn-group {
  z-index: 2;
  margin-left: -1px;
}
.nav {
  margin-bottom: 0;
  padding-left: 0;
  list-style: none;
}
.nav > li {
  position: relative;
  display: block;
}
.nav > li > a {
  position: relative;
  display: block;
  padding: 10px 15px;
}
.nav > li > a:hover,
.nav > li > a:focus {
  text-decoration: none;
  background-color: #eeeeee;
}
.nav > li.disabled > a {
  color: #777777;
}
.nav > li.disabled > a:hover,
.nav > li.disabled > a:focus {
  color: #777777;
  text-decoration: none;
  background-color: transparent;
  cursor: not-allowed;
}
.nav .open > a,
.nav .open > a:hover,
.nav .open > a:focus {
  background-color: #eeeeee;
  border-color: #337ab7;
}
.nav .nav-divider {
  height: 1px;
  margin: 8px 0;
  overflow: hidden;
  background-color: #e5e5e5;
}
.nav > li > a > img {
  max-width: none;
}
.nav-tabs {
  border-bottom: 1px solid #ddd;
}
.nav-tabs > li {
  float: left;
  margin-bottom: -1px;
}
.nav-tabs > li > a {
  margin-right: 2px;
  line-height: 1.42857143;
  border: 1px solid transparent;
  border-radius: 2px 2px 0 0;
}
.nav-tabs > li > a:hover {
  border-color: #eeeeee #eeeeee #ddd;
}
.nav-tabs > li.active > a,
.nav-tabs > li.active > a:hover,
.nav-tabs > li.active > a:focus {
  color: #555555;
  background-color: #fff;
  border: 1px solid #ddd;
  border-bottom-color: transparent;
  cursor: default;
}
.nav-tabs.nav-justified {
  width: 100%;
  border-bottom: 0;
}
.nav-tabs.nav-justified > li {
  float: none;
}
.nav-tabs.nav-justified > li > a {
  text-align: center;
  margin-bottom: 5px;
}
.nav-tabs.nav-justified > .dropdown .dropdown-menu {
  top: auto;
  left: auto;
}
@media (min-width: 768px) {
  .nav-tabs.nav-justified > li {
    display: table-cell;
    width: 1%;
  }
  .nav-tabs.nav-justified > li > a {
    margin-bottom: 0;
  }
}
.nav-tabs.nav-justified > li > a {
  margin-right: 0;
  border-radius: 2px;
}
.nav-tabs.nav-justified > .active > a,
.nav-tabs.nav-justified > .active > a:hover,
.nav-tabs.nav-justified > .active > a:focus {
  border: 1px solid #ddd;
}
@media (min-width: 768px) {
  .nav-tabs.nav-justified > li > a {
    border-bottom: 1px solid #ddd;
    border-radius: 2px 2px 0 0;
  }
  .nav-tabs.nav-justified > .active > a,
  .nav-tabs.nav-justified > .active > a:hover,
  .nav-tabs.nav-justified > .active > a:focus {
    border-bottom-color: #fff;
  }
}
.nav-pills > li {
  float: left;
}
.nav-pills > li > a {
  border-radius: 2px;
}
.nav-pills > li + li {
  margin-left: 2px;
}
.nav-pills > li.active > a,
.nav-pills > li.active > a:hover,
.nav-pills > li.active > a:focus {
  color: #fff;
  background-color: #337ab7;
}
.nav-stacked > li {
  float: none;
}
.nav-stacked > li + li {
  margin-top: 2px;
  margin-left: 0;
}
.nav-justified {
  width: 100%;
}
.nav-justified > li {
  float: none;
}
.nav-justified > li > a {
  text-align: center;
  margin-bottom: 5px;
}
.nav-justified > .dropdown .dropdown-menu {
  top: auto;
  left: auto;
}
@media (min-width: 768px) {
  .nav-justified > li {
    display: table-cell;
    width: 1%;
  }
  .nav-justified > li > a {
    margin-bottom: 0;
  }
}
.nav-tabs-justified {
  border-bottom: 0;
}
.nav-tabs-justified > li > a {
  margin-right: 0;
  border-radius: 2px;
}
.nav-tabs-justified > .active > a,
.nav-tabs-justified > .active > a:hover,
.nav-tabs-justified > .active > a:focus {
  border: 1px solid #ddd;
}
@media (min-width: 768px) {
  .nav-tabs-justified > li > a {
    border-bottom: 1px solid #ddd;
    border-radius: 2px 2px 0 0;
  }
  .nav-tabs-justified > .active > a,
  .nav-tabs-justified > .active > a:hover,
  .nav-tabs-justified > .active > a:focus {
    border-bottom-color: #fff;
  }
}
.tab-content > .tab-pane {
  display: none;
}
.tab-content > .active {
  display: block;
}
.nav-tabs .dropdown-menu {
  margin-top: -1px;
  border-top-right-radius: 0;
  border-top-left-radius: 0;
}
.navbar {
  position: relative;
  min-height: 30px;
  margin-bottom: 18px;
  border: 1px solid transparent;
}
@media (min-width: 541px) {
  .navbar {
    border-radius: 2px;
  }
}
@media (min-width: 541px) {
  .navbar-header {
    float: left;
  }
}
.navbar-collapse {
  overflow-x: visible;
  padding-right: 0px;
  padding-left: 0px;
  border-top: 1px solid transparent;
  box-shadow: inset 0 1px 0 rgba(255, 255, 255, 0.1);
  -webkit-overflow-scrolling: touch;
}
.navbar-collapse.in {
  overflow-y: auto;
}
@media (min-width: 541px) {
  .navbar-collapse {
    width: auto;
    border-top: 0;
    box-shadow: none;
  }
  .navbar-collapse.collapse {
    display: block !important;
    height: auto !important;
    padding-bottom: 0;
    overflow: visible !important;
  }
  .navbar-collapse.in {
    overflow-y: visible;
  }
  .navbar-fixed-top .navbar-collapse,
  .navbar-static-top .navbar-collapse,
  .navbar-fixed-bottom .navbar-collapse {
    padding-left: 0;
    padding-right: 0;
  }
}
.navbar-fixed-top .navbar-collapse,
.navbar-fixed-bottom .navbar-collapse {
  max-height: 340px;
}
@media (max-device-width: 540px) and (orientation: landscape) {
  .navbar-fixed-top .navbar-collapse,
  .navbar-fixed-bottom .navbar-collapse {
    max-height: 200px;
  }
}
.container > .navbar-header,
.container-fluid > .navbar-header,
.container > .navbar-collapse,
.container-fluid > .navbar-collapse {
  margin-right: 0px;
  margin-left: 0px;
}
@media (min-width: 541px) {
  .container > .navbar-header,
  .container-fluid > .navbar-header,
  .container > .navbar-collapse,
  .container-fluid > .navbar-collapse {
    margin-right: 0;
    margin-left: 0;
  }
}
.navbar-static-top {
  z-index: 1000;
  border-width: 0 0 1px;
}
@media (min-width: 541px) {
  .navbar-static-top {
    border-radius: 0;
  }
}
.navbar-fixed-top,
.navbar-fixed-bottom {
  position: fixed;
  right: 0;
  left: 0;
  z-index: 1030;
}
@media (min-width: 541px) {
  .navbar-fixed-top,
  .navbar-fixed-bottom {
    border-radius: 0;
  }
}
.navbar-fixed-top {
  top: 0;
  border-width: 0 0 1px;
}
.navbar-fixed-bottom {
  bottom: 0;
  margin-bottom: 0;
  border-width: 1px 0 0;
}
.navbar-brand {
  float: left;
  padding: 6px 0px;
  font-size: 17px;
  line-height: 18px;
  height: 30px;
}
.navbar-brand:hover,
.navbar-brand:focus {
  text-decoration: none;
}
.navbar-brand > img {
  display: block;
}
@media (min-width: 541px) {
  .navbar > .container .navbar-brand,
  .navbar > .container-fluid .navbar-brand {
    margin-left: 0px;
  }
}
.navbar-toggle {
  position: relative;
  float: right;
  margin-right: 0px;
  padding: 9px 10px;
  margin-top: -2px;
  margin-bottom: -2px;
  background-color: transparent;
  background-image: none;
  border: 1px solid transparent;
  border-radius: 2px;
}
.navbar-toggle:focus {
  outline: 0;
}
.navbar-toggle .icon-bar {
  display: block;
  width: 22px;
  height: 2px;
  border-radius: 1px;
}
.navbar-toggle .icon-bar + .icon-bar {
  margin-top: 4px;
}
@media (min-width: 541px) {
  .navbar-toggle {
    display: none;
  }
}
.navbar-nav {
  margin: 3px 0px;
}
.navbar-nav > li > a {
  padding-top: 10px;
  padding-bottom: 10px;
  line-height: 18px;
}
@media (max-width: 540px) {
  .navbar-nav .open .dropdown-menu {
    position: static;
    float: none;
    width: auto;
    margin-top: 0;
    background-color: transparent;
    border: 0;
    box-shadow: none;
  }
  .navbar-nav .open .dropdown-menu > li > a,
  .navbar-nav .open .dropdown-menu .dropdown-header {
    padding: 5px 15px 5px 25px;
  }
  .navbar-nav .open .dropdown-menu > li > a {
    line-height: 18px;
  }
  .navbar-nav .open .dropdown-menu > li > a:hover,
  .navbar-nav .open .dropdown-menu > li > a:focus {
    background-image: none;
  }
}
@media (min-width: 541px) {
  .navbar-nav {
    float: left;
    margin: 0;
  }
  .navbar-nav > li {
    float: left;
  }
  .navbar-nav > li > a {
    padding-top: 6px;
    padding-bottom: 6px;
  }
}
.navbar-form {
  margin-left: 0px;
  margin-right: 0px;
  padding: 10px 0px;
  border-top: 1px solid transparent;
  border-bottom: 1px solid transparent;
  -webkit-box-shadow: inset 0 1px 0 rgba(255, 255, 255, 0.1), 0 1px 0 rgba(255, 255, 255, 0.1);
  box-shadow: inset 0 1px 0 rgba(255, 255, 255, 0.1), 0 1px 0 rgba(255, 255, 255, 0.1);
  margin-top: -1px;
  margin-bottom: -1px;
}
@media (min-width: 768px) {
  .navbar-form .form-group {
    display: inline-block;
    margin-bottom: 0;
    vertical-align: middle;
  }
  .navbar-form .form-control {
    display: inline-block;
    width: auto;
    vertical-align: middle;
  }
  .navbar-form .form-control-static {
    display: inline-block;
  }
  .navbar-form .input-group {
    display: inline-table;
    vertical-align: middle;
  }
  .navbar-form .input-group .input-group-addon,
  .navbar-form .input-group .input-group-btn,
  .navbar-form .input-group .form-control {
    width: auto;
  }
  .navbar-form .input-group > .form-control {
    width: 100%;
  }
  .navbar-form .control-label {
    margin-bottom: 0;
    vertical-align: middle;
  }
  .navbar-form .radio,
  .navbar-form .checkbox {
    display: inline-block;
    margin-top: 0;
    margin-bottom: 0;
    vertical-align: middle;
  }
  .navbar-form .radio label,
  .navbar-form .checkbox label {
    padding-left: 0;
  }
  .navbar-form .radio input[type="radio"],
  .navbar-form .checkbox input[type="checkbox"] {
    position: relative;
    margin-left: 0;
  }
  .navbar-form .has-feedback .form-control-feedback {
    top: 0;
  }
}
@media (max-width: 540px) {
  .navbar-form .form-group {
    margin-bottom: 5px;
  }
  .navbar-form .form-group:last-child {
    margin-bottom: 0;
  }
}
@media (min-width: 541px) {
  .navbar-form {
    width: auto;
    border: 0;
    margin-left: 0;
    margin-right: 0;
    padding-top: 0;
    padding-bottom: 0;
    -webkit-box-shadow: none;
    box-shadow: none;
  }
}
.navbar-nav > li > .dropdown-menu {
  margin-top: 0;
  border-top-right-radius: 0;
  border-top-left-radius: 0;
}
.navbar-fixed-bottom .navbar-nav > li > .dropdown-menu {
  margin-bottom: 0;
  border-top-right-radius: 2px;
  border-top-left-radius: 2px;
  border-bottom-right-radius: 0;
  border-bottom-left-radius: 0;
}
.navbar-btn {
  margin-top: -1px;
  margin-bottom: -1px;
}
.navbar-btn.btn-sm {
  margin-top: 0px;
  margin-bottom: 0px;
}
.navbar-btn.btn-xs {
  margin-top: 4px;
  margin-bottom: 4px;
}
.navbar-text {
  margin-top: 6px;
  margin-bottom: 6px;
}
@media (min-width: 541px) {
  .navbar-text {
    float: left;
    margin-left: 0px;
    margin-right: 0px;
  }
}
@media (min-width: 541px) {
  .navbar-left {
    float: left !important;
    float: left;
  }
  .navbar-right {
    float: right !important;
    float: right;
    margin-right: 0px;
  }
  .navbar-right ~ .navbar-right {
    margin-right: 0;
  }
}
.navbar-default {
  background-color: #f8f8f8;
  border-color: #e7e7e7;
}
.navbar-default .navbar-brand {
  color: #777;
}
.navbar-default .navbar-brand:hover,
.navbar-default .navbar-brand:focus {
  color: #5e5e5e;
  background-color: transparent;
}
.navbar-default .navbar-text {
  color: #777;
}
.navbar-default .navbar-nav > li > a {
  color: #777;
}
.navbar-default .navbar-nav > li > a:hover,
.navbar-default .navbar-nav > li > a:focus {
  color: #333;
  background-color: transparent;
}
.navbar-default .navbar-nav > .active > a,
.navbar-default .navbar-nav > .active > a:hover,
.navbar-default .navbar-nav > .active > a:focus {
  color: #555;
  background-color: #e7e7e7;
}
.navbar-default .navbar-nav > .disabled > a,
.navbar-default .navbar-nav > .disabled > a:hover,
.navbar-default .navbar-nav > .disabled > a:focus {
  color: #ccc;
  background-color: transparent;
}
.navbar-default .navbar-toggle {
  border-color: #ddd;
}
.navbar-default .navbar-toggle:hover,
.navbar-default .navbar-toggle:focus {
  background-color: #ddd;
}
.navbar-default .navbar-toggle .icon-bar {
  background-color: #888;
}
.navbar-default .navbar-collapse,
.navbar-default .navbar-form {
  border-color: #e7e7e7;
}
.navbar-default .navbar-nav > .open > a,
.navbar-default .navbar-nav > .open > a:hover,
.navbar-default .navbar-nav > .open > a:focus {
  background-color: #e7e7e7;
  color: #555;
}
@media (max-width: 540px) {
  .navbar-default .navbar-nav .open .dropdown-menu > li > a {
    color: #777;
  }
  .navbar-default .navbar-nav .open .dropdown-menu > li > a:hover,
  .navbar-default .navbar-nav .open .dropdown-menu > li > a:focus {
    color: #333;
    background-color: transparent;
  }
  .navbar-default .navbar-nav .open .dropdown-menu > .active > a,
  .navbar-default .navbar-nav .open .dropdown-menu > .active > a:hover,
  .navbar-default .navbar-nav .open .dropdown-menu > .active > a:focus {
    color: #555;
    background-color: #e7e7e7;
  }
  .navbar-default .navbar-nav .open .dropdown-menu > .disabled > a,
  .navbar-default .navbar-nav .open .dropdown-menu > .disabled > a:hover,
  .navbar-default .navbar-nav .open .dropdown-menu > .disabled > a:focus {
    color: #ccc;
    background-color: transparent;
  }
}
.navbar-default .navbar-link {
  color: #777;
}
.navbar-default .navbar-link:hover {
  color: #333;
}
.navbar-default .btn-link {
  color: #777;
}
.navbar-default .btn-link:hover,
.navbar-default .btn-link:focus {
  color: #333;
}
.navbar-default .btn-link[disabled]:hover,
fieldset[disabled] .navbar-default .btn-link:hover,
.navbar-default .btn-link[disabled]:focus,
fieldset[disabled] .navbar-default .btn-link:focus {
  color: #ccc;
}
.navbar-inverse {
  background-color: #222;
  border-color: #080808;
}
.navbar-inverse .navbar-brand {
  color: #9d9d9d;
}
.navbar-inverse .navbar-brand:hover,
.navbar-inverse .navbar-brand:focus {
  color: #fff;
  background-color: transparent;
}
.navbar-inverse .navbar-text {
  color: #9d9d9d;
}
.navbar-inverse .navbar-nav > li > a {
  color: #9d9d9d;
}
.navbar-inverse .navbar-nav > li > a:hover,
.navbar-inverse .navbar-nav > li > a:focus {
  color: #fff;
  background-color: transparent;
}
.navbar-inverse .navbar-nav > .active > a,
.navbar-inverse .navbar-nav > .active > a:hover,
.navbar-inverse .navbar-nav > .active > a:focus {
  color: #fff;
  background-color: #080808;
}
.navbar-inverse .navbar-nav > .disabled > a,
.navbar-inverse .navbar-nav > .disabled > a:hover,
.navbar-inverse .navbar-nav > .disabled > a:focus {
  color: #444;
  background-color: transparent;
}
.navbar-inverse .navbar-toggle {
  border-color: #333;
}
.navbar-inverse .navbar-toggle:hover,
.navbar-inverse .navbar-toggle:focus {
  background-color: #333;
}
.navbar-inverse .navbar-toggle .icon-bar {
  background-color: #fff;
}
.navbar-inverse .navbar-collapse,
.navbar-inverse .navbar-form {
  border-color: #101010;
}
.navbar-inverse .navbar-nav > .open > a,
.navbar-inverse .navbar-nav > .open > a:hover,
.navbar-inverse .navbar-nav > .open > a:focus {
  background-color: #080808;
  color: #fff;
}
@media (max-width: 540px) {
  .navbar-inverse .navbar-nav .open .dropdown-menu > .dropdown-header {
    border-color: #080808;
  }
  .navbar-inverse .navbar-nav .open .dropdown-menu .divider {
    background-color: #080808;
  }
  .navbar-inverse .navbar-nav .open .dropdown-menu > li > a {
    color: #9d9d9d;
  }
  .navbar-inverse .navbar-nav .open .dropdown-menu > li > a:hover,
  .navbar-inverse .navbar-nav .open .dropdown-menu > li > a:focus {
    color: #fff;
    background-color: transparent;
  }
  .navbar-inverse .navbar-nav .open .dropdown-menu > .active > a,
  .navbar-inverse .navbar-nav .open .dropdown-menu > .active > a:hover,
  .navbar-inverse .navbar-nav .open .dropdown-menu > .active > a:focus {
    color: #fff;
    background-color: #080808;
  }
  .navbar-inverse .navbar-nav .open .dropdown-menu > .disabled > a,
  .navbar-inverse .navbar-nav .open .dropdown-menu > .disabled > a:hover,
  .navbar-inverse .navbar-nav .open .dropdown-menu > .disabled > a:focus {
    color: #444;
    background-color: transparent;
  }
}
.navbar-inverse .navbar-link {
  color: #9d9d9d;
}
.navbar-inverse .navbar-link:hover {
  color: #fff;
}
.navbar-inverse .btn-link {
  color: #9d9d9d;
}
.navbar-inverse .btn-link:hover,
.navbar-inverse .btn-link:focus {
  color: #fff;
}
.navbar-inverse .btn-link[disabled]:hover,
fieldset[disabled] .navbar-inverse .btn-link:hover,
.navbar-inverse .btn-link[disabled]:focus,
fieldset[disabled] .navbar-inverse .btn-link:focus {
  color: #444;
}
.breadcrumb {
  padding: 8px 15px;
  margin-bottom: 18px;
  list-style: none;
  background-color: #f5f5f5;
  border-radius: 2px;
}
.breadcrumb > li {
  display: inline-block;
}
.breadcrumb > li + li:before {
  content: "/\00a0";
  padding: 0 5px;
  color: #5e5e5e;
}
.breadcrumb > .active {
  color: #777777;
}
.pagination {
  display: inline-block;
  padding-left: 0;
  margin: 18px 0;
  border-radius: 2px;
}
.pagination > li {
  display: inline;
}
.pagination > li > a,
.pagination > li > span {
  position: relative;
  float: left;
  padding: 6px 12px;
  line-height: 1.42857143;
  text-decoration: none;
  color: #337ab7;
  background-color: #fff;
  border: 1px solid #ddd;
  margin-left: -1px;
}
.pagination > li:first-child > a,
.pagination > li:first-child > span {
  margin-left: 0;
  border-bottom-left-radius: 2px;
  border-top-left-radius: 2px;
}
.pagination > li:last-child > a,
.pagination > li:last-child > span {
  border-bottom-right-radius: 2px;
  border-top-right-radius: 2px;
}
.pagination > li > a:hover,
.pagination > li > span:hover,
.pagination > li > a:focus,
.pagination > li > span:focus {
  z-index: 2;
  color: #23527c;
  background-color: #eeeeee;
  border-color: #ddd;
}
.pagination > .active > a,
.pagination > .active > span,
.pagination > .active > a:hover,
.pagination > .active > span:hover,
.pagination > .active > a:focus,
.pagination > .active > span:focus {
  z-index: 3;
  color: #fff;
  background-color: #337ab7;
  border-color: #337ab7;
  cursor: default;
}
.pagination > .disabled > span,
.pagination > .disabled > span:hover,
.pagination > .disabled > span:focus,
.pagination > .disabled > a,
.pagination > .disabled > a:hover,
.pagination > .disabled > a:focus {
  color: #777777;
  background-color: #fff;
  border-color: #ddd;
  cursor: not-allowed;
}
.pagination-lg > li > a,
.pagination-lg > li > span {
  padding: 10px 16px;
  font-size: 17px;
  line-height: 1.3333333;
}
.pagination-lg > li:first-child > a,
.pagination-lg > li:first-child > span {
  border-bottom-left-radius: 3px;
  border-top-left-radius: 3px;
}
.pagination-lg > li:last-child > a,
.pagination-lg > li:last-child > span {
  border-bottom-right-radius: 3px;
  border-top-right-radius: 3px;
}
.pagination-sm > li > a,
.pagination-sm > li > span {
  padding: 5px 10px;
  font-size: 12px;
  line-height: 1.5;
}
.pagination-sm > li:first-child > a,
.pagination-sm > li:first-child > span {
  border-bottom-left-radius: 1px;
  border-top-left-radius: 1px;
}
.pagination-sm > li:last-child > a,
.pagination-sm > li:last-child > span {
  border-bottom-right-radius: 1px;
  border-top-right-radius: 1px;
}
.pager {
  padding-left: 0;
  margin: 18px 0;
  list-style: none;
  text-align: center;
}
.pager li {
  display: inline;
}
.pager li > a,
.pager li > span {
  display: inline-block;
  padding: 5px 14px;
  background-color: #fff;
  border: 1px solid #ddd;
  border-radius: 15px;
}
.pager li > a:hover,
.pager li > a:focus {
  text-decoration: none;
  background-color: #eeeeee;
}
.pager .next > a,
.pager .next > span {
  float: right;
}
.pager .previous > a,
.pager .previous > span {
  float: left;
}
.pager .disabled > a,
.pager .disabled > a:hover,
.pager .disabled > a:focus,
.pager .disabled > span {
  color: #777777;
  background-color: #fff;
  cursor: not-allowed;
}
.label {
  display: inline;
  padding: .2em .6em .3em;
  font-size: 75%;
  font-weight: bold;
  line-height: 1;
  color: #fff;
  text-align: center;
  white-space: nowrap;
  vertical-align: baseline;
  border-radius: .25em;
}
a.label:hover,
a.label:focus {
  color: #fff;
  text-decoration: none;
  cursor: pointer;
}
.label:empty {
  display: none;
}
.btn .label {
  position: relative;
  top: -1px;
}
.label-default {
  background-color: #777777;
}
.label-default[href]:hover,
.label-default[href]:focus {
  background-color: #5e5e5e;
}
.label-primary {
  background-color: #337ab7;
}
.label-primary[href]:hover,
.label-primary[href]:focus {
  background-color: #286090;
}
.label-success {
  background-color: #5cb85c;
}
.label-success[href]:hover,
.label-success[href]:focus {
  background-color: #449d44;
}
.label-info {
  background-color: #5bc0de;
}
.label-info[href]:hover,
.label-info[href]:focus {
  background-color: #31b0d5;
}
.label-warning {
  background-color: #f0ad4e;
}
.label-warning[href]:hover,
.label-warning[href]:focus {
  background-color: #ec971f;
}
.label-danger {
  background-color: #d9534f;
}
.label-danger[href]:hover,
.label-danger[href]:focus {
  background-color: #c9302c;
}
.badge {
  display: inline-block;
  min-width: 10px;
  padding: 3px 7px;
  font-size: 12px;
  font-weight: bold;
  color: #fff;
  line-height: 1;
  vertical-align: middle;
  white-space: nowrap;
  text-align: center;
  background-color: #777777;
  border-radius: 10px;
}
.badge:empty {
  display: none;
}
.btn .badge {
  position: relative;
  top: -1px;
}
.btn-xs .badge,
.btn-group-xs > .btn .badge {
  top: 0;
  padding: 1px 5px;
}
a.badge:hover,
a.badge:focus {
  color: #fff;
  text-decoration: none;
  cursor: pointer;
}
.list-group-item.active > .badge,
.nav-pills > .active > a > .badge {
  color: #337ab7;
  background-color: #fff;
}
.list-group-item > .badge {
  float: right;
}
.list-group-item > .badge + .badge {
  margin-right: 5px;
}
.nav-pills > li > a > .badge {
  margin-left: 3px;
}
.jumbotron {
  padding-top: 30px;
  padding-bottom: 30px;
  margin-bottom: 30px;
  color: inherit;
  background-color: #eeeeee;
}
.jumbotron h1,
.jumbotron .h1 {
  color: inherit;
}
.jumbotron p {
  margin-bottom: 15px;
  font-size: 20px;
  font-weight: 200;
}
.jumbotron > hr {
  border-top-color: #d5d5d5;
}
.container .jumbotron,
.container-fluid .jumbotron {
  border-radius: 3px;
  padding-left: 0px;
  padding-right: 0px;
}
.jumbotron .container {
  max-width: 100%;
}
@media screen and (min-width: 768px) {
  .jumbotron {
    padding-top: 48px;
    padding-bottom: 48px;
  }
  .container .jumbotron,
  .container-fluid .jumbotron {
    padding-left: 60px;
    padding-right: 60px;
  }
  .jumbotron h1,
  .jumbotron .h1 {
    font-size: 59px;
  }
}
.thumbnail {
  display: block;
  padding: 4px;
  margin-bottom: 18px;
  line-height: 1.42857143;
  background-color: #fff;
  border: 1px solid #ddd;
  border-radius: 2px;
  -webkit-transition: border 0.2s ease-in-out;
  -o-transition: border 0.2s ease-in-out;
  transition: border 0.2s ease-in-out;
}
.thumbnail > img,
.thumbnail a > img {
  margin-left: auto;
  margin-right: auto;
}
a.thumbnail:hover,
a.thumbnail:focus,
a.thumbnail.active {
  border-color: #337ab7;
}
.thumbnail .caption {
  padding: 9px;
  color: #000;
}
.alert {
  padding: 15px;
  margin-bottom: 18px;
  border: 1px solid transparent;
  border-radius: 2px;
}
.alert h4 {
  margin-top: 0;
  color: inherit;
}
.alert .alert-link {
  font-weight: bold;
}
.alert > p,
.alert > ul {
  margin-bottom: 0;
}
.alert > p + p {
  margin-top: 5px;
}
.alert-dismissable,
.alert-dismissible {
  padding-right: 35px;
}
.alert-dismissable .close,
.alert-dismissible .close {
  position: relative;
  top: -2px;
  right: -21px;
  color: inherit;
}
.alert-success {
  background-color: #dff0d8;
  border-color: #d6e9c6;
  color: #3c763d;
}
.alert-success hr {
  border-top-color: #c9e2b3;
}
.alert-success .alert-link {
  color: #2b542c;
}
.alert-info {
  background-color: #d9edf7;
  border-color: #bce8f1;
  color: #31708f;
}
.alert-info hr {
  border-top-color: #a6e1ec;
}
.alert-info .alert-link {
  color: #245269;
}
.alert-warning {
  background-color: #fcf8e3;
  border-color: #faebcc;
  color: #8a6d3b;
}
.alert-warning hr {
  border-top-color: #f7e1b5;
}
.alert-warning .alert-link {
  color: #66512c;
}
.alert-danger {
  background-color: #f2dede;
  border-color: #ebccd1;
  color: #a94442;
}
.alert-danger hr {
  border-top-color: #e4b9c0;
}
.alert-danger .alert-link {
  color: #843534;
}
@-webkit-keyframes progress-bar-stripes {
  from {
    background-position: 40px 0;
  }
  to {
    background-position: 0 0;
  }
}
@keyframes progress-bar-stripes {
  from {
    background-position: 40px 0;
  }
  to {
    background-position: 0 0;
  }
}
.progress {
  overflow: hidden;
  height: 18px;
  margin-bottom: 18px;
  background-color: #f5f5f5;
  border-radius: 2px;
  -webkit-box-shadow: inset 0 1px 2px rgba(0, 0, 0, 0.1);
  box-shadow: inset 0 1px 2px rgba(0, 0, 0, 0.1);
}
.progress-bar {
  float: left;
  width: 0%;
  height: 100%;
  font-size: 12px;
  line-height: 18px;
  color: #fff;
  text-align: center;
  background-color: #337ab7;
  -webkit-box-shadow: inset 0 -1px 0 rgba(0, 0, 0, 0.15);
  box-shadow: inset 0 -1px 0 rgba(0, 0, 0, 0.15);
  -webkit-transition: width 0.6s ease;
  -o-transition: width 0.6s ease;
  transition: width 0.6s ease;
}
.progress-striped .progress-bar,
.progress-bar-striped {
  background-image: -webkit-linear-gradient(45deg, rgba(255, 255, 255, 0.15) 25%, transparent 25%, transparent 50%, rgba(255, 255, 255, 0.15) 50%, rgba(255, 255, 255, 0.15) 75%, transparent 75%, transparent);
  background-image: -o-linear-gradient(45deg, rgba(255, 255, 255, 0.15) 25%, transparent 25%, transparent 50%, rgba(255, 255, 255, 0.15) 50%, rgba(255, 255, 255, 0.15) 75%, transparent 75%, transparent);
  background-image: linear-gradient(45deg, rgba(255, 255, 255, 0.15) 25%, transparent 25%, transparent 50%, rgba(255, 255, 255, 0.15) 50%, rgba(255, 255, 255, 0.15) 75%, transparent 75%, transparent);
  background-size: 40px 40px;
}
.progress.active .progress-bar,
.progress-bar.active {
  -webkit-animation: progress-bar-stripes 2s linear infinite;
  -o-animation: progress-bar-stripes 2s linear infinite;
  animation: progress-bar-stripes 2s linear infinite;
}
.progress-bar-success {
  background-color: #5cb85c;
}
.progress-striped .progress-bar-success {
  background-image: -webkit-linear-gradient(45deg, rgba(255, 255, 255, 0.15) 25%, transparent 25%, transparent 50%, rgba(255, 255, 255, 0.15) 50%, rgba(255, 255, 255, 0.15) 75%, transparent 75%, transparent);
  background-image: -o-linear-gradient(45deg, rgba(255, 255, 255, 0.15) 25%, transparent 25%, transparent 50%, rgba(255, 255, 255, 0.15) 50%, rgba(255, 255, 255, 0.15) 75%, transparent 75%, transparent);
  background-image: linear-gradient(45deg, rgba(255, 255, 255, 0.15) 25%, transparent 25%, transparent 50%, rgba(255, 255, 255, 0.15) 50%, rgba(255, 255, 255, 0.15) 75%, transparent 75%, transparent);
}
.progress-bar-info {
  background-color: #5bc0de;
}
.progress-striped .progress-bar-info {
  background-image: -webkit-linear-gradient(45deg, rgba(255, 255, 255, 0.15) 25%, transparent 25%, transparent 50%, rgba(255, 255, 255, 0.15) 50%, rgba(255, 255, 255, 0.15) 75%, transparent 75%, transparent);
  background-image: -o-linear-gradient(45deg, rgba(255, 255, 255, 0.15) 25%, transparent 25%, transparent 50%, rgba(255, 255, 255, 0.15) 50%, rgba(255, 255, 255, 0.15) 75%, transparent 75%, transparent);
  background-image: linear-gradient(45deg, rgba(255, 255, 255, 0.15) 25%, transparent 25%, transparent 50%, rgba(255, 255, 255, 0.15) 50%, rgba(255, 255, 255, 0.15) 75%, transparent 75%, transparent);
}
.progress-bar-warning {
  background-color: #f0ad4e;
}
.progress-striped .progress-bar-warning {
  background-image: -webkit-linear-gradient(45deg, rgba(255, 255, 255, 0.15) 25%, transparent 25%, transparent 50%, rgba(255, 255, 255, 0.15) 50%, rgba(255, 255, 255, 0.15) 75%, transparent 75%, transparent);
  background-image: -o-linear-gradient(45deg, rgba(255, 255, 255, 0.15) 25%, transparent 25%, transparent 50%, rgba(255, 255, 255, 0.15) 50%, rgba(255, 255, 255, 0.15) 75%, transparent 75%, transparent);
  background-image: linear-gradient(45deg, rgba(255, 255, 255, 0.15) 25%, transparent 25%, transparent 50%, rgba(255, 255, 255, 0.15) 50%, rgba(255, 255, 255, 0.15) 75%, transparent 75%, transparent);
}
.progress-bar-danger {
  background-color: #d9534f;
}
.progress-striped .progress-bar-danger {
  background-image: -webkit-linear-gradient(45deg, rgba(255, 255, 255, 0.15) 25%, transparent 25%, transparent 50%, rgba(255, 255, 255, 0.15) 50%, rgba(255, 255, 255, 0.15) 75%, transparent 75%, transparent);
  background-image: -o-linear-gradient(45deg, rgba(255, 255, 255, 0.15) 25%, transparent 25%, transparent 50%, rgba(255, 255, 255, 0.15) 50%, rgba(255, 255, 255, 0.15) 75%, transparent 75%, transparent);
  background-image: linear-gradient(45deg, rgba(255, 255, 255, 0.15) 25%, transparent 25%, transparent 50%, rgba(255, 255, 255, 0.15) 50%, rgba(255, 255, 255, 0.15) 75%, transparent 75%, transparent);
}
.media {
  margin-top: 15px;
}
.media:first-child {
  margin-top: 0;
}
.media,
.media-body {
  zoom: 1;
  overflow: hidden;
}
.media-body {
  width: 10000px;
}
.media-object {
  display: block;
}
.media-object.img-thumbnail {
  max-width: none;
}
.media-right,
.media > .pull-right {
  padding-left: 10px;
}
.media-left,
.media > .pull-left {
  padding-right: 10px;
}
.media-left,
.media-right,
.media-body {
  display: table-cell;
  vertical-align: top;
}
.media-middle {
  vertical-align: middle;
}
.media-bottom {
  vertical-align: bottom;
}
.media-heading {
  margin-top: 0;
  margin-bottom: 5px;
}
.media-list {
  padding-left: 0;
  list-style: none;
}
.list-group {
  margin-bottom: 20px;
  padding-left: 0;
}
.list-group-item {
  position: relative;
  display: block;
  padding: 10px 15px;
  margin-bottom: -1px;
  background-color: #fff;
  border: 1px solid #ddd;
}
.list-group-item:first-child {
  border-top-right-radius: 2px;
  border-top-left-radius: 2px;
}
.list-group-item:last-child {
  margin-bottom: 0;
  border-bottom-right-radius: 2px;
  border-bottom-left-radius: 2px;
}
a.list-group-item,
button.list-group-item {
  color: #555;
}
a.list-group-item .list-group-item-heading,
button.list-group-item .list-group-item-heading {
  color: #333;
}
a.list-group-item:hover,
button.list-group-item:hover,
a.list-group-item:focus,
button.list-group-item:focus {
  text-decoration: none;
  color: #555;
  background-color: #f5f5f5;
}
button.list-group-item {
  width: 100%;
  text-align: left;
}
.list-group-item.disabled,
.list-group-item.disabled:hover,
.list-group-item.disabled:focus {
  background-color: #eeeeee;
  color: #777777;
  cursor: not-allowed;
}
.list-group-item.disabled .list-group-item-heading,
.list-group-item.disabled:hover .list-group-item-heading,
.list-group-item.disabled:focus .list-group-item-heading {
  color: inherit;
}
.list-group-item.disabled .list-group-item-text,
.list-group-item.disabled:hover .list-group-item-text,
.list-group-item.disabled:focus .list-group-item-text {
  color: #777777;
}
.list-group-item.active,
.list-group-item.active:hover,
.list-group-item.active:focus {
  z-index: 2;
  color: #fff;
  background-color: #337ab7;
  border-color: #337ab7;
}
.list-group-item.active .list-group-item-heading,
.list-group-item.active:hover .list-group-item-heading,
.list-group-item.active:focus .list-group-item-heading,
.list-group-item.active .list-group-item-heading > small,
.list-group-item.active:hover .list-group-item-heading > small,
.list-group-item.active:focus .list-group-item-heading > small,
.list-group-item.active .list-group-item-heading > .small,
.list-group-item.active:hover .list-group-item-heading > .small,
.list-group-item.active:focus .list-group-item-heading > .small {
  color: inherit;
}
.list-group-item.active .list-group-item-text,
.list-group-item.active:hover .list-group-item-text,
.list-group-item.active:focus .list-group-item-text {
  color: #c7ddef;
}
.list-group-item-success {
  color: #3c763d;
  background-color: #dff0d8;
}
a.list-group-item-success,
button.list-group-item-success {
  color: #3c763d;
}
a.list-group-item-success .list-group-item-heading,
button.list-group-item-success .list-group-item-heading {
  color: inherit;
}
a.list-group-item-success:hover,
button.list-group-item-success:hover,
a.list-group-item-success:focus,
button.list-group-item-success:focus {
  color: #3c763d;
  background-color: #d0e9c6;
}
a.list-group-item-success.active,
button.list-group-item-success.active,
a.list-group-item-success.active:hover,
button.list-group-item-success.active:hover,
a.list-group-item-success.active:focus,
button.list-group-item-success.active:focus {
  color: #fff;
  background-color: #3c763d;
  border-color: #3c763d;
}
.list-group-item-info {
  color: #31708f;
  background-color: #d9edf7;
}
a.list-group-item-info,
button.list-group-item-info {
  color: #31708f;
}
a.list-group-item-info .list-group-item-heading,
button.list-group-item-info .list-group-item-heading {
  color: inherit;
}
a.list-group-item-info:hover,
button.list-group-item-info:hover,
a.list-group-item-info:focus,
button.list-group-item-info:focus {
  color: #31708f;
  background-color: #c4e3f3;
}
a.list-group-item-info.active,
button.list-group-item-info.active,
a.list-group-item-info.active:hover,
button.list-group-item-info.active:hover,
a.list-group-item-info.active:focus,
button.list-group-item-info.active:focus {
  color: #fff;
  background-color: #31708f;
  border-color: #31708f;
}
.list-group-item-warning {
  color: #8a6d3b;
  background-color: #fcf8e3;
}
a.list-group-item-warning,
button.list-group-item-warning {
  color: #8a6d3b;
}
a.list-group-item-warning .list-group-item-heading,
button.list-group-item-warning .list-group-item-heading {
  color: inherit;
}
a.list-group-item-warning:hover,
button.list-group-item-warning:hover,
a.list-group-item-warning:focus,
button.list-group-item-warning:focus {
  color: #8a6d3b;
  background-color: #faf2cc;
}
a.list-group-item-warning.active,
button.list-group-item-warning.active,
a.list-group-item-warning.active:hover,
button.list-group-item-warning.active:hover,
a.list-group-item-warning.active:focus,
button.list-group-item-warning.active:focus {
  color: #fff;
  background-color: #8a6d3b;
  border-color: #8a6d3b;
}
.list-group-item-danger {
  color: #a94442;
  background-color: #f2dede;
}
a.list-group-item-danger,
button.list-group-item-danger {
  color: #a94442;
}
a.list-group-item-danger .list-group-item-heading,
button.list-group-item-danger .list-group-item-heading {
  color: inherit;
}
a.list-group-item-danger:hover,
button.list-group-item-danger:hover,
a.list-group-item-danger:focus,
button.list-group-item-danger:focus {
  color: #a94442;
  background-color: #ebcccc;
}
a.list-group-item-danger.active,
button.list-group-item-danger.active,
a.list-group-item-danger.active:hover,
button.list-group-item-danger.active:hover,
a.list-group-item-danger.active:focus,
button.list-group-item-danger.active:focus {
  color: #fff;
  background-color: #a94442;
  border-color: #a94442;
}
.list-group-item-heading {
  margin-top: 0;
  margin-bottom: 5px;
}
.list-group-item-text {
  margin-bottom: 0;
  line-height: 1.3;
}
.panel {
  margin-bottom: 18px;
  background-color: #fff;
  border: 1px solid transparent;
  border-radius: 2px;
  -webkit-box-shadow: 0 1px 1px rgba(0, 0, 0, 0.05);
  box-shadow: 0 1px 1px rgba(0, 0, 0, 0.05);
}
.panel-body {
  padding: 15px;
}
.panel-heading {
  padding: 10px 15px;
  border-bottom: 1px solid transparent;
  border-top-right-radius: 1px;
  border-top-left-radius: 1px;
}
.panel-heading > .dropdown .dropdown-toggle {
  color: inherit;
}
.panel-title {
  margin-top: 0;
  margin-bottom: 0;
  font-size: 15px;
  color: inherit;
}
.panel-title > a,
.panel-title > small,
.panel-title > .small,
.panel-title > small > a,
.panel-title > .small > a {
  color: inherit;
}
.panel-footer {
  padding: 10px 15px;
  background-color: #f5f5f5;
  border-top: 1px solid #ddd;
  border-bottom-right-radius: 1px;
  border-bottom-left-radius: 1px;
}
.panel > .list-group,
.panel > .panel-collapse > .list-group {
  margin-bottom: 0;
}
.panel > .list-group .list-group-item,
.panel > .panel-collapse > .list-group .list-group-item {
  border-width: 1px 0;
  border-radius: 0;
}
.panel > .list-group:first-child .list-group-item:first-child,
.panel > .panel-collapse > .list-group:first-child .list-group-item:first-child {
  border-top: 0;
  border-top-right-radius: 1px;
  border-top-left-radius: 1px;
}
.panel > .list-group:last-child .list-group-item:last-child,
.panel > .panel-collapse > .list-group:last-child .list-group-item:last-child {
  border-bottom: 0;
  border-bottom-right-radius: 1px;
  border-bottom-left-radius: 1px;
}
.panel > .panel-heading + .panel-collapse > .list-group .list-group-item:first-child {
  border-top-right-radius: 0;
  border-top-left-radius: 0;
}
.panel-heading + .list-group .list-group-item:first-child {
  border-top-width: 0;
}
.list-group + .panel-footer {
  border-top-width: 0;
}
.panel > .table,
.panel > .table-responsive > .table,
.panel > .panel-collapse > .table {
  margin-bottom: 0;
}
.panel > .table caption,
.panel > .table-responsive > .table caption,
.panel > .panel-collapse > .table caption {
  padding-left: 15px;
  padding-right: 15px;
}
.panel > .table:first-child,
.panel > .table-responsive:first-child > .table:first-child {
  border-top-right-radius: 1px;
  border-top-left-radius: 1px;
}
.panel > .table:first-child > thead:first-child > tr:first-child,
.panel > .table-responsive:first-child > .table:first-child > thead:first-child > tr:first-child,
.panel > .table:first-child > tbody:first-child > tr:first-child,
.panel > .table-responsive:first-child > .table:first-child > tbody:first-child > tr:first-child {
  border-top-left-radius: 1px;
  border-top-right-radius: 1px;
}
.panel > .table:first-child > thead:first-child > tr:first-child td:first-child,
.panel > .table-responsive:first-child > .table:first-child > thead:first-child > tr:first-child td:first-child,
.panel > .table:first-child > tbody:first-child > tr:first-child td:first-child,
.panel > .table-responsive:first-child > .table:first-child > tbody:first-child > tr:first-child td:first-child,
.panel > .table:first-child > thead:first-child > tr:first-child th:first-child,
.panel > .table-responsive:first-child > .table:first-child > thead:first-child > tr:first-child th:first-child,
.panel > .table:first-child > tbody:first-child > tr:first-child th:first-child,
.panel > .table-responsive:first-child > .table:first-child > tbody:first-child > tr:first-child th:first-child {
  border-top-left-radius: 1px;
}
.panel > .table:first-child > thead:first-child > tr:first-child td:last-child,
.panel > .table-responsive:first-child > .table:first-child > thead:first-child > tr:first-child td:last-child,
.panel > .table:first-child > tbody:first-child > tr:first-child td:last-child,
.panel > .table-responsive:first-child > .table:first-child > tbody:first-child > tr:first-child td:last-child,
.panel > .table:first-child > thead:first-child > tr:first-child th:last-child,
.panel > .table-responsive:first-child > .table:first-child > thead:first-child > tr:first-child th:last-child,
.panel > .table:first-child > tbody:first-child > tr:first-child th:last-child,
.panel > .table-responsive:first-child > .table:first-child > tbody:first-child > tr:first-child th:last-child {
  border-top-right-radius: 1px;
}
.panel > .table:last-child,
.panel > .table-responsive:last-child > .table:last-child {
  border-bottom-right-radius: 1px;
  border-bottom-left-radius: 1px;
}
.panel > .table:last-child > tbody:last-child > tr:last-child,
.panel > .table-responsive:last-child > .table:last-child > tbody:last-child > tr:last-child,
.panel > .table:last-child > tfoot:last-child > tr:last-child,
.panel > .table-responsive:last-child > .table:last-child > tfoot:last-child > tr:last-child {
  border-bottom-left-radius: 1px;
  border-bottom-right-radius: 1px;
}
.panel > .table:last-child > tbody:last-child > tr:last-child td:first-child,
.panel > .table-responsive:last-child > .table:last-child > tbody:last-child > tr:last-child td:first-child,
.panel > .table:last-child > tfoot:last-child > tr:last-child td:first-child,
.panel > .table-responsive:last-child > .table:last-child > tfoot:last-child > tr:last-child td:first-child,
.panel > .table:last-child > tbody:last-child > tr:last-child th:first-child,
.panel > .table-responsive:last-child > .table:last-child > tbody:last-child > tr:last-child th:first-child,
.panel > .table:last-child > tfoot:last-child > tr:last-child th:first-child,
.panel > .table-responsive:last-child > .table:last-child > tfoot:last-child > tr:last-child th:first-child {
  border-bottom-left-radius: 1px;
}
.panel > .table:last-child > tbody:last-child > tr:last-child td:last-child,
.panel > .table-responsive:last-child > .table:last-child > tbody:last-child > tr:last-child td:last-child,
.panel > .table:last-child > tfoot:last-child > tr:last-child td:last-child,
.panel > .table-responsive:last-child > .table:last-child > tfoot:last-child > tr:last-child td:last-child,
.panel > .table:last-child > tbody:last-child > tr:last-child th:last-child,
.panel > .table-responsive:last-child > .table:last-child > tbody:last-child > tr:last-child th:last-child,
.panel > .table:last-child > tfoot:last-child > tr:last-child th:last-child,
.panel > .table-responsive:last-child > .table:last-child > tfoot:last-child > tr:last-child th:last-child {
  border-bottom-right-radius: 1px;
}
.panel > .panel-body + .table,
.panel > .panel-body + .table-responsive,
.panel > .table + .panel-body,
.panel > .table-responsive + .panel-body {
  border-top: 1px solid #ddd;
}
.panel > .table > tbody:first-child > tr:first-child th,
.panel > .table > tbody:first-child > tr:first-child td {
  border-top: 0;
}
.panel > .table-bordered,
.panel > .table-responsive > .table-bordered {
  border: 0;
}
.panel > .table-bordered > thead > tr > th:first-child,
.panel > .table-responsive > .table-bordered > thead > tr > th:first-child,
.panel > .table-bordered > tbody > tr > th:first-child,
.panel > .table-responsive > .table-bordered > tbody > tr > th:first-child,
.panel > .table-bordered > tfoot > tr > th:first-child,
.panel > .table-responsive > .table-bordered > tfoot > tr > th:first-child,
.panel > .table-bordered > thead > tr > td:first-child,
.panel > .table-responsive > .table-bordered > thead > tr > td:first-child,
.panel > .table-bordered > tbody > tr > td:first-child,
.panel > .table-responsive > .table-bordered > tbody > tr > td:first-child,
.panel > .table-bordered > tfoot > tr > td:first-child,
.panel > .table-responsive > .table-bordered > tfoot > tr > td:first-child {
  border-left: 0;
}
.panel > .table-bordered > thead > tr > th:last-child,
.panel > .table-responsive > .table-bordered > thead > tr > th:last-child,
.panel > .table-bordered > tbody > tr > th:last-child,
.panel > .table-responsive > .table-bordered > tbody > tr > th:last-child,
.panel > .table-bordered > tfoot > tr > th:last-child,
.panel > .table-responsive > .table-bordered > tfoot > tr > th:last-child,
.panel > .table-bordered > thead > tr > td:last-child,
.panel > .table-responsive > .table-bordered > thead > tr > td:last-child,
.panel > .table-bordered > tbody > tr > td:last-child,
.panel > .table-responsive > .table-bordered > tbody > tr > td:last-child,
.panel > .table-bordered > tfoot > tr > td:last-child,
.panel > .table-responsive > .table-bordered > tfoot > tr > td:last-child {
  border-right: 0;
}
.panel > .table-bordered > thead > tr:first-child > td,
.panel > .table-responsive > .table-bordered > thead > tr:first-child > td,
.panel > .table-bordered > tbody > tr:first-child > td,
.panel > .table-responsive > .table-bordered > tbody > tr:first-child > td,
.panel > .table-bordered > thead > tr:first-child > th,
.panel > .table-responsive > .table-bordered > thead > tr:first-child > th,
.panel > .table-bordered > tbody > tr:first-child > th,
.panel > .table-responsive > .table-bordered > tbody > tr:first-child > th {
  border-bottom: 0;
}
.panel > .table-bordered > tbody > tr:last-child > td,
.panel > .table-responsive > .table-bordered > tbody > tr:last-child > td,
.panel > .table-bordered > tfoot > tr:last-child > td,
.panel > .table-responsive > .table-bordered > tfoot > tr:last-child > td,
.panel > .table-bordered > tbody > tr:last-child > th,
.panel > .table-responsive > .table-bordered > tbody > tr:last-child > th,
.panel > .table-bordered > tfoot > tr:last-child > th,
.panel > .table-responsive > .table-bordered > tfoot > tr:last-child > th {
  border-bottom: 0;
}
.panel > .table-responsive {
  border: 0;
  margin-bottom: 0;
}
.panel-group {
  margin-bottom: 18px;
}
.panel-group .panel {
  margin-bottom: 0;
  border-radius: 2px;
}
.panel-group .panel + .panel {
  margin-top: 5px;
}
.panel-group .panel-heading {
  border-bottom: 0;
}
.panel-group .panel-heading + .panel-collapse > .panel-body,
.panel-group .panel-heading + .panel-collapse > .list-group {
  border-top: 1px solid #ddd;
}
.panel-group .panel-footer {
  border-top: 0;
}
.panel-group .panel-footer + .panel-collapse .panel-body {
  border-bottom: 1px solid #ddd;
}
.panel-default {
  border-color: #ddd;
}
.panel-default > .panel-heading {
  color: #333333;
  background-color: #f5f5f5;
  border-color: #ddd;
}
.panel-default > .panel-heading + .panel-collapse > .panel-body {
  border-top-color: #ddd;
}
.panel-default > .panel-heading .badge {
  color: #f5f5f5;
  background-color: #333333;
}
.panel-default > .panel-footer + .panel-collapse > .panel-body {
  border-bottom-color: #ddd;
}
.panel-primary {
  border-color: #337ab7;
}
.panel-primary > .panel-heading {
  color: #fff;
  background-color: #337ab7;
  border-color: #337ab7;
}
.panel-primary > .panel-heading + .panel-collapse > .panel-body {
  border-top-color: #337ab7;
}
.panel-primary > .panel-heading .badge {
  color: #337ab7;
  background-color: #fff;
}
.panel-primary > .panel-footer + .panel-collapse > .panel-body {
  border-bottom-color: #337ab7;
}
.panel-success {
  border-color: #d6e9c6;
}
.panel-success > .panel-heading {
  color: #3c763d;
  background-color: #dff0d8;
  border-color: #d6e9c6;
}
.panel-success > .panel-heading + .panel-collapse > .panel-body {
  border-top-color: #d6e9c6;
}
.panel-success > .panel-heading .badge {
  color: #dff0d8;
  background-color: #3c763d;
}
.panel-success > .panel-footer + .panel-collapse > .panel-body {
  border-bottom-color: #d6e9c6;
}
.panel-info {
  border-color: #bce8f1;
}
.panel-info > .panel-heading {
  color: #31708f;
  background-color: #d9edf7;
  border-color: #bce8f1;
}
.panel-info > .panel-heading + .panel-collapse > .panel-body {
  border-top-color: #bce8f1;
}
.panel-info > .panel-heading .badge {
  color: #d9edf7;
  background-color: #31708f;
}
.panel-info > .panel-footer + .panel-collapse > .panel-body {
  border-bottom-color: #bce8f1;
}
.panel-warning {
  border-color: #faebcc;
}
.panel-warning > .panel-heading {
  color: #8a6d3b;
  background-color: #fcf8e3;
  border-color: #faebcc;
}
.panel-warning > .panel-heading + .panel-collapse > .panel-body {
  border-top-color: #faebcc;
}
.panel-warning > .panel-heading .badge {
  color: #fcf8e3;
  background-color: #8a6d3b;
}
.panel-warning > .panel-footer + .panel-collapse > .panel-body {
  border-bottom-color: #faebcc;
}
.panel-danger {
  border-color: #ebccd1;
}
.panel-danger > .panel-heading {
  color: #a94442;
  background-color: #f2dede;
  border-color: #ebccd1;
}
.panel-danger > .panel-heading + .panel-collapse > .panel-body {
  border-top-color: #ebccd1;
}
.panel-danger > .panel-heading .badge {
  color: #f2dede;
  background-color: #a94442;
}
.panel-danger > .panel-footer + .panel-collapse > .panel-body {
  border-bottom-color: #ebccd1;
}
.embed-responsive {
  position: relative;
  display: block;
  height: 0;
  padding: 0;
  overflow: hidden;
}
.embed-responsive .embed-responsive-item,
.embed-responsive iframe,
.embed-responsive embed,
.embed-responsive object,
.embed-responsive video {
  position: absolute;
  top: 0;
  left: 0;
  bottom: 0;
  height: 100%;
  width: 100%;
  border: 0;
}
.embed-responsive-16by9 {
  padding-bottom: 56.25%;
}
.embed-responsive-4by3 {
  padding-bottom: 75%;
}
.well {
  min-height: 20px;
  padding: 19px;
  margin-bottom: 20px;
  background-color: #f5f5f5;
  border: 1px solid #e3e3e3;
  border-radius: 2px;
  -webkit-box-shadow: inset 0 1px 1px rgba(0, 0, 0, 0.05);
  box-shadow: inset 0 1px 1px rgba(0, 0, 0, 0.05);
}
.well blockquote {
  border-color: #ddd;
  border-color: rgba(0, 0, 0, 0.15);
}
.well-lg {
  padding: 24px;
  border-radius: 3px;
}
.well-sm {
  padding: 9px;
  border-radius: 1px;
}
.close {
  float: right;
  font-size: 19.5px;
  font-weight: bold;
  line-height: 1;
  color: #000;
  text-shadow: 0 1px 0 #fff;
  opacity: 0.2;
  filter: alpha(opacity=20);
}
.close:hover,
.close:focus {
  color: #000;
  text-decoration: none;
  cursor: pointer;
  opacity: 0.5;
  filter: alpha(opacity=50);
}
button.close {
  padding: 0;
  cursor: pointer;
  background: transparent;
  border: 0;
  -webkit-appearance: none;
}
.modal-open {
  overflow: hidden;
}
.modal {
  display: none;
  overflow: hidden;
  position: fixed;
  top: 0;
  right: 0;
  bottom: 0;
  left: 0;
  z-index: 1050;
  -webkit-overflow-scrolling: touch;
  outline: 0;
}
.modal.fade .modal-dialog {
  -webkit-transform: translate(0, -25%);
  -ms-transform: translate(0, -25%);
  -o-transform: translate(0, -25%);
  transform: translate(0, -25%);
  -webkit-transition: -webkit-transform 0.3s ease-out;
  -moz-transition: -moz-transform 0.3s ease-out;
  -o-transition: -o-transform 0.3s ease-out;
  transition: transform 0.3s ease-out;
}
.modal.in .modal-dialog {
  -webkit-transform: translate(0, 0);
  -ms-transform: translate(0, 0);
  -o-transform: translate(0, 0);
  transform: translate(0, 0);
}
.modal-open .modal {
  overflow-x: hidden;
  overflow-y: auto;
}
.modal-dialog {
  position: relative;
  width: auto;
  margin: 10px;
}
.modal-content {
  position: relative;
  background-color: #fff;
  border: 1px solid #999;
  border: 1px solid rgba(0, 0, 0, 0.2);
  border-radius: 3px;
  -webkit-box-shadow: 0 3px 9px rgba(0, 0, 0, 0.5);
  box-shadow: 0 3px 9px rgba(0, 0, 0, 0.5);
  background-clip: padding-box;
  outline: 0;
}
.modal-backdrop {
  position: fixed;
  top: 0;
  right: 0;
  bottom: 0;
  left: 0;
  z-index: 1040;
  background-color: #000;
}
.modal-backdrop.fade {
  opacity: 0;
  filter: alpha(opacity=0);
}
.modal-backdrop.in {
  opacity: 0.5;
  filter: alpha(opacity=50);
}
.modal-header {
  padding: 15px;
  border-bottom: 1px solid #e5e5e5;
}
.modal-header .close {
  margin-top: -2px;
}
.modal-title {
  margin: 0;
  line-height: 1.42857143;
}
.modal-body {
  position: relative;
  padding: 15px;
}
.modal-footer {
  padding: 15px;
  text-align: right;
  border-top: 1px solid #e5e5e5;
}
.modal-footer .btn + .btn {
  margin-left: 5px;
  margin-bottom: 0;
}
.modal-footer .btn-group .btn + .btn {
  margin-left: -1px;
}
.modal-footer .btn-block + .btn-block {
  margin-left: 0;
}
.modal-scrollbar-measure {
  position: absolute;
  top: -9999px;
  width: 50px;
  height: 50px;
  overflow: scroll;
}
@media (min-width: 768px) {
  .modal-dialog {
    width: 600px;
    margin: 30px auto;
  }
  .modal-content {
    -webkit-box-shadow: 0 5px 15px rgba(0, 0, 0, 0.5);
    box-shadow: 0 5px 15px rgba(0, 0, 0, 0.5);
  }
  .modal-sm {
    width: 300px;
  }
}
@media (min-width: 992px) {
  .modal-lg {
    width: 900px;
  }
}
.tooltip {
  position: absolute;
  z-index: 1070;
  display: block;
  font-family: "Helvetica Neue", Helvetica, Arial, sans-serif;
  font-style: normal;
  font-weight: normal;
  letter-spacing: normal;
  line-break: auto;
  line-height: 1.42857143;
  text-align: left;
  text-align: start;
  text-decoration: none;
  text-shadow: none;
  text-transform: none;
  white-space: normal;
  word-break: normal;
  word-spacing: normal;
  word-wrap: normal;
  font-size: 12px;
  opacity: 0;
  filter: alpha(opacity=0);
}
.tooltip.in {
  opacity: 0.9;
  filter: alpha(opacity=90);
}
.tooltip.top {
  margin-top: -3px;
  padding: 5px 0;
}
.tooltip.right {
  margin-left: 3px;
  padding: 0 5px;
}
.tooltip.bottom {
  margin-top: 3px;
  padding: 5px 0;
}
.tooltip.left {
  margin-left: -3px;
  padding: 0 5px;
}
.tooltip-inner {
  max-width: 200px;
  padding: 3px 8px;
  color: #fff;
  text-align: center;
  background-color: #000;
  border-radius: 2px;
}
.tooltip-arrow {
  position: absolute;
  width: 0;
  height: 0;
  border-color: transparent;
  border-style: solid;
}
.tooltip.top .tooltip-arrow {
  bottom: 0;
  left: 50%;
  margin-left: -5px;
  border-width: 5px 5px 0;
  border-top-color: #000;
}
.tooltip.top-left .tooltip-arrow {
  bottom: 0;
  right: 5px;
  margin-bottom: -5px;
  border-width: 5px 5px 0;
  border-top-color: #000;
}
.tooltip.top-right .tooltip-arrow {
  bottom: 0;
  left: 5px;
  margin-bottom: -5px;
  border-width: 5px 5px 0;
  border-top-color: #000;
}
.tooltip.right .tooltip-arrow {
  top: 50%;
  left: 0;
  margin-top: -5px;
  border-width: 5px 5px 5px 0;
  border-right-color: #000;
}
.tooltip.left .tooltip-arrow {
  top: 50%;
  right: 0;
  margin-top: -5px;
  border-width: 5px 0 5px 5px;
  border-left-color: #000;
}
.tooltip.bottom .tooltip-arrow {
  top: 0;
  left: 50%;
  margin-left: -5px;
  border-width: 0 5px 5px;
  border-bottom-color: #000;
}
.tooltip.bottom-left .tooltip-arrow {
  top: 0;
  right: 5px;
  margin-top: -5px;
  border-width: 0 5px 5px;
  border-bottom-color: #000;
}
.tooltip.bottom-right .tooltip-arrow {
  top: 0;
  left: 5px;
  margin-top: -5px;
  border-width: 0 5px 5px;
  border-bottom-color: #000;
}
.popover {
  position: absolute;
  top: 0;
  left: 0;
  z-index: 1060;
  display: none;
  max-width: 276px;
  padding: 1px;
  font-family: "Helvetica Neue", Helvetica, Arial, sans-serif;
  font-style: normal;
  font-weight: normal;
  letter-spacing: normal;
  line-break: auto;
  line-height: 1.42857143;
  text-align: left;
  text-align: start;
  text-decoration: none;
  text-shadow: none;
  text-transform: none;
  white-space: normal;
  word-break: normal;
  word-spacing: normal;
  word-wrap: normal;
  font-size: 13px;
  background-color: #fff;
  background-clip: padding-box;
  border: 1px solid #ccc;
  border: 1px solid rgba(0, 0, 0, 0.2);
  border-radius: 3px;
  -webkit-box-shadow: 0 5px 10px rgba(0, 0, 0, 0.2);
  box-shadow: 0 5px 10px rgba(0, 0, 0, 0.2);
}
.popover.top {
  margin-top: -10px;
}
.popover.right {
  margin-left: 10px;
}
.popover.bottom {
  margin-top: 10px;
}
.popover.left {
  margin-left: -10px;
}
.popover-title {
  margin: 0;
  padding: 8px 14px;
  font-size: 13px;
  background-color: #f7f7f7;
  border-bottom: 1px solid #ebebeb;
  border-radius: 2px 2px 0 0;
}
.popover-content {
  padding: 9px 14px;
}
.popover > .arrow,
.popover > .arrow:after {
  position: absolute;
  display: block;
  width: 0;
  height: 0;
  border-color: transparent;
  border-style: solid;
}
.popover > .arrow {
  border-width: 11px;
}
.popover > .arrow:after {
  border-width: 10px;
  content: "";
}
.popover.top > .arrow {
  left: 50%;
  margin-left: -11px;
  border-bottom-width: 0;
  border-top-color: #999999;
  border-top-color: rgba(0, 0, 0, 0.25);
  bottom: -11px;
}
.popover.top > .arrow:after {
  content: " ";
  bottom: 1px;
  margin-left: -10px;
  border-bottom-width: 0;
  border-top-color: #fff;
}
.popover.right > .arrow {
  top: 50%;
  left: -11px;
  margin-top: -11px;
  border-left-width: 0;
  border-right-color: #999999;
  border-right-color: rgba(0, 0, 0, 0.25);
}
.popover.right > .arrow:after {
  content: " ";
  left: 1px;
  bottom: -10px;
  border-left-width: 0;
  border-right-color: #fff;
}
.popover.bottom > .arrow {
  left: 50%;
  margin-left: -11px;
  border-top-width: 0;
  border-bottom-color: #999999;
  border-bottom-color: rgba(0, 0, 0, 0.25);
  top: -11px;
}
.popover.bottom > .arrow:after {
  content: " ";
  top: 1px;
  margin-left: -10px;
  border-top-width: 0;
  border-bottom-color: #fff;
}
.popover.left > .arrow {
  top: 50%;
  right: -11px;
  margin-top: -11px;
  border-right-width: 0;
  border-left-color: #999999;
  border-left-color: rgba(0, 0, 0, 0.25);
}
.popover.left > .arrow:after {
  content: " ";
  right: 1px;
  border-right-width: 0;
  border-left-color: #fff;
  bottom: -10px;
}
.carousel {
  position: relative;
}
.carousel-inner {
  position: relative;
  overflow: hidden;
  width: 100%;
}
.carousel-inner > .item {
  display: none;
  position: relative;
  -webkit-transition: 0.6s ease-in-out left;
  -o-transition: 0.6s ease-in-out left;
  transition: 0.6s ease-in-out left;
}
.carousel-inner > .item > img,
.carousel-inner > .item > a > img {
  line-height: 1;
}
@media all and (transform-3d), (-webkit-transform-3d) {
  .carousel-inner > .item {
    -webkit-transition: -webkit-transform 0.6s ease-in-out;
    -moz-transition: -moz-transform 0.6s ease-in-out;
    -o-transition: -o-transform 0.6s ease-in-out;
    transition: transform 0.6s ease-in-out;
    -webkit-backface-visibility: hidden;
    -moz-backface-visibility: hidden;
    backface-visibility: hidden;
    -webkit-perspective: 1000px;
    -moz-perspective: 1000px;
    perspective: 1000px;
  }
  .carousel-inner > .item.next,
  .carousel-inner > .item.active.right {
    -webkit-transform: translate3d(100%, 0, 0);
    transform: translate3d(100%, 0, 0);
    left: 0;
  }
  .carousel-inner > .item.prev,
  .carousel-inner > .item.active.left {
    -webkit-transform: translate3d(-100%, 0, 0);
    transform: translate3d(-100%, 0, 0);
    left: 0;
  }
  .carousel-inner > .item.next.left,
  .carousel-inner > .item.prev.right,
  .carousel-inner > .item.active {
    -webkit-transform: translate3d(0, 0, 0);
    transform: translate3d(0, 0, 0);
    left: 0;
  }
}
.carousel-inner > .active,
.carousel-inner > .next,
.carousel-inner > .prev {
  display: block;
}
.carousel-inner > .active {
  left: 0;
}
.carousel-inner > .next,
.carousel-inner > .prev {
  position: absolute;
  top: 0;
  width: 100%;
}
.carousel-inner > .next {
  left: 100%;
}
.carousel-inner > .prev {
  left: -100%;
}
.carousel-inner > .next.left,
.carousel-inner > .prev.right {
  left: 0;
}
.carousel-inner > .active.left {
  left: -100%;
}
.carousel-inner > .active.right {
  left: 100%;
}
.carousel-control {
  position: absolute;
  top: 0;
  left: 0;
  bottom: 0;
  width: 15%;
  opacity: 0.5;
  filter: alpha(opacity=50);
  font-size: 20px;
  color: #fff;
  text-align: center;
  text-shadow: 0 1px 2px rgba(0, 0, 0, 0.6);
  background-color: rgba(0, 0, 0, 0);
}
.carousel-control.left {
  background-image: -webkit-linear-gradient(left, rgba(0, 0, 0, 0.5) 0%, rgba(0, 0, 0, 0.0001) 100%);
  background-image: -o-linear-gradient(left, rgba(0, 0, 0, 0.5) 0%, rgba(0, 0, 0, 0.0001) 100%);
  background-image: linear-gradient(to right, rgba(0, 0, 0, 0.5) 0%, rgba(0, 0, 0, 0.0001) 100%);
  background-repeat: repeat-x;
  filter: progid:DXImageTransform.Microsoft.gradient(startColorstr='#80000000', endColorstr='#00000000', GradientType=1);
}
.carousel-control.right {
  left: auto;
  right: 0;
  background-image: -webkit-linear-gradient(left, rgba(0, 0, 0, 0.0001) 0%, rgba(0, 0, 0, 0.5) 100%);
  background-image: -o-linear-gradient(left, rgba(0, 0, 0, 0.0001) 0%, rgba(0, 0, 0, 0.5) 100%);
  background-image: linear-gradient(to right, rgba(0, 0, 0, 0.0001) 0%, rgba(0, 0, 0, 0.5) 100%);
  background-repeat: repeat-x;
  filter: progid:DXImageTransform.Microsoft.gradient(startColorstr='#00000000', endColorstr='#80000000', GradientType=1);
}
.carousel-control:hover,
.carousel-control:focus {
  outline: 0;
  color: #fff;
  text-decoration: none;
  opacity: 0.9;
  filter: alpha(opacity=90);
}
.carousel-control .icon-prev,
.carousel-control .icon-next,
.carousel-control .glyphicon-chevron-left,
.carousel-control .glyphicon-chevron-right {
  position: absolute;
  top: 50%;
  margin-top: -10px;
  z-index: 5;
  display: inline-block;
}
.carousel-control .icon-prev,
.carousel-control .glyphicon-chevron-left {
  left: 50%;
  margin-left: -10px;
}
.carousel-control .icon-next,
.carousel-control .glyphicon-chevron-right {
  right: 50%;
  margin-right: -10px;
}
.carousel-control .icon-prev,
.carousel-control .icon-next {
  width: 20px;
  height: 20px;
  line-height: 1;
  font-family: serif;
}
.carousel-control .icon-prev:before {
  content: '\2039';
}
.carousel-control .icon-next:before {
  content: '\203a';
}
.carousel-indicators {
  position: absolute;
  bottom: 10px;
  left: 50%;
  z-index: 15;
  width: 60%;
  margin-left: -30%;
  padding-left: 0;
  list-style: none;
  text-align: center;
}
.carousel-indicators li {
  display: inline-block;
  width: 10px;
  height: 10px;
  margin: 1px;
  text-indent: -999px;
  border: 1px solid #fff;
  border-radius: 10px;
  cursor: pointer;
  background-color: #000 \9;
  background-color: rgba(0, 0, 0, 0);
}
.carousel-indicators .active {
  margin: 0;
  width: 12px;
  height: 12px;
  background-color: #fff;
}
.carousel-caption {
  position: absolute;
  left: 15%;
  right: 15%;
  bottom: 20px;
  z-index: 10;
  padding-top: 20px;
  padding-bottom: 20px;
  color: #fff;
  text-align: center;
  text-shadow: 0 1px 2px rgba(0, 0, 0, 0.6);
}
.carousel-caption .btn {
  text-shadow: none;
}
@media screen and (min-width: 768px) {
  .carousel-control .glyphicon-chevron-left,
  .carousel-control .glyphicon-chevron-right,
  .carousel-control .icon-prev,
  .carousel-control .icon-next {
    width: 30px;
    height: 30px;
    margin-top: -10px;
    font-size: 30px;
  }
  .carousel-control .glyphicon-chevron-left,
  .carousel-control .icon-prev {
    margin-left: -10px;
  }
  .carousel-control .glyphicon-chevron-right,
  .carousel-control .icon-next {
    margin-right: -10px;
  }
  .carousel-caption {
    left: 20%;
    right: 20%;
    padding-bottom: 30px;
  }
  .carousel-indicators {
    bottom: 20px;
  }
}
.clearfix:before,
.clearfix:after,
.dl-horizontal dd:before,
.dl-horizontal dd:after,
.container:before,
.container:after,
.container-fluid:before,
.container-fluid:after,
.row:before,
.row:after,
.form-horizontal .form-group:before,
.form-horizontal .form-group:after,
.btn-toolbar:before,
.btn-toolbar:after,
.btn-group-vertical > .btn-group:before,
.btn-group-vertical > .btn-group:after,
.nav:before,
.nav:after,
.navbar:before,
.navbar:after,
.navbar-header:before,
.navbar-header:after,
.navbar-collapse:before,
.navbar-collapse:after,
.pager:before,
.pager:after,
.panel-body:before,
.panel-body:after,
.modal-header:before,
.modal-header:after,
.modal-footer:before,
.modal-footer:after,
.item_buttons:before,
.item_buttons:after {
  content: " ";
  display: table;
}
.clearfix:after,
.dl-horizontal dd:after,
.container:after,
.container-fluid:after,
.row:after,
.form-horizontal .form-group:after,
.btn-toolbar:after,
.btn-group-vertical > .btn-group:after,
.nav:after,
.navbar:after,
.navbar-header:after,
.navbar-collapse:after,
.pager:after,
.panel-body:after,
.modal-header:after,
.modal-footer:after,
.item_buttons:after {
  clear: both;
}
.center-block {
  display: block;
  margin-left: auto;
  margin-right: auto;
}
.pull-right {
  float: right !important;
}
.pull-left {
  float: left !important;
}
.hide {
  display: none !important;
}
.show {
  display: block !important;
}
.invisible {
  visibility: hidden;
}
.text-hide {
  font: 0/0 a;
  color: transparent;
  text-shadow: none;
  background-color: transparent;
  border: 0;
}
.hidden {
  display: none !important;
}
.affix {
  position: fixed;
}
@-ms-viewport {
  width: device-width;
}
.visible-xs,
.visible-sm,
.visible-md,
.visible-lg {
  display: none !important;
}
.visible-xs-block,
.visible-xs-inline,
.visible-xs-inline-block,
.visible-sm-block,
.visible-sm-inline,
.visible-sm-inline-block,
.visible-md-block,
.visible-md-inline,
.visible-md-inline-block,
.visible-lg-block,
.visible-lg-inline,
.visible-lg-inline-block {
  display: none !important;
}
@media (max-width: 767px) {
  .visible-xs {
    display: block !important;
  }
  table.visible-xs {
    display: table !important;
  }
  tr.visible-xs {
    display: table-row !important;
  }
  th.visible-xs,
  td.visible-xs {
    display: table-cell !important;
  }
}
@media (max-width: 767px) {
  .visible-xs-block {
    display: block !important;
  }
}
@media (max-width: 767px) {
  .visible-xs-inline {
    display: inline !important;
  }
}
@media (max-width: 767px) {
  .visible-xs-inline-block {
    display: inline-block !important;
  }
}
@media (min-width: 768px) and (max-width: 991px) {
  .visible-sm {
    display: block !important;
  }
  table.visible-sm {
    display: table !important;
  }
  tr.visible-sm {
    display: table-row !important;
  }
  th.visible-sm,
  td.visible-sm {
    display: table-cell !important;
  }
}
@media (min-width: 768px) and (max-width: 991px) {
  .visible-sm-block {
    display: block !important;
  }
}
@media (min-width: 768px) and (max-width: 991px) {
  .visible-sm-inline {
    display: inline !important;
  }
}
@media (min-width: 768px) and (max-width: 991px) {
  .visible-sm-inline-block {
    display: inline-block !important;
  }
}
@media (min-width: 992px) and (max-width: 1199px) {
  .visible-md {
    display: block !important;
  }
  table.visible-md {
    display: table !important;
  }
  tr.visible-md {
    display: table-row !important;
  }
  th.visible-md,
  td.visible-md {
    display: table-cell !important;
  }
}
@media (min-width: 992px) and (max-width: 1199px) {
  .visible-md-block {
    display: block !important;
  }
}
@media (min-width: 992px) and (max-width: 1199px) {
  .visible-md-inline {
    display: inline !important;
  }
}
@media (min-width: 992px) and (max-width: 1199px) {
  .visible-md-inline-block {
    display: inline-block !important;
  }
}
@media (min-width: 1200px) {
  .visible-lg {
    display: block !important;
  }
  table.visible-lg {
    display: table !important;
  }
  tr.visible-lg {
    display: table-row !important;
  }
  th.visible-lg,
  td.visible-lg {
    display: table-cell !important;
  }
}
@media (min-width: 1200px) {
  .visible-lg-block {
    display: block !important;
  }
}
@media (min-width: 1200px) {
  .visible-lg-inline {
    display: inline !important;
  }
}
@media (min-width: 1200px) {
  .visible-lg-inline-block {
    display: inline-block !important;
  }
}
@media (max-width: 767px) {
  .hidden-xs {
    display: none !important;
  }
}
@media (min-width: 768px) and (max-width: 991px) {
  .hidden-sm {
    display: none !important;
  }
}
@media (min-width: 992px) and (max-width: 1199px) {
  .hidden-md {
    display: none !important;
  }
}
@media (min-width: 1200px) {
  .hidden-lg {
    display: none !important;
  }
}
.visible-print {
  display: none !important;
}
@media print {
  .visible-print {
    display: block !important;
  }
  table.visible-print {
    display: table !important;
  }
  tr.visible-print {
    display: table-row !important;
  }
  th.visible-print,
  td.visible-print {
    display: table-cell !important;
  }
}
.visible-print-block {
  display: none !important;
}
@media print {
  .visible-print-block {
    display: block !important;
  }
}
.visible-print-inline {
  display: none !important;
}
@media print {
  .visible-print-inline {
    display: inline !important;
  }
}
.visible-print-inline-block {
  display: none !important;
}
@media print {
  .visible-print-inline-block {
    display: inline-block !important;
  }
}
@media print {
  .hidden-print {
    display: none !important;
  }
}
/*!
*
* Font Awesome
*
*/
/*!
 *  Font Awesome 4.7.0 by @davegandy - http://fontawesome.io - @fontawesome
 *  License - http://fontawesome.io/license (Font: SIL OFL 1.1, CSS: MIT License)
 */
/* FONT PATH
 * -------------------------- */
@font-face {
  font-family: 'FontAwesome';
  src: url('../components/font-awesome/fonts/fontawesome-webfont.eot?v=4.7.0');
  src: url('../components/font-awesome/fonts/fontawesome-webfont.eot?#iefix&v=4.7.0') format('embedded-opentype'), url('../components/font-awesome/fonts/fontawesome-webfont.woff2?v=4.7.0') format('woff2'), url('../components/font-awesome/fonts/fontawesome-webfont.woff?v=4.7.0') format('woff'), url('../components/font-awesome/fonts/fontawesome-webfont.ttf?v=4.7.0') format('truetype'), url('../components/font-awesome/fonts/fontawesome-webfont.svg?v=4.7.0#fontawesomeregular') format('svg');
  font-weight: normal;
  font-style: normal;
}
.fa {
  display: inline-block;
  font: normal normal normal 14px/1 FontAwesome;
  font-size: inherit;
  text-rendering: auto;
  -webkit-font-smoothing: antialiased;
  -moz-osx-font-smoothing: grayscale;
}
/* makes the font 33% larger relative to the icon container */
.fa-lg {
  font-size: 1.33333333em;
  line-height: 0.75em;
  vertical-align: -15%;
}
.fa-2x {
  font-size: 2em;
}
.fa-3x {
  font-size: 3em;
}
.fa-4x {
  font-size: 4em;
}
.fa-5x {
  font-size: 5em;
}
.fa-fw {
  width: 1.28571429em;
  text-align: center;
}
.fa-ul {
  padding-left: 0;
  margin-left: 2.14285714em;
  list-style-type: none;
}
.fa-ul > li {
  position: relative;
}
.fa-li {
  position: absolute;
  left: -2.14285714em;
  width: 2.14285714em;
  top: 0.14285714em;
  text-align: center;
}
.fa-li.fa-lg {
  left: -1.85714286em;
}
.fa-border {
  padding: .2em .25em .15em;
  border: solid 0.08em #eee;
  border-radius: .1em;
}
.fa-pull-left {
  float: left;
}
.fa-pull-right {
  float: right;
}
.fa.fa-pull-left {
  margin-right: .3em;
}
.fa.fa-pull-right {
  margin-left: .3em;
}
/* Deprecated as of 4.4.0 */
.pull-right {
  float: right;
}
.pull-left {
  float: left;
}
.fa.pull-left {
  margin-right: .3em;
}
.fa.pull-right {
  margin-left: .3em;
}
.fa-spin {
  -webkit-animation: fa-spin 2s infinite linear;
  animation: fa-spin 2s infinite linear;
}
.fa-pulse {
  -webkit-animation: fa-spin 1s infinite steps(8);
  animation: fa-spin 1s infinite steps(8);
}
@-webkit-keyframes fa-spin {
  0% {
    -webkit-transform: rotate(0deg);
    transform: rotate(0deg);
  }
  100% {
    -webkit-transform: rotate(359deg);
    transform: rotate(359deg);
  }
}
@keyframes fa-spin {
  0% {
    -webkit-transform: rotate(0deg);
    transform: rotate(0deg);
  }
  100% {
    -webkit-transform: rotate(359deg);
    transform: rotate(359deg);
  }
}
.fa-rotate-90 {
  -ms-filter: "progid:DXImageTransform.Microsoft.BasicImage(rotation=1)";
  -webkit-transform: rotate(90deg);
  -ms-transform: rotate(90deg);
  transform: rotate(90deg);
}
.fa-rotate-180 {
  -ms-filter: "progid:DXImageTransform.Microsoft.BasicImage(rotation=2)";
  -webkit-transform: rotate(180deg);
  -ms-transform: rotate(180deg);
  transform: rotate(180deg);
}
.fa-rotate-270 {
  -ms-filter: "progid:DXImageTransform.Microsoft.BasicImage(rotation=3)";
  -webkit-transform: rotate(270deg);
  -ms-transform: rotate(270deg);
  transform: rotate(270deg);
}
.fa-flip-horizontal {
  -ms-filter: "progid:DXImageTransform.Microsoft.BasicImage(rotation=0, mirror=1)";
  -webkit-transform: scale(-1, 1);
  -ms-transform: scale(-1, 1);
  transform: scale(-1, 1);
}
.fa-flip-vertical {
  -ms-filter: "progid:DXImageTransform.Microsoft.BasicImage(rotation=2, mirror=1)";
  -webkit-transform: scale(1, -1);
  -ms-transform: scale(1, -1);
  transform: scale(1, -1);
}
:root .fa-rotate-90,
:root .fa-rotate-180,
:root .fa-rotate-270,
:root .fa-flip-horizontal,
:root .fa-flip-vertical {
  filter: none;
}
.fa-stack {
  position: relative;
  display: inline-block;
  width: 2em;
  height: 2em;
  line-height: 2em;
  vertical-align: middle;
}
.fa-stack-1x,
.fa-stack-2x {
  position: absolute;
  left: 0;
  width: 100%;
  text-align: center;
}
.fa-stack-1x {
  line-height: inherit;
}
.fa-stack-2x {
  font-size: 2em;
}
.fa-inverse {
  color: #fff;
}
/* Font Awesome uses the Unicode Private Use Area (PUA) to ensure screen
   readers do not read off random characters that represent icons */
.fa-glass:before {
  content: "\f000";
}
.fa-music:before {
  content: "\f001";
}
.fa-search:before {
  content: "\f002";
}
.fa-envelope-o:before {
  content: "\f003";
}
.fa-heart:before {
  content: "\f004";
}
.fa-star:before {
  content: "\f005";
}
.fa-star-o:before {
  content: "\f006";
}
.fa-user:before {
  content: "\f007";
}
.fa-film:before {
  content: "\f008";
}
.fa-th-large:before {
  content: "\f009";
}
.fa-th:before {
  content: "\f00a";
}
.fa-th-list:before {
  content: "\f00b";
}
.fa-check:before {
  content: "\f00c";
}
.fa-remove:before,
.fa-close:before,
.fa-times:before {
  content: "\f00d";
}
.fa-search-plus:before {
  content: "\f00e";
}
.fa-search-minus:before {
  content: "\f010";
}
.fa-power-off:before {
  content: "\f011";
}
.fa-signal:before {
  content: "\f012";
}
.fa-gear:before,
.fa-cog:before {
  content: "\f013";
}
.fa-trash-o:before {
  content: "\f014";
}
.fa-home:before {
  content: "\f015";
}
.fa-file-o:before {
  content: "\f016";
}
.fa-clock-o:before {
  content: "\f017";
}
.fa-road:before {
  content: "\f018";
}
.fa-download:before {
  content: "\f019";
}
.fa-arrow-circle-o-down:before {
  content: "\f01a";
}
.fa-arrow-circle-o-up:before {
  content: "\f01b";
}
.fa-inbox:before {
  content: "\f01c";
}
.fa-play-circle-o:before {
  content: "\f01d";
}
.fa-rotate-right:before,
.fa-repeat:before {
  content: "\f01e";
}
.fa-refresh:before {
  content: "\f021";
}
.fa-list-alt:before {
  content: "\f022";
}
.fa-lock:before {
  content: "\f023";
}
.fa-flag:before {
  content: "\f024";
}
.fa-headphones:before {
  content: "\f025";
}
.fa-volume-off:before {
  content: "\f026";
}
.fa-volume-down:before {
  content: "\f027";
}
.fa-volume-up:before {
  content: "\f028";
}
.fa-qrcode:before {
  content: "\f029";
}
.fa-barcode:before {
  content: "\f02a";
}
.fa-tag:before {
  content: "\f02b";
}
.fa-tags:before {
  content: "\f02c";
}
.fa-book:before {
  content: "\f02d";
}
.fa-bookmark:before {
  content: "\f02e";
}
.fa-print:before {
  content: "\f02f";
}
.fa-camera:before {
  content: "\f030";
}
.fa-font:before {
  content: "\f031";
}
.fa-bold:before {
  content: "\f032";
}
.fa-italic:before {
  content: "\f033";
}
.fa-text-height:before {
  content: "\f034";
}
.fa-text-width:before {
  content: "\f035";
}
.fa-align-left:before {
  content: "\f036";
}
.fa-align-center:before {
  content: "\f037";
}
.fa-align-right:before {
  content: "\f038";
}
.fa-align-justify:before {
  content: "\f039";
}
.fa-list:before {
  content: "\f03a";
}
.fa-dedent:before,
.fa-outdent:before {
  content: "\f03b";
}
.fa-indent:before {
  content: "\f03c";
}
.fa-video-camera:before {
  content: "\f03d";
}
.fa-photo:before,
.fa-image:before,
.fa-picture-o:before {
  content: "\f03e";
}
.fa-pencil:before {
  content: "\f040";
}
.fa-map-marker:before {
  content: "\f041";
}
.fa-adjust:before {
  content: "\f042";
}
.fa-tint:before {
  content: "\f043";
}
.fa-edit:before,
.fa-pencil-square-o:before {
  content: "\f044";
}
.fa-share-square-o:before {
  content: "\f045";
}
.fa-check-square-o:before {
  content: "\f046";
}
.fa-arrows:before {
  content: "\f047";
}
.fa-step-backward:before {
  content: "\f048";
}
.fa-fast-backward:before {
  content: "\f049";
}
.fa-backward:before {
  content: "\f04a";
}
.fa-play:before {
  content: "\f04b";
}
.fa-pause:before {
  content: "\f04c";
}
.fa-stop:before {
  content: "\f04d";
}
.fa-forward:before {
  content: "\f04e";
}
.fa-fast-forward:before {
  content: "\f050";
}
.fa-step-forward:before {
  content: "\f051";
}
.fa-eject:before {
  content: "\f052";
}
.fa-chevron-left:before {
  content: "\f053";
}
.fa-chevron-right:before {
  content: "\f054";
}
.fa-plus-circle:before {
  content: "\f055";
}
.fa-minus-circle:before {
  content: "\f056";
}
.fa-times-circle:before {
  content: "\f057";
}
.fa-check-circle:before {
  content: "\f058";
}
.fa-question-circle:before {
  content: "\f059";
}
.fa-info-circle:before {
  content: "\f05a";
}
.fa-crosshairs:before {
  content: "\f05b";
}
.fa-times-circle-o:before {
  content: "\f05c";
}
.fa-check-circle-o:before {
  content: "\f05d";
}
.fa-ban:before {
  content: "\f05e";
}
.fa-arrow-left:before {
  content: "\f060";
}
.fa-arrow-right:before {
  content: "\f061";
}
.fa-arrow-up:before {
  content: "\f062";
}
.fa-arrow-down:before {
  content: "\f063";
}
.fa-mail-forward:before,
.fa-share:before {
  content: "\f064";
}
.fa-expand:before {
  content: "\f065";
}
.fa-compress:before {
  content: "\f066";
}
.fa-plus:before {
  content: "\f067";
}
.fa-minus:before {
  content: "\f068";
}
.fa-asterisk:before {
  content: "\f069";
}
.fa-exclamation-circle:before {
  content: "\f06a";
}
.fa-gift:before {
  content: "\f06b";
}
.fa-leaf:before {
  content: "\f06c";
}
.fa-fire:before {
  content: "\f06d";
}
.fa-eye:before {
  content: "\f06e";
}
.fa-eye-slash:before {
  content: "\f070";
}
.fa-warning:before,
.fa-exclamation-triangle:before {
  content: "\f071";
}
.fa-plane:before {
  content: "\f072";
}
.fa-calendar:before {
  content: "\f073";
}
.fa-random:before {
  content: "\f074";
}
.fa-comment:before {
  content: "\f075";
}
.fa-magnet:before {
  content: "\f076";
}
.fa-chevron-up:before {
  content: "\f077";
}
.fa-chevron-down:before {
  content: "\f078";
}
.fa-retweet:before {
  content: "\f079";
}
.fa-shopping-cart:before {
  content: "\f07a";
}
.fa-folder:before {
  content: "\f07b";
}
.fa-folder-open:before {
  content: "\f07c";
}
.fa-arrows-v:before {
  content: "\f07d";
}
.fa-arrows-h:before {
  content: "\f07e";
}
.fa-bar-chart-o:before,
.fa-bar-chart:before {
  content: "\f080";
}
.fa-twitter-square:before {
  content: "\f081";
}
.fa-facebook-square:before {
  content: "\f082";
}
.fa-camera-retro:before {
  content: "\f083";
}
.fa-key:before {
  content: "\f084";
}
.fa-gears:before,
.fa-cogs:before {
  content: "\f085";
}
.fa-comments:before {
  content: "\f086";
}
.fa-thumbs-o-up:before {
  content: "\f087";
}
.fa-thumbs-o-down:before {
  content: "\f088";
}
.fa-star-half:before {
  content: "\f089";
}
.fa-heart-o:before {
  content: "\f08a";
}
.fa-sign-out:before {
  content: "\f08b";
}
.fa-linkedin-square:before {
  content: "\f08c";
}
.fa-thumb-tack:before {
  content: "\f08d";
}
.fa-external-link:before {
  content: "\f08e";
}
.fa-sign-in:before {
  content: "\f090";
}
.fa-trophy:before {
  content: "\f091";
}
.fa-github-square:before {
  content: "\f092";
}
.fa-upload:before {
  content: "\f093";
}
.fa-lemon-o:before {
  content: "\f094";
}
.fa-phone:before {
  content: "\f095";
}
.fa-square-o:before {
  content: "\f096";
}
.fa-bookmark-o:before {
  content: "\f097";
}
.fa-phone-square:before {
  content: "\f098";
}
.fa-twitter:before {
  content: "\f099";
}
.fa-facebook-f:before,
.fa-facebook:before {
  content: "\f09a";
}
.fa-github:before {
  content: "\f09b";
}
.fa-unlock:before {
  content: "\f09c";
}
.fa-credit-card:before {
  content: "\f09d";
}
.fa-feed:before,
.fa-rss:before {
  content: "\f09e";
}
.fa-hdd-o:before {
  content: "\f0a0";
}
.fa-bullhorn:before {
  content: "\f0a1";
}
.fa-bell:before {
  content: "\f0f3";
}
.fa-certificate:before {
  content: "\f0a3";
}
.fa-hand-o-right:before {
  content: "\f0a4";
}
.fa-hand-o-left:before {
  content: "\f0a5";
}
.fa-hand-o-up:before {
  content: "\f0a6";
}
.fa-hand-o-down:before {
  content: "\f0a7";
}
.fa-arrow-circle-left:before {
  content: "\f0a8";
}
.fa-arrow-circle-right:before {
  content: "\f0a9";
}
.fa-arrow-circle-up:before {
  content: "\f0aa";
}
.fa-arrow-circle-down:before {
  content: "\f0ab";
}
.fa-globe:before {
  content: "\f0ac";
}
.fa-wrench:before {
  content: "\f0ad";
}
.fa-tasks:before {
  content: "\f0ae";
}
.fa-filter:before {
  content: "\f0b0";
}
.fa-briefcase:before {
  content: "\f0b1";
}
.fa-arrows-alt:before {
  content: "\f0b2";
}
.fa-group:before,
.fa-users:before {
  content: "\f0c0";
}
.fa-chain:before,
.fa-link:before {
  content: "\f0c1";
}
.fa-cloud:before {
  content: "\f0c2";
}
.fa-flask:before {
  content: "\f0c3";
}
.fa-cut:before,
.fa-scissors:before {
  content: "\f0c4";
}
.fa-copy:before,
.fa-files-o:before {
  content: "\f0c5";
}
.fa-paperclip:before {
  content: "\f0c6";
}
.fa-save:before,
.fa-floppy-o:before {
  content: "\f0c7";
}
.fa-square:before {
  content: "\f0c8";
}
.fa-navicon:before,
.fa-reorder:before,
.fa-bars:before {
  content: "\f0c9";
}
.fa-list-ul:before {
  content: "\f0ca";
}
.fa-list-ol:before {
  content: "\f0cb";
}
.fa-strikethrough:before {
  content: "\f0cc";
}
.fa-underline:before {
  content: "\f0cd";
}
.fa-table:before {
  content: "\f0ce";
}
.fa-magic:before {
  content: "\f0d0";
}
.fa-truck:before {
  content: "\f0d1";
}
.fa-pinterest:before {
  content: "\f0d2";
}
.fa-pinterest-square:before {
  content: "\f0d3";
}
.fa-google-plus-square:before {
  content: "\f0d4";
}
.fa-google-plus:before {
  content: "\f0d5";
}
.fa-money:before {
  content: "\f0d6";
}
.fa-caret-down:before {
  content: "\f0d7";
}
.fa-caret-up:before {
  content: "\f0d8";
}
.fa-caret-left:before {
  content: "\f0d9";
}
.fa-caret-right:before {
  content: "\f0da";
}
.fa-columns:before {
  content: "\f0db";
}
.fa-unsorted:before,
.fa-sort:before {
  content: "\f0dc";
}
.fa-sort-down:before,
.fa-sort-desc:before {
  content: "\f0dd";
}
.fa-sort-up:before,
.fa-sort-asc:before {
  content: "\f0de";
}
.fa-envelope:before {
  content: "\f0e0";
}
.fa-linkedin:before {
  content: "\f0e1";
}
.fa-rotate-left:before,
.fa-undo:before {
  content: "\f0e2";
}
.fa-legal:before,
.fa-gavel:before {
  content: "\f0e3";
}
.fa-dashboard:before,
.fa-tachometer:before {
  content: "\f0e4";
}
.fa-comment-o:before {
  content: "\f0e5";
}
.fa-comments-o:before {
  content: "\f0e6";
}
.fa-flash:before,
.fa-bolt:before {
  content: "\f0e7";
}
.fa-sitemap:before {
  content: "\f0e8";
}
.fa-umbrella:before {
  content: "\f0e9";
}
.fa-paste:before,
.fa-clipboard:before {
  content: "\f0ea";
}
.fa-lightbulb-o:before {
  content: "\f0eb";
}
.fa-exchange:before {
  content: "\f0ec";
}
.fa-cloud-download:before {
  content: "\f0ed";
}
.fa-cloud-upload:before {
  content: "\f0ee";
}
.fa-user-md:before {
  content: "\f0f0";
}
.fa-stethoscope:before {
  content: "\f0f1";
}
.fa-suitcase:before {
  content: "\f0f2";
}
.fa-bell-o:before {
  content: "\f0a2";
}
.fa-coffee:before {
  content: "\f0f4";
}
.fa-cutlery:before {
  content: "\f0f5";
}
.fa-file-text-o:before {
  content: "\f0f6";
}
.fa-building-o:before {
  content: "\f0f7";
}
.fa-hospital-o:before {
  content: "\f0f8";
}
.fa-ambulance:before {
  content: "\f0f9";
}
.fa-medkit:before {
  content: "\f0fa";
}
.fa-fighter-jet:before {
  content: "\f0fb";
}
.fa-beer:before {
  content: "\f0fc";
}
.fa-h-square:before {
  content: "\f0fd";
}
.fa-plus-square:before {
  content: "\f0fe";
}
.fa-angle-double-left:before {
  content: "\f100";
}
.fa-angle-double-right:before {
  content: "\f101";
}
.fa-angle-double-up:before {
  content: "\f102";
}
.fa-angle-double-down:before {
  content: "\f103";
}
.fa-angle-left:before {
  content: "\f104";
}
.fa-angle-right:before {
  content: "\f105";
}
.fa-angle-up:before {
  content: "\f106";
}
.fa-angle-down:before {
  content: "\f107";
}
.fa-desktop:before {
  content: "\f108";
}
.fa-laptop:before {
  content: "\f109";
}
.fa-tablet:before {
  content: "\f10a";
}
.fa-mobile-phone:before,
.fa-mobile:before {
  content: "\f10b";
}
.fa-circle-o:before {
  content: "\f10c";
}
.fa-quote-left:before {
  content: "\f10d";
}
.fa-quote-right:before {
  content: "\f10e";
}
.fa-spinner:before {
  content: "\f110";
}
.fa-circle:before {
  content: "\f111";
}
.fa-mail-reply:before,
.fa-reply:before {
  content: "\f112";
}
.fa-github-alt:before {
  content: "\f113";
}
.fa-folder-o:before {
  content: "\f114";
}
.fa-folder-open-o:before {
  content: "\f115";
}
.fa-smile-o:before {
  content: "\f118";
}
.fa-frown-o:before {
  content: "\f119";
}
.fa-meh-o:before {
  content: "\f11a";
}
.fa-gamepad:before {
  content: "\f11b";
}
.fa-keyboard-o:before {
  content: "\f11c";
}
.fa-flag-o:before {
  content: "\f11d";
}
.fa-flag-checkered:before {
  content: "\f11e";
}
.fa-terminal:before {
  content: "\f120";
}
.fa-code:before {
  content: "\f121";
}
.fa-mail-reply-all:before,
.fa-reply-all:before {
  content: "\f122";
}
.fa-star-half-empty:before,
.fa-star-half-full:before,
.fa-star-half-o:before {
  content: "\f123";
}
.fa-location-arrow:before {
  content: "\f124";
}
.fa-crop:before {
  content: "\f125";
}
.fa-code-fork:before {
  content: "\f126";
}
.fa-unlink:before,
.fa-chain-broken:before {
  content: "\f127";
}
.fa-question:before {
  content: "\f128";
}
.fa-info:before {
  content: "\f129";
}
.fa-exclamation:before {
  content: "\f12a";
}
.fa-superscript:before {
  content: "\f12b";
}
.fa-subscript:before {
  content: "\f12c";
}
.fa-eraser:before {
  content: "\f12d";
}
.fa-puzzle-piece:before {
  content: "\f12e";
}
.fa-microphone:before {
  content: "\f130";
}
.fa-microphone-slash:before {
  content: "\f131";
}
.fa-shield:before {
  content: "\f132";
}
.fa-calendar-o:before {
  content: "\f133";
}
.fa-fire-extinguisher:before {
  content: "\f134";
}
.fa-rocket:before {
  content: "\f135";
}
.fa-maxcdn:before {
  content: "\f136";
}
.fa-chevron-circle-left:before {
  content: "\f137";
}
.fa-chevron-circle-right:before {
  content: "\f138";
}
.fa-chevron-circle-up:before {
  content: "\f139";
}
.fa-chevron-circle-down:before {
  content: "\f13a";
}
.fa-html5:before {
  content: "\f13b";
}
.fa-css3:before {
  content: "\f13c";
}
.fa-anchor:before {
  content: "\f13d";
}
.fa-unlock-alt:before {
  content: "\f13e";
}
.fa-bullseye:before {
  content: "\f140";
}
.fa-ellipsis-h:before {
  content: "\f141";
}
.fa-ellipsis-v:before {
  content: "\f142";
}
.fa-rss-square:before {
  content: "\f143";
}
.fa-play-circle:before {
  content: "\f144";
}
.fa-ticket:before {
  content: "\f145";
}
.fa-minus-square:before {
  content: "\f146";
}
.fa-minus-square-o:before {
  content: "\f147";
}
.fa-level-up:before {
  content: "\f148";
}
.fa-level-down:before {
  content: "\f149";
}
.fa-check-square:before {
  content: "\f14a";
}
.fa-pencil-square:before {
  content: "\f14b";
}
.fa-external-link-square:before {
  content: "\f14c";
}
.fa-share-square:before {
  content: "\f14d";
}
.fa-compass:before {
  content: "\f14e";
}
.fa-toggle-down:before,
.fa-caret-square-o-down:before {
  content: "\f150";
}
.fa-toggle-up:before,
.fa-caret-square-o-up:before {
  content: "\f151";
}
.fa-toggle-right:before,
.fa-caret-square-o-right:before {
  content: "\f152";
}
.fa-euro:before,
.fa-eur:before {
  content: "\f153";
}
.fa-gbp:before {
  content: "\f154";
}
.fa-dollar:before,
.fa-usd:before {
  content: "\f155";
}
.fa-rupee:before,
.fa-inr:before {
  content: "\f156";
}
.fa-cny:before,
.fa-rmb:before,
.fa-yen:before,
.fa-jpy:before {
  content: "\f157";
}
.fa-ruble:before,
.fa-rouble:before,
.fa-rub:before {
  content: "\f158";
}
.fa-won:before,
.fa-krw:before {
  content: "\f159";
}
.fa-bitcoin:before,
.fa-btc:before {
  content: "\f15a";
}
.fa-file:before {
  content: "\f15b";
}
.fa-file-text:before {
  content: "\f15c";
}
.fa-sort-alpha-asc:before {
  content: "\f15d";
}
.fa-sort-alpha-desc:before {
  content: "\f15e";
}
.fa-sort-amount-asc:before {
  content: "\f160";
}
.fa-sort-amount-desc:before {
  content: "\f161";
}
.fa-sort-numeric-asc:before {
  content: "\f162";
}
.fa-sort-numeric-desc:before {
  content: "\f163";
}
.fa-thumbs-up:before {
  content: "\f164";
}
.fa-thumbs-down:before {
  content: "\f165";
}
.fa-youtube-square:before {
  content: "\f166";
}
.fa-youtube:before {
  content: "\f167";
}
.fa-xing:before {
  content: "\f168";
}
.fa-xing-square:before {
  content: "\f169";
}
.fa-youtube-play:before {
  content: "\f16a";
}
.fa-dropbox:before {
  content: "\f16b";
}
.fa-stack-overflow:before {
  content: "\f16c";
}
.fa-instagram:before {
  content: "\f16d";
}
.fa-flickr:before {
  content: "\f16e";
}
.fa-adn:before {
  content: "\f170";
}
.fa-bitbucket:before {
  content: "\f171";
}
.fa-bitbucket-square:before {
  content: "\f172";
}
.fa-tumblr:before {
  content: "\f173";
}
.fa-tumblr-square:before {
  content: "\f174";
}
.fa-long-arrow-down:before {
  content: "\f175";
}
.fa-long-arrow-up:before {
  content: "\f176";
}
.fa-long-arrow-left:before {
  content: "\f177";
}
.fa-long-arrow-right:before {
  content: "\f178";
}
.fa-apple:before {
  content: "\f179";
}
.fa-windows:before {
  content: "\f17a";
}
.fa-android:before {
  content: "\f17b";
}
.fa-linux:before {
  content: "\f17c";
}
.fa-dribbble:before {
  content: "\f17d";
}
.fa-skype:before {
  content: "\f17e";
}
.fa-foursquare:before {
  content: "\f180";
}
.fa-trello:before {
  content: "\f181";
}
.fa-female:before {
  content: "\f182";
}
.fa-male:before {
  content: "\f183";
}
.fa-gittip:before,
.fa-gratipay:before {
  content: "\f184";
}
.fa-sun-o:before {
  content: "\f185";
}
.fa-moon-o:before {
  content: "\f186";
}
.fa-archive:before {
  content: "\f187";
}
.fa-bug:before {
  content: "\f188";
}
.fa-vk:before {
  content: "\f189";
}
.fa-weibo:before {
  content: "\f18a";
}
.fa-renren:before {
  content: "\f18b";
}
.fa-pagelines:before {
  content: "\f18c";
}
.fa-stack-exchange:before {
  content: "\f18d";
}
.fa-arrow-circle-o-right:before {
  content: "\f18e";
}
.fa-arrow-circle-o-left:before {
  content: "\f190";
}
.fa-toggle-left:before,
.fa-caret-square-o-left:before {
  content: "\f191";
}
.fa-dot-circle-o:before {
  content: "\f192";
}
.fa-wheelchair:before {
  content: "\f193";
}
.fa-vimeo-square:before {
  content: "\f194";
}
.fa-turkish-lira:before,
.fa-try:before {
  content: "\f195";
}
.fa-plus-square-o:before {
  content: "\f196";
}
.fa-space-shuttle:before {
  content: "\f197";
}
.fa-slack:before {
  content: "\f198";
}
.fa-envelope-square:before {
  content: "\f199";
}
.fa-wordpress:before {
  content: "\f19a";
}
.fa-openid:before {
  content: "\f19b";
}
.fa-institution:before,
.fa-bank:before,
.fa-university:before {
  content: "\f19c";
}
.fa-mortar-board:before,
.fa-graduation-cap:before {
  content: "\f19d";
}
.fa-yahoo:before {
  content: "\f19e";
}
.fa-google:before {
  content: "\f1a0";
}
.fa-reddit:before {
  content: "\f1a1";
}
.fa-reddit-square:before {
  content: "\f1a2";
}
.fa-stumbleupon-circle:before {
  content: "\f1a3";
}
.fa-stumbleupon:before {
  content: "\f1a4";
}
.fa-delicious:before {
  content: "\f1a5";
}
.fa-digg:before {
  content: "\f1a6";
}
.fa-pied-piper-pp:before {
  content: "\f1a7";
}
.fa-pied-piper-alt:before {
  content: "\f1a8";
}
.fa-drupal:before {
  content: "\f1a9";
}
.fa-joomla:before {
  content: "\f1aa";
}
.fa-language:before {
  content: "\f1ab";
}
.fa-fax:before {
  content: "\f1ac";
}
.fa-building:before {
  content: "\f1ad";
}
.fa-child:before {
  content: "\f1ae";
}
.fa-paw:before {
  content: "\f1b0";
}
.fa-spoon:before {
  content: "\f1b1";
}
.fa-cube:before {
  content: "\f1b2";
}
.fa-cubes:before {
  content: "\f1b3";
}
.fa-behance:before {
  content: "\f1b4";
}
.fa-behance-square:before {
  content: "\f1b5";
}
.fa-steam:before {
  content: "\f1b6";
}
.fa-steam-square:before {
  content: "\f1b7";
}
.fa-recycle:before {
  content: "\f1b8";
}
.fa-automobile:before,
.fa-car:before {
  content: "\f1b9";
}
.fa-cab:before,
.fa-taxi:before {
  content: "\f1ba";
}
.fa-tree:before {
  content: "\f1bb";
}
.fa-spotify:before {
  content: "\f1bc";
}
.fa-deviantart:before {
  content: "\f1bd";
}
.fa-soundcloud:before {
  content: "\f1be";
}
.fa-database:before {
  content: "\f1c0";
}
.fa-file-pdf-o:before {
  content: "\f1c1";
}
.fa-file-word-o:before {
  content: "\f1c2";
}
.fa-file-excel-o:before {
  content: "\f1c3";
}
.fa-file-powerpoint-o:before {
  content: "\f1c4";
}
.fa-file-photo-o:before,
.fa-file-picture-o:before,
.fa-file-image-o:before {
  content: "\f1c5";
}
.fa-file-zip-o:before,
.fa-file-archive-o:before {
  content: "\f1c6";
}
.fa-file-sound-o:before,
.fa-file-audio-o:before {
  content: "\f1c7";
}
.fa-file-movie-o:before,
.fa-file-video-o:before {
  content: "\f1c8";
}
.fa-file-code-o:before {
  content: "\f1c9";
}
.fa-vine:before {
  content: "\f1ca";
}
.fa-codepen:before {
  content: "\f1cb";
}
.fa-jsfiddle:before {
  content: "\f1cc";
}
.fa-life-bouy:before,
.fa-life-buoy:before,
.fa-life-saver:before,
.fa-support:before,
.fa-life-ring:before {
  content: "\f1cd";
}
.fa-circle-o-notch:before {
  content: "\f1ce";
}
.fa-ra:before,
.fa-resistance:before,
.fa-rebel:before {
  content: "\f1d0";
}
.fa-ge:before,
.fa-empire:before {
  content: "\f1d1";
}
.fa-git-square:before {
  content: "\f1d2";
}
.fa-git:before {
  content: "\f1d3";
}
.fa-y-combinator-square:before,
.fa-yc-square:before,
.fa-hacker-news:before {
  content: "\f1d4";
}
.fa-tencent-weibo:before {
  content: "\f1d5";
}
.fa-qq:before {
  content: "\f1d6";
}
.fa-wechat:before,
.fa-weixin:before {
  content: "\f1d7";
}
.fa-send:before,
.fa-paper-plane:before {
  content: "\f1d8";
}
.fa-send-o:before,
.fa-paper-plane-o:before {
  content: "\f1d9";
}
.fa-history:before {
  content: "\f1da";
}
.fa-circle-thin:before {
  content: "\f1db";
}
.fa-header:before {
  content: "\f1dc";
}
.fa-paragraph:before {
  content: "\f1dd";
}
.fa-sliders:before {
  content: "\f1de";
}
.fa-share-alt:before {
  content: "\f1e0";
}
.fa-share-alt-square:before {
  content: "\f1e1";
}
.fa-bomb:before {
  content: "\f1e2";
}
.fa-soccer-ball-o:before,
.fa-futbol-o:before {
  content: "\f1e3";
}
.fa-tty:before {
  content: "\f1e4";
}
.fa-binoculars:before {
  content: "\f1e5";
}
.fa-plug:before {
  content: "\f1e6";
}
.fa-slideshare:before {
  content: "\f1e7";
}
.fa-twitch:before {
  content: "\f1e8";
}
.fa-yelp:before {
  content: "\f1e9";
}
.fa-newspaper-o:before {
  content: "\f1ea";
}
.fa-wifi:before {
  content: "\f1eb";
}
.fa-calculator:before {
  content: "\f1ec";
}
.fa-paypal:before {
  content: "\f1ed";
}
.fa-google-wallet:before {
  content: "\f1ee";
}
.fa-cc-visa:before {
  content: "\f1f0";
}
.fa-cc-mastercard:before {
  content: "\f1f1";
}
.fa-cc-discover:before {
  content: "\f1f2";
}
.fa-cc-amex:before {
  content: "\f1f3";
}
.fa-cc-paypal:before {
  content: "\f1f4";
}
.fa-cc-stripe:before {
  content: "\f1f5";
}
.fa-bell-slash:before {
  content: "\f1f6";
}
.fa-bell-slash-o:before {
  content: "\f1f7";
}
.fa-trash:before {
  content: "\f1f8";
}
.fa-copyright:before {
  content: "\f1f9";
}
.fa-at:before {
  content: "\f1fa";
}
.fa-eyedropper:before {
  content: "\f1fb";
}
.fa-paint-brush:before {
  content: "\f1fc";
}
.fa-birthday-cake:before {
  content: "\f1fd";
}
.fa-area-chart:before {
  content: "\f1fe";
}
.fa-pie-chart:before {
  content: "\f200";
}
.fa-line-chart:before {
  content: "\f201";
}
.fa-lastfm:before {
  content: "\f202";
}
.fa-lastfm-square:before {
  content: "\f203";
}
.fa-toggle-off:before {
  content: "\f204";
}
.fa-toggle-on:before {
  content: "\f205";
}
.fa-bicycle:before {
  content: "\f206";
}
.fa-bus:before {
  content: "\f207";
}
.fa-ioxhost:before {
  content: "\f208";
}
.fa-angellist:before {
  content: "\f209";
}
.fa-cc:before {
  content: "\f20a";
}
.fa-shekel:before,
.fa-sheqel:before,
.fa-ils:before {
  content: "\f20b";
}
.fa-meanpath:before {
  content: "\f20c";
}
.fa-buysellads:before {
  content: "\f20d";
}
.fa-connectdevelop:before {
  content: "\f20e";
}
.fa-dashcube:before {
  content: "\f210";
}
.fa-forumbee:before {
  content: "\f211";
}
.fa-leanpub:before {
  content: "\f212";
}
.fa-sellsy:before {
  content: "\f213";
}
.fa-shirtsinbulk:before {
  content: "\f214";
}
.fa-simplybuilt:before {
  content: "\f215";
}
.fa-skyatlas:before {
  content: "\f216";
}
.fa-cart-plus:before {
  content: "\f217";
}
.fa-cart-arrow-down:before {
  content: "\f218";
}
.fa-diamond:before {
  content: "\f219";
}
.fa-ship:before {
  content: "\f21a";
}
.fa-user-secret:before {
  content: "\f21b";
}
.fa-motorcycle:before {
  content: "\f21c";
}
.fa-street-view:before {
  content: "\f21d";
}
.fa-heartbeat:before {
  content: "\f21e";
}
.fa-venus:before {
  content: "\f221";
}
.fa-mars:before {
  content: "\f222";
}
.fa-mercury:before {
  content: "\f223";
}
.fa-intersex:before,
.fa-transgender:before {
  content: "\f224";
}
.fa-transgender-alt:before {
  content: "\f225";
}
.fa-venus-double:before {
  content: "\f226";
}
.fa-mars-double:before {
  content: "\f227";
}
.fa-venus-mars:before {
  content: "\f228";
}
.fa-mars-stroke:before {
  content: "\f229";
}
.fa-mars-stroke-v:before {
  content: "\f22a";
}
.fa-mars-stroke-h:before {
  content: "\f22b";
}
.fa-neuter:before {
  content: "\f22c";
}
.fa-genderless:before {
  content: "\f22d";
}
.fa-facebook-official:before {
  content: "\f230";
}
.fa-pinterest-p:before {
  content: "\f231";
}
.fa-whatsapp:before {
  content: "\f232";
}
.fa-server:before {
  content: "\f233";
}
.fa-user-plus:before {
  content: "\f234";
}
.fa-user-times:before {
  content: "\f235";
}
.fa-hotel:before,
.fa-bed:before {
  content: "\f236";
}
.fa-viacoin:before {
  content: "\f237";
}
.fa-train:before {
  content: "\f238";
}
.fa-subway:before {
  content: "\f239";
}
.fa-medium:before {
  content: "\f23a";
}
.fa-yc:before,
.fa-y-combinator:before {
  content: "\f23b";
}
.fa-optin-monster:before {
  content: "\f23c";
}
.fa-opencart:before {
  content: "\f23d";
}
.fa-expeditedssl:before {
  content: "\f23e";
}
.fa-battery-4:before,
.fa-battery:before,
.fa-battery-full:before {
  content: "\f240";
}
.fa-battery-3:before,
.fa-battery-three-quarters:before {
  content: "\f241";
}
.fa-battery-2:before,
.fa-battery-half:before {
  content: "\f242";
}
.fa-battery-1:before,
.fa-battery-quarter:before {
  content: "\f243";
}
.fa-battery-0:before,
.fa-battery-empty:before {
  content: "\f244";
}
.fa-mouse-pointer:before {
  content: "\f245";
}
.fa-i-cursor:before {
  content: "\f246";
}
.fa-object-group:before {
  content: "\f247";
}
.fa-object-ungroup:before {
  content: "\f248";
}
.fa-sticky-note:before {
  content: "\f249";
}
.fa-sticky-note-o:before {
  content: "\f24a";
}
.fa-cc-jcb:before {
  content: "\f24b";
}
.fa-cc-diners-club:before {
  content: "\f24c";
}
.fa-clone:before {
  content: "\f24d";
}
.fa-balance-scale:before {
  content: "\f24e";
}
.fa-hourglass-o:before {
  content: "\f250";
}
.fa-hourglass-1:before,
.fa-hourglass-start:before {
  content: "\f251";
}
.fa-hourglass-2:before,
.fa-hourglass-half:before {
  content: "\f252";
}
.fa-hourglass-3:before,
.fa-hourglass-end:before {
  content: "\f253";
}
.fa-hourglass:before {
  content: "\f254";
}
.fa-hand-grab-o:before,
.fa-hand-rock-o:before {
  content: "\f255";
}
.fa-hand-stop-o:before,
.fa-hand-paper-o:before {
  content: "\f256";
}
.fa-hand-scissors-o:before {
  content: "\f257";
}
.fa-hand-lizard-o:before {
  content: "\f258";
}
.fa-hand-spock-o:before {
  content: "\f259";
}
.fa-hand-pointer-o:before {
  content: "\f25a";
}
.fa-hand-peace-o:before {
  content: "\f25b";
}
.fa-trademark:before {
  content: "\f25c";
}
.fa-registered:before {
  content: "\f25d";
}
.fa-creative-commons:before {
  content: "\f25e";
}
.fa-gg:before {
  content: "\f260";
}
.fa-gg-circle:before {
  content: "\f261";
}
.fa-tripadvisor:before {
  content: "\f262";
}
.fa-odnoklassniki:before {
  content: "\f263";
}
.fa-odnoklassniki-square:before {
  content: "\f264";
}
.fa-get-pocket:before {
  content: "\f265";
}
.fa-wikipedia-w:before {
  content: "\f266";
}
.fa-safari:before {
  content: "\f267";
}
.fa-chrome:before {
  content: "\f268";
}
.fa-firefox:before {
  content: "\f269";
}
.fa-opera:before {
  content: "\f26a";
}
.fa-internet-explorer:before {
  content: "\f26b";
}
.fa-tv:before,
.fa-television:before {
  content: "\f26c";
}
.fa-contao:before {
  content: "\f26d";
}
.fa-500px:before {
  content: "\f26e";
}
.fa-amazon:before {
  content: "\f270";
}
.fa-calendar-plus-o:before {
  content: "\f271";
}
.fa-calendar-minus-o:before {
  content: "\f272";
}
.fa-calendar-times-o:before {
  content: "\f273";
}
.fa-calendar-check-o:before {
  content: "\f274";
}
.fa-industry:before {
  content: "\f275";
}
.fa-map-pin:before {
  content: "\f276";
}
.fa-map-signs:before {
  content: "\f277";
}
.fa-map-o:before {
  content: "\f278";
}
.fa-map:before {
  content: "\f279";
}
.fa-commenting:before {
  content: "\f27a";
}
.fa-commenting-o:before {
  content: "\f27b";
}
.fa-houzz:before {
  content: "\f27c";
}
.fa-vimeo:before {
  content: "\f27d";
}
.fa-black-tie:before {
  content: "\f27e";
}
.fa-fonticons:before {
  content: "\f280";
}
.fa-reddit-alien:before {
  content: "\f281";
}
.fa-edge:before {
  content: "\f282";
}
.fa-credit-card-alt:before {
  content: "\f283";
}
.fa-codiepie:before {
  content: "\f284";
}
.fa-modx:before {
  content: "\f285";
}
.fa-fort-awesome:before {
  content: "\f286";
}
.fa-usb:before {
  content: "\f287";
}
.fa-product-hunt:before {
  content: "\f288";
}
.fa-mixcloud:before {
  content: "\f289";
}
.fa-scribd:before {
  content: "\f28a";
}
.fa-pause-circle:before {
  content: "\f28b";
}
.fa-pause-circle-o:before {
  content: "\f28c";
}
.fa-stop-circle:before {
  content: "\f28d";
}
.fa-stop-circle-o:before {
  content: "\f28e";
}
.fa-shopping-bag:before {
  content: "\f290";
}
.fa-shopping-basket:before {
  content: "\f291";
}
.fa-hashtag:before {
  content: "\f292";
}
.fa-bluetooth:before {
  content: "\f293";
}
.fa-bluetooth-b:before {
  content: "\f294";
}
.fa-percent:before {
  content: "\f295";
}
.fa-gitlab:before {
  content: "\f296";
}
.fa-wpbeginner:before {
  content: "\f297";
}
.fa-wpforms:before {
  content: "\f298";
}
.fa-envira:before {
  content: "\f299";
}
.fa-universal-access:before {
  content: "\f29a";
}
.fa-wheelchair-alt:before {
  content: "\f29b";
}
.fa-question-circle-o:before {
  content: "\f29c";
}
.fa-blind:before {
  content: "\f29d";
}
.fa-audio-description:before {
  content: "\f29e";
}
.fa-volume-control-phone:before {
  content: "\f2a0";
}
.fa-braille:before {
  content: "\f2a1";
}
.fa-assistive-listening-systems:before {
  content: "\f2a2";
}
.fa-asl-interpreting:before,
.fa-american-sign-language-interpreting:before {
  content: "\f2a3";
}
.fa-deafness:before,
.fa-hard-of-hearing:before,
.fa-deaf:before {
  content: "\f2a4";
}
.fa-glide:before {
  content: "\f2a5";
}
.fa-glide-g:before {
  content: "\f2a6";
}
.fa-signing:before,
.fa-sign-language:before {
  content: "\f2a7";
}
.fa-low-vision:before {
  content: "\f2a8";
}
.fa-viadeo:before {
  content: "\f2a9";
}
.fa-viadeo-square:before {
  content: "\f2aa";
}
.fa-snapchat:before {
  content: "\f2ab";
}
.fa-snapchat-ghost:before {
  content: "\f2ac";
}
.fa-snapchat-square:before {
  content: "\f2ad";
}
.fa-pied-piper:before {
  content: "\f2ae";
}
.fa-first-order:before {
  content: "\f2b0";
}
.fa-yoast:before {
  content: "\f2b1";
}
.fa-themeisle:before {
  content: "\f2b2";
}
.fa-google-plus-circle:before,
.fa-google-plus-official:before {
  content: "\f2b3";
}
.fa-fa:before,
.fa-font-awesome:before {
  content: "\f2b4";
}
.fa-handshake-o:before {
  content: "\f2b5";
}
.fa-envelope-open:before {
  content: "\f2b6";
}
.fa-envelope-open-o:before {
  content: "\f2b7";
}
.fa-linode:before {
  content: "\f2b8";
}
.fa-address-book:before {
  content: "\f2b9";
}
.fa-address-book-o:before {
  content: "\f2ba";
}
.fa-vcard:before,
.fa-address-card:before {
  content: "\f2bb";
}
.fa-vcard-o:before,
.fa-address-card-o:before {
  content: "\f2bc";
}
.fa-user-circle:before {
  content: "\f2bd";
}
.fa-user-circle-o:before {
  content: "\f2be";
}
.fa-user-o:before {
  content: "\f2c0";
}
.fa-id-badge:before {
  content: "\f2c1";
}
.fa-drivers-license:before,
.fa-id-card:before {
  content: "\f2c2";
}
.fa-drivers-license-o:before,
.fa-id-card-o:before {
  content: "\f2c3";
}
.fa-quora:before {
  content: "\f2c4";
}
.fa-free-code-camp:before {
  content: "\f2c5";
}
.fa-telegram:before {
  content: "\f2c6";
}
.fa-thermometer-4:before,
.fa-thermometer:before,
.fa-thermometer-full:before {
  content: "\f2c7";
}
.fa-thermometer-3:before,
.fa-thermometer-three-quarters:before {
  content: "\f2c8";
}
.fa-thermometer-2:before,
.fa-thermometer-half:before {
  content: "\f2c9";
}
.fa-thermometer-1:before,
.fa-thermometer-quarter:before {
  content: "\f2ca";
}
.fa-thermometer-0:before,
.fa-thermometer-empty:before {
  content: "\f2cb";
}
.fa-shower:before {
  content: "\f2cc";
}
.fa-bathtub:before,
.fa-s15:before,
.fa-bath:before {
  content: "\f2cd";
}
.fa-podcast:before {
  content: "\f2ce";
}
.fa-window-maximize:before {
  content: "\f2d0";
}
.fa-window-minimize:before {
  content: "\f2d1";
}
.fa-window-restore:before {
  content: "\f2d2";
}
.fa-times-rectangle:before,
.fa-window-close:before {
  content: "\f2d3";
}
.fa-times-rectangle-o:before,
.fa-window-close-o:before {
  content: "\f2d4";
}
.fa-bandcamp:before {
  content: "\f2d5";
}
.fa-grav:before {
  content: "\f2d6";
}
.fa-etsy:before {
  content: "\f2d7";
}
.fa-imdb:before {
  content: "\f2d8";
}
.fa-ravelry:before {
  content: "\f2d9";
}
.fa-eercast:before {
  content: "\f2da";
}
.fa-microchip:before {
  content: "\f2db";
}
.fa-snowflake-o:before {
  content: "\f2dc";
}
.fa-superpowers:before {
  content: "\f2dd";
}
.fa-wpexplorer:before {
  content: "\f2de";
}
.fa-meetup:before {
  content: "\f2e0";
}
.sr-only {
  position: absolute;
  width: 1px;
  height: 1px;
  padding: 0;
  margin: -1px;
  overflow: hidden;
  clip: rect(0, 0, 0, 0);
  border: 0;
}
.sr-only-focusable:active,
.sr-only-focusable:focus {
  position: static;
  width: auto;
  height: auto;
  margin: 0;
  overflow: visible;
  clip: auto;
}
.sr-only-focusable:active,
.sr-only-focusable:focus {
  position: static;
  width: auto;
  height: auto;
  margin: 0;
  overflow: visible;
  clip: auto;
}
/*!
*
* IPython base
*
*/
.modal.fade .modal-dialog {
  -webkit-transform: translate(0, 0);
  -ms-transform: translate(0, 0);
  -o-transform: translate(0, 0);
  transform: translate(0, 0);
}
code {
  color: #000;
}
pre {
  font-size: inherit;
  line-height: inherit;
}
label {
  font-weight: normal;
}
/* Make the page background atleast 100% the height of the view port */
/* Make the page itself atleast 70% the height of the view port */
.border-box-sizing {
  box-sizing: border-box;
  -moz-box-sizing: border-box;
  -webkit-box-sizing: border-box;
}
.corner-all {
  border-radius: 2px;
}
.no-padding {
  padding: 0px;
}
/* Flexible box model classes */
/* Taken from Alex Russell http://infrequently.org/2009/08/css-3-progress/ */
/* This file is a compatability layer.  It allows the usage of flexible box 
model layouts accross multiple browsers, including older browsers.  The newest,
universal implementation of the flexible box model is used when available (see
`Modern browsers` comments below).  Browsers that are known to implement this 
new spec completely include:

    Firefox 28.0+
    Chrome 29.0+
    Internet Explorer 11+ 
    Opera 17.0+

Browsers not listed, including Safari, are supported via the styling under the
`Old browsers` comments below.
*/
.hbox {
  /* Old browsers */
  display: -webkit-box;
  -webkit-box-orient: horizontal;
  -webkit-box-align: stretch;
  display: -moz-box;
  -moz-box-orient: horizontal;
  -moz-box-align: stretch;
  display: box;
  box-orient: horizontal;
  box-align: stretch;
  /* Modern browsers */
  display: flex;
  flex-direction: row;
  align-items: stretch;
}
.hbox > * {
  /* Old browsers */
  -webkit-box-flex: 0;
  -moz-box-flex: 0;
  box-flex: 0;
  /* Modern browsers */
  flex: none;
}
.vbox {
  /* Old browsers */
  display: -webkit-box;
  -webkit-box-orient: vertical;
  -webkit-box-align: stretch;
  display: -moz-box;
  -moz-box-orient: vertical;
  -moz-box-align: stretch;
  display: box;
  box-orient: vertical;
  box-align: stretch;
  /* Modern browsers */
  display: flex;
  flex-direction: column;
  align-items: stretch;
}
.vbox > * {
  /* Old browsers */
  -webkit-box-flex: 0;
  -moz-box-flex: 0;
  box-flex: 0;
  /* Modern browsers */
  flex: none;
}
.hbox.reverse,
.vbox.reverse,
.reverse {
  /* Old browsers */
  -webkit-box-direction: reverse;
  -moz-box-direction: reverse;
  box-direction: reverse;
  /* Modern browsers */
  flex-direction: row-reverse;
}
.hbox.box-flex0,
.vbox.box-flex0,
.box-flex0 {
  /* Old browsers */
  -webkit-box-flex: 0;
  -moz-box-flex: 0;
  box-flex: 0;
  /* Modern browsers */
  flex: none;
  width: auto;
}
.hbox.box-flex1,
.vbox.box-flex1,
.box-flex1 {
  /* Old browsers */
  -webkit-box-flex: 1;
  -moz-box-flex: 1;
  box-flex: 1;
  /* Modern browsers */
  flex: 1;
}
.hbox.box-flex,
.vbox.box-flex,
.box-flex {
  /* Old browsers */
  /* Old browsers */
  -webkit-box-flex: 1;
  -moz-box-flex: 1;
  box-flex: 1;
  /* Modern browsers */
  flex: 1;
}
.hbox.box-flex2,
.vbox.box-flex2,
.box-flex2 {
  /* Old browsers */
  -webkit-box-flex: 2;
  -moz-box-flex: 2;
  box-flex: 2;
  /* Modern browsers */
  flex: 2;
}
.box-group1 {
  /*  Deprecated */
  -webkit-box-flex-group: 1;
  -moz-box-flex-group: 1;
  box-flex-group: 1;
}
.box-group2 {
  /* Deprecated */
  -webkit-box-flex-group: 2;
  -moz-box-flex-group: 2;
  box-flex-group: 2;
}
.hbox.start,
.vbox.start,
.start {
  /* Old browsers */
  -webkit-box-pack: start;
  -moz-box-pack: start;
  box-pack: start;
  /* Modern browsers */
  justify-content: flex-start;
}
.hbox.end,
.vbox.end,
.end {
  /* Old browsers */
  -webkit-box-pack: end;
  -moz-box-pack: end;
  box-pack: end;
  /* Modern browsers */
  justify-content: flex-end;
}
.hbox.center,
.vbox.center,
.center {
  /* Old browsers */
  -webkit-box-pack: center;
  -moz-box-pack: center;
  box-pack: center;
  /* Modern browsers */
  justify-content: center;
}
.hbox.baseline,
.vbox.baseline,
.baseline {
  /* Old browsers */
  -webkit-box-pack: baseline;
  -moz-box-pack: baseline;
  box-pack: baseline;
  /* Modern browsers */
  justify-content: baseline;
}
.hbox.stretch,
.vbox.stretch,
.stretch {
  /* Old browsers */
  -webkit-box-pack: stretch;
  -moz-box-pack: stretch;
  box-pack: stretch;
  /* Modern browsers */
  justify-content: stretch;
}
.hbox.align-start,
.vbox.align-start,
.align-start {
  /* Old browsers */
  -webkit-box-align: start;
  -moz-box-align: start;
  box-align: start;
  /* Modern browsers */
  align-items: flex-start;
}
.hbox.align-end,
.vbox.align-end,
.align-end {
  /* Old browsers */
  -webkit-box-align: end;
  -moz-box-align: end;
  box-align: end;
  /* Modern browsers */
  align-items: flex-end;
}
.hbox.align-center,
.vbox.align-center,
.align-center {
  /* Old browsers */
  -webkit-box-align: center;
  -moz-box-align: center;
  box-align: center;
  /* Modern browsers */
  align-items: center;
}
.hbox.align-baseline,
.vbox.align-baseline,
.align-baseline {
  /* Old browsers */
  -webkit-box-align: baseline;
  -moz-box-align: baseline;
  box-align: baseline;
  /* Modern browsers */
  align-items: baseline;
}
.hbox.align-stretch,
.vbox.align-stretch,
.align-stretch {
  /* Old browsers */
  -webkit-box-align: stretch;
  -moz-box-align: stretch;
  box-align: stretch;
  /* Modern browsers */
  align-items: stretch;
}
div.error {
  margin: 2em;
  text-align: center;
}
div.error > h1 {
  font-size: 500%;
  line-height: normal;
}
div.error > p {
  font-size: 200%;
  line-height: normal;
}
div.traceback-wrapper {
  text-align: left;
  max-width: 800px;
  margin: auto;
}
div.traceback-wrapper pre.traceback {
  max-height: 600px;
  overflow: auto;
}
/**
 * Primary styles
 *
 * Author: Jupyter Development Team
 */
body {
  background-color: #fff;
  /* This makes sure that the body covers the entire window and needs to
       be in a different element than the display: box in wrapper below */
  position: absolute;
  left: 0px;
  right: 0px;
  top: 0px;
  bottom: 0px;
  overflow: visible;
}
body > #header {
  /* Initially hidden to prevent FLOUC */
  display: none;
  background-color: #fff;
  /* Display over codemirror */
  position: relative;
  z-index: 100;
}
body > #header #header-container {
  display: flex;
  flex-direction: row;
  justify-content: space-between;
  padding: 5px;
  padding-bottom: 5px;
  padding-top: 5px;
  box-sizing: border-box;
  -moz-box-sizing: border-box;
  -webkit-box-sizing: border-box;
}
body > #header .header-bar {
  width: 100%;
  height: 1px;
  background: #e7e7e7;
  margin-bottom: -1px;
}
@media print {
  body > #header {
    display: none !important;
  }
}
#header-spacer {
  width: 100%;
  visibility: hidden;
}
@media print {
  #header-spacer {
    display: none;
  }
}
#ipython_notebook {
  padding-left: 0px;
  padding-top: 1px;
  padding-bottom: 1px;
}
[dir="rtl"] #ipython_notebook {
  margin-right: 10px;
  margin-left: 0;
}
[dir="rtl"] #ipython_notebook.pull-left {
  float: right !important;
  float: right;
}
.flex-spacer {
  flex: 1;
}
#noscript {
  width: auto;
  padding-top: 16px;
  padding-bottom: 16px;
  text-align: center;
  font-size: 22px;
  color: red;
  font-weight: bold;
}
#ipython_notebook img {
  height: 28px;
}
#site {
  width: 100%;
  display: none;
  box-sizing: border-box;
  -moz-box-sizing: border-box;
  -webkit-box-sizing: border-box;
  overflow: auto;
}
@media print {
  #site {
    height: auto !important;
  }
}
/* Smaller buttons */
.ui-button .ui-button-text {
  padding: 0.2em 0.8em;
  font-size: 77%;
}
input.ui-button {
  padding: 0.3em 0.9em;
}
span#kernel_logo_widget {
  margin: 0 10px;
}
span#login_widget {
  float: right;
}
[dir="rtl"] span#login_widget {
  float: left;
}
span#login_widget > .button,
#logout {
  color: #333;
  background-color: #fff;
  border-color: #ccc;
}
span#login_widget > .button:focus,
#logout:focus,
span#login_widget > .button.focus,
#logout.focus {
  color: #333;
  background-color: #e6e6e6;
  border-color: #8c8c8c;
}
span#login_widget > .button:hover,
#logout:hover {
  color: #333;
  background-color: #e6e6e6;
  border-color: #adadad;
}
span#login_widget > .button:active,
#logout:active,
span#login_widget > .button.active,
#logout.active,
.open > .dropdown-togglespan#login_widget > .button,
.open > .dropdown-toggle#logout {
  color: #333;
  background-color: #e6e6e6;
  border-color: #adadad;
}
span#login_widget > .button:active:hover,
#logout:active:hover,
span#login_widget > .button.active:hover,
#logout.active:hover,
.open > .dropdown-togglespan#login_widget > .button:hover,
.open > .dropdown-toggle#logout:hover,
span#login_widget > .button:active:focus,
#logout:active:focus,
span#login_widget > .button.active:focus,
#logout.active:focus,
.open > .dropdown-togglespan#login_widget > .button:focus,
.open > .dropdown-toggle#logout:focus,
span#login_widget > .button:active.focus,
#logout:active.focus,
span#login_widget > .button.active.focus,
#logout.active.focus,
.open > .dropdown-togglespan#login_widget > .button.focus,
.open > .dropdown-toggle#logout.focus {
  color: #333;
  background-color: #d4d4d4;
  border-color: #8c8c8c;
}
span#login_widget > .button:active,
#logout:active,
span#login_widget > .button.active,
#logout.active,
.open > .dropdown-togglespan#login_widget > .button,
.open > .dropdown-toggle#logout {
  background-image: none;
}
span#login_widget > .button.disabled:hover,
#logout.disabled:hover,
span#login_widget > .button[disabled]:hover,
#logout[disabled]:hover,
fieldset[disabled] span#login_widget > .button:hover,
fieldset[disabled] #logout:hover,
span#login_widget > .button.disabled:focus,
#logout.disabled:focus,
span#login_widget > .button[disabled]:focus,
#logout[disabled]:focus,
fieldset[disabled] span#login_widget > .button:focus,
fieldset[disabled] #logout:focus,
span#login_widget > .button.disabled.focus,
#logout.disabled.focus,
span#login_widget > .button[disabled].focus,
#logout[disabled].focus,
fieldset[disabled] span#login_widget > .button.focus,
fieldset[disabled] #logout.focus {
  background-color: #fff;
  border-color: #ccc;
}
span#login_widget > .button .badge,
#logout .badge {
  color: #fff;
  background-color: #333;
}
.nav-header {
  text-transform: none;
}
#header > span {
  margin-top: 10px;
}
.modal_stretch .modal-dialog {
  /* Old browsers */
  display: -webkit-box;
  -webkit-box-orient: vertical;
  -webkit-box-align: stretch;
  display: -moz-box;
  -moz-box-orient: vertical;
  -moz-box-align: stretch;
  display: box;
  box-orient: vertical;
  box-align: stretch;
  /* Modern browsers */
  display: flex;
  flex-direction: column;
  align-items: stretch;
  min-height: 80vh;
}
.modal_stretch .modal-dialog .modal-body {
  max-height: calc(100vh - 200px);
  overflow: auto;
  flex: 1;
}
.modal-header {
  cursor: move;
}
@media (min-width: 768px) {
  .modal .modal-dialog {
    width: 700px;
  }
}
@media (min-width: 768px) {
  select.form-control {
    margin-left: 12px;
    margin-right: 12px;
  }
}
/*!
*
* IPython auth
*
*/
.center-nav {
  display: inline-block;
  margin-bottom: -4px;
}
[dir="rtl"] .center-nav form.pull-left {
  float: right !important;
  float: right;
}
[dir="rtl"] .center-nav .navbar-text {
  float: right;
}
[dir="rtl"] .navbar-inner {
  text-align: right;
}
[dir="rtl"] div.text-left {
  text-align: right;
}
/*!
*
* IPython tree view
*
*/
/* We need an invisible input field on top of the sentense*/
/* "Drag file onto the list ..." */
.alternate_upload {
  background-color: none;
  display: inline;
}
.alternate_upload.form {
  padding: 0;
  margin: 0;
}
.alternate_upload input.fileinput {
  position: absolute;
  display: block;
  width: 100%;
  height: 100%;
  overflow: hidden;
  cursor: pointer;
  opacity: 0;
  z-index: 2;
}
.alternate_upload .btn-xs > input.fileinput {
  margin: -1px -5px;
}
.alternate_upload .btn-upload {
  position: relative;
  height: 22px;
}
::-webkit-file-upload-button {
  cursor: pointer;
}
/**
 * Primary styles
 *
 * Author: Jupyter Development Team
 */
ul#tabs {
  margin-bottom: 4px;
}
ul#tabs a {
  padding-top: 6px;
  padding-bottom: 4px;
}
[dir="rtl"] ul#tabs.nav-tabs > li {
  float: right;
}
[dir="rtl"] ul#tabs.nav.nav-tabs {
  padding-right: 0;
}
ul.breadcrumb a:focus,
ul.breadcrumb a:hover {
  text-decoration: none;
}
ul.breadcrumb i.icon-home {
  font-size: 16px;
  margin-right: 4px;
}
ul.breadcrumb span {
  color: #5e5e5e;
}
.list_toolbar {
  padding: 4px 0 4px 0;
  vertical-align: middle;
}
.list_toolbar .tree-buttons {
  padding-top: 1px;
}
[dir="rtl"] .list_toolbar .tree-buttons .pull-right {
  float: left !important;
  float: left;
}
[dir="rtl"] .list_toolbar .col-sm-4,
[dir="rtl"] .list_toolbar .col-sm-8 {
  float: right;
}
.dynamic-buttons {
  padding-top: 3px;
  display: inline-block;
}
.list_toolbar [class*="span"] {
  min-height: 24px;
}
.list_header {
  font-weight: bold;
  background-color: #EEE;
}
.list_placeholder {
  font-weight: bold;
  padding-top: 4px;
  padding-bottom: 4px;
  padding-left: 7px;
  padding-right: 7px;
}
.list_container {
  margin-top: 4px;
  margin-bottom: 20px;
  border: 1px solid #ddd;
  border-radius: 2px;
}
.list_container > div {
  border-bottom: 1px solid #ddd;
}
.list_container > div:hover .list-item {
  background-color: red;
}
.list_container > div:last-child {
  border: none;
}
.list_item:hover .list_item {
  background-color: #ddd;
}
.list_item a {
  text-decoration: none;
}
.list_item:hover {
  background-color: #fafafa;
}
.list_header > div,
.list_item > div {
  padding-top: 4px;
  padding-bottom: 4px;
  padding-left: 7px;
  padding-right: 7px;
  line-height: 22px;
}
.list_header > div input,
.list_item > div input {
  margin-right: 7px;
  margin-left: 14px;
  vertical-align: text-bottom;
  line-height: 22px;
  position: relative;
  top: -1px;
}
.list_header > div .item_link,
.list_item > div .item_link {
  margin-left: -1px;
  vertical-align: baseline;
  line-height: 22px;
}
[dir="rtl"] .list_item > div input {
  margin-right: 0;
}
.new-file input[type=checkbox] {
  visibility: hidden;
}
.item_name {
  line-height: 22px;
  height: 24px;
}
.item_icon {
  font-size: 14px;
  color: #5e5e5e;
  margin-right: 7px;
  margin-left: 7px;
  line-height: 22px;
  vertical-align: baseline;
}
.item_modified {
  margin-right: 7px;
  margin-left: 7px;
}
[dir="rtl"] .item_modified.pull-right {
  float: left !important;
  float: left;
}
.item_buttons {
  line-height: 1em;
  margin-left: -5px;
}
.item_buttons .btn,
.item_buttons .btn-group,
.item_buttons .input-group {
  float: left;
}
.item_buttons > .btn,
.item_buttons > .btn-group,
.item_buttons > .input-group {
  margin-left: 5px;
}
.item_buttons .btn {
  min-width: 13ex;
}
.item_buttons .running-indicator {
  padding-top: 4px;
  color: #5cb85c;
}
.item_buttons .kernel-name {
  padding-top: 4px;
  color: #5bc0de;
  margin-right: 7px;
  float: left;
}
[dir="rtl"] .item_buttons.pull-right {
  float: left !important;
  float: left;
}
[dir="rtl"] .item_buttons .kernel-name {
  margin-left: 7px;
  float: right;
}
.toolbar_info {
  height: 24px;
  line-height: 24px;
}
.list_item input:not([type=checkbox]) {
  padding-top: 3px;
  padding-bottom: 3px;
  height: 22px;
  line-height: 14px;
  margin: 0px;
}
.highlight_text {
  color: blue;
}
#project_name {
  display: inline-block;
  padding-left: 7px;
  margin-left: -2px;
}
#project_name > .breadcrumb {
  padding: 0px;
  margin-bottom: 0px;
  background-color: transparent;
  font-weight: bold;
}
.sort_button {
  display: inline-block;
  padding-left: 7px;
}
[dir="rtl"] .sort_button.pull-right {
  float: left !important;
  float: left;
}
#tree-selector {
  padding-right: 0px;
}
#button-select-all {
  min-width: 50px;
}
[dir="rtl"] #button-select-all.btn {
  float: right ;
}
#select-all {
  margin-left: 7px;
  margin-right: 2px;
  margin-top: 2px;
  height: 16px;
}
[dir="rtl"] #select-all.pull-left {
  float: right !important;
  float: right;
}
.menu_icon {
  margin-right: 2px;
}
.tab-content .row {
  margin-left: 0px;
  margin-right: 0px;
}
.folder_icon:before {
  display: inline-block;
  font: normal normal normal 14px/1 FontAwesome;
  font-size: inherit;
  text-rendering: auto;
  -webkit-font-smoothing: antialiased;
  -moz-osx-font-smoothing: grayscale;
  content: "\f114";
}
.folder_icon:before.fa-pull-left {
  margin-right: .3em;
}
.folder_icon:before.fa-pull-right {
  margin-left: .3em;
}
.folder_icon:before.pull-left {
  margin-right: .3em;
}
.folder_icon:before.pull-right {
  margin-left: .3em;
}
.notebook_icon:before {
  display: inline-block;
  font: normal normal normal 14px/1 FontAwesome;
  font-size: inherit;
  text-rendering: auto;
  -webkit-font-smoothing: antialiased;
  -moz-osx-font-smoothing: grayscale;
  content: "\f02d";
  position: relative;
  top: -1px;
}
.notebook_icon:before.fa-pull-left {
  margin-right: .3em;
}
.notebook_icon:before.fa-pull-right {
  margin-left: .3em;
}
.notebook_icon:before.pull-left {
  margin-right: .3em;
}
.notebook_icon:before.pull-right {
  margin-left: .3em;
}
.running_notebook_icon:before {
  display: inline-block;
  font: normal normal normal 14px/1 FontAwesome;
  font-size: inherit;
  text-rendering: auto;
  -webkit-font-smoothing: antialiased;
  -moz-osx-font-smoothing: grayscale;
  content: "\f02d";
  position: relative;
  top: -1px;
  color: #5cb85c;
}
.running_notebook_icon:before.fa-pull-left {
  margin-right: .3em;
}
.running_notebook_icon:before.fa-pull-right {
  margin-left: .3em;
}
.running_notebook_icon:before.pull-left {
  margin-right: .3em;
}
.running_notebook_icon:before.pull-right {
  margin-left: .3em;
}
.file_icon:before {
  display: inline-block;
  font: normal normal normal 14px/1 FontAwesome;
  font-size: inherit;
  text-rendering: auto;
  -webkit-font-smoothing: antialiased;
  -moz-osx-font-smoothing: grayscale;
  content: "\f016";
  position: relative;
  top: -2px;
}
.file_icon:before.fa-pull-left {
  margin-right: .3em;
}
.file_icon:before.fa-pull-right {
  margin-left: .3em;
}
.file_icon:before.pull-left {
  margin-right: .3em;
}
.file_icon:before.pull-right {
  margin-left: .3em;
}
#notebook_toolbar .pull-right {
  padding-top: 0px;
  margin-right: -1px;
}
ul#new-menu {
  left: auto;
  right: 0;
}
#new-menu .dropdown-header {
  font-size: 10px;
  border-bottom: 1px solid #e5e5e5;
  padding: 0 0 3px;
  margin: -3px 20px 0;
}
.kernel-menu-icon {
  padding-right: 12px;
  width: 24px;
  content: "\f096";
}
.kernel-menu-icon:before {
  content: "\f096";
}
.kernel-menu-icon-current:before {
  content: "\f00c";
}
#tab_content {
  padding-top: 20px;
}
#running .panel-group .panel {
  margin-top: 3px;
  margin-bottom: 1em;
}
#running .panel-group .panel .panel-heading {
  background-color: #EEE;
  padding-top: 4px;
  padding-bottom: 4px;
  padding-left: 7px;
  padding-right: 7px;
  line-height: 22px;
}
#running .panel-group .panel .panel-heading a:focus,
#running .panel-group .panel .panel-heading a:hover {
  text-decoration: none;
}
#running .panel-group .panel .panel-body {
  padding: 0px;
}
#running .panel-group .panel .panel-body .list_container {
  margin-top: 0px;
  margin-bottom: 0px;
  border: 0px;
  border-radius: 0px;
}
#running .panel-group .panel .panel-body .list_container .list_item {
  border-bottom: 1px solid #ddd;
}
#running .panel-group .panel .panel-body .list_container .list_item:last-child {
  border-bottom: 0px;
}
.delete-button {
  display: none;
}
.duplicate-button {
  display: none;
}
.rename-button {
  display: none;
}
.move-button {
  display: none;
}
.download-button {
  display: none;
}
.shutdown-button {
  display: none;
}
.dynamic-instructions {
  display: inline-block;
  padding-top: 4px;
}
/*!
*
* IPython text editor webapp
*
*/
.selected-keymap i.fa {
  padding: 0px 5px;
}
.selected-keymap i.fa:before {
  content: "\f00c";
}
#mode-menu {
  overflow: auto;
  max-height: 20em;
}
.edit_app #header {
  -webkit-box-shadow: 0px 0px 12px 1px rgba(87, 87, 87, 0.2);
  box-shadow: 0px 0px 12px 1px rgba(87, 87, 87, 0.2);
}
.edit_app #menubar .navbar {
  /* Use a negative 1 bottom margin, so the border overlaps the border of the
    header */
  margin-bottom: -1px;
}
.dirty-indicator {
  display: inline-block;
  font: normal normal normal 14px/1 FontAwesome;
  font-size: inherit;
  text-rendering: auto;
  -webkit-font-smoothing: antialiased;
  -moz-osx-font-smoothing: grayscale;
  width: 20px;
}
.dirty-indicator.fa-pull-left {
  margin-right: .3em;
}
.dirty-indicator.fa-pull-right {
  margin-left: .3em;
}
.dirty-indicator.pull-left {
  margin-right: .3em;
}
.dirty-indicator.pull-right {
  margin-left: .3em;
}
.dirty-indicator-dirty {
  display: inline-block;
  font: normal normal normal 14px/1 FontAwesome;
  font-size: inherit;
  text-rendering: auto;
  -webkit-font-smoothing: antialiased;
  -moz-osx-font-smoothing: grayscale;
  width: 20px;
}
.dirty-indicator-dirty.fa-pull-left {
  margin-right: .3em;
}
.dirty-indicator-dirty.fa-pull-right {
  margin-left: .3em;
}
.dirty-indicator-dirty.pull-left {
  margin-right: .3em;
}
.dirty-indicator-dirty.pull-right {
  margin-left: .3em;
}
.dirty-indicator-clean {
  display: inline-block;
  font: normal normal normal 14px/1 FontAwesome;
  font-size: inherit;
  text-rendering: auto;
  -webkit-font-smoothing: antialiased;
  -moz-osx-font-smoothing: grayscale;
  width: 20px;
}
.dirty-indicator-clean.fa-pull-left {
  margin-right: .3em;
}
.dirty-indicator-clean.fa-pull-right {
  margin-left: .3em;
}
.dirty-indicator-clean.pull-left {
  margin-right: .3em;
}
.dirty-indicator-clean.pull-right {
  margin-left: .3em;
}
.dirty-indicator-clean:before {
  display: inline-block;
  font: normal normal normal 14px/1 FontAwesome;
  font-size: inherit;
  text-rendering: auto;
  -webkit-font-smoothing: antialiased;
  -moz-osx-font-smoothing: grayscale;
  content: "\f00c";
}
.dirty-indicator-clean:before.fa-pull-left {
  margin-right: .3em;
}
.dirty-indicator-clean:before.fa-pull-right {
  margin-left: .3em;
}
.dirty-indicator-clean:before.pull-left {
  margin-right: .3em;
}
.dirty-indicator-clean:before.pull-right {
  margin-left: .3em;
}
#filename {
  font-size: 16pt;
  display: table;
  padding: 0px 5px;
}
#current-mode {
  padding-left: 5px;
  padding-right: 5px;
}
#texteditor-backdrop {
  padding-top: 20px;
  padding-bottom: 20px;
}
@media not print {
  #texteditor-backdrop {
    background-color: #EEE;
  }
}
@media print {
  #texteditor-backdrop #texteditor-container .CodeMirror-gutter,
  #texteditor-backdrop #texteditor-container .CodeMirror-gutters {
    background-color: #fff;
  }
}
@media not print {
  #texteditor-backdrop #texteditor-container .CodeMirror-gutter,
  #texteditor-backdrop #texteditor-container .CodeMirror-gutters {
    background-color: #fff;
  }
}
@media not print {
  #texteditor-backdrop #texteditor-container {
    padding: 0px;
    background-color: #fff;
    -webkit-box-shadow: 0px 0px 12px 1px rgba(87, 87, 87, 0.2);
    box-shadow: 0px 0px 12px 1px rgba(87, 87, 87, 0.2);
  }
}
.CodeMirror-dialog {
  background-color: #fff;
}
/*!
*
* IPython notebook
*
*/
/* CSS font colors for translated ANSI escape sequences */
/* The color values are a mix of
   http://www.xcolors.net/dl/baskerville-ivorylight and
   http://www.xcolors.net/dl/euphrasia */
.ansi-black-fg {
  color: #3E424D;
}
.ansi-black-bg {
  background-color: #3E424D;
}
.ansi-black-intense-fg {
  color: #282C36;
}
.ansi-black-intense-bg {
  background-color: #282C36;
}
.ansi-red-fg {
  color: #E75C58;
}
.ansi-red-bg {
  background-color: #E75C58;
}
.ansi-red-intense-fg {
  color: #B22B31;
}
.ansi-red-intense-bg {
  background-color: #B22B31;
}
.ansi-green-fg {
  color: #00A250;
}
.ansi-green-bg {
  background-color: #00A250;
}
.ansi-green-intense-fg {
  color: #007427;
}
.ansi-green-intense-bg {
  background-color: #007427;
}
.ansi-yellow-fg {
  color: #DDB62B;
}
.ansi-yellow-bg {
  background-color: #DDB62B;
}
.ansi-yellow-intense-fg {
  color: #B27D12;
}
.ansi-yellow-intense-bg {
  background-color: #B27D12;
}
.ansi-blue-fg {
  color: #208FFB;
}
.ansi-blue-bg {
  background-color: #208FFB;
}
.ansi-blue-intense-fg {
  color: #0065CA;
}
.ansi-blue-intense-bg {
  background-color: #0065CA;
}
.ansi-magenta-fg {
  color: #D160C4;
}
.ansi-magenta-bg {
  background-color: #D160C4;
}
.ansi-magenta-intense-fg {
  color: #A03196;
}
.ansi-magenta-intense-bg {
  background-color: #A03196;
}
.ansi-cyan-fg {
  color: #60C6C8;
}
.ansi-cyan-bg {
  background-color: #60C6C8;
}
.ansi-cyan-intense-fg {
  color: #258F8F;
}
.ansi-cyan-intense-bg {
  background-color: #258F8F;
}
.ansi-white-fg {
  color: #C5C1B4;
}
.ansi-white-bg {
  background-color: #C5C1B4;
}
.ansi-white-intense-fg {
  color: #A1A6B2;
}
.ansi-white-intense-bg {
  background-color: #A1A6B2;
}
.ansi-default-inverse-fg {
  color: #FFFFFF;
}
.ansi-default-inverse-bg {
  background-color: #000000;
}
.ansi-bold {
  font-weight: bold;
}
.ansi-underline {
  text-decoration: underline;
}
/* The following styles are deprecated an will be removed in a future version */
.ansibold {
  font-weight: bold;
}
.ansi-inverse {
  outline: 0.5px dotted;
}
/* use dark versions for foreground, to improve visibility */
.ansiblack {
  color: black;
}
.ansired {
  color: darkred;
}
.ansigreen {
  color: darkgreen;
}
.ansiyellow {
  color: #c4a000;
}
.ansiblue {
  color: darkblue;
}
.ansipurple {
  color: darkviolet;
}
.ansicyan {
  color: steelblue;
}
.ansigray {
  color: gray;
}
/* and light for background, for the same reason */
.ansibgblack {
  background-color: black;
}
.ansibgred {
  background-color: red;
}
.ansibggreen {
  background-color: green;
}
.ansibgyellow {
  background-color: yellow;
}
.ansibgblue {
  background-color: blue;
}
.ansibgpurple {
  background-color: magenta;
}
.ansibgcyan {
  background-color: cyan;
}
.ansibggray {
  background-color: gray;
}
div.cell {
  /* Old browsers */
  display: -webkit-box;
  -webkit-box-orient: vertical;
  -webkit-box-align: stretch;
  display: -moz-box;
  -moz-box-orient: vertical;
  -moz-box-align: stretch;
  display: box;
  box-orient: vertical;
  box-align: stretch;
  /* Modern browsers */
  display: flex;
  flex-direction: column;
  align-items: stretch;
  border-radius: 2px;
  box-sizing: border-box;
  -moz-box-sizing: border-box;
  -webkit-box-sizing: border-box;
  border-width: 1px;
  border-style: solid;
  border-color: transparent;
  width: 100%;
  padding: 5px;
  /* This acts as a spacer between cells, that is outside the border */
  margin: 0px;
  outline: none;
  position: relative;
  overflow: visible;
}
div.cell:before {
  position: absolute;
  display: block;
  top: -1px;
  left: -1px;
  width: 5px;
  height: calc(100% +  2px);
  content: '';
  background: transparent;
}
div.cell.jupyter-soft-selected {
  border-left-color: #E3F2FD;
  border-left-width: 1px;
  padding-left: 5px;
  border-right-color: #E3F2FD;
  border-right-width: 1px;
  background: #E3F2FD;
}
@media print {
  div.cell.jupyter-soft-selected {
    border-color: transparent;
  }
}
div.cell.selected,
div.cell.selected.jupyter-soft-selected {
  border-color: #ababab;
}
div.cell.selected:before,
div.cell.selected.jupyter-soft-selected:before {
  position: absolute;
  display: block;
  top: -1px;
  left: -1px;
  width: 5px;
  height: calc(100% +  2px);
  content: '';
  background: #42A5F5;
}
@media print {
  div.cell.selected,
  div.cell.selected.jupyter-soft-selected {
    border-color: transparent;
  }
}
.edit_mode div.cell.selected {
  border-color: #66BB6A;
}
.edit_mode div.cell.selected:before {
  position: absolute;
  display: block;
  top: -1px;
  left: -1px;
  width: 5px;
  height: calc(100% +  2px);
  content: '';
  background: #66BB6A;
}
@media print {
  .edit_mode div.cell.selected {
    border-color: transparent;
  }
}
.prompt {
  /* This needs to be wide enough for 3 digit prompt numbers: In[100]: */
  min-width: 14ex;
  /* This padding is tuned to match the padding on the CodeMirror editor. */
  padding: 0.4em;
  margin: 0px;
  font-family: monospace;
  text-align: right;
  /* This has to match that of the the CodeMirror class line-height below */
  line-height: 1.21429em;
  /* Don't highlight prompt number selection */
  -webkit-touch-callout: none;
  -webkit-user-select: none;
  -khtml-user-select: none;
  -moz-user-select: none;
  -ms-user-select: none;
  user-select: none;
  /* Use default cursor */
  cursor: default;
}
@media (max-width: 540px) {
  .prompt {
    text-align: left;
  }
}
div.inner_cell {
  min-width: 0;
  /* Old browsers */
  display: -webkit-box;
  -webkit-box-orient: vertical;
  -webkit-box-align: stretch;
  display: -moz-box;
  -moz-box-orient: vertical;
  -moz-box-align: stretch;
  display: box;
  box-orient: vertical;
  box-align: stretch;
  /* Modern browsers */
  display: flex;
  flex-direction: column;
  align-items: stretch;
  /* Old browsers */
  -webkit-box-flex: 1;
  -moz-box-flex: 1;
  box-flex: 1;
  /* Modern browsers */
  flex: 1;
}
/* input_area and input_prompt must match in top border and margin for alignment */
div.input_area {
  border: 1px solid #cfcfcf;
  border-radius: 2px;
  background: #f7f7f7;
  line-height: 1.21429em;
}
/* This is needed so that empty prompt areas can collapse to zero height when there
   is no content in the output_subarea and the prompt. The main purpose of this is
   to make sure that empty JavaScript output_subareas have no height. */
div.prompt:empty {
  padding-top: 0;
  padding-bottom: 0;
}
div.unrecognized_cell {
  padding: 5px 5px 5px 0px;
  /* Old browsers */
  display: -webkit-box;
  -webkit-box-orient: horizontal;
  -webkit-box-align: stretch;
  display: -moz-box;
  -moz-box-orient: horizontal;
  -moz-box-align: stretch;
  display: box;
  box-orient: horizontal;
  box-align: stretch;
  /* Modern browsers */
  display: flex;
  flex-direction: row;
  align-items: stretch;
}
div.unrecognized_cell .inner_cell {
  border-radius: 2px;
  padding: 5px;
  font-weight: bold;
  color: red;
  border: 1px solid #cfcfcf;
  background: #eaeaea;
}
div.unrecognized_cell .inner_cell a {
  color: inherit;
  text-decoration: none;
}
div.unrecognized_cell .inner_cell a:hover {
  color: inherit;
  text-decoration: none;
}
@media (max-width: 540px) {
  div.unrecognized_cell > div.prompt {
    display: none;
  }
}
div.code_cell {
  /* avoid page breaking on code cells when printing */
}
@media print {
  div.code_cell {
    page-break-inside: avoid;
  }
}
/* any special styling for code cells that are currently running goes here */
div.input {
  page-break-inside: avoid;
  /* Old browsers */
  display: -webkit-box;
  -webkit-box-orient: horizontal;
  -webkit-box-align: stretch;
  display: -moz-box;
  -moz-box-orient: horizontal;
  -moz-box-align: stretch;
  display: box;
  box-orient: horizontal;
  box-align: stretch;
  /* Modern browsers */
  display: flex;
  flex-direction: row;
  align-items: stretch;
}
@media (max-width: 540px) {
  div.input {
    /* Old browsers */
    display: -webkit-box;
    -webkit-box-orient: vertical;
    -webkit-box-align: stretch;
    display: -moz-box;
    -moz-box-orient: vertical;
    -moz-box-align: stretch;
    display: box;
    box-orient: vertical;
    box-align: stretch;
    /* Modern browsers */
    display: flex;
    flex-direction: column;
    align-items: stretch;
  }
}
/* input_area and input_prompt must match in top border and margin for alignment */
div.input_prompt {
  color: #303F9F;
  border-top: 1px solid transparent;
}
div.input_area > div.highlight {
  margin: 0.4em;
  border: none;
  padding: 0px;
  background-color: transparent;
}
div.input_area > div.highlight > pre {
  margin: 0px;
  border: none;
  padding: 0px;
  background-color: transparent;
}
/* The following gets added to the <head> if it is detected that the user has a
 * monospace font with inconsistent normal/bold/italic height.  See
 * notebookmain.js.  Such fonts will have keywords vertically offset with
 * respect to the rest of the text.  The user should select a better font.
 * See: https://github.com/ipython/ipython/issues/1503
 *
 * .CodeMirror span {
 *      vertical-align: bottom;
 * }
 */
.CodeMirror {
  line-height: 1.21429em;
  /* Changed from 1em to our global default */
  font-size: 14px;
  height: auto;
  /* Changed to auto to autogrow */
  background: none;
  /* Changed from white to allow our bg to show through */
}
.CodeMirror-scroll {
  /*  The CodeMirror docs are a bit fuzzy on if overflow-y should be hidden or visible.*/
  /*  We have found that if it is visible, vertical scrollbars appear with font size changes.*/
  overflow-y: hidden;
  overflow-x: auto;
}
.CodeMirror-lines {
  /* In CM2, this used to be 0.4em, but in CM3 it went to 4px. We need the em value because */
  /* we have set a different line-height and want this to scale with that. */
  /* Note that this should set vertical padding only, since CodeMirror assumes
       that horizontal padding will be set on CodeMirror pre */
  padding: 0.4em 0;
}
.CodeMirror-linenumber {
  padding: 0 8px 0 4px;
}
.CodeMirror-gutters {
  border-bottom-left-radius: 2px;
  border-top-left-radius: 2px;
}
.CodeMirror pre {
  /* In CM3 this went to 4px from 0 in CM2. This sets horizontal padding only,
    use .CodeMirror-lines for vertical */
  padding: 0 0.4em;
  border: 0;
  border-radius: 0;
}
.CodeMirror-cursor {
  border-left: 1.4px solid black;
}
@media screen and (min-width: 2138px) and (max-width: 4319px) {
  .CodeMirror-cursor {
    border-left: 2px solid black;
  }
}
@media screen and (min-width: 4320px) {
  .CodeMirror-cursor {
    border-left: 4px solid black;
  }
}
/*

Original style from softwaremaniacs.org (c) Ivan Sagalaev <Maniac@SoftwareManiacs.Org>
Adapted from GitHub theme

*/
.highlight-base {
  color: #000;
}
.highlight-variable {
  color: #000;
}
.highlight-variable-2 {
  color: #1a1a1a;
}
.highlight-variable-3 {
  color: #333333;
}
.highlight-string {
  color: #BA2121;
}
.highlight-comment {
  color: #408080;
  font-style: italic;
}
.highlight-number {
  color: #080;
}
.highlight-atom {
  color: #88F;
}
.highlight-keyword {
  color: #008000;
  font-weight: bold;
}
.highlight-builtin {
  color: #008000;
}
.highlight-error {
  color: #f00;
}
.highlight-operator {
  color: #AA22FF;
  font-weight: bold;
}
.highlight-meta {
  color: #AA22FF;
}
/* previously not defined, copying from default codemirror */
.highlight-def {
  color: #00f;
}
.highlight-string-2 {
  color: #f50;
}
.highlight-qualifier {
  color: #555;
}
.highlight-bracket {
  color: #997;
}
.highlight-tag {
  color: #170;
}
.highlight-attribute {
  color: #00c;
}
.highlight-header {
  color: blue;
}
.highlight-quote {
  color: #090;
}
.highlight-link {
  color: #00c;
}
/* apply the same style to codemirror */
.cm-s-ipython span.cm-keyword {
  color: #008000;
  font-weight: bold;
}
.cm-s-ipython span.cm-atom {
  color: #88F;
}
.cm-s-ipython span.cm-number {
  color: #080;
}
.cm-s-ipython span.cm-def {
  color: #00f;
}
.cm-s-ipython span.cm-variable {
  color: #000;
}
.cm-s-ipython span.cm-operator {
  color: #AA22FF;
  font-weight: bold;
}
.cm-s-ipython span.cm-variable-2 {
  color: #1a1a1a;
}
.cm-s-ipython span.cm-variable-3 {
  color: #333333;
}
.cm-s-ipython span.cm-comment {
  color: #408080;
  font-style: italic;
}
.cm-s-ipython span.cm-string {
  color: #BA2121;
}
.cm-s-ipython span.cm-string-2 {
  color: #f50;
}
.cm-s-ipython span.cm-meta {
  color: #AA22FF;
}
.cm-s-ipython span.cm-qualifier {
  color: #555;
}
.cm-s-ipython span.cm-builtin {
  color: #008000;
}
.cm-s-ipython span.cm-bracket {
  color: #997;
}
.cm-s-ipython span.cm-tag {
  color: #170;
}
.cm-s-ipython span.cm-attribute {
  color: #00c;
}
.cm-s-ipython span.cm-header {
  color: blue;
}
.cm-s-ipython span.cm-quote {
  color: #090;
}
.cm-s-ipython span.cm-link {
  color: #00c;
}
.cm-s-ipython span.cm-error {
  color: #f00;
}
.cm-s-ipython span.cm-tab {
  background: url(data:image/png;base64,iVBORw0KGgoAAAANSUhEUgAAADAAAAAMCAYAAAAkuj5RAAAAAXNSR0IArs4c6QAAAGFJREFUSMft1LsRQFAQheHPowAKoACx3IgEKtaEHujDjORSgWTH/ZOdnZOcM/sgk/kFFWY0qV8foQwS4MKBCS3qR6ixBJvElOobYAtivseIE120FaowJPN75GMu8j/LfMwNjh4HUpwg4LUAAAAASUVORK5CYII=);
  background-position: right;
  background-repeat: no-repeat;
}
div.output_wrapper {
  /* this position must be relative to enable descendents to be absolute within it */
  position: relative;
  /* Old browsers */
  display: -webkit-box;
  -webkit-box-orient: vertical;
  -webkit-box-align: stretch;
  display: -moz-box;
  -moz-box-orient: vertical;
  -moz-box-align: stretch;
  display: box;
  box-orient: vertical;
  box-align: stretch;
  /* Modern browsers */
  display: flex;
  flex-direction: column;
  align-items: stretch;
  z-index: 1;
}
/* class for the output area when it should be height-limited */
div.output_scroll {
  /* ideally, this would be max-height, but FF barfs all over that */
  height: 24em;
  /* FF needs this *and the wrapper* to specify full width, or it will shrinkwrap */
  width: 100%;
  overflow: auto;
  border-radius: 2px;
  -webkit-box-shadow: inset 0 2px 8px rgba(0, 0, 0, 0.8);
  box-shadow: inset 0 2px 8px rgba(0, 0, 0, 0.8);
  display: block;
}
/* output div while it is collapsed */
div.output_collapsed {
  margin: 0px;
  padding: 0px;
  /* Old browsers */
  display: -webkit-box;
  -webkit-box-orient: vertical;
  -webkit-box-align: stretch;
  display: -moz-box;
  -moz-box-orient: vertical;
  -moz-box-align: stretch;
  display: box;
  box-orient: vertical;
  box-align: stretch;
  /* Modern browsers */
  display: flex;
  flex-direction: column;
  align-items: stretch;
}
div.out_prompt_overlay {
  height: 100%;
  padding: 0px 0.4em;
  position: absolute;
  border-radius: 2px;
}
div.out_prompt_overlay:hover {
  /* use inner shadow to get border that is computed the same on WebKit/FF */
  -webkit-box-shadow: inset 0 0 1px #000;
  box-shadow: inset 0 0 1px #000;
  background: rgba(240, 240, 240, 0.5);
}
div.output_prompt {
  color: #D84315;
}
/* This class is the outer container of all output sections. */
div.output_area {
  padding: 0px;
  page-break-inside: avoid;
  /* Old browsers */
  display: -webkit-box;
  -webkit-box-orient: horizontal;
  -webkit-box-align: stretch;
  display: -moz-box;
  -moz-box-orient: horizontal;
  -moz-box-align: stretch;
  display: box;
  box-orient: horizontal;
  box-align: stretch;
  /* Modern browsers */
  display: flex;
  flex-direction: row;
  align-items: stretch;
}
div.output_area .MathJax_Display {
  text-align: left !important;
}
div.output_area .rendered_html table {
  margin-left: 0;
  margin-right: 0;
}
div.output_area .rendered_html img {
  margin-left: 0;
  margin-right: 0;
}
div.output_area img,
div.output_area svg {
  max-width: 100%;
  height: auto;
}
div.output_area img.unconfined,
div.output_area svg.unconfined {
  max-width: none;
}
div.output_area .mglyph > img {
  max-width: none;
}
/* This is needed to protect the pre formating from global settings such
   as that of bootstrap */
.output {
  /* Old browsers */
  display: -webkit-box;
  -webkit-box-orient: vertical;
  -webkit-box-align: stretch;
  display: -moz-box;
  -moz-box-orient: vertical;
  -moz-box-align: stretch;
  display: box;
  box-orient: vertical;
  box-align: stretch;
  /* Modern browsers */
  display: flex;
  flex-direction: column;
  align-items: stretch;
}
@media (max-width: 540px) {
  div.output_area {
    /* Old browsers */
    display: -webkit-box;
    -webkit-box-orient: vertical;
    -webkit-box-align: stretch;
    display: -moz-box;
    -moz-box-orient: vertical;
    -moz-box-align: stretch;
    display: box;
    box-orient: vertical;
    box-align: stretch;
    /* Modern browsers */
    display: flex;
    flex-direction: column;
    align-items: stretch;
  }
}
div.output_area pre {
  margin: 0;
  padding: 1px 0 1px 0;
  border: 0;
  vertical-align: baseline;
  color: black;
  background-color: transparent;
  border-radius: 0;
}
/* This class is for the output subarea inside the output_area and after
   the prompt div. */
div.output_subarea {
  overflow-x: auto;
  padding: 0.4em;
  /* Old browsers */
  -webkit-box-flex: 1;
  -moz-box-flex: 1;
  box-flex: 1;
  /* Modern browsers */
  flex: 1;
  max-width: calc(100% - 14ex);
}
div.output_scroll div.output_subarea {
  overflow-x: visible;
}
/* The rest of the output_* classes are for special styling of the different
   output types */
/* all text output has this class: */
div.output_text {
  text-align: left;
  color: #000;
  /* This has to match that of the the CodeMirror class line-height below */
  line-height: 1.21429em;
}
/* stdout/stderr are 'text' as well as 'stream', but execute_result/error are *not* streams */
div.output_stderr {
  background: #fdd;
  /* very light red background for stderr */
}
div.output_latex {
  text-align: left;
}
/* Empty output_javascript divs should have no height */
div.output_javascript:empty {
  padding: 0;
}
.js-error {
  color: darkred;
}
/* raw_input styles */
div.raw_input_container {
  line-height: 1.21429em;
  padding-top: 5px;
}
pre.raw_input_prompt {
  /* nothing needed here. */
}
input.raw_input {
  font-family: monospace;
  font-size: inherit;
  color: inherit;
  width: auto;
  /* make sure input baseline aligns with prompt */
  vertical-align: baseline;
  /* padding + margin = 0.5em between prompt and cursor */
  padding: 0em 0.25em;
  margin: 0em 0.25em;
}
input.raw_input:focus {
  box-shadow: none;
}
p.p-space {
  margin-bottom: 10px;
}
div.output_unrecognized {
  padding: 5px;
  font-weight: bold;
  color: red;
}
div.output_unrecognized a {
  color: inherit;
  text-decoration: none;
}
div.output_unrecognized a:hover {
  color: inherit;
  text-decoration: none;
}
.rendered_html {
  color: #000;
  /* any extras will just be numbers: */
}
.rendered_html em {
  font-style: italic;
}
.rendered_html strong {
  font-weight: bold;
}
.rendered_html u {
  text-decoration: underline;
}
.rendered_html :link {
  text-decoration: underline;
}
.rendered_html :visited {
  text-decoration: underline;
}
.rendered_html h1 {
  font-size: 185.7%;
  margin: 1.08em 0 0 0;
  font-weight: bold;
  line-height: 1.0;
}
.rendered_html h2 {
  font-size: 157.1%;
  margin: 1.27em 0 0 0;
  font-weight: bold;
  line-height: 1.0;
}
.rendered_html h3 {
  font-size: 128.6%;
  margin: 1.55em 0 0 0;
  font-weight: bold;
  line-height: 1.0;
}
.rendered_html h4 {
  font-size: 100%;
  margin: 2em 0 0 0;
  font-weight: bold;
  line-height: 1.0;
}
.rendered_html h5 {
  font-size: 100%;
  margin: 2em 0 0 0;
  font-weight: bold;
  line-height: 1.0;
  font-style: italic;
}
.rendered_html h6 {
  font-size: 100%;
  margin: 2em 0 0 0;
  font-weight: bold;
  line-height: 1.0;
  font-style: italic;
}
.rendered_html h1:first-child {
  margin-top: 0.538em;
}
.rendered_html h2:first-child {
  margin-top: 0.636em;
}
.rendered_html h3:first-child {
  margin-top: 0.777em;
}
.rendered_html h4:first-child {
  margin-top: 1em;
}
.rendered_html h5:first-child {
  margin-top: 1em;
}
.rendered_html h6:first-child {
  margin-top: 1em;
}
.rendered_html ul:not(.list-inline),
.rendered_html ol:not(.list-inline) {
  padding-left: 2em;
}
.rendered_html ul {
  list-style: disc;
}
.rendered_html ul ul {
  list-style: square;
  margin-top: 0;
}
.rendered_html ul ul ul {
  list-style: circle;
}
.rendered_html ol {
  list-style: decimal;
}
.rendered_html ol ol {
  list-style: upper-alpha;
  margin-top: 0;
}
.rendered_html ol ol ol {
  list-style: lower-alpha;
}
.rendered_html ol ol ol ol {
  list-style: lower-roman;
}
.rendered_html ol ol ol ol ol {
  list-style: decimal;
}
.rendered_html * + ul {
  margin-top: 1em;
}
.rendered_html * + ol {
  margin-top: 1em;
}
.rendered_html hr {
  color: black;
  background-color: black;
}
.rendered_html pre {
  margin: 1em 2em;
  padding: 0px;
  background-color: #fff;
}
.rendered_html code {
  background-color: #eff0f1;
}
.rendered_html p code {
  padding: 1px 5px;
}
.rendered_html pre code {
  background-color: #fff;
}
.rendered_html pre,
.rendered_html code {
  border: 0;
  color: #000;
  font-size: 100%;
}
.rendered_html blockquote {
  margin: 1em 2em;
}
.rendered_html table {
  margin-left: auto;
  margin-right: auto;
  border: none;
  border-collapse: collapse;
  border-spacing: 0;
  color: black;
  font-size: 12px;
  table-layout: fixed;
}
.rendered_html thead {
  border-bottom: 1px solid black;
  vertical-align: bottom;
}
.rendered_html tr,
.rendered_html th,
.rendered_html td {
  text-align: right;
  vertical-align: middle;
  padding: 0.5em 0.5em;
  line-height: normal;
  white-space: normal;
  max-width: none;
  border: none;
}
.rendered_html th {
  font-weight: bold;
}
.rendered_html tbody tr:nth-child(odd) {
  background: #f5f5f5;
}
.rendered_html tbody tr:hover {
  background: rgba(66, 165, 245, 0.2);
}
.rendered_html * + table {
  margin-top: 1em;
}
.rendered_html p {
  text-align: left;
}
.rendered_html * + p {
  margin-top: 1em;
}
.rendered_html img {
  display: block;
  margin-left: auto;
  margin-right: auto;
}
.rendered_html * + img {
  margin-top: 1em;
}
.rendered_html img,
.rendered_html svg {
  max-width: 100%;
  height: auto;
}
.rendered_html img.unconfined,
.rendered_html svg.unconfined {
  max-width: none;
}
.rendered_html .alert {
  margin-bottom: initial;
}
.rendered_html * + .alert {
  margin-top: 1em;
}
[dir="rtl"] .rendered_html p {
  text-align: right;
}
div.text_cell {
  /* Old browsers */
  display: -webkit-box;
  -webkit-box-orient: horizontal;
  -webkit-box-align: stretch;
  display: -moz-box;
  -moz-box-orient: horizontal;
  -moz-box-align: stretch;
  display: box;
  box-orient: horizontal;
  box-align: stretch;
  /* Modern browsers */
  display: flex;
  flex-direction: row;
  align-items: stretch;
}
@media (max-width: 540px) {
  div.text_cell > div.prompt {
    display: none;
  }
}
div.text_cell_render {
  /*font-family: "Helvetica Neue", Arial, Helvetica, Geneva, sans-serif;*/
  outline: none;
  resize: none;
  width: inherit;
  border-style: none;
  padding: 0.5em 0.5em 0.5em 0.4em;
  color: #000;
  box-sizing: border-box;
  -moz-box-sizing: border-box;
  -webkit-box-sizing: border-box;
}
a.anchor-link:link {
  text-decoration: none;
  padding: 0px 20px;
  visibility: hidden;
}
h1:hover .anchor-link,
h2:hover .anchor-link,
h3:hover .anchor-link,
h4:hover .anchor-link,
h5:hover .anchor-link,
h6:hover .anchor-link {
  visibility: visible;
}
.text_cell.rendered .input_area {
  display: none;
}
.text_cell.rendered .rendered_html {
  overflow-x: auto;
  overflow-y: hidden;
}
.text_cell.rendered .rendered_html tr,
.text_cell.rendered .rendered_html th,
.text_cell.rendered .rendered_html td {
  max-width: none;
}
.text_cell.unrendered .text_cell_render {
  display: none;
}
.text_cell .dropzone .input_area {
  border: 2px dashed #bababa;
  margin: -1px;
}
.cm-header-1,
.cm-header-2,
.cm-header-3,
.cm-header-4,
.cm-header-5,
.cm-header-6 {
  font-weight: bold;
  font-family: "Helvetica Neue", Helvetica, Arial, sans-serif;
}
.cm-header-1 {
  font-size: 185.7%;
}
.cm-header-2 {
  font-size: 157.1%;
}
.cm-header-3 {
  font-size: 128.6%;
}
.cm-header-4 {
  font-size: 110%;
}
.cm-header-5 {
  font-size: 100%;
  font-style: italic;
}
.cm-header-6 {
  font-size: 100%;
  font-style: italic;
}
/*!
*
* IPython notebook webapp
*
*/
@media (max-width: 767px) {
  .notebook_app {
    padding-left: 0px;
    padding-right: 0px;
  }
}
#ipython-main-app {
  box-sizing: border-box;
  -moz-box-sizing: border-box;
  -webkit-box-sizing: border-box;
  height: 100%;
}
div#notebook_panel {
  margin: 0px;
  padding: 0px;
  box-sizing: border-box;
  -moz-box-sizing: border-box;
  -webkit-box-sizing: border-box;
  height: 100%;
}
div#notebook {
  font-size: 14px;
  line-height: 20px;
  overflow-y: hidden;
  overflow-x: auto;
  width: 100%;
  /* This spaces the page away from the edge of the notebook area */
  padding-top: 20px;
  margin: 0px;
  outline: none;
  box-sizing: border-box;
  -moz-box-sizing: border-box;
  -webkit-box-sizing: border-box;
  min-height: 100%;
}
@media not print {
  #notebook-container {
    padding: 15px;
    background-color: #fff;
    min-height: 0;
    -webkit-box-shadow: 0px 0px 12px 1px rgba(87, 87, 87, 0.2);
    box-shadow: 0px 0px 12px 1px rgba(87, 87, 87, 0.2);
  }
}
@media print {
  #notebook-container {
    width: 100%;
  }
}
div.ui-widget-content {
  border: 1px solid #ababab;
  outline: none;
}
pre.dialog {
  background-color: #f7f7f7;
  border: 1px solid #ddd;
  border-radius: 2px;
  padding: 0.4em;
  padding-left: 2em;
}
p.dialog {
  padding: 0.2em;
}
/* Word-wrap output correctly.  This is the CSS3 spelling, though Firefox seems
   to not honor it correctly.  Webkit browsers (Chrome, rekonq, Safari) do.
 */
pre,
code,
kbd,
samp {
  white-space: pre-wrap;
}
#fonttest {
  font-family: monospace;
}
p {
  margin-bottom: 0;
}
.end_space {
  min-height: 100px;
  transition: height .2s ease;
}
.notebook_app > #header {
  -webkit-box-shadow: 0px 0px 12px 1px rgba(87, 87, 87, 0.2);
  box-shadow: 0px 0px 12px 1px rgba(87, 87, 87, 0.2);
}
@media not print {
  .notebook_app {
    background-color: #EEE;
  }
}
kbd {
  border-style: solid;
  border-width: 1px;
  box-shadow: none;
  margin: 2px;
  padding-left: 2px;
  padding-right: 2px;
  padding-top: 1px;
  padding-bottom: 1px;
}
.jupyter-keybindings {
  padding: 1px;
  line-height: 24px;
  border-bottom: 1px solid gray;
}
.jupyter-keybindings input {
  margin: 0;
  padding: 0;
  border: none;
}
.jupyter-keybindings i {
  padding: 6px;
}
.well code {
  background-color: #ffffff;
  border-color: #ababab;
  border-width: 1px;
  border-style: solid;
  padding: 2px;
  padding-top: 1px;
  padding-bottom: 1px;
}
/* CSS for the cell toolbar */
.celltoolbar {
  border: thin solid #CFCFCF;
  border-bottom: none;
  background: #EEE;
  border-radius: 2px 2px 0px 0px;
  width: 100%;
  height: 29px;
  padding-right: 4px;
  /* Old browsers */
  display: -webkit-box;
  -webkit-box-orient: horizontal;
  -webkit-box-align: stretch;
  display: -moz-box;
  -moz-box-orient: horizontal;
  -moz-box-align: stretch;
  display: box;
  box-orient: horizontal;
  box-align: stretch;
  /* Modern browsers */
  display: flex;
  flex-direction: row;
  align-items: stretch;
  /* Old browsers */
  -webkit-box-pack: end;
  -moz-box-pack: end;
  box-pack: end;
  /* Modern browsers */
  justify-content: flex-end;
  display: -webkit-flex;
}
@media print {
  .celltoolbar {
    display: none;
  }
}
.ctb_hideshow {
  display: none;
  vertical-align: bottom;
}
/* ctb_show is added to the ctb_hideshow div to show the cell toolbar.
   Cell toolbars are only shown when the ctb_global_show class is also set.
*/
.ctb_global_show .ctb_show.ctb_hideshow {
  display: block;
}
.ctb_global_show .ctb_show + .input_area,
.ctb_global_show .ctb_show + div.text_cell_input,
.ctb_global_show .ctb_show ~ div.text_cell_render {
  border-top-right-radius: 0px;
  border-top-left-radius: 0px;
}
.ctb_global_show .ctb_show ~ div.text_cell_render {
  border: 1px solid #cfcfcf;
}
.celltoolbar {
  font-size: 87%;
  padding-top: 3px;
}
.celltoolbar select {
  display: block;
  width: 100%;
  height: 32px;
  padding: 6px 12px;
  font-size: 13px;
  line-height: 1.42857143;
  color: #555555;
  background-color: #fff;
  background-image: none;
  border: 1px solid #ccc;
  border-radius: 2px;
  -webkit-box-shadow: inset 0 1px 1px rgba(0, 0, 0, 0.075);
  box-shadow: inset 0 1px 1px rgba(0, 0, 0, 0.075);
  -webkit-transition: border-color ease-in-out .15s, box-shadow ease-in-out .15s;
  -o-transition: border-color ease-in-out .15s, box-shadow ease-in-out .15s;
  transition: border-color ease-in-out .15s, box-shadow ease-in-out .15s;
  height: 30px;
  padding: 5px 10px;
  font-size: 12px;
  line-height: 1.5;
  border-radius: 1px;
  width: inherit;
  font-size: inherit;
  height: 22px;
  padding: 0px;
  display: inline-block;
}
.celltoolbar select:focus {
  border-color: #66afe9;
  outline: 0;
  -webkit-box-shadow: inset 0 1px 1px rgba(0,0,0,.075), 0 0 8px rgba(102, 175, 233, 0.6);
  box-shadow: inset 0 1px 1px rgba(0,0,0,.075), 0 0 8px rgba(102, 175, 233, 0.6);
}
.celltoolbar select::-moz-placeholder {
  color: #999;
  opacity: 1;
}
.celltoolbar select:-ms-input-placeholder {
  color: #999;
}
.celltoolbar select::-webkit-input-placeholder {
  color: #999;
}
.celltoolbar select::-ms-expand {
  border: 0;
  background-color: transparent;
}
.celltoolbar select[disabled],
.celltoolbar select[readonly],
fieldset[disabled] .celltoolbar select {
  background-color: #eeeeee;
  opacity: 1;
}
.celltoolbar select[disabled],
fieldset[disabled] .celltoolbar select {
  cursor: not-allowed;
}
textarea.celltoolbar select {
  height: auto;
}
select.celltoolbar select {
  height: 30px;
  line-height: 30px;
}
textarea.celltoolbar select,
select[multiple].celltoolbar select {
  height: auto;
}
.celltoolbar label {
  margin-left: 5px;
  margin-right: 5px;
}
.tags_button_container {
  width: 100%;
  display: flex;
}
.tag-container {
  display: flex;
  flex-direction: row;
  flex-grow: 1;
  overflow: hidden;
  position: relative;
}
.tag-container > * {
  margin: 0 4px;
}
.remove-tag-btn {
  margin-left: 4px;
}
.tags-input {
  display: flex;
}
.cell-tag:last-child:after {
  content: "";
  position: absolute;
  right: 0;
  width: 40px;
  height: 100%;
  /* Fade to background color of cell toolbar */
  background: linear-gradient(to right, rgba(0, 0, 0, 0), #EEE);
}
.tags-input > * {
  margin-left: 4px;
}
.cell-tag,
.tags-input input,
.tags-input button {
  display: block;
  width: 100%;
  height: 32px;
  padding: 6px 12px;
  font-size: 13px;
  line-height: 1.42857143;
  color: #555555;
  background-color: #fff;
  background-image: none;
  border: 1px solid #ccc;
  border-radius: 2px;
  -webkit-box-shadow: inset 0 1px 1px rgba(0, 0, 0, 0.075);
  box-shadow: inset 0 1px 1px rgba(0, 0, 0, 0.075);
  -webkit-transition: border-color ease-in-out .15s, box-shadow ease-in-out .15s;
  -o-transition: border-color ease-in-out .15s, box-shadow ease-in-out .15s;
  transition: border-color ease-in-out .15s, box-shadow ease-in-out .15s;
  height: 30px;
  padding: 5px 10px;
  font-size: 12px;
  line-height: 1.5;
  border-radius: 1px;
  box-shadow: none;
  width: inherit;
  font-size: inherit;
  height: 22px;
  line-height: 22px;
  padding: 0px 4px;
  display: inline-block;
}
.cell-tag:focus,
.tags-input input:focus,
.tags-input button:focus {
  border-color: #66afe9;
  outline: 0;
  -webkit-box-shadow: inset 0 1px 1px rgba(0,0,0,.075), 0 0 8px rgba(102, 175, 233, 0.6);
  box-shadow: inset 0 1px 1px rgba(0,0,0,.075), 0 0 8px rgba(102, 175, 233, 0.6);
}
.cell-tag::-moz-placeholder,
.tags-input input::-moz-placeholder,
.tags-input button::-moz-placeholder {
  color: #999;
  opacity: 1;
}
.cell-tag:-ms-input-placeholder,
.tags-input input:-ms-input-placeholder,
.tags-input button:-ms-input-placeholder {
  color: #999;
}
.cell-tag::-webkit-input-placeholder,
.tags-input input::-webkit-input-placeholder,
.tags-input button::-webkit-input-placeholder {
  color: #999;
}
.cell-tag::-ms-expand,
.tags-input input::-ms-expand,
.tags-input button::-ms-expand {
  border: 0;
  background-color: transparent;
}
.cell-tag[disabled],
.tags-input input[disabled],
.tags-input button[disabled],
.cell-tag[readonly],
.tags-input input[readonly],
.tags-input button[readonly],
fieldset[disabled] .cell-tag,
fieldset[disabled] .tags-input input,
fieldset[disabled] .tags-input button {
  background-color: #eeeeee;
  opacity: 1;
}
.cell-tag[disabled],
.tags-input input[disabled],
.tags-input button[disabled],
fieldset[disabled] .cell-tag,
fieldset[disabled] .tags-input input,
fieldset[disabled] .tags-input button {
  cursor: not-allowed;
}
textarea.cell-tag,
textarea.tags-input input,
textarea.tags-input button {
  height: auto;
}
select.cell-tag,
select.tags-input input,
select.tags-input button {
  height: 30px;
  line-height: 30px;
}
textarea.cell-tag,
textarea.tags-input input,
textarea.tags-input button,
select[multiple].cell-tag,
select[multiple].tags-input input,
select[multiple].tags-input button {
  height: auto;
}
.cell-tag,
.tags-input button {
  padding: 0px 4px;
}
.cell-tag {
  background-color: #fff;
  white-space: nowrap;
}
.tags-input input[type=text]:focus {
  outline: none;
  box-shadow: none;
  border-color: #ccc;
}
.completions {
  position: absolute;
  z-index: 110;
  overflow: hidden;
  border: 1px solid #ababab;
  border-radius: 2px;
  -webkit-box-shadow: 0px 6px 10px -1px #adadad;
  box-shadow: 0px 6px 10px -1px #adadad;
  line-height: 1;
}
.completions select {
  background: white;
  outline: none;
  border: none;
  padding: 0px;
  margin: 0px;
  overflow: auto;
  font-family: monospace;
  font-size: 110%;
  color: #000;
  width: auto;
}
.completions select option.context {
  color: #286090;
}
#kernel_logo_widget .current_kernel_logo {
  display: none;
  margin-top: -1px;
  margin-bottom: -1px;
  width: 32px;
  height: 32px;
}
[dir="rtl"] #kernel_logo_widget {
  float: left !important;
  float: left;
}
.modal .modal-body .move-path {
  display: flex;
  flex-direction: row;
  justify-content: space;
  align-items: center;
}
.modal .modal-body .move-path .server-root {
  padding-right: 20px;
}
.modal .modal-body .move-path .path-input {
  flex: 1;
}
#menubar {
  box-sizing: border-box;
  -moz-box-sizing: border-box;
  -webkit-box-sizing: border-box;
  margin-top: 1px;
}
#menubar .navbar {
  border-top: 1px;
  border-radius: 0px 0px 2px 2px;
  margin-bottom: 0px;
}
#menubar .navbar-toggle {
  float: left;
  padding-top: 7px;
  padding-bottom: 7px;
  border: none;
}
#menubar .navbar-collapse {
  clear: left;
}
[dir="rtl"] #menubar .navbar-toggle {
  float: right;
}
[dir="rtl"] #menubar .navbar-collapse {
  clear: right;
}
[dir="rtl"] #menubar .navbar-nav {
  float: right;
}
[dir="rtl"] #menubar .nav {
  padding-right: 0px;
}
[dir="rtl"] #menubar .navbar-nav > li {
  float: right;
}
[dir="rtl"] #menubar .navbar-right {
  float: left !important;
}
[dir="rtl"] ul.dropdown-menu {
  text-align: right;
  left: auto;
}
[dir="rtl"] ul#new-menu.dropdown-menu {
  right: auto;
  left: 0;
}
.nav-wrapper {
  border-bottom: 1px solid #e7e7e7;
}
i.menu-icon {
  padding-top: 4px;
}
[dir="rtl"] i.menu-icon.pull-right {
  float: left !important;
  float: left;
}
ul#help_menu li a {
  overflow: hidden;
  padding-right: 2.2em;
}
ul#help_menu li a i {
  margin-right: -1.2em;
}
[dir="rtl"] ul#help_menu li a {
  padding-left: 2.2em;
}
[dir="rtl"] ul#help_menu li a i {
  margin-right: 0;
  margin-left: -1.2em;
}
[dir="rtl"] ul#help_menu li a i.pull-right {
  float: left !important;
  float: left;
}
.dropdown-submenu {
  position: relative;
}
.dropdown-submenu > .dropdown-menu {
  top: 0;
  left: 100%;
  margin-top: -6px;
  margin-left: -1px;
}
[dir="rtl"] .dropdown-submenu > .dropdown-menu {
  right: 100%;
  margin-right: -1px;
}
.dropdown-submenu:hover > .dropdown-menu {
  display: block;
}
.dropdown-submenu > a:after {
  display: inline-block;
  font: normal normal normal 14px/1 FontAwesome;
  font-size: inherit;
  text-rendering: auto;
  -webkit-font-smoothing: antialiased;
  -moz-osx-font-smoothing: grayscale;
  display: block;
  content: "\f0da";
  float: right;
  color: #333333;
  margin-top: 2px;
  margin-right: -10px;
}
.dropdown-submenu > a:after.fa-pull-left {
  margin-right: .3em;
}
.dropdown-submenu > a:after.fa-pull-right {
  margin-left: .3em;
}
.dropdown-submenu > a:after.pull-left {
  margin-right: .3em;
}
.dropdown-submenu > a:after.pull-right {
  margin-left: .3em;
}
[dir="rtl"] .dropdown-submenu > a:after {
  float: left;
  content: "\f0d9";
  margin-right: 0;
  margin-left: -10px;
}
.dropdown-submenu:hover > a:after {
  color: #262626;
}
.dropdown-submenu.pull-left {
  float: none;
}
.dropdown-submenu.pull-left > .dropdown-menu {
  left: -100%;
  margin-left: 10px;
}
#notification_area {
  float: right !important;
  float: right;
  z-index: 10;
}
[dir="rtl"] #notification_area {
  float: left !important;
  float: left;
}
.indicator_area {
  float: right !important;
  float: right;
  color: #777;
  margin-left: 5px;
  margin-right: 5px;
  width: 11px;
  z-index: 10;
  text-align: center;
  width: auto;
}
[dir="rtl"] .indicator_area {
  float: left !important;
  float: left;
}
#kernel_indicator {
  float: right !important;
  float: right;
  color: #777;
  margin-left: 5px;
  margin-right: 5px;
  width: 11px;
  z-index: 10;
  text-align: center;
  width: auto;
  border-left: 1px solid;
}
#kernel_indicator .kernel_indicator_name {
  padding-left: 5px;
  padding-right: 5px;
}
[dir="rtl"] #kernel_indicator {
  float: left !important;
  float: left;
  border-left: 0;
  border-right: 1px solid;
}
#modal_indicator {
  float: right !important;
  float: right;
  color: #777;
  margin-left: 5px;
  margin-right: 5px;
  width: 11px;
  z-index: 10;
  text-align: center;
  width: auto;
}
[dir="rtl"] #modal_indicator {
  float: left !important;
  float: left;
}
#readonly-indicator {
  float: right !important;
  float: right;
  color: #777;
  margin-left: 5px;
  margin-right: 5px;
  width: 11px;
  z-index: 10;
  text-align: center;
  width: auto;
  margin-top: 2px;
  margin-bottom: 0px;
  margin-left: 0px;
  margin-right: 0px;
  display: none;
}
.modal_indicator:before {
  width: 1.28571429em;
  text-align: center;
}
.edit_mode .modal_indicator:before {
  display: inline-block;
  font: normal normal normal 14px/1 FontAwesome;
  font-size: inherit;
  text-rendering: auto;
  -webkit-font-smoothing: antialiased;
  -moz-osx-font-smoothing: grayscale;
  content: "\f040";
}
.edit_mode .modal_indicator:before.fa-pull-left {
  margin-right: .3em;
}
.edit_mode .modal_indicator:before.fa-pull-right {
  margin-left: .3em;
}
.edit_mode .modal_indicator:before.pull-left {
  margin-right: .3em;
}
.edit_mode .modal_indicator:before.pull-right {
  margin-left: .3em;
}
.command_mode .modal_indicator:before {
  display: inline-block;
  font: normal normal normal 14px/1 FontAwesome;
  font-size: inherit;
  text-rendering: auto;
  -webkit-font-smoothing: antialiased;
  -moz-osx-font-smoothing: grayscale;
  content: ' ';
}
.command_mode .modal_indicator:before.fa-pull-left {
  margin-right: .3em;
}
.command_mode .modal_indicator:before.fa-pull-right {
  margin-left: .3em;
}
.command_mode .modal_indicator:before.pull-left {
  margin-right: .3em;
}
.command_mode .modal_indicator:before.pull-right {
  margin-left: .3em;
}
.kernel_idle_icon:before {
  display: inline-block;
  font: normal normal normal 14px/1 FontAwesome;
  font-size: inherit;
  text-rendering: auto;
  -webkit-font-smoothing: antialiased;
  -moz-osx-font-smoothing: grayscale;
  content: "\f10c";
}
.kernel_idle_icon:before.fa-pull-left {
  margin-right: .3em;
}
.kernel_idle_icon:before.fa-pull-right {
  margin-left: .3em;
}
.kernel_idle_icon:before.pull-left {
  margin-right: .3em;
}
.kernel_idle_icon:before.pull-right {
  margin-left: .3em;
}
.kernel_busy_icon:before {
  display: inline-block;
  font: normal normal normal 14px/1 FontAwesome;
  font-size: inherit;
  text-rendering: auto;
  -webkit-font-smoothing: antialiased;
  -moz-osx-font-smoothing: grayscale;
  content: "\f111";
}
.kernel_busy_icon:before.fa-pull-left {
  margin-right: .3em;
}
.kernel_busy_icon:before.fa-pull-right {
  margin-left: .3em;
}
.kernel_busy_icon:before.pull-left {
  margin-right: .3em;
}
.kernel_busy_icon:before.pull-right {
  margin-left: .3em;
}
.kernel_dead_icon:before {
  display: inline-block;
  font: normal normal normal 14px/1 FontAwesome;
  font-size: inherit;
  text-rendering: auto;
  -webkit-font-smoothing: antialiased;
  -moz-osx-font-smoothing: grayscale;
  content: "\f1e2";
}
.kernel_dead_icon:before.fa-pull-left {
  margin-right: .3em;
}
.kernel_dead_icon:before.fa-pull-right {
  margin-left: .3em;
}
.kernel_dead_icon:before.pull-left {
  margin-right: .3em;
}
.kernel_dead_icon:before.pull-right {
  margin-left: .3em;
}
.kernel_disconnected_icon:before {
  display: inline-block;
  font: normal normal normal 14px/1 FontAwesome;
  font-size: inherit;
  text-rendering: auto;
  -webkit-font-smoothing: antialiased;
  -moz-osx-font-smoothing: grayscale;
  content: "\f127";
}
.kernel_disconnected_icon:before.fa-pull-left {
  margin-right: .3em;
}
.kernel_disconnected_icon:before.fa-pull-right {
  margin-left: .3em;
}
.kernel_disconnected_icon:before.pull-left {
  margin-right: .3em;
}
.kernel_disconnected_icon:before.pull-right {
  margin-left: .3em;
}
.notification_widget {
  color: #777;
  z-index: 10;
  background: rgba(240, 240, 240, 0.5);
  margin-right: 4px;
  color: #333;
  background-color: #fff;
  border-color: #ccc;
}
.notification_widget:focus,
.notification_widget.focus {
  color: #333;
  background-color: #e6e6e6;
  border-color: #8c8c8c;
}
.notification_widget:hover {
  color: #333;
  background-color: #e6e6e6;
  border-color: #adadad;
}
.notification_widget:active,
.notification_widget.active,
.open > .dropdown-toggle.notification_widget {
  color: #333;
  background-color: #e6e6e6;
  border-color: #adadad;
}
.notification_widget:active:hover,
.notification_widget.active:hover,
.open > .dropdown-toggle.notification_widget:hover,
.notification_widget:active:focus,
.notification_widget.active:focus,
.open > .dropdown-toggle.notification_widget:focus,
.notification_widget:active.focus,
.notification_widget.active.focus,
.open > .dropdown-toggle.notification_widget.focus {
  color: #333;
  background-color: #d4d4d4;
  border-color: #8c8c8c;
}
.notification_widget:active,
.notification_widget.active,
.open > .dropdown-toggle.notification_widget {
  background-image: none;
}
.notification_widget.disabled:hover,
.notification_widget[disabled]:hover,
fieldset[disabled] .notification_widget:hover,
.notification_widget.disabled:focus,
.notification_widget[disabled]:focus,
fieldset[disabled] .notification_widget:focus,
.notification_widget.disabled.focus,
.notification_widget[disabled].focus,
fieldset[disabled] .notification_widget.focus {
  background-color: #fff;
  border-color: #ccc;
}
.notification_widget .badge {
  color: #fff;
  background-color: #333;
}
.notification_widget.warning {
  color: #fff;
  background-color: #f0ad4e;
  border-color: #eea236;
}
.notification_widget.warning:focus,
.notification_widget.warning.focus {
  color: #fff;
  background-color: #ec971f;
  border-color: #985f0d;
}
.notification_widget.warning:hover {
  color: #fff;
  background-color: #ec971f;
  border-color: #d58512;
}
.notification_widget.warning:active,
.notification_widget.warning.active,
.open > .dropdown-toggle.notification_widget.warning {
  color: #fff;
  background-color: #ec971f;
  border-color: #d58512;
}
.notification_widget.warning:active:hover,
.notification_widget.warning.active:hover,
.open > .dropdown-toggle.notification_widget.warning:hover,
.notification_widget.warning:active:focus,
.notification_widget.warning.active:focus,
.open > .dropdown-toggle.notification_widget.warning:focus,
.notification_widget.warning:active.focus,
.notification_widget.warning.active.focus,
.open > .dropdown-toggle.notification_widget.warning.focus {
  color: #fff;
  background-color: #d58512;
  border-color: #985f0d;
}
.notification_widget.warning:active,
.notification_widget.warning.active,
.open > .dropdown-toggle.notification_widget.warning {
  background-image: none;
}
.notification_widget.warning.disabled:hover,
.notification_widget.warning[disabled]:hover,
fieldset[disabled] .notification_widget.warning:hover,
.notification_widget.warning.disabled:focus,
.notification_widget.warning[disabled]:focus,
fieldset[disabled] .notification_widget.warning:focus,
.notification_widget.warning.disabled.focus,
.notification_widget.warning[disabled].focus,
fieldset[disabled] .notification_widget.warning.focus {
  background-color: #f0ad4e;
  border-color: #eea236;
}
.notification_widget.warning .badge {
  color: #f0ad4e;
  background-color: #fff;
}
.notification_widget.success {
  color: #fff;
  background-color: #5cb85c;
  border-color: #4cae4c;
}
.notification_widget.success:focus,
.notification_widget.success.focus {
  color: #fff;
  background-color: #449d44;
  border-color: #255625;
}
.notification_widget.success:hover {
  color: #fff;
  background-color: #449d44;
  border-color: #398439;
}
.notification_widget.success:active,
.notification_widget.success.active,
.open > .dropdown-toggle.notification_widget.success {
  color: #fff;
  background-color: #449d44;
  border-color: #398439;
}
.notification_widget.success:active:hover,
.notification_widget.success.active:hover,
.open > .dropdown-toggle.notification_widget.success:hover,
.notification_widget.success:active:focus,
.notification_widget.success.active:focus,
.open > .dropdown-toggle.notification_widget.success:focus,
.notification_widget.success:active.focus,
.notification_widget.success.active.focus,
.open > .dropdown-toggle.notification_widget.success.focus {
  color: #fff;
  background-color: #398439;
  border-color: #255625;
}
.notification_widget.success:active,
.notification_widget.success.active,
.open > .dropdown-toggle.notification_widget.success {
  background-image: none;
}
.notification_widget.success.disabled:hover,
.notification_widget.success[disabled]:hover,
fieldset[disabled] .notification_widget.success:hover,
.notification_widget.success.disabled:focus,
.notification_widget.success[disabled]:focus,
fieldset[disabled] .notification_widget.success:focus,
.notification_widget.success.disabled.focus,
.notification_widget.success[disabled].focus,
fieldset[disabled] .notification_widget.success.focus {
  background-color: #5cb85c;
  border-color: #4cae4c;
}
.notification_widget.success .badge {
  color: #5cb85c;
  background-color: #fff;
}
.notification_widget.info {
  color: #fff;
  background-color: #5bc0de;
  border-color: #46b8da;
}
.notification_widget.info:focus,
.notification_widget.info.focus {
  color: #fff;
  background-color: #31b0d5;
  border-color: #1b6d85;
}
.notification_widget.info:hover {
  color: #fff;
  background-color: #31b0d5;
  border-color: #269abc;
}
.notification_widget.info:active,
.notification_widget.info.active,
.open > .dropdown-toggle.notification_widget.info {
  color: #fff;
  background-color: #31b0d5;
  border-color: #269abc;
}
.notification_widget.info:active:hover,
.notification_widget.info.active:hover,
.open > .dropdown-toggle.notification_widget.info:hover,
.notification_widget.info:active:focus,
.notification_widget.info.active:focus,
.open > .dropdown-toggle.notification_widget.info:focus,
.notification_widget.info:active.focus,
.notification_widget.info.active.focus,
.open > .dropdown-toggle.notification_widget.info.focus {
  color: #fff;
  background-color: #269abc;
  border-color: #1b6d85;
}
.notification_widget.info:active,
.notification_widget.info.active,
.open > .dropdown-toggle.notification_widget.info {
  background-image: none;
}
.notification_widget.info.disabled:hover,
.notification_widget.info[disabled]:hover,
fieldset[disabled] .notification_widget.info:hover,
.notification_widget.info.disabled:focus,
.notification_widget.info[disabled]:focus,
fieldset[disabled] .notification_widget.info:focus,
.notification_widget.info.disabled.focus,
.notification_widget.info[disabled].focus,
fieldset[disabled] .notification_widget.info.focus {
  background-color: #5bc0de;
  border-color: #46b8da;
}
.notification_widget.info .badge {
  color: #5bc0de;
  background-color: #fff;
}
.notification_widget.danger {
  color: #fff;
  background-color: #d9534f;
  border-color: #d43f3a;
}
.notification_widget.danger:focus,
.notification_widget.danger.focus {
  color: #fff;
  background-color: #c9302c;
  border-color: #761c19;
}
.notification_widget.danger:hover {
  color: #fff;
  background-color: #c9302c;
  border-color: #ac2925;
}
.notification_widget.danger:active,
.notification_widget.danger.active,
.open > .dropdown-toggle.notification_widget.danger {
  color: #fff;
  background-color: #c9302c;
  border-color: #ac2925;
}
.notification_widget.danger:active:hover,
.notification_widget.danger.active:hover,
.open > .dropdown-toggle.notification_widget.danger:hover,
.notification_widget.danger:active:focus,
.notification_widget.danger.active:focus,
.open > .dropdown-toggle.notification_widget.danger:focus,
.notification_widget.danger:active.focus,
.notification_widget.danger.active.focus,
.open > .dropdown-toggle.notification_widget.danger.focus {
  color: #fff;
  background-color: #ac2925;
  border-color: #761c19;
}
.notification_widget.danger:active,
.notification_widget.danger.active,
.open > .dropdown-toggle.notification_widget.danger {
  background-image: none;
}
.notification_widget.danger.disabled:hover,
.notification_widget.danger[disabled]:hover,
fieldset[disabled] .notification_widget.danger:hover,
.notification_widget.danger.disabled:focus,
.notification_widget.danger[disabled]:focus,
fieldset[disabled] .notification_widget.danger:focus,
.notification_widget.danger.disabled.focus,
.notification_widget.danger[disabled].focus,
fieldset[disabled] .notification_widget.danger.focus {
  background-color: #d9534f;
  border-color: #d43f3a;
}
.notification_widget.danger .badge {
  color: #d9534f;
  background-color: #fff;
}
div#pager {
  background-color: #fff;
  font-size: 14px;
  line-height: 20px;
  overflow: hidden;
  display: none;
  position: fixed;
  bottom: 0px;
  width: 100%;
  max-height: 50%;
  padding-top: 8px;
  -webkit-box-shadow: 0px 0px 12px 1px rgba(87, 87, 87, 0.2);
  box-shadow: 0px 0px 12px 1px rgba(87, 87, 87, 0.2);
  /* Display over codemirror */
  z-index: 100;
  /* Hack which prevents jquery ui resizable from changing top. */
  top: auto !important;
}
div#pager pre {
  line-height: 1.21429em;
  color: #000;
  background-color: #f7f7f7;
  padding: 0.4em;
}
div#pager #pager-button-area {
  position: absolute;
  top: 8px;
  right: 20px;
}
div#pager #pager-contents {
  position: relative;
  overflow: auto;
  width: 100%;
  height: 100%;
}
div#pager #pager-contents #pager-container {
  position: relative;
  padding: 15px 0px;
  box-sizing: border-box;
  -moz-box-sizing: border-box;
  -webkit-box-sizing: border-box;
}
div#pager .ui-resizable-handle {
  top: 0px;
  height: 8px;
  background: #f7f7f7;
  border-top: 1px solid #cfcfcf;
  border-bottom: 1px solid #cfcfcf;
  /* This injects handle bars (a short, wide = symbol) for 
        the resize handle. */
}
div#pager .ui-resizable-handle::after {
  content: '';
  top: 2px;
  left: 50%;
  height: 3px;
  width: 30px;
  margin-left: -15px;
  position: absolute;
  border-top: 1px solid #cfcfcf;
}
.quickhelp {
  /* Old browsers */
  display: -webkit-box;
  -webkit-box-orient: horizontal;
  -webkit-box-align: stretch;
  display: -moz-box;
  -moz-box-orient: horizontal;
  -moz-box-align: stretch;
  display: box;
  box-orient: horizontal;
  box-align: stretch;
  /* Modern browsers */
  display: flex;
  flex-direction: row;
  align-items: stretch;
  line-height: 1.8em;
}
.shortcut_key {
  display: inline-block;
  width: 21ex;
  text-align: right;
  font-family: monospace;
}
.shortcut_descr {
  display: inline-block;
  /* Old browsers */
  -webkit-box-flex: 1;
  -moz-box-flex: 1;
  box-flex: 1;
  /* Modern browsers */
  flex: 1;
}
span.save_widget {
  height: 30px;
  margin-top: 4px;
  display: flex;
  justify-content: flex-start;
  align-items: baseline;
  width: 50%;
  flex: 1;
}
span.save_widget span.filename {
  height: 100%;
  line-height: 1em;
  margin-left: 16px;
  border: none;
  font-size: 146.5%;
  text-overflow: ellipsis;
  overflow: hidden;
  white-space: nowrap;
  border-radius: 2px;
}
span.save_widget span.filename:hover {
  background-color: #e6e6e6;
}
[dir="rtl"] span.save_widget.pull-left {
  float: right !important;
  float: right;
}
[dir="rtl"] span.save_widget span.filename {
  margin-left: 0;
  margin-right: 16px;
}
span.checkpoint_status,
span.autosave_status {
  font-size: small;
  white-space: nowrap;
  padding: 0 5px;
}
@media (max-width: 767px) {
  span.save_widget {
    font-size: small;
    padding: 0 0 0 5px;
  }
  span.checkpoint_status,
  span.autosave_status {
    display: none;
  }
}
@media (min-width: 768px) and (max-width: 991px) {
  span.checkpoint_status {
    display: none;
  }
  span.autosave_status {
    font-size: x-small;
  }
}
.toolbar {
  padding: 0px;
  margin-left: -5px;
  margin-top: 2px;
  margin-bottom: 5px;
  box-sizing: border-box;
  -moz-box-sizing: border-box;
  -webkit-box-sizing: border-box;
}
.toolbar select,
.toolbar label {
  width: auto;
  vertical-align: middle;
  margin-right: 2px;
  margin-bottom: 0px;
  display: inline;
  font-size: 92%;
  margin-left: 0.3em;
  margin-right: 0.3em;
  padding: 0px;
  padding-top: 3px;
}
.toolbar .btn {
  padding: 2px 8px;
}
.toolbar .btn-group {
  margin-top: 0px;
  margin-left: 5px;
}
.toolbar-btn-label {
  margin-left: 6px;
}
#maintoolbar {
  margin-bottom: -3px;
  margin-top: -8px;
  border: 0px;
  min-height: 27px;
  margin-left: 0px;
  padding-top: 11px;
  padding-bottom: 3px;
}
#maintoolbar .navbar-text {
  float: none;
  vertical-align: middle;
  text-align: right;
  margin-left: 5px;
  margin-right: 0px;
  margin-top: 0px;
}
.select-xs {
  height: 24px;
}
[dir="rtl"] .btn-group > .btn,
.btn-group-vertical > .btn {
  float: right;
}
.pulse,
.dropdown-menu > li > a.pulse,
li.pulse > a.dropdown-toggle,
li.pulse.open > a.dropdown-toggle {
  background-color: #F37626;
  color: white;
}
/**
 * Primary styles
 *
 * Author: Jupyter Development Team
 */
/** WARNING IF YOU ARE EDITTING THIS FILE, if this is a .css file, It has a lot
 * of chance of beeing generated from the ../less/[samename].less file, you can
 * try to get back the less file by reverting somme commit in history
 **/
/*
 * We'll try to get something pretty, so we
 * have some strange css to have the scroll bar on
 * the left with fix button on the top right of the tooltip
 */
@-moz-keyframes fadeOut {
  from {
    opacity: 1;
  }
  to {
    opacity: 0;
  }
}
@-webkit-keyframes fadeOut {
  from {
    opacity: 1;
  }
  to {
    opacity: 0;
  }
}
@-moz-keyframes fadeIn {
  from {
    opacity: 0;
  }
  to {
    opacity: 1;
  }
}
@-webkit-keyframes fadeIn {
  from {
    opacity: 0;
  }
  to {
    opacity: 1;
  }
}
/*properties of tooltip after "expand"*/
.bigtooltip {
  overflow: auto;
  height: 200px;
  -webkit-transition-property: height;
  -webkit-transition-duration: 500ms;
  -moz-transition-property: height;
  -moz-transition-duration: 500ms;
  transition-property: height;
  transition-duration: 500ms;
}
/*properties of tooltip before "expand"*/
.smalltooltip {
  -webkit-transition-property: height;
  -webkit-transition-duration: 500ms;
  -moz-transition-property: height;
  -moz-transition-duration: 500ms;
  transition-property: height;
  transition-duration: 500ms;
  text-overflow: ellipsis;
  overflow: hidden;
  height: 80px;
}
.tooltipbuttons {
  position: absolute;
  padding-right: 15px;
  top: 0px;
  right: 0px;
}
.tooltiptext {
  /*avoid the button to overlap on some docstring*/
  padding-right: 30px;
}
.ipython_tooltip {
  max-width: 700px;
  /*fade-in animation when inserted*/
  -webkit-animation: fadeOut 400ms;
  -moz-animation: fadeOut 400ms;
  animation: fadeOut 400ms;
  -webkit-animation: fadeIn 400ms;
  -moz-animation: fadeIn 400ms;
  animation: fadeIn 400ms;
  vertical-align: middle;
  background-color: #f7f7f7;
  overflow: visible;
  border: #ababab 1px solid;
  outline: none;
  padding: 3px;
  margin: 0px;
  padding-left: 7px;
  font-family: monospace;
  min-height: 50px;
  -moz-box-shadow: 0px 6px 10px -1px #adadad;
  -webkit-box-shadow: 0px 6px 10px -1px #adadad;
  box-shadow: 0px 6px 10px -1px #adadad;
  border-radius: 2px;
  position: absolute;
  z-index: 1000;
}
.ipython_tooltip a {
  float: right;
}
.ipython_tooltip .tooltiptext pre {
  border: 0;
  border-radius: 0;
  font-size: 100%;
  background-color: #f7f7f7;
}
.pretooltiparrow {
  left: 0px;
  margin: 0px;
  top: -16px;
  width: 40px;
  height: 16px;
  overflow: hidden;
  position: absolute;
}
.pretooltiparrow:before {
  background-color: #f7f7f7;
  border: 1px #ababab solid;
  z-index: 11;
  content: "";
  position: absolute;
  left: 15px;
  top: 10px;
  width: 25px;
  height: 25px;
  -webkit-transform: rotate(45deg);
  -moz-transform: rotate(45deg);
  -ms-transform: rotate(45deg);
  -o-transform: rotate(45deg);
}
ul.typeahead-list i {
  margin-left: -10px;
  width: 18px;
}
[dir="rtl"] ul.typeahead-list i {
  margin-left: 0;
  margin-right: -10px;
}
ul.typeahead-list {
  max-height: 80vh;
  overflow: auto;
}
ul.typeahead-list > li > a {
  /** Firefox bug **/
  /* see https://github.com/jupyter/notebook/issues/559 */
  white-space: normal;
}
ul.typeahead-list  > li > a.pull-right {
  float: left !important;
  float: left;
}
[dir="rtl"] .typeahead-list {
  text-align: right;
}
.cmd-palette .modal-body {
  padding: 7px;
}
.cmd-palette form {
  background: white;
}
.cmd-palette input {
  outline: none;
}
.no-shortcut {
  min-width: 20px;
  color: transparent;
}
[dir="rtl"] .no-shortcut.pull-right {
  float: left !important;
  float: left;
}
[dir="rtl"] .command-shortcut.pull-right {
  float: left !important;
  float: left;
}
.command-shortcut:before {
  content: "(command mode)";
  padding-right: 3px;
  color: #777777;
}
.edit-shortcut:before {
  content: "(edit)";
  padding-right: 3px;
  color: #777777;
}
[dir="rtl"] .edit-shortcut.pull-right {
  float: left !important;
  float: left;
}
#find-and-replace #replace-preview .match,
#find-and-replace #replace-preview .insert {
  background-color: #BBDEFB;
  border-color: #90CAF9;
  border-style: solid;
  border-width: 1px;
  border-radius: 0px;
}
[dir="ltr"] #find-and-replace .input-group-btn + .form-control {
  border-left: none;
}
[dir="rtl"] #find-and-replace .input-group-btn + .form-control {
  border-right: none;
}
#find-and-replace #replace-preview .replace .match {
  background-color: #FFCDD2;
  border-color: #EF9A9A;
  border-radius: 0px;
}
#find-and-replace #replace-preview .replace .insert {
  background-color: #C8E6C9;
  border-color: #A5D6A7;
  border-radius: 0px;
}
#find-and-replace #replace-preview {
  max-height: 60vh;
  overflow: auto;
}
#find-and-replace #replace-preview pre {
  padding: 5px 10px;
}
.terminal-app {
  background: #EEE;
}
.terminal-app #header {
  background: #fff;
  -webkit-box-shadow: 0px 0px 12px 1px rgba(87, 87, 87, 0.2);
  box-shadow: 0px 0px 12px 1px rgba(87, 87, 87, 0.2);
}
.terminal-app .terminal {
  width: 100%;
  float: left;
  font-family: monospace;
  color: white;
  background: black;
  padding: 0.4em;
  border-radius: 2px;
  -webkit-box-shadow: 0px 0px 12px 1px rgba(87, 87, 87, 0.4);
  box-shadow: 0px 0px 12px 1px rgba(87, 87, 87, 0.4);
}
.terminal-app .terminal,
.terminal-app .terminal dummy-screen {
  line-height: 1em;
  font-size: 14px;
}
.terminal-app .terminal .xterm-rows {
  padding: 10px;
}
.terminal-app .terminal-cursor {
  color: black;
  background: white;
}
.terminal-app #terminado-container {
  margin-top: 20px;
}
/*# sourceMappingURL=style.min.css.map */
    </style>
<style type="text/css">
    .highlight .hll { background-color: #ffffcc }
.highlight  { background: #f8f8f8; }
.highlight .c { color: #408080; font-style: italic } /* Comment */
.highlight .err { border: 1px solid #FF0000 } /* Error */
.highlight .k { color: #008000; font-weight: bold } /* Keyword */
.highlight .o { color: #666666 } /* Operator */
.highlight .ch { color: #408080; font-style: italic } /* Comment.Hashbang */
.highlight .cm { color: #408080; font-style: italic } /* Comment.Multiline */
.highlight .cp { color: #BC7A00 } /* Comment.Preproc */
.highlight .cpf { color: #408080; font-style: italic } /* Comment.PreprocFile */
.highlight .c1 { color: #408080; font-style: italic } /* Comment.Single */
.highlight .cs { color: #408080; font-style: italic } /* Comment.Special */
.highlight .gd { color: #A00000 } /* Generic.Deleted */
.highlight .ge { font-style: italic } /* Generic.Emph */
.highlight .gr { color: #FF0000 } /* Generic.Error */
.highlight .gh { color: #000080; font-weight: bold } /* Generic.Heading */
.highlight .gi { color: #00A000 } /* Generic.Inserted */
.highlight .go { color: #888888 } /* Generic.Output */
.highlight .gp { color: #000080; font-weight: bold } /* Generic.Prompt */
.highlight .gs { font-weight: bold } /* Generic.Strong */
.highlight .gu { color: #800080; font-weight: bold } /* Generic.Subheading */
.highlight .gt { color: #0044DD } /* Generic.Traceback */
.highlight .kc { color: #008000; font-weight: bold } /* Keyword.Constant */
.highlight .kd { color: #008000; font-weight: bold } /* Keyword.Declaration */
.highlight .kn { color: #008000; font-weight: bold } /* Keyword.Namespace */
.highlight .kp { color: #008000 } /* Keyword.Pseudo */
.highlight .kr { color: #008000; font-weight: bold } /* Keyword.Reserved */
.highlight .kt { color: #B00040 } /* Keyword.Type */
.highlight .m { color: #666666 } /* Literal.Number */
.highlight .s { color: #BA2121 } /* Literal.String */
.highlight .na { color: #7D9029 } /* Name.Attribute */
.highlight .nb { color: #008000 } /* Name.Builtin */
.highlight .nc { color: #0000FF; font-weight: bold } /* Name.Class */
.highlight .no { color: #880000 } /* Name.Constant */
.highlight .nd { color: #AA22FF } /* Name.Decorator */
.highlight .ni { color: #999999; font-weight: bold } /* Name.Entity */
.highlight .ne { color: #D2413A; font-weight: bold } /* Name.Exception */
.highlight .nf { color: #0000FF } /* Name.Function */
.highlight .nl { color: #A0A000 } /* Name.Label */
.highlight .nn { color: #0000FF; font-weight: bold } /* Name.Namespace */
.highlight .nt { color: #008000; font-weight: bold } /* Name.Tag */
.highlight .nv { color: #19177C } /* Name.Variable */
.highlight .ow { color: #AA22FF; font-weight: bold } /* Operator.Word */
.highlight .w { color: #bbbbbb } /* Text.Whitespace */
.highlight .mb { color: #666666 } /* Literal.Number.Bin */
.highlight .mf { color: #666666 } /* Literal.Number.Float */
.highlight .mh { color: #666666 } /* Literal.Number.Hex */
.highlight .mi { color: #666666 } /* Literal.Number.Integer */
.highlight .mo { color: #666666 } /* Literal.Number.Oct */
.highlight .sa { color: #BA2121 } /* Literal.String.Affix */
.highlight .sb { color: #BA2121 } /* Literal.String.Backtick */
.highlight .sc { color: #BA2121 } /* Literal.String.Char */
.highlight .dl { color: #BA2121 } /* Literal.String.Delimiter */
.highlight .sd { color: #BA2121; font-style: italic } /* Literal.String.Doc */
.highlight .s2 { color: #BA2121 } /* Literal.String.Double */
.highlight .se { color: #BB6622; font-weight: bold } /* Literal.String.Escape */
.highlight .sh { color: #BA2121 } /* Literal.String.Heredoc */
.highlight .si { color: #BB6688; font-weight: bold } /* Literal.String.Interpol */
.highlight .sx { color: #008000 } /* Literal.String.Other */
.highlight .sr { color: #BB6688 } /* Literal.String.Regex */
.highlight .s1 { color: #BA2121 } /* Literal.String.Single */
.highlight .ss { color: #19177C } /* Literal.String.Symbol */
.highlight .bp { color: #008000 } /* Name.Builtin.Pseudo */
.highlight .fm { color: #0000FF } /* Name.Function.Magic */
.highlight .vc { color: #19177C } /* Name.Variable.Class */
.highlight .vg { color: #19177C } /* Name.Variable.Global */
.highlight .vi { color: #19177C } /* Name.Variable.Instance */
.highlight .vm { color: #19177C } /* Name.Variable.Magic */
.highlight .il { color: #666666 } /* Literal.Number.Integer.Long */
    </style>
<style type="text/css">
    
/* Temporary definitions which will become obsolete with Notebook release 5.0 */
.ansi-black-fg { color: #3E424D; }
.ansi-black-bg { background-color: #3E424D; }
.ansi-black-intense-fg { color: #282C36; }
.ansi-black-intense-bg { background-color: #282C36; }
.ansi-red-fg { color: #E75C58; }
.ansi-red-bg { background-color: #E75C58; }
.ansi-red-intense-fg { color: #B22B31; }
.ansi-red-intense-bg { background-color: #B22B31; }
.ansi-green-fg { color: #00A250; }
.ansi-green-bg { background-color: #00A250; }
.ansi-green-intense-fg { color: #007427; }
.ansi-green-intense-bg { background-color: #007427; }
.ansi-yellow-fg { color: #DDB62B; }
.ansi-yellow-bg { background-color: #DDB62B; }
.ansi-yellow-intense-fg { color: #B27D12; }
.ansi-yellow-intense-bg { background-color: #B27D12; }
.ansi-blue-fg { color: #208FFB; }
.ansi-blue-bg { background-color: #208FFB; }
.ansi-blue-intense-fg { color: #0065CA; }
.ansi-blue-intense-bg { background-color: #0065CA; }
.ansi-magenta-fg { color: #D160C4; }
.ansi-magenta-bg { background-color: #D160C4; }
.ansi-magenta-intense-fg { color: #A03196; }
.ansi-magenta-intense-bg { background-color: #A03196; }
.ansi-cyan-fg { color: #60C6C8; }
.ansi-cyan-bg { background-color: #60C6C8; }
.ansi-cyan-intense-fg { color: #258F8F; }
.ansi-cyan-intense-bg { background-color: #258F8F; }
.ansi-white-fg { color: #C5C1B4; }
.ansi-white-bg { background-color: #C5C1B4; }
.ansi-white-intense-fg { color: #A1A6B2; }
.ansi-white-intense-bg { background-color: #A1A6B2; }

.ansi-bold { font-weight: bold; }

    </style>


<style type="text/css">
/* Overrides of notebook CSS for static HTML export */
body {
  overflow: visible;
  padding: 8px;
}

div#notebook {
  overflow: visible;
  border-top: none;
}@media print {
  div.cell {
    display: block;
    page-break-inside: avoid;
  } 
  div.output_wrapper { 
    display: block;
    page-break-inside: avoid; 
  }
  div.output { 
    display: block;
    page-break-inside: avoid; 
  }
}
</style>

<!-- Custom stylesheet, it must be in the same directory as the html file -->
<link rel="stylesheet" href="custom.css">

<!-- Loading mathjax macro -->
<!-- Load mathjax -->
    <script src="https://cdnjs.cloudflare.com/ajax/libs/mathjax/2.7.1/MathJax.js?config=TeX-AMS_HTML"></script>
    <!-- MathJax configuration -->
    <script type="text/x-mathjax-config">
    MathJax.Hub.Config({
        tex2jax: {
            inlineMath: [ ['$','$'], ["\\(","\\)"] ],
            displayMath: [ ['$$','$$'], ["\\[","\\]"] ],
            processEscapes: true,
            processEnvironments: true
        },
        // Center justify equations in code and markdown cells. Elsewhere
        // we use CSS to left justify single line equations in code cells.
        displayAlign: 'center',
        "HTML-CSS": {
            styles: {'.MathJax_Display': {"margin": 0}},
            linebreaks: { automatic: true }
        }
    });
    </script>
    <!-- End of mathjax configuration --></head>
<body>
  <div tabindex="-1" id="notebook" class="border-box-sizing">
    <div class="container" id="notebook-container">

<div class="cell border-box-sizing text_cell rendered"><div class="prompt input_prompt">
</div><div class="inner_cell">
<div class="text_cell_render border-box-sizing rendered_html">
<h1 id="Caltech-UCSD-Birds-200-2011-(CUB)---Reader-Writer-class">Caltech-UCSD Birds-200-2011 (CUB) - Reader Writer class<a class="anchor-link" href="#Caltech-UCSD-Birds-200-2011-(CUB)---Reader-Writer-class">&#182;</a></h1>
</div>
</div>
</div>
<div class="cell border-box-sizing text_cell rendered"><div class="prompt input_prompt">
</div><div class="inner_cell">
<div class="text_cell_render border-box-sizing rendered_html">
<h3 id="This-ipynb-presents-CUB-reader-and-writer-class-and-sample-usage">This ipynb presents CUB reader and writer class and sample usage<a class="anchor-link" href="#This-ipynb-presents-CUB-reader-and-writer-class-and-sample-usage">&#182;</a></h3><p>Goal -
    read downloaded CUB data files into data structure 
    expose simple data acess methods
    add images sizes data
    expose csv writer method to write the data into single csv file</p>
<p>prerequesits (includes image draw bounding boxes and image display)-
    numpy,
    os,
    cv2,
    csv,
    pandas,
    PIL,
    matplotlib,
    pprint,</p>
<p>inputs -
    CUB_PATH # (class init) path to original download folder
    CSV_PATH # (csv write method) csv file path for writer</p>
<p>class methods -
    getCubSize()              # CUB database size  (int)
    getImages()               # CUB images list    (dictionary 'image number' : 'image path')
    getImagesSizes()          # CUB images sizes   (dictionary 'image number' : ['width','height'])
    getBoxes()                # CUB bounding boxes (dictionary 'image number' : ['xcenter','ycenter', 'width', 'height])
    getImgClasses()           # CUB images classes (dictionary 'image number' : 'class number')
    getClasses()              # CUB classes names  (dictionary 'class number' : 'class name')
    writeCubToCsv(file path)  # write to csv, 
        file format : 
            csv header row,
            row :
                image path,
                image size,
                image class name,
                bounding box xmin,
                bounding box ymin,
                bounding box xmax,
                bounding box ymax,
usage - 
       cub = CUB_ReadWrite(folde path)  # inialize class read all CU data files from 'folder path'
       cub.{method()}                   # returns methods CUB data as described above
       cub.writeCubToCsv(file path)     # writes csv file to 'file path' in format decribed above
       del(cub)                         # deletes object</p>
<p>see below in usage sample section (very) simple csv read and display images using csv, pandas, PIL packages</p>

</div>
</div>
</div>
<div class="cell border-box-sizing text_cell rendered"><div class="prompt input_prompt">
</div><div class="inner_cell">
<div class="text_cell_render border-box-sizing rendered_html">
<h2 id="Imports">Imports<a class="anchor-link" href="#Imports">&#182;</a></h2>
</div>
</div>
</div>
<div class="cell border-box-sizing code_cell rendered">
<div class="input">
<div class="prompt input_prompt">In&nbsp;[1]:</div>
<div class="inner_cell">
    <div class="input_area">
<div class=" highlight hl-ipython3"><pre><span></span><span class="kn">import</span> <span class="nn">numpy</span> <span class="k">as</span> <span class="nn">np</span>
<span class="kn">import</span> <span class="nn">os</span>
<span class="kn">import</span> <span class="nn">csv</span>
<span class="kn">import</span> <span class="nn">cv2</span>
<span class="kn">import</span> <span class="nn">pandas</span> <span class="k">as</span> <span class="nn">pd</span>
<span class="kn">from</span> <span class="nn">PIL</span> <span class="k">import</span> <span class="n">Image</span>
<span class="kn">from</span> <span class="nn">matplotlib</span> <span class="k">import</span> <span class="n">pyplot</span> <span class="k">as</span> <span class="n">plt</span>
<span class="kn">import</span> <span class="nn">pprint</span>
</pre></div>

    </div>
</div>
</div>

</div>
<div class="cell border-box-sizing text_cell rendered"><div class="prompt input_prompt">
</div><div class="inner_cell">
<div class="text_cell_render border-box-sizing rendered_html">
<h2 id="Globals">Globals<a class="anchor-link" href="#Globals">&#182;</a></h2>
</div>
</div>
</div>
<div class="cell border-box-sizing code_cell rendered">
<div class="input">
<div class="prompt input_prompt">In&nbsp;[2]:</div>
<div class="inner_cell">
    <div class="input_area">
<div class=" highlight hl-ipython3"><pre><span></span><span class="c1"></span>
<span class="n">CUB_PATH</span> <span class="o">=</span> <span class="s2">&quot;./CUB_200_2011&quot;</span>
<span class="n">CSV_PATH</span> <span class="o">=</span> <span class="s2">&quot;./cub_csv.txt&quot;</span>
<span class="n">PROCESS_CUB</span> <span class="o">=</span> <span class="kc">True</span>
</pre></div>

    </div>
</div>
</div>

</div>
<div class="cell border-box-sizing text_cell rendered"><div class="prompt input_prompt">
</div><div class="inner_cell">
<div class="text_cell_render border-box-sizing rendered_html">
<h2 id="Helpers">Helpers<a class="anchor-link" href="#Helpers">&#182;</a></h2>
</div>
</div>
</div>
<div class="cell border-box-sizing code_cell rendered">
<div class="input">
<div class="prompt input_prompt">In&nbsp;[3]:</div>
<div class="inner_cell">
    <div class="input_area">
<div class=" highlight hl-ipython3"><pre><span></span><span class="k">def</span> <span class="nf">draw_box</span><span class="p">(</span><span class="n">csvData</span><span class="p">,</span><span class="n">line</span><span class="p">):</span>
    <span class="n">selected_value</span> <span class="o">=</span> <span class="n">csvData</span><span class="p">[</span><span class="n">csvData</span><span class="o">.</span><span class="n">index</span> <span class="o">==</span> <span class="n">line</span><span class="p">]</span>
    <span class="k">for</span> <span class="n">index</span><span class="p">,</span> <span class="n">row</span> <span class="ow">in</span> <span class="n">selected_value</span><span class="o">.</span><span class="n">iterrows</span><span class="p">():</span>
        <span class="n">img</span> <span class="o">=</span> <span class="n">cv2</span><span class="o">.</span><span class="n">imread</span><span class="p">(</span><span class="n">row</span><span class="p">[</span><span class="s1">&#39;filename&#39;</span><span class="p">])</span>
        <span class="n">img</span> <span class="o">=</span> <span class="n">cv2</span><span class="o">.</span><span class="n">rectangle</span><span class="p">(</span><span class="n">img</span><span class="p">,</span> <span class="p">(</span><span class="n">row</span><span class="p">[</span><span class="s1">&#39;xmin&#39;</span><span class="p">],</span> <span class="n">row</span><span class="p">[</span><span class="s1">&#39;ymin&#39;</span><span class="p">]),</span> <span class="p">(</span><span class="n">row</span><span class="p">[</span><span class="s1">&#39;xmax&#39;</span><span class="p">],</span> <span class="n">row</span><span class="p">[</span><span class="s1">&#39;ymax&#39;</span><span class="p">]),</span> <span class="p">(</span><span class="mi">0</span><span class="p">,</span> <span class="mi">0</span><span class="p">,</span> <span class="mi">0</span><span class="p">),</span> <span class="mi">1</span><span class="p">)</span>
        <span class="n">font</span> <span class="o">=</span> <span class="n">cv2</span><span class="o">.</span><span class="n">FONT_HERSHEY_SIMPLEX</span>
        <span class="n">cv2</span><span class="o">.</span><span class="n">putText</span><span class="p">(</span><span class="n">img</span><span class="p">,</span><span class="n">row</span><span class="p">[</span><span class="s1">&#39;class&#39;</span><span class="p">],(</span><span class="n">row</span><span class="p">[</span><span class="s1">&#39;xmin&#39;</span><span class="p">],</span><span class="n">row</span><span class="p">[</span><span class="s1">&#39;ymin&#39;</span><span class="p">]),</span> <span class="n">font</span><span class="p">,</span> <span class="mi">1</span><span class="p">,(</span><span class="mi">0</span><span class="p">,</span><span class="mi">0</span><span class="p">,</span><span class="mi">0</span><span class="p">),</span><span class="mi">1</span><span class="p">)</span>
    <span class="k">return</span> <span class="n">img</span>

<span class="k">def</span> <span class="nf">getCsv</span><span class="p">(</span><span class="n">csvPath</span><span class="p">):</span>
    <span class="n">csvData</span> <span class="o">=</span>  <span class="n">pd</span><span class="o">.</span><span class="n">read_csv</span><span class="p">(</span><span class="n">csvPath</span><span class="p">)</span>
    <span class="c1">#csvData.head()</span>
    <span class="k">return</span> <span class="n">csvData</span>
</pre></div>

    </div>
</div>
</div>

</div>
<div class="cell border-box-sizing text_cell rendered"><div class="prompt input_prompt">
</div><div class="inner_cell">
<div class="text_cell_render border-box-sizing rendered_html">
<h2 id="CUB-to-csv-class">CUB to csv class<a class="anchor-link" href="#CUB-to-csv-class">&#182;</a></h2>
</div>
</div>
</div>
<div class="cell border-box-sizing code_cell rendered">
<div class="input">
<div class="prompt input_prompt">In&nbsp;[4]:</div>
<div class="inner_cell">
    <div class="input_area">
<div class=" highlight hl-ipython3"><pre><span></span><span class="k">class</span> <span class="nc">CUB_ReadWrite</span><span class="p">:</span>
    
    <span class="k">def</span> <span class="nf">__init__</span><span class="p">(</span><span class="bp">self</span><span class="p">,</span><span class="n">cubPath</span><span class="p">):</span>
        <span class="n">IMAGES_FILE</span>   <span class="o">=</span> <span class="s2">&quot;images.txt&quot;</span>
        <span class="n">BBOX_FILE</span>     <span class="o">=</span> <span class="s2">&quot;bounding_boxes.txt&quot;</span>
        <span class="n">IMGCLASS_FILE</span> <span class="o">=</span> <span class="s2">&quot;image_class_labels.txt&quot;</span>
        <span class="n">CLASSES_FILE</span>  <span class="o">=</span> <span class="s2">&quot;classes.txt&quot;</span>
        
        <span class="bp">self</span><span class="o">.</span><span class="n">cubPath</span> <span class="o">=</span> <span class="n">cubPath</span>
        <span class="bp">self</span><span class="o">.</span><span class="n">imgTxtPath</span> <span class="o">=</span> <span class="n">os</span><span class="o">.</span><span class="n">path</span><span class="o">.</span><span class="n">join</span><span class="p">(</span><span class="n">cubPath</span><span class="p">,</span><span class="n">IMAGES_FILE</span><span class="p">)</span>
        <span class="bp">self</span><span class="o">.</span><span class="n">bbTxtPath</span> <span class="o">=</span> <span class="n">os</span><span class="o">.</span><span class="n">path</span><span class="o">.</span><span class="n">join</span><span class="p">(</span><span class="n">cubPath</span><span class="p">,</span><span class="n">BBOX_FILE</span><span class="p">)</span>
        <span class="bp">self</span><span class="o">.</span><span class="n">imgClassPath</span> <span class="o">=</span> <span class="n">os</span><span class="o">.</span><span class="n">path</span><span class="o">.</span><span class="n">join</span><span class="p">(</span><span class="n">cubPath</span><span class="p">,</span><span class="n">IMGCLASS_FILE</span><span class="p">)</span>
        <span class="bp">self</span><span class="o">.</span><span class="n">classesPath</span> <span class="o">=</span> <span class="n">os</span><span class="o">.</span><span class="n">path</span><span class="o">.</span><span class="n">join</span><span class="p">(</span><span class="n">cubPath</span><span class="p">,</span><span class="n">CLASSES_FILE</span><span class="p">)</span>
        <span class="bp">self</span><span class="o">.</span><span class="n">imgList</span><span class="p">,</span><span class="bp">self</span><span class="o">.</span><span class="n">imgDict</span><span class="p">,</span><span class="bp">self</span><span class="o">.</span><span class="n">imgSizesDict</span> <span class="o">=</span> <span class="bp">self</span><span class="o">.</span><span class="n">_readImgTxt</span><span class="p">()</span>
        <span class="bp">self</span><span class="o">.</span><span class="n">bboxDict</span> <span class="o">=</span> <span class="bp">self</span><span class="o">.</span><span class="n">_readBB</span><span class="p">()</span>
        <span class="bp">self</span><span class="o">.</span><span class="n">imgClassDict</span> <span class="o">=</span> <span class="bp">self</span><span class="o">.</span><span class="n">_readImgClass</span><span class="p">()</span>
        <span class="bp">self</span><span class="o">.</span><span class="n">classesDict</span> <span class="o">=</span> <span class="bp">self</span><span class="o">.</span><span class="n">_readClasses</span><span class="p">()</span>
        
    <span class="k">def</span> <span class="nf">_getImgSize</span><span class="p">(</span><span class="bp">self</span><span class="p">,</span><span class="n">imgPath</span><span class="p">):</span>
        <span class="n">im</span> <span class="o">=</span> <span class="n">Image</span><span class="o">.</span><span class="n">open</span><span class="p">(</span><span class="n">imgPath</span><span class="p">)</span>
        <span class="k">return</span> <span class="n">im</span><span class="o">.</span><span class="n">size</span>

    <span class="k">def</span> <span class="nf">_readImgTxt</span><span class="p">(</span><span class="bp">self</span><span class="p">):</span>
        <span class="n">imgList</span> <span class="o">=</span> <span class="p">[]</span>
        <span class="n">imgDict</span> <span class="o">=</span> <span class="p">{}</span>
        <span class="n">imgSizesDict</span> <span class="o">=</span> <span class="p">{}</span>
        <span class="k">with</span> <span class="nb">open</span><span class="p">(</span><span class="bp">self</span><span class="o">.</span><span class="n">imgTxtPath</span><span class="p">)</span> <span class="k">as</span> <span class="n">f</span><span class="p">:</span>
            <span class="n">spamreader</span> <span class="o">=</span> <span class="n">csv</span><span class="o">.</span><span class="n">reader</span><span class="p">(</span><span class="n">f</span><span class="p">,</span> <span class="n">delimiter</span><span class="o">=</span><span class="s1">&#39; &#39;</span><span class="p">)</span>
            <span class="k">for</span> <span class="n">row</span> <span class="ow">in</span> <span class="n">spamreader</span><span class="p">:</span>
                <span class="n">imgList</span><span class="o">.</span><span class="n">append</span><span class="p">(</span><span class="nb">int</span><span class="p">(</span><span class="n">row</span><span class="p">[</span><span class="mi">0</span><span class="p">]))</span>
                <span class="n">imgPath</span> <span class="o">=</span> <span class="n">os</span><span class="o">.</span><span class="n">path</span><span class="o">.</span><span class="n">join</span><span class="p">(</span><span class="s1">&#39;images&#39;</span><span class="p">,</span><span class="n">row</span><span class="p">[</span><span class="mi">1</span><span class="p">])</span>
                <span class="n">width</span><span class="p">,</span><span class="n">height</span> <span class="o">=</span> <span class="bp">self</span><span class="o">.</span><span class="n">_getImgSize</span><span class="p">(</span><span class="n">imgPath</span><span class="p">)</span>
                <span class="n">imgDict</span><span class="p">[</span><span class="nb">int</span><span class="p">(</span><span class="n">row</span><span class="p">[</span><span class="mi">0</span><span class="p">])]</span> <span class="o">=</span> <span class="n">imgPath</span>
                <span class="n">imgSizesDict</span><span class="p">[</span><span class="nb">int</span><span class="p">(</span><span class="n">row</span><span class="p">[</span><span class="mi">0</span><span class="p">])]</span> <span class="o">=</span> <span class="p">[</span><span class="n">width</span><span class="p">,</span><span class="n">height</span><span class="p">]</span>
        <span class="k">return</span> <span class="n">imgList</span><span class="p">,</span><span class="n">imgDict</span><span class="p">,</span><span class="n">imgSizesDict</span>

    <span class="k">def</span> <span class="nf">_readBB</span><span class="p">(</span><span class="bp">self</span><span class="p">):</span>
        <span class="n">bbDict</span> <span class="o">=</span> <span class="p">{}</span>
        <span class="k">with</span> <span class="nb">open</span><span class="p">(</span><span class="bp">self</span><span class="o">.</span><span class="n">bbTxtPath</span><span class="p">)</span> <span class="k">as</span> <span class="n">f</span><span class="p">:</span>
            <span class="n">spamreader</span> <span class="o">=</span> <span class="n">csv</span><span class="o">.</span><span class="n">reader</span><span class="p">(</span><span class="n">f</span><span class="p">,</span> <span class="n">delimiter</span><span class="o">=</span><span class="s1">&#39; &#39;</span><span class="p">)</span>
            <span class="k">for</span> <span class="n">row</span> <span class="ow">in</span> <span class="n">spamreader</span><span class="p">:</span>
                <span class="n">bbDict</span><span class="p">[</span><span class="nb">int</span><span class="p">(</span><span class="n">row</span><span class="p">[</span><span class="mi">0</span><span class="p">])]</span> <span class="o">=</span> <span class="p">[</span> <span class="nb">int</span><span class="p">(</span><span class="nb">float</span><span class="p">(</span><span class="n">x</span><span class="p">))</span> <span class="k">for</span> <span class="n">x</span> <span class="ow">in</span> <span class="n">row</span><span class="p">[</span><span class="mi">1</span><span class="p">:</span><span class="mi">5</span><span class="p">]</span> <span class="p">]</span>
        <span class="k">return</span> <span class="n">bbDict</span>

    <span class="k">def</span> <span class="nf">_readImgClass</span><span class="p">(</span><span class="bp">self</span><span class="p">):</span>
        <span class="n">imgClassDict</span> <span class="o">=</span> <span class="p">{}</span>
        <span class="k">with</span> <span class="nb">open</span><span class="p">(</span><span class="bp">self</span><span class="o">.</span><span class="n">imgClassPath</span><span class="p">)</span> <span class="k">as</span> <span class="n">f</span><span class="p">:</span>
            <span class="n">spamreader</span> <span class="o">=</span> <span class="n">csv</span><span class="o">.</span><span class="n">reader</span><span class="p">(</span><span class="n">f</span><span class="p">,</span> <span class="n">delimiter</span><span class="o">=</span><span class="s1">&#39; &#39;</span><span class="p">)</span>
            <span class="k">for</span> <span class="n">row</span> <span class="ow">in</span> <span class="n">spamreader</span><span class="p">:</span>
                <span class="n">imgClassDict</span><span class="p">[</span><span class="nb">int</span><span class="p">(</span><span class="n">row</span><span class="p">[</span><span class="mi">0</span><span class="p">])]</span> <span class="o">=</span> <span class="nb">int</span><span class="p">(</span><span class="n">row</span><span class="p">[</span><span class="mi">1</span><span class="p">])</span>  <span class="c1">#offset by 0 </span>
                <span class="c1">#self.train_labels_dict[int(row[0])] = (int(row[1]) -1 )/ 20 #offset by 0 </span>
        <span class="k">return</span> <span class="n">imgClassDict</span>

    <span class="k">def</span> <span class="nf">_readClasses</span><span class="p">(</span><span class="bp">self</span><span class="p">):</span>
        <span class="n">classDict</span> <span class="o">=</span> <span class="p">{}</span>
        <span class="k">with</span> <span class="nb">open</span><span class="p">(</span><span class="bp">self</span><span class="o">.</span><span class="n">classesPath</span><span class="p">)</span> <span class="k">as</span> <span class="n">f</span><span class="p">:</span>
            <span class="n">spamreader</span> <span class="o">=</span> <span class="n">csv</span><span class="o">.</span><span class="n">reader</span><span class="p">(</span><span class="n">f</span><span class="p">,</span> <span class="n">delimiter</span><span class="o">=</span><span class="s1">&#39; &#39;</span><span class="p">)</span>
            <span class="k">for</span> <span class="n">row</span> <span class="ow">in</span> <span class="n">spamreader</span><span class="p">:</span>
                <span class="n">classDict</span><span class="p">[</span><span class="nb">int</span><span class="p">(</span><span class="n">row</span><span class="p">[</span><span class="mi">0</span><span class="p">])]</span> <span class="o">=</span> <span class="n">row</span><span class="p">[</span><span class="mi">1</span><span class="p">]</span>
        <span class="k">return</span> <span class="n">classDict</span>
    
    <span class="k">def</span> <span class="nf">getImages</span><span class="p">(</span><span class="bp">self</span><span class="p">):</span>
        <span class="k">return</span> <span class="bp">self</span><span class="o">.</span><span class="n">imgDict</span>
   
    <span class="k">def</span> <span class="nf">getImagesSizes</span><span class="p">(</span><span class="bp">self</span><span class="p">):</span>
        <span class="k">return</span> <span class="bp">self</span><span class="o">.</span><span class="n">imgSizesDict</span>
    
    <span class="k">def</span> <span class="nf">getBoxes</span><span class="p">(</span><span class="bp">self</span><span class="p">):</span>
        <span class="k">return</span> <span class="bp">self</span><span class="o">.</span><span class="n">bbDict</span>
    
    <span class="k">def</span> <span class="nf">getImgClasses</span><span class="p">(</span><span class="bp">self</span><span class="p">):</span>
        <span class="k">return</span> <span class="bp">self</span><span class="o">.</span><span class="n">imgClassDict</span>
    
    <span class="k">def</span> <span class="nf">getClasses</span><span class="p">(</span><span class="bp">self</span><span class="p">):</span>
        <span class="k">return</span> <span class="bp">self</span><span class="o">.</span><span class="n">classesDict</span>
    
    <span class="k">def</span> <span class="nf">getCubSize</span><span class="p">(</span><span class="bp">self</span><span class="p">):</span>
        <span class="k">return</span> <span class="nb">len</span><span class="p">(</span><span class="bp">self</span><span class="o">.</span><span class="n">imgList</span><span class="p">)</span>    
    
    <span class="k">def</span> <span class="nf">writeCubToCsv</span><span class="p">(</span><span class="bp">self</span><span class="p">,</span><span class="n">csvFilePath</span><span class="p">):</span>
        <span class="k">with</span> <span class="nb">open</span><span class="p">(</span><span class="n">csvFilePath</span><span class="p">,</span> <span class="s1">&#39;w&#39;</span><span class="p">)</span> <span class="k">as</span> <span class="n">csvfile</span><span class="p">:</span>
            <span class="n">fieldnames</span> <span class="o">=</span> <span class="p">[</span><span class="s1">&#39;filename&#39;</span><span class="p">,</span> <span class="s1">&#39;width&#39;</span><span class="p">,</span> <span class="s1">&#39;height&#39;</span><span class="p">,</span> <span class="s1">&#39;class&#39;</span><span class="p">,</span> <span class="s1">&#39;xmin&#39;</span><span class="p">,</span> <span class="s1">&#39;ymin&#39;</span><span class="p">,</span> <span class="s1">&#39;xmax&#39;</span><span class="p">,</span> <span class="s1">&#39;ymax&#39;</span><span class="p">]</span>
            <span class="n">writer</span> <span class="o">=</span> <span class="n">csv</span><span class="o">.</span><span class="n">DictWriter</span><span class="p">(</span><span class="n">csvfile</span><span class="p">,</span> <span class="n">fieldnames</span><span class="o">=</span><span class="n">fieldnames</span><span class="p">)</span>
            <span class="n">writer</span><span class="o">.</span><span class="n">writeheader</span><span class="p">()</span>
            <span class="k">for</span> <span class="n">k</span> <span class="ow">in</span> <span class="bp">self</span><span class="o">.</span><span class="n">imgList</span><span class="p">:</span>
                <span class="n">i</span> <span class="o">=</span> <span class="n">k</span> <span class="o">-</span><span class="mi">1</span>
                <span class="c1">#print(i)</span>
                <span class="n">imgPath</span> <span class="o">=</span> <span class="n">os</span><span class="o">.</span><span class="n">path</span><span class="o">.</span><span class="n">join</span><span class="p">(</span><span class="bp">self</span><span class="o">.</span><span class="n">cubPath</span><span class="p">,</span> <span class="bp">self</span><span class="o">.</span><span class="n">imgDict</span><span class="p">[</span><span class="bp">self</span><span class="o">.</span><span class="n">imgList</span><span class="p">[</span><span class="n">i</span><span class="p">]])</span>
                <span class="n">width</span>  <span class="o">=</span> <span class="bp">self</span><span class="o">.</span><span class="n">imgSizesDict</span><span class="p">[</span><span class="bp">self</span><span class="o">.</span><span class="n">imgList</span><span class="p">[</span><span class="n">i</span><span class="p">]][</span><span class="mi">0</span><span class="p">]</span>
                <span class="n">height</span> <span class="o">=</span> <span class="bp">self</span><span class="o">.</span><span class="n">imgSizesDict</span><span class="p">[</span><span class="bp">self</span><span class="o">.</span><span class="n">imgList</span><span class="p">[</span><span class="n">i</span><span class="p">]][</span><span class="mi">1</span><span class="p">]</span> 
                <span class="n">imgClass</span> <span class="o">=</span> <span class="bp">self</span><span class="o">.</span><span class="n">classesDict</span><span class="p">[</span><span class="bp">self</span><span class="o">.</span><span class="n">imgClassDict</span><span class="p">[</span><span class="bp">self</span><span class="o">.</span><span class="n">imgList</span><span class="p">[</span><span class="n">i</span><span class="p">]]]</span>
                <span class="n">xmin</span> <span class="o">=</span> <span class="nb">int</span><span class="p">(</span><span class="bp">self</span><span class="o">.</span><span class="n">bboxDict</span><span class="p">[</span><span class="bp">self</span><span class="o">.</span><span class="n">imgList</span><span class="p">[</span><span class="n">i</span><span class="p">]][</span><span class="mi">0</span><span class="p">])</span>
                <span class="n">ymin</span> <span class="o">=</span> <span class="nb">int</span><span class="p">(</span><span class="bp">self</span><span class="o">.</span><span class="n">bboxDict</span><span class="p">[</span><span class="bp">self</span><span class="o">.</span><span class="n">imgList</span><span class="p">[</span><span class="n">i</span><span class="p">]][</span><span class="mi">1</span><span class="p">])</span>
                <span class="n">xmax</span> <span class="o">=</span> <span class="nb">int</span><span class="p">(</span><span class="bp">self</span><span class="o">.</span><span class="n">bboxDict</span><span class="p">[</span><span class="bp">self</span><span class="o">.</span><span class="n">imgList</span><span class="p">[</span><span class="n">i</span><span class="p">]][</span><span class="mi">0</span><span class="p">]</span> <span class="o">+</span> <span class="bp">self</span><span class="o">.</span><span class="n">bboxDict</span><span class="p">[</span><span class="bp">self</span><span class="o">.</span><span class="n">imgList</span><span class="p">[</span><span class="n">i</span><span class="p">]][</span><span class="mi">2</span><span class="p">])</span>
                <span class="n">ymax</span> <span class="o">=</span> <span class="nb">int</span><span class="p">(</span><span class="bp">self</span><span class="o">.</span><span class="n">bboxDict</span><span class="p">[</span><span class="bp">self</span><span class="o">.</span><span class="n">imgList</span><span class="p">[</span><span class="n">i</span><span class="p">]][</span><span class="mi">1</span><span class="p">]</span> <span class="o">+</span> <span class="bp">self</span><span class="o">.</span><span class="n">bboxDict</span><span class="p">[</span><span class="bp">self</span><span class="o">.</span><span class="n">imgList</span><span class="p">[</span><span class="n">i</span><span class="p">]][</span><span class="mi">3</span><span class="p">])</span>
                <span class="n">writer</span><span class="o">.</span><span class="n">writerow</span><span class="p">({</span><span class="s1">&#39;filename&#39;</span> <span class="p">:</span> <span class="n">imgPath</span><span class="p">,</span><span class="s1">&#39;width&#39;</span> <span class="p">:</span> <span class="n">width</span><span class="p">,</span> <span class="s1">&#39;height&#39;</span> <span class="p">:</span> <span class="n">height</span><span class="p">,</span><span class="s1">&#39;class&#39;</span> <span class="p">:</span> <span class="n">imgClass</span><span class="p">,</span><span class="s1">&#39;xmin&#39;</span> <span class="p">:</span> <span class="n">xmin</span><span class="p">,</span>\
                     <span class="s1">&#39;ymin&#39;</span> <span class="p">:</span> <span class="n">ymin</span><span class="p">,</span><span class="s1">&#39;xmax&#39;</span> <span class="p">:</span> <span class="n">xmax</span><span class="p">,</span><span class="s1">&#39;ymax&#39;</span> <span class="p">:</span> <span class="n">ymax</span><span class="p">})</span>
    
</pre></div>

    </div>
</div>
</div>

</div>
<div class="cell border-box-sizing text_cell rendered"><div class="prompt input_prompt">
</div><div class="inner_cell">
<div class="text_cell_render border-box-sizing rendered_html">
<h2 id="Usage-sample">Usage sample<a class="anchor-link" href="#Usage-sample">&#182;</a></h2>
</div>
</div>
</div>
<div class="cell border-box-sizing code_cell rendered">
<div class="input">
<div class="prompt input_prompt">In&nbsp;[5]:</div>
<div class="inner_cell">
    <div class="input_area">
<div class=" highlight hl-ipython3"><pre><span></span><span class="k">if</span> <span class="p">(</span><span class="n">PROCESS_CUB</span><span class="p">):</span>   <span class="c1"># enables reloading the notebook wothout reading the data (csv read only)</span>
    <span class="n">cub</span> <span class="o">=</span> <span class="n">CUB_ReadWrite</span><span class="p">(</span><span class="n">CUB_PATH</span><span class="p">)</span>
</pre></div>

    </div>
</div>
</div>

</div>
<div class="cell border-box-sizing code_cell rendered">
<div class="input">
<div class="prompt input_prompt">In&nbsp;[6]:</div>
<div class="inner_cell">
    <div class="input_area">
<div class=" highlight hl-ipython3"><pre><span></span>    <span class="n">cub</span><span class="o">.</span><span class="n">getCubSize</span><span class="p">()</span>
</pre></div>

    </div>
</div>
</div>

<div class="output_wrapper">
<div class="output">


<div class="output_area">

    <div class="prompt output_prompt">Out[6]:</div>




<div class="output_text output_subarea output_execute_result">
<pre>11788</pre>
</div>

</div>

</div>
</div>

</div>
<div class="cell border-box-sizing code_cell rendered">
<div class="input">
<div class="prompt input_prompt">In&nbsp;[7]:</div>
<div class="inner_cell">
    <div class="input_area">
<div class=" highlight hl-ipython3"><pre><span></span>    <span class="n">cub</span><span class="o">.</span><span class="n">getImages</span><span class="p">()</span>
</pre></div>

    </div>
</div>
</div>

<div class="output_wrapper">
<div class="output">


<div class="output_area">

    <div class="prompt output_prompt">Out[7]:</div>




<div class="output_text output_subarea output_execute_result">
<pre>{1: &#39;images\\001.Black_footed_Albatross/Black_Footed_Albatross_0046_18.jpg&#39;,
 2: &#39;images\\001.Black_footed_Albatross/Black_Footed_Albatross_0009_34.jpg&#39;,
 3: &#39;images\\001.Black_footed_Albatross/Black_Footed_Albatross_0002_55.jpg&#39;,
 4: &#39;images\\001.Black_footed_Albatross/Black_Footed_Albatross_0074_59.jpg&#39;,
 5: &#39;images\\001.Black_footed_Albatross/Black_Footed_Albatross_0014_89.jpg&#39;,
 6: &#39;images\\001.Black_footed_Albatross/Black_Footed_Albatross_0085_92.jpg&#39;,
 7: &#39;images\\001.Black_footed_Albatross/Black_Footed_Albatross_0031_100.jpg&#39;,
 8: &#39;images\\001.Black_footed_Albatross/Black_Footed_Albatross_0051_796103.jpg&#39;,
 9: &#39;images\\001.Black_footed_Albatross/Black_Footed_Albatross_0010_796097.jpg&#39;,
 10: &#39;images\\001.Black_footed_Albatross/Black_Footed_Albatross_0025_796057.jpg&#39;,
 11: &#39;images\\001.Black_footed_Albatross/Black_Footed_Albatross_0023_796059.jpg&#39;,
 12: &#39;images\\001.Black_footed_Albatross/Black_Footed_Albatross_0086_796062.jpg&#39;,
 13: &#39;images\\001.Black_footed_Albatross/Black_Footed_Albatross_0049_796063.jpg&#39;,
 14: &#39;images\\001.Black_footed_Albatross/Black_Footed_Albatross_0006_796065.jpg&#39;,
 15: &#39;images\\001.Black_footed_Albatross/Black_Footed_Albatross_0040_796066.jpg&#39;,
 16: &#39;images\\001.Black_footed_Albatross/Black_Footed_Albatross_0016_796067.jpg&#39;,
 17: &#39;images\\001.Black_footed_Albatross/Black_Footed_Albatross_0065_796068.jpg&#39;,
 18: &#39;images\\001.Black_footed_Albatross/Black_Footed_Albatross_0089_796069.jpg&#39;,
 19: &#39;images\\001.Black_footed_Albatross/Black_Footed_Albatross_0042_796071.jpg&#39;,
 20: &#39;images\\001.Black_footed_Albatross/Black_Footed_Albatross_0067_170.jpg&#39;,
 21: &#39;images\\001.Black_footed_Albatross/Black_Footed_Albatross_0060_796076.jpg&#39;,
 22: &#39;images\\001.Black_footed_Albatross/Black_Footed_Albatross_0090_796077.jpg&#39;,
 23: &#39;images\\001.Black_footed_Albatross/Black_Footed_Albatross_0056_796078.jpg&#39;,
 24: &#39;images\\001.Black_footed_Albatross/Black_Footed_Albatross_0061_796082.jpg&#39;,
 25: &#39;images\\001.Black_footed_Albatross/Black_Footed_Albatross_0008_796083.jpg&#39;,
 26: &#39;images\\001.Black_footed_Albatross/Black_Footed_Albatross_0033_796086.jpg&#39;,
 27: &#39;images\\001.Black_footed_Albatross/Black_Footed_Albatross_0024_796089.jpg&#39;,
 28: &#39;images\\001.Black_footed_Albatross/Black_Footed_Albatross_0005_796090.jpg&#39;,
 29: &#39;images\\001.Black_footed_Albatross/Black_Footed_Albatross_0026_796095.jpg&#39;,
 30: &#39;images\\001.Black_footed_Albatross/Black_Footed_Albatross_0080_796096.jpg&#39;,
 31: &#39;images\\001.Black_footed_Albatross/Black_Footed_Albatross_0047_796064.jpg&#39;,
 32: &#39;images\\001.Black_footed_Albatross/Black_Footed_Albatross_0017_796098.jpg&#39;,
 33: &#39;images\\001.Black_footed_Albatross/Black_Footed_Albatross_0064_796101.jpg&#39;,
 34: &#39;images\\001.Black_footed_Albatross/Black_Footed_Albatross_0076_417.jpg&#39;,
 35: &#39;images\\001.Black_footed_Albatross/Black_Footed_Albatross_0019_796104.jpg&#39;,
 36: &#39;images\\001.Black_footed_Albatross/Black_Footed_Albatross_0057_796106.jpg&#39;,
 37: &#39;images\\001.Black_footed_Albatross/Black_Footed_Albatross_0041_796108.jpg&#39;,
 38: &#39;images\\001.Black_footed_Albatross/Black_Footed_Albatross_0053_796109.jpg&#39;,
 39: &#39;images\\001.Black_footed_Albatross/Black_Footed_Albatross_0001_796111.jpg&#39;,
 40: &#39;images\\001.Black_footed_Albatross/Black_Footed_Albatross_0071_796113.jpg&#39;,
 41: &#39;images\\001.Black_footed_Albatross/Black_Footed_Albatross_0077_796114.jpg&#39;,
 42: &#39;images\\001.Black_footed_Albatross/Black_Footed_Albatross_0032_796115.jpg&#39;,
 43: &#39;images\\001.Black_footed_Albatross/Black_Footed_Albatross_0038_212.jpg&#39;,
 44: &#39;images\\001.Black_footed_Albatross/Black_Footed_Albatross_0037_796120.jpg&#39;,
 45: &#39;images\\001.Black_footed_Albatross/Black_Footed_Albatross_0082_796121.jpg&#39;,
 46: &#39;images\\001.Black_footed_Albatross/Black_Footed_Albatross_0079_796122.jpg&#39;,
 47: &#39;images\\001.Black_footed_Albatross/Black_Footed_Albatross_0050_796125.jpg&#39;,
 48: &#39;images\\001.Black_footed_Albatross/Black_Footed_Albatross_0078_796126.jpg&#39;,
 49: &#39;images\\001.Black_footed_Albatross/Black_Footed_Albatross_0036_796127.jpg&#39;,
 50: &#39;images\\001.Black_footed_Albatross/Black_Footed_Albatross_0045_796129.jpg&#39;,
 51: &#39;images\\001.Black_footed_Albatross/Black_Footed_Albatross_0039_796132.jpg&#39;,
 52: &#39;images\\001.Black_footed_Albatross/Black_Footed_Albatross_0088_796133.jpg&#39;,
 53: &#39;images\\001.Black_footed_Albatross/Black_Footed_Albatross_0068_796135.jpg&#39;,
 54: &#39;images\\001.Black_footed_Albatross/Black_Footed_Albatross_0003_796136.jpg&#39;,
 55: &#39;images\\001.Black_footed_Albatross/Black_Footed_Albatross_0007_796138.jpg&#39;,
 56: &#39;images\\001.Black_footed_Albatross/Black_Footed_Albatross_0069_796139.jpg&#39;,
 57: &#39;images\\001.Black_footed_Albatross/Black_Footed_Albatross_0035_796140.jpg&#39;,
 58: &#39;images\\001.Black_footed_Albatross/Black_Footed_Albatross_0063_796141.jpg&#39;,
 59: &#39;images\\001.Black_footed_Albatross/Black_Footed_Albatross_0058_796074.jpg&#39;,
 60: &#39;images\\001.Black_footed_Albatross/Black_Footed_Albatross_0081_426.jpg&#39;,
 61: &#39;images\\002.Laysan_Albatross/Laysan_Albatross_0002_1027.jpg&#39;,
 62: &#39;images\\002.Laysan_Albatross/Laysan_Albatross_0003_1033.jpg&#39;,
 63: &#39;images\\002.Laysan_Albatross/Laysan_Albatross_0082_524.jpg&#39;,
 64: &#39;images\\002.Laysan_Albatross/Laysan_Albatross_0044_784.jpg&#39;,
 65: &#39;images\\002.Laysan_Albatross/Laysan_Albatross_0070_788.jpg&#39;,
 66: &#39;images\\002.Laysan_Albatross/Laysan_Albatross_0050_870.jpg&#39;,
 67: &#39;images\\002.Laysan_Albatross/Laysan_Albatross_0071_792.jpg&#39;,
 68: &#39;images\\002.Laysan_Albatross/Laysan_Albatross_0053_543.jpg&#39;,
 69: &#39;images\\002.Laysan_Albatross/Laysan_Albatross_0081_800.jpg&#39;,
 70: &#39;images\\002.Laysan_Albatross/Laysan_Albatross_0001_545.jpg&#39;,
 71: &#39;images\\002.Laysan_Albatross/Laysan_Albatross_0023_1059.jpg&#39;,
 72: &#39;images\\002.Laysan_Albatross/Laysan_Albatross_0065_809.jpg&#39;,
 73: &#39;images\\002.Laysan_Albatross/Laysan_Albatross_0061_563.jpg&#39;,
 74: &#39;images\\002.Laysan_Albatross/Laysan_Albatross_0085_564.jpg&#39;,
 75: &#39;images\\002.Laysan_Albatross/Laysan_Albatross_0005_565.jpg&#39;,
 76: &#39;images\\002.Laysan_Albatross/Laysan_Albatross_0060_777.jpg&#39;,
 77: &#39;images\\002.Laysan_Albatross/Laysan_Albatross_0055_570.jpg&#39;,
 78: &#39;images\\002.Laysan_Albatross/Laysan_Albatross_0025_571.jpg&#39;,
 79: &#39;images\\002.Laysan_Albatross/Laysan_Albatross_0080_821.jpg&#39;,
 80: &#39;images\\002.Laysan_Albatross/Laysan_Albatross_0092_834.jpg&#39;,
 81: &#39;images\\002.Laysan_Albatross/Laysan_Albatross_0013_910.jpg&#39;,
 82: &#39;images\\002.Laysan_Albatross/Laysan_Albatross_0091_602.jpg&#39;,
 83: &#39;images\\002.Laysan_Albatross/Laysan_Albatross_0102_611.jpg&#39;,
 84: &#39;images\\002.Laysan_Albatross/Laysan_Albatross_0099_869.jpg&#39;,
 85: &#39;images\\002.Laysan_Albatross/Laysan_Albatross_0017_614.jpg&#39;,
 86: &#39;images\\002.Laysan_Albatross/Laysan_Albatross_0047_619.jpg&#39;,
 87: &#39;images\\002.Laysan_Albatross/Laysan_Albatross_0035_876.jpg&#39;,
 88: &#39;images\\002.Laysan_Albatross/Laysan_Albatross_0098_621.jpg&#39;,
 89: &#39;images\\002.Laysan_Albatross/Laysan_Albatross_0088_883.jpg&#39;,
 90: &#39;images\\002.Laysan_Albatross/Laysan_Albatross_0034_628.jpg&#39;,
 91: &#39;images\\002.Laysan_Albatross/Laysan_Albatross_0104_630.jpg&#39;,
 92: &#39;images\\002.Laysan_Albatross/Laysan_Albatross_0058_637.jpg&#39;,
 93: &#39;images\\002.Laysan_Albatross/Laysan_Albatross_0028_643.jpg&#39;,
 94: &#39;images\\002.Laysan_Albatross/Laysan_Albatross_0033_658.jpg&#39;,
 95: &#39;images\\002.Laysan_Albatross/Laysan_Albatross_0075_668.jpg&#39;,
 96: &#39;images\\002.Laysan_Albatross/Laysan_Albatross_0076_671.jpg&#39;,
 97: &#39;images\\002.Laysan_Albatross/Laysan_Albatross_0096_673.jpg&#39;,
 98: &#39;images\\002.Laysan_Albatross/Laysan_Albatross_0064_674.jpg&#39;,
 99: &#39;images\\002.Laysan_Albatross/Laysan_Albatross_0039_924.jpg&#39;,
 100: &#39;images\\002.Laysan_Albatross/Laysan_Albatross_0049_918.jpg&#39;,
 101: &#39;images\\002.Laysan_Albatross/Laysan_Albatross_0012_696.jpg&#39;,
 102: &#39;images\\002.Laysan_Albatross/Laysan_Albatross_0056_500.jpg&#39;,
 103: &#39;images\\002.Laysan_Albatross/Laysan_Albatross_0037_699.jpg&#39;,
 104: &#39;images\\002.Laysan_Albatross/Laysan_Albatross_0006_702.jpg&#39;,
 105: &#39;images\\002.Laysan_Albatross/Laysan_Albatross_0073_927.jpg&#39;,
 106: &#39;images\\002.Laysan_Albatross/Laysan_Albatross_0042_801.jpg&#39;,
 107: &#39;images\\002.Laysan_Albatross/Laysan_Albatross_0004_930.jpg&#39;,
 108: &#39;images\\002.Laysan_Albatross/Laysan_Albatross_0093_725.jpg&#39;,
 109: &#39;images\\002.Laysan_Albatross/Laysan_Albatross_0068_726.jpg&#39;,
 110: &#39;images\\002.Laysan_Albatross/Laysan_Albatross_0040_472.jpg&#39;,
 111: &#39;images\\002.Laysan_Albatross/Laysan_Albatross_0100_735.jpg&#39;,
 112: &#39;images\\002.Laysan_Albatross/Laysan_Albatross_0021_737.jpg&#39;,
 113: &#39;images\\002.Laysan_Albatross/Laysan_Albatross_0029_482.jpg&#39;,
 114: &#39;images\\002.Laysan_Albatross/Laysan_Albatross_0059_488.jpg&#39;,
 115: &#39;images\\002.Laysan_Albatross/Laysan_Albatross_0018_492.jpg&#39;,
 116: &#39;images\\002.Laysan_Albatross/Laysan_Albatross_0083_756.jpg&#39;,
 117: &#39;images\\002.Laysan_Albatross/Laysan_Albatross_0094_1013.jpg&#39;,
 118: &#39;images\\002.Laysan_Albatross/Laysan_Albatross_0103_504.jpg&#39;,
 119: &#39;images\\002.Laysan_Albatross/Laysan_Albatross_0079_506.jpg&#39;,
 120: &#39;images\\002.Laysan_Albatross/Laysan_Albatross_0051_1020.jpg&#39;,
 121: &#39;images\\003.Sooty_Albatross/Sooty_Albatross_0038_1065.jpg&#39;,
 122: &#39;images\\003.Sooty_Albatross/Sooty_Albatross_0031_1066.jpg&#39;,
 123: &#39;images\\003.Sooty_Albatross/Sooty_Albatross_0001_1071.jpg&#39;,
 124: &#39;images\\003.Sooty_Albatross/Sooty_Albatross_0016_1075.jpg&#39;,
 125: &#39;images\\003.Sooty_Albatross/Sooty_Albatross_0043_1076.jpg&#39;,
 126: &#39;images\\003.Sooty_Albatross/Sooty_Albatross_0003_1078.jpg&#39;,
 127: &#39;images\\003.Sooty_Albatross/Sooty_Albatross_0077_1080.jpg&#39;,
 128: &#39;images\\003.Sooty_Albatross/Sooty_Albatross_0063_1101.jpg&#39;,
 129: &#39;images\\003.Sooty_Albatross/Sooty_Albatross_0044_1105.jpg&#39;,
 130: &#39;images\\003.Sooty_Albatross/Sooty_Albatross_0071_1116.jpg&#39;,
 131: &#39;images\\003.Sooty_Albatross/Sooty_Albatross_0070_796346.jpg&#39;,
 132: &#39;images\\003.Sooty_Albatross/Sooty_Albatross_0030_1122.jpg&#39;,
 133: &#39;images\\003.Sooty_Albatross/Sooty_Albatross_0054_796347.jpg&#39;,
 134: &#39;images\\003.Sooty_Albatross/Sooty_Albatross_0033_1128.jpg&#39;,
 135: &#39;images\\003.Sooty_Albatross/Sooty_Albatross_0048_1130.jpg&#39;,
 136: &#39;images\\003.Sooty_Albatross/Sooty_Albatross_0032_1149.jpg&#39;,
 137: &#39;images\\003.Sooty_Albatross/Sooty_Albatross_0034_1154.jpg&#39;,
 138: &#39;images\\003.Sooty_Albatross/Sooty_Albatross_0055_1160.jpg&#39;,
 139: &#39;images\\003.Sooty_Albatross/Sooty_Albatross_0024_1161.jpg&#39;,
 140: &#39;images\\003.Sooty_Albatross/Sooty_Albatross_0045_1162.jpg&#39;,
 141: &#39;images\\003.Sooty_Albatross/Sooty_Albatross_0073_1171.jpg&#39;,
 142: &#39;images\\003.Sooty_Albatross/Sooty_Albatross_0074_1221.jpg&#39;,
 143: &#39;images\\003.Sooty_Albatross/Sooty_Albatross_0021_796339.jpg&#39;,
 144: &#39;images\\003.Sooty_Albatross/Sooty_Albatross_0005_796342.jpg&#39;,
 145: &#39;images\\003.Sooty_Albatross/Sooty_Albatross_0064_796343.jpg&#39;,
 146: &#39;images\\003.Sooty_Albatross/Sooty_Albatross_0042_1210.jpg&#39;,
 147: &#39;images\\003.Sooty_Albatross/Sooty_Albatross_0046_1211.jpg&#39;,
 148: &#39;images\\003.Sooty_Albatross/Sooty_Albatross_0017_796349.jpg&#39;,
 149: &#39;images\\003.Sooty_Albatross/Sooty_Albatross_0049_796350.jpg&#39;,
 150: &#39;images\\003.Sooty_Albatross/Sooty_Albatross_0050_796351.jpg&#39;,
 151: &#39;images\\003.Sooty_Albatross/Sooty_Albatross_0075_796352.jpg&#39;,
 152: &#39;images\\003.Sooty_Albatross/Sooty_Albatross_0068_796353.jpg&#39;,
 153: &#39;images\\003.Sooty_Albatross/Sooty_Albatross_0057_796354.jpg&#39;,
 154: &#39;images\\003.Sooty_Albatross/Sooty_Albatross_0010_796355.jpg&#39;,
 155: &#39;images\\003.Sooty_Albatross/Sooty_Albatross_0029_796357.jpg&#39;,
 156: &#39;images\\003.Sooty_Albatross/Sooty_Albatross_0069_796358.jpg&#39;,
 157: &#39;images\\003.Sooty_Albatross/Sooty_Albatross_0020_796359.jpg&#39;,
 158: &#39;images\\003.Sooty_Albatross/Sooty_Albatross_0058_796360.jpg&#39;,
 159: &#39;images\\003.Sooty_Albatross/Sooty_Albatross_0025_796361.jpg&#39;,
 160: &#39;images\\003.Sooty_Albatross/Sooty_Albatross_0041_796364.jpg&#39;,
 161: &#39;images\\003.Sooty_Albatross/Sooty_Albatross_0076_796365.jpg&#39;,
 162: &#39;images\\003.Sooty_Albatross/Sooty_Albatross_0004_796366.jpg&#39;,
 163: &#39;images\\003.Sooty_Albatross/Sooty_Albatross_0065_796367.jpg&#39;,
 164: &#39;images\\003.Sooty_Albatross/Sooty_Albatross_0072_796371.jpg&#39;,
 165: &#39;images\\003.Sooty_Albatross/Sooty_Albatross_0007_796372.jpg&#39;,
 166: &#39;images\\003.Sooty_Albatross/Sooty_Albatross_0014_796373.jpg&#39;,
 167: &#39;images\\003.Sooty_Albatross/Sooty_Albatross_0051_796374.jpg&#39;,
 168: &#39;images\\003.Sooty_Albatross/Sooty_Albatross_0040_796375.jpg&#39;,
 169: &#39;images\\003.Sooty_Albatross/Sooty_Albatross_0067_796376.jpg&#39;,
 170: &#39;images\\003.Sooty_Albatross/Sooty_Albatross_0066_796382.jpg&#39;,
 171: &#39;images\\003.Sooty_Albatross/Sooty_Albatross_0036_796387.jpg&#39;,
 172: &#39;images\\003.Sooty_Albatross/Sooty_Albatross_0079_796389.jpg&#39;,
 173: &#39;images\\003.Sooty_Albatross/Sooty_Albatross_0006_796390.jpg&#39;,
 174: &#39;images\\003.Sooty_Albatross/Sooty_Albatross_0019_796391.jpg&#39;,
 175: &#39;images\\003.Sooty_Albatross/Sooty_Albatross_0002_796395.jpg&#39;,
 176: &#39;images\\003.Sooty_Albatross/Sooty_Albatross_0022_796398.jpg&#39;,
 177: &#39;images\\003.Sooty_Albatross/Sooty_Albatross_0023_796401.jpg&#39;,
 178: &#39;images\\003.Sooty_Albatross/Sooty_Albatross_0013_796402.jpg&#39;,
 179: &#39;images\\004.Groove_billed_Ani/Groove_Billed_Ani_0068_1538.jpg&#39;,
 180: &#39;images\\004.Groove_billed_Ani/Groove_Billed_Ani_0094_1540.jpg&#39;,
 181: &#39;images\\004.Groove_billed_Ani/Groove_Billed_Ani_0033_1494.jpg&#39;,
 182: &#39;images\\004.Groove_billed_Ani/Groove_Billed_Ani_0069_1546.jpg&#39;,
 183: &#39;images\\004.Groove_billed_Ani/Groove_Billed_Ani_0080_1549.jpg&#39;,
 184: &#39;images\\004.Groove_billed_Ani/Groove_Billed_Ani_0071_1559.jpg&#39;,
 185: &#39;images\\004.Groove_billed_Ani/Groove_Billed_Ani_0037_1560.jpg&#39;,
 186: &#39;images\\004.Groove_billed_Ani/Groove_Billed_Ani_0017_1561.jpg&#39;,
 187: &#39;images\\004.Groove_billed_Ani/Groove_Billed_Ani_0105_1562.jpg&#39;,
 188: &#39;images\\004.Groove_billed_Ani/Groove_Billed_Ani_0090_1567.jpg&#39;,
 189: &#39;images\\004.Groove_billed_Ani/Groove_Billed_Ani_0019_1585.jpg&#39;,
 190: &#39;images\\004.Groove_billed_Ani/Groove_Billed_Ani_0031_1588.jpg&#39;,
 191: &#39;images\\004.Groove_billed_Ani/Groove_Billed_Ani_0107_1590.jpg&#39;,
 192: &#39;images\\004.Groove_billed_Ani/Groove_Billed_Ani_0035_1591.jpg&#39;,
 193: &#39;images\\004.Groove_billed_Ani/Groove_Billed_Ani_0109_1592.jpg&#39;,
 194: &#39;images\\004.Groove_billed_Ani/Groove_Billed_Ani_0036_1604.jpg&#39;,
 195: &#39;images\\004.Groove_billed_Ani/Groove_Billed_Ani_0085_1612.jpg&#39;,
 196: &#39;images\\004.Groove_billed_Ani/Groove_Billed_Ani_0018_1613.jpg&#39;,
 197: &#39;images\\004.Groove_billed_Ani/Groove_Billed_Ani_0007_1615.jpg&#39;,
 198: &#39;images\\004.Groove_billed_Ani/Groove_Billed_Ani_0075_1617.jpg&#39;,
 199: &#39;images\\004.Groove_billed_Ani/Groove_Billed_Ani_0029_1620.jpg&#39;,
 200: &#39;images\\004.Groove_billed_Ani/Groove_Billed_Ani_0108_1639.jpg&#39;,
 201: &#39;images\\004.Groove_billed_Ani/Groove_Billed_Ani_0100_1646.jpg&#39;,
 202: &#39;images\\004.Groove_billed_Ani/Groove_Billed_Ani_0051_1650.jpg&#39;,
 203: &#39;images\\004.Groove_billed_Ani/Groove_Billed_Ani_0015_1653.jpg&#39;,
 204: &#39;images\\004.Groove_billed_Ani/Groove_Billed_Ani_0076_1661.jpg&#39;,
 205: &#39;images\\004.Groove_billed_Ani/Groove_Billed_Ani_0046_1663.jpg&#39;,
 206: &#39;images\\004.Groove_billed_Ani/Groove_Billed_Ani_0002_1670.jpg&#39;,
 207: &#39;images\\004.Groove_billed_Ani/Groove_Billed_Ani_0053_1672.jpg&#39;,
 208: &#39;images\\004.Groove_billed_Ani/Groove_Billed_Ani_0088_1678.jpg&#39;,
 209: &#39;images\\004.Groove_billed_Ani/Groove_Billed_Ani_0072_1696.jpg&#39;,
 210: &#39;images\\004.Groove_billed_Ani/Groove_Billed_Ani_0082_1697.jpg&#39;,
 211: &#39;images\\004.Groove_billed_Ani/Groove_Billed_Ani_0101_1700.jpg&#39;,
 212: &#39;images\\004.Groove_billed_Ani/Groove_Billed_Ani_0010_1704.jpg&#39;,
 213: &#39;images\\004.Groove_billed_Ani/Groove_Billed_Ani_0047_1706.jpg&#39;,
 214: &#39;images\\004.Groove_billed_Ani/Groove_Billed_Ani_0040_1715.jpg&#39;,
 215: &#39;images\\004.Groove_billed_Ani/Groove_Billed_Ani_0077_1724.jpg&#39;,
 216: &#39;images\\004.Groove_billed_Ani/Groove_Billed_Ani_0091_1728.jpg&#39;,
 217: &#39;images\\004.Groove_billed_Ani/Groove_Billed_Ani_0074_1730.jpg&#39;,
 218: &#39;images\\004.Groove_billed_Ani/Groove_Billed_Ani_0044_1731.jpg&#39;,
 219: &#39;images\\004.Groove_billed_Ani/Groove_Billed_Ani_0059_1480.jpg&#39;,
 220: &#39;images\\004.Groove_billed_Ani/Groove_Billed_Ani_0023_1485.jpg&#39;,
 221: &#39;images\\004.Groove_billed_Ani/Groove_Billed_Ani_0004_1528.jpg&#39;,
 222: &#39;images\\004.Groove_billed_Ani/Groove_Billed_Ani_0056_1493.jpg&#39;,
 223: &#39;images\\004.Groove_billed_Ani/Groove_Billed_Ani_0005_1750.jpg&#39;,
 224: &#39;images\\004.Groove_billed_Ani/Groove_Billed_Ani_0058_1751.jpg&#39;,
 225: &#39;images\\004.Groove_billed_Ani/Groove_Billed_Ani_0027_1754.jpg&#39;,
 226: &#39;images\\004.Groove_billed_Ani/Groove_Billed_Ani_0014_1755.jpg&#39;,
 227: &#39;images\\004.Groove_billed_Ani/Groove_Billed_Ani_0055_1501.jpg&#39;,
 228: &#39;images\\004.Groove_billed_Ani/Groove_Billed_Ani_0065_1502.jpg&#39;,
 229: &#39;images\\004.Groove_billed_Ani/Groove_Billed_Ani_0060_1505.jpg&#39;,
 230: &#39;images\\004.Groove_billed_Ani/Groove_Billed_Ani_0006_1763.jpg&#39;,
 231: &#39;images\\004.Groove_billed_Ani/Groove_Billed_Ani_0087_1765.jpg&#39;,
 232: &#39;images\\004.Groove_billed_Ani/Groove_Billed_Ani_0061_1510.jpg&#39;,
 233: &#39;images\\004.Groove_billed_Ani/Groove_Billed_Ani_0062_1767.jpg&#39;,
 234: &#39;images\\004.Groove_billed_Ani/Groove_Billed_Ani_0092_1516.jpg&#39;,
 235: &#39;images\\004.Groove_billed_Ani/Groove_Billed_Ani_0032_1776.jpg&#39;,
 236: &#39;images\\004.Groove_billed_Ani/Groove_Billed_Ani_0009_1522.jpg&#39;,
 237: &#39;images\\004.Groove_billed_Ani/Groove_Billed_Ani_0078_1780.jpg&#39;,
 238: &#39;images\\004.Groove_billed_Ani/Groove_Billed_Ani_0012_1784.jpg&#39;,
 239: &#39;images\\005.Crested_Auklet/Crested_Auklet_0006_1813.jpg&#39;,
 240: &#39;images\\005.Crested_Auklet/Crested_Auklet_0042_794902.jpg&#39;,
 241: &#39;images\\005.Crested_Auklet/Crested_Auklet_0061_794904.jpg&#39;,
 242: &#39;images\\005.Crested_Auklet/Crested_Auklet_0018_1817.jpg&#39;,
 243: &#39;images\\005.Crested_Auklet/Crested_Auklet_0010_794907.jpg&#39;,
 244: &#39;images\\005.Crested_Auklet/Crested_Auklet_0041_794910.jpg&#39;,
 245: &#39;images\\005.Crested_Auklet/Crested_Auklet_0029_1824.jpg&#39;,
 246: &#39;images\\005.Crested_Auklet/Crested_Auklet_0044_1825.jpg&#39;,
 247: &#39;images\\005.Crested_Auklet/Crested_Auklet_0013_794914.jpg&#39;,
 248: &#39;images\\005.Crested_Auklet/Crested_Auklet_0047_794918.jpg&#39;,
 249: &#39;images\\005.Crested_Auklet/Crested_Auklet_0005_794922.jpg&#39;,
 250: &#39;images\\005.Crested_Auklet/Crested_Auklet_0019_794925.jpg&#39;,
 251: &#39;images\\005.Crested_Auklet/Crested_Auklet_0011_794927.jpg&#39;,
 252: &#39;images\\005.Crested_Auklet/Crested_Auklet_0059_794929.jpg&#39;,
 253: &#39;images\\005.Crested_Auklet/Crested_Auklet_0032_794931.jpg&#39;,
 254: &#39;images\\005.Crested_Auklet/Crested_Auklet_0057_794932.jpg&#39;,
 255: &#39;images\\005.Crested_Auklet/Crested_Auklet_0021_794938.jpg&#39;,
 256: &#39;images\\005.Crested_Auklet/Crested_Auklet_0045_794940.jpg&#39;,
 257: &#39;images\\005.Crested_Auklet/Crested_Auklet_0001_794941.jpg&#39;,
 258: &#39;images\\005.Crested_Auklet/Crested_Auklet_0039_794944.jpg&#39;,
 259: &#39;images\\005.Crested_Auklet/Crested_Auklet_0074_794949.jpg&#39;,
 260: &#39;images\\005.Crested_Auklet/Crested_Auklet_0028_794951.jpg&#39;,
 261: &#39;images\\005.Crested_Auklet/Crested_Auklet_0052_794952.jpg&#39;,
 262: &#39;images\\005.Crested_Auklet/Crested_Auklet_0012_794960.jpg&#39;,
 263: &#39;images\\005.Crested_Auklet/Crested_Auklet_0003_794962.jpg&#39;,
 264: &#39;images\\005.Crested_Auklet/Crested_Auklet_0033_794964.jpg&#39;,
 265: &#39;images\\005.Crested_Auklet/Crested_Auklet_0053_794966.jpg&#39;,
 266: &#39;images\\005.Crested_Auklet/Crested_Auklet_0062_794968.jpg&#39;,
 267: &#39;images\\005.Crested_Auklet/Crested_Auklet_0073_785248.jpg&#39;,
 268: &#39;images\\005.Crested_Auklet/Crested_Auklet_0067_785249.jpg&#39;,
 269: &#39;images\\005.Crested_Auklet/Crested_Auklet_0066_785251.jpg&#39;,
 270: &#39;images\\005.Crested_Auklet/Crested_Auklet_0076_785252.jpg&#39;,
 271: &#39;images\\005.Crested_Auklet/Crested_Auklet_0068_785253.jpg&#39;,
 272: &#39;images\\005.Crested_Auklet/Crested_Auklet_0071_785255.jpg&#39;,
 273: &#39;images\\005.Crested_Auklet/Crested_Auklet_0077_785257.jpg&#39;,
 274: &#39;images\\005.Crested_Auklet/Crested_Auklet_0069_785258.jpg&#39;,
 275: &#39;images\\005.Crested_Auklet/Crested_Auklet_0075_785259.jpg&#39;,
 276: &#39;images\\005.Crested_Auklet/Crested_Auklet_0072_785260.jpg&#39;,
 277: &#39;images\\005.Crested_Auklet/Crested_Auklet_0070_785261.jpg&#39;,
 278: &#39;images\\005.Crested_Auklet/Crested_Auklet_0063_794901.jpg&#39;,
 279: &#39;images\\005.Crested_Auklet/Crested_Auklet_0036_794905.jpg&#39;,
 280: &#39;images\\005.Crested_Auklet/Crested_Auklet_0030_794937.jpg&#39;,
 281: &#39;images\\005.Crested_Auklet/Crested_Auklet_0040_794912.jpg&#39;,
 282: &#39;images\\005.Crested_Auklet/Crested_Auklet_0048_1791.jpg&#39;,
 283: &#39;images\\006.Least_Auklet/Least_Auklet_0035_1888.jpg&#39;,
 284: &#39;images\\006.Least_Auklet/Least_Auklet_0050_1924.jpg&#39;,
 285: &#39;images\\006.Least_Auklet/Least_Auklet_0058_1931.jpg&#39;,
 286: &#39;images\\006.Least_Auklet/Least_Auklet_0014_1901.jpg&#39;,
 287: &#39;images\\006.Least_Auklet/Least_Auklet_0016_1903.jpg&#39;,
 288: &#39;images\\006.Least_Auklet/Least_Auklet_0040_795100.jpg&#39;,
 289: &#39;images\\006.Least_Auklet/Least_Auklet_0015_795065.jpg&#39;,
 290: &#39;images\\006.Least_Auklet/Least_Auklet_0026_795066.jpg&#39;,
 291: &#39;images\\006.Least_Auklet/Least_Auklet_0043_795067.jpg&#39;,
 292: &#39;images\\006.Least_Auklet/Least_Auklet_0032_795068.jpg&#39;,
 293: &#39;images\\006.Least_Auklet/Least_Auklet_0045_795069.jpg&#39;,
 294: &#39;images\\006.Least_Auklet/Least_Auklet_0008_795071.jpg&#39;,
 295: &#39;images\\006.Least_Auklet/Least_Auklet_0012_795074.jpg&#39;,
 296: &#39;images\\006.Least_Auklet/Least_Auklet_0018_795077.jpg&#39;,
 297: &#39;images\\006.Least_Auklet/Least_Auklet_0020_795080.jpg&#39;,
 298: &#39;images\\006.Least_Auklet/Least_Auklet_0039_795081.jpg&#39;,
 299: &#39;images\\006.Least_Auklet/Least_Auklet_0017_795084.jpg&#39;,
 300: &#39;images\\006.Least_Auklet/Least_Auklet_0025_795087.jpg&#39;,
 301: &#39;images\\006.Least_Auklet/Least_Auklet_0052_795088.jpg&#39;,
 302: &#39;images\\006.Least_Auklet/Least_Auklet_0027_795091.jpg&#39;,
 303: &#39;images\\006.Least_Auklet/Least_Auklet_0010_795092.jpg&#39;,
 304: &#39;images\\006.Least_Auklet/Least_Auklet_0028_795094.jpg&#39;,
 305: &#39;images\\006.Least_Auklet/Least_Auklet_0060_795095.jpg&#39;,
 306: &#39;images\\006.Least_Auklet/Least_Auklet_0034_795096.jpg&#39;,
 307: &#39;images\\006.Least_Auklet/Least_Auklet_0042_1874.jpg&#39;,
 308: &#39;images\\006.Least_Auklet/Least_Auklet_0055_795106.jpg&#39;,
 309: &#39;images\\006.Least_Auklet/Least_Auklet_0041_795107.jpg&#39;,
 310: &#39;images\\006.Least_Auklet/Least_Auklet_0011_795109.jpg&#39;,
 311: &#39;images\\006.Least_Auklet/Least_Auklet_0004_795112.jpg&#39;,
 312: &#39;images\\006.Least_Auklet/Least_Auklet_0023_1898.jpg&#39;,
 313: &#39;images\\006.Least_Auklet/Least_Auklet_0030_795116.jpg&#39;,
 314: &#39;images\\006.Least_Auklet/Least_Auklet_0046_795118.jpg&#39;,
 315: &#39;images\\006.Least_Auklet/Least_Auklet_0005_795119.jpg&#39;,
 316: &#39;images\\006.Least_Auklet/Least_Auklet_0024_795120.jpg&#39;,
 317: &#39;images\\006.Least_Auklet/Least_Auklet_0029_795122.jpg&#39;,
 318: &#39;images\\006.Least_Auklet/Least_Auklet_0007_795123.jpg&#39;,
 319: &#39;images\\006.Least_Auklet/Least_Auklet_0057_795126.jpg&#39;,
 320: &#39;images\\006.Least_Auklet/Least_Auklet_0021_795127.jpg&#39;,
 321: &#39;images\\006.Least_Auklet/Least_Auklet_0054_795130.jpg&#39;,
 322: &#39;images\\006.Least_Auklet/Least_Auklet_0038_795132.jpg&#39;,
 323: &#39;images\\006.Least_Auklet/Least_Auklet_0063_795134.jpg&#39;,
 324: &#39;images\\007.Parakeet_Auklet/Parakeet_Auklet_0004_795921.jpg&#39;,
 325: &#39;images\\007.Parakeet_Auklet/Parakeet_Auklet_0017_795924.jpg&#39;,
 326: &#39;images\\007.Parakeet_Auklet/Parakeet_Auklet_0027_795925.jpg&#39;,
 327: &#39;images\\007.Parakeet_Auklet/Parakeet_Auklet_0056_795926.jpg&#39;,
 328: &#39;images\\007.Parakeet_Auklet/Parakeet_Auklet_0012_795927.jpg&#39;,
 329: &#39;images\\007.Parakeet_Auklet/Parakeet_Auklet_0072_795929.jpg&#39;,
 330: &#39;images\\007.Parakeet_Auklet/Parakeet_Auklet_0030_795930.jpg&#39;,
 331: &#39;images\\007.Parakeet_Auklet/Parakeet_Auklet_0007_795932.jpg&#39;,
 332: &#39;images\\007.Parakeet_Auklet/Parakeet_Auklet_0041_795933.jpg&#39;,
 333: &#39;images\\007.Parakeet_Auklet/Parakeet_Auklet_0035_795934.jpg&#39;,
 334: &#39;images\\007.Parakeet_Auklet/Parakeet_Auklet_0038_795935.jpg&#39;,
 335: &#39;images\\007.Parakeet_Auklet/Parakeet_Auklet_0069_795936.jpg&#39;,
 336: &#39;images\\007.Parakeet_Auklet/Parakeet_Auklet_0073_795939.jpg&#39;,
 337: &#39;images\\007.Parakeet_Auklet/Parakeet_Auklet_0058_795942.jpg&#39;,
 338: &#39;images\\007.Parakeet_Auklet/Parakeet_Auklet_0036_795943.jpg&#39;,
 339: &#39;images\\007.Parakeet_Auklet/Parakeet_Auklet_0028_795944.jpg&#39;,
 340: &#39;images\\007.Parakeet_Auklet/Parakeet_Auklet_0020_795947.jpg&#39;,
 341: &#39;images\\007.Parakeet_Auklet/Parakeet_Auklet_0043_795948.jpg&#39;,
 342: &#39;images\\007.Parakeet_Auklet/Parakeet_Auklet_0045_795953.jpg&#39;,
 343: &#39;images\\007.Parakeet_Auklet/Parakeet_Auklet_0064_795954.jpg&#39;,
 344: &#39;images\\007.Parakeet_Auklet/Parakeet_Auklet_0039_795955.jpg&#39;,
 345: &#39;images\\007.Parakeet_Auklet/Parakeet_Auklet_0047_795956.jpg&#39;,
 346: &#39;images\\007.Parakeet_Auklet/Parakeet_Auklet_0050_795957.jpg&#39;,
 347: &#39;images\\007.Parakeet_Auklet/Parakeet_Auklet_0062_795958.jpg&#39;,
 348: &#39;images\\007.Parakeet_Auklet/Parakeet_Auklet_0031_795960.jpg&#39;,
 349: &#39;images\\007.Parakeet_Auklet/Parakeet_Auklet_0042_795961.jpg&#39;,
 350: &#39;images\\007.Parakeet_Auklet/Parakeet_Auklet_0026_795962.jpg&#39;,
 351: &#39;images\\007.Parakeet_Auklet/Parakeet_Auklet_0055_795963.jpg&#39;,
 352: &#39;images\\007.Parakeet_Auklet/Parakeet_Auklet_0067_795964.jpg&#39;,
 353: &#39;images\\007.Parakeet_Auklet/Parakeet_Auklet_0080_795965.jpg&#39;,
 354: &#39;images\\007.Parakeet_Auklet/Parakeet_Auklet_0015_795966.jpg&#39;,
 355: &#39;images\\007.Parakeet_Auklet/Parakeet_Auklet_0065_795969.jpg&#39;,
 356: &#39;images\\007.Parakeet_Auklet/Parakeet_Auklet_0013_795970.jpg&#39;,
 357: &#39;images\\007.Parakeet_Auklet/Parakeet_Auklet_0051_795971.jpg&#39;,
 358: &#39;images\\007.Parakeet_Auklet/Parakeet_Auklet_0001_795972.jpg&#39;,
 359: &#39;images\\007.Parakeet_Auklet/Parakeet_Auklet_0059_795973.jpg&#39;,
 360: &#39;images\\007.Parakeet_Auklet/Parakeet_Auklet_0040_795974.jpg&#39;,
 361: &#39;images\\007.Parakeet_Auklet/Parakeet_Auklet_0025_795975.jpg&#39;,
 362: &#39;images\\007.Parakeet_Auklet/Parakeet_Auklet_0074_795976.jpg&#39;,
 363: &#39;images\\007.Parakeet_Auklet/Parakeet_Auklet_0016_795977.jpg&#39;,
 364: &#39;images\\007.Parakeet_Auklet/Parakeet_Auklet_0048_795980.jpg&#39;,
 365: &#39;images\\007.Parakeet_Auklet/Parakeet_Auklet_0075_795981.jpg&#39;,
 366: &#39;images\\007.Parakeet_Auklet/Parakeet_Auklet_0003_795982.jpg&#39;,
 367: &#39;images\\007.Parakeet_Auklet/Parakeet_Auklet_0032_795986.jpg&#39;,
 368: &#39;images\\007.Parakeet_Auklet/Parakeet_Auklet_0019_795987.jpg&#39;,
 369: &#39;images\\007.Parakeet_Auklet/Parakeet_Auklet_0061_795990.jpg&#39;,
 370: &#39;images\\007.Parakeet_Auklet/Parakeet_Auklet_0008_795992.jpg&#39;,
 371: &#39;images\\007.Parakeet_Auklet/Parakeet_Auklet_0034_795994.jpg&#39;,
 372: &#39;images\\007.Parakeet_Auklet/Parakeet_Auklet_0010_795995.jpg&#39;,
 373: &#39;images\\007.Parakeet_Auklet/Parakeet_Auklet_0070_795998.jpg&#39;,
 374: &#39;images\\007.Parakeet_Auklet/Parakeet_Auklet_0076_796001.jpg&#39;,
 375: &#39;images\\007.Parakeet_Auklet/Parakeet_Auklet_0078_2004.jpg&#39;,
 376: &#39;images\\007.Parakeet_Auklet/Parakeet_Auklet_0024_2045.jpg&#39;,
 377: &#39;images\\008.Rhinoceros_Auklet/Rhinoceros_Auklet_0028_2056.jpg&#39;,
 378: &#39;images\\008.Rhinoceros_Auklet/Rhinoceros_Auklet_0020_2195.jpg&#39;,
 379: &#39;images\\008.Rhinoceros_Auklet/Rhinoceros_Auklet_0021_2089.jpg&#39;,
 380: &#39;images\\008.Rhinoceros_Auklet/Rhinoceros_Auklet_0043_2096.jpg&#39;,
 381: &#39;images\\008.Rhinoceros_Auklet/Rhinoceros_Auklet_0042_2101.jpg&#39;,
 382: &#39;images\\008.Rhinoceros_Auklet/Rhinoceros_Auklet_0027_797496.jpg&#39;,
 383: &#39;images\\008.Rhinoceros_Auklet/Rhinoceros_Auklet_0034_797497.jpg&#39;,
 384: &#39;images\\008.Rhinoceros_Auklet/Rhinoceros_Auklet_0037_797499.jpg&#39;,
 385: &#39;images\\008.Rhinoceros_Auklet/Rhinoceros_Auklet_0023_797501.jpg&#39;,
 386: &#39;images\\008.Rhinoceros_Auklet/Rhinoceros_Auklet_0044_797502.jpg&#39;,
 387: &#39;images\\008.Rhinoceros_Auklet/Rhinoceros_Auklet_0040_797503.jpg&#39;,
 388: &#39;images\\008.Rhinoceros_Auklet/Rhinoceros_Auklet_0016_2114.jpg&#39;,
 389: &#39;images\\008.Rhinoceros_Auklet/Rhinoceros_Auklet_0025_797508.jpg&#39;,
 390: &#39;images\\008.Rhinoceros_Auklet/Rhinoceros_Auklet_0030_797509.jpg&#39;,
 391: &#39;images\\008.Rhinoceros_Auklet/Rhinoceros_Auklet_0051_797510.jpg&#39;,
 392: &#39;images\\008.Rhinoceros_Auklet/Rhinoceros_Auklet_0006_797512.jpg&#39;,
 393: &#39;images\\008.Rhinoceros_Auklet/Rhinoceros_Auklet_0019_797513.jpg&#39;,
 394: &#39;images\\008.Rhinoceros_Auklet/Rhinoceros_Auklet_0041_797515.jpg&#39;,
 395: &#39;images\\008.Rhinoceros_Auklet/Rhinoceros_Auklet_0032_797516.jpg&#39;,
 396: &#39;images\\008.Rhinoceros_Auklet/Rhinoceros_Auklet_0018_797517.jpg&#39;,
 397: &#39;images\\008.Rhinoceros_Auklet/Rhinoceros_Auklet_0031_797518.jpg&#39;,
 398: &#39;images\\008.Rhinoceros_Auklet/Rhinoceros_Auklet_0026_797519.jpg&#39;,
 399: &#39;images\\008.Rhinoceros_Auklet/Rhinoceros_Auklet_0029_797520.jpg&#39;,
 400: &#39;images\\008.Rhinoceros_Auklet/Rhinoceros_Auklet_0007_797521.jpg&#39;,
 401: &#39;images\\008.Rhinoceros_Auklet/Rhinoceros_Auklet_0014_797522.jpg&#39;,
 402: &#39;images\\008.Rhinoceros_Auklet/Rhinoceros_Auklet_0024_797529.jpg&#39;,
 403: &#39;images\\008.Rhinoceros_Auklet/Rhinoceros_Auklet_0011_797530.jpg&#39;,
 404: &#39;images\\008.Rhinoceros_Auklet/Rhinoceros_Auklet_0008_797531.jpg&#39;,
 405: &#39;images\\008.Rhinoceros_Auklet/Rhinoceros_Auklet_0046_797532.jpg&#39;,
 406: &#39;images\\008.Rhinoceros_Auklet/Rhinoceros_Auklet_0050_797534.jpg&#39;,
 407: &#39;images\\008.Rhinoceros_Auklet/Rhinoceros_Auklet_0003_797535.jpg&#39;,
 408: &#39;images\\008.Rhinoceros_Auklet/Rhinoceros_Auklet_0045_797536.jpg&#39;,
 409: &#39;images\\008.Rhinoceros_Auklet/Rhinoceros_Auklet_0013_797537.jpg&#39;,
 410: &#39;images\\008.Rhinoceros_Auklet/Rhinoceros_Auklet_0001_797538.jpg&#39;,
 411: &#39;images\\008.Rhinoceros_Auklet/Rhinoceros_Auklet_0009_797539.jpg&#39;,
 412: &#39;images\\008.Rhinoceros_Auklet/Rhinoceros_Auklet_0004_797541.jpg&#39;,
 413: &#39;images\\008.Rhinoceros_Auklet/Rhinoceros_Auklet_0049_797543.jpg&#39;,
 414: &#39;images\\008.Rhinoceros_Auklet/Rhinoceros_Auklet_0038_797544.jpg&#39;,
 415: &#39;images\\008.Rhinoceros_Auklet/Rhinoceros_Auklet_0010_797545.jpg&#39;,
 416: &#39;images\\008.Rhinoceros_Auklet/Rhinoceros_Auklet_0017_2155.jpg&#39;,
 417: &#39;images\\008.Rhinoceros_Auklet/Rhinoceros_Auklet_0015_2160.jpg&#39;,
 418: &#39;images\\008.Rhinoceros_Auklet/Rhinoceros_Auklet_0012_2161.jpg&#39;,
 419: &#39;images\\008.Rhinoceros_Auklet/Rhinoceros_Auklet_0048_2162.jpg&#39;,
 420: &#39;images\\008.Rhinoceros_Auklet/Rhinoceros_Auklet_0035_2166.jpg&#39;,
 421: &#39;images\\008.Rhinoceros_Auklet/Rhinoceros_Auklet_0033_2169.jpg&#39;,
 422: &#39;images\\008.Rhinoceros_Auklet/Rhinoceros_Auklet_0022_2170.jpg&#39;,
 423: &#39;images\\008.Rhinoceros_Auklet/Rhinoceros_Auklet_0005_2111.jpg&#39;,
 424: &#39;images\\008.Rhinoceros_Auklet/Rhinoceros_Auklet_0039_2174.jpg&#39;,
 425: &#39;images\\009.Brewer_Blackbird/Brewer_Blackbird_0099_2560.jpg&#39;,
 426: &#39;images\\009.Brewer_Blackbird/Brewer_Blackbird_0139_2567.jpg&#39;,
 427: &#39;images\\009.Brewer_Blackbird/Brewer_Blackbird_0140_2586.jpg&#39;,
 428: &#39;images\\009.Brewer_Blackbird/Brewer_Blackbird_0082_2593.jpg&#39;,
 429: &#39;images\\009.Brewer_Blackbird/Brewer_Blackbird_0135_2607.jpg&#39;,
 430: &#39;images\\009.Brewer_Blackbird/Brewer_Blackbird_0106_2608.jpg&#39;,
 431: &#39;images\\009.Brewer_Blackbird/Brewer_Blackbird_0095_2610.jpg&#39;,
 432: &#39;images\\009.Brewer_Blackbird/Brewer_Blackbird_0035_2611.jpg&#39;,
 433: &#39;images\\009.Brewer_Blackbird/Brewer_Blackbird_0111_2613.jpg&#39;,
 434: &#39;images\\009.Brewer_Blackbird/Brewer_Blackbird_0009_2616.jpg&#39;,
 435: &#39;images\\009.Brewer_Blackbird/Brewer_Blackbird_0102_2620.jpg&#39;,
 436: &#39;images\\009.Brewer_Blackbird/Brewer_Blackbird_0087_2622.jpg&#39;,
 437: &#39;images\\009.Brewer_Blackbird/Brewer_Blackbird_0026_2625.jpg&#39;,
 438: &#39;images\\009.Brewer_Blackbird/Brewer_Blackbird_0101_2630.jpg&#39;,
 439: &#39;images\\009.Brewer_Blackbird/Brewer_Blackbird_0054_2631.jpg&#39;,
 440: &#39;images\\009.Brewer_Blackbird/Brewer_Blackbird_0096_2634.jpg&#39;,
 441: &#39;images\\009.Brewer_Blackbird/Brewer_Blackbird_0142_2636.jpg&#39;,
 442: &#39;images\\009.Brewer_Blackbird/Brewer_Blackbird_0041_2653.jpg&#39;,
 443: &#39;images\\009.Brewer_Blackbird/Brewer_Blackbird_0090_2658.jpg&#39;,
 444: &#39;images\\009.Brewer_Blackbird/Brewer_Blackbird_0078_2659.jpg&#39;,
 445: &#39;images\\009.Brewer_Blackbird/Brewer_Blackbird_0017_2668.jpg&#39;,
 446: &#39;images\\009.Brewer_Blackbird/Brewer_Blackbird_0014_2679.jpg&#39;,
 447: &#39;images\\009.Brewer_Blackbird/Brewer_Blackbird_0137_2680.jpg&#39;,
 448: &#39;images\\009.Brewer_Blackbird/Brewer_Blackbird_0028_2682.jpg&#39;,
 449: &#39;images\\009.Brewer_Blackbird/Brewer_Blackbird_0046_2688.jpg&#39;,
 450: &#39;images\\009.Brewer_Blackbird/Brewer_Blackbird_0012_2691.jpg&#39;,
 451: &#39;images\\009.Brewer_Blackbird/Brewer_Blackbird_0066_2693.jpg&#39;,
 452: &#39;images\\009.Brewer_Blackbird/Brewer_Blackbird_0032_2214.jpg&#39;,
 453: &#39;images\\009.Brewer_Blackbird/Brewer_Blackbird_0016_2225.jpg&#39;,
 454: &#39;images\\009.Brewer_Blackbird/Brewer_Blackbird_0104_2230.jpg&#39;,
 455: &#39;images\\009.Brewer_Blackbird/Brewer_Blackbird_0025_2231.jpg&#39;,
 456: &#39;images\\009.Brewer_Blackbird/Brewer_Blackbird_0109_2232.jpg&#39;,
 457: &#39;images\\009.Brewer_Blackbird/Brewer_Blackbird_0080_2234.jpg&#39;,
 458: &#39;images\\009.Brewer_Blackbird/Brewer_Blackbird_0127_2235.jpg&#39;,
 459: &#39;images\\009.Brewer_Blackbird/Brewer_Blackbird_0049_2258.jpg&#39;,
 460: &#39;images\\009.Brewer_Blackbird/Brewer_Blackbird_0018_2261.jpg&#39;,
 461: &#39;images\\009.Brewer_Blackbird/Brewer_Blackbird_0030_2268.jpg&#39;,
 462: &#39;images\\009.Brewer_Blackbird/Brewer_Blackbird_0010_2269.jpg&#39;,
 463: &#39;images\\009.Brewer_Blackbird/Brewer_Blackbird_0061_2270.jpg&#39;,
 464: &#39;images\\009.Brewer_Blackbird/Brewer_Blackbird_0103_2273.jpg&#39;,
 465: &#39;images\\009.Brewer_Blackbird/Brewer_Blackbird_0074_2277.jpg&#39;,
 466: &#39;images\\009.Brewer_Blackbird/Brewer_Blackbird_0002_2278.jpg&#39;,
 467: &#39;images\\009.Brewer_Blackbird/Brewer_Blackbird_0115_2279.jpg&#39;,
 468: &#39;images\\009.Brewer_Blackbird/Brewer_Blackbird_0015_2286.jpg&#39;,
 469: &#39;images\\009.Brewer_Blackbird/Brewer_Blackbird_0131_2289.jpg&#39;,
 470: &#39;images\\009.Brewer_Blackbird/Brewer_Blackbird_0064_2290.jpg&#39;,
 471: &#39;images\\009.Brewer_Blackbird/Brewer_Blackbird_0132_2293.jpg&#39;,
 472: &#39;images\\009.Brewer_Blackbird/Brewer_Blackbird_0038_2294.jpg&#39;,
 473: &#39;images\\009.Brewer_Blackbird/Brewer_Blackbird_0042_2302.jpg&#39;,
 474: &#39;images\\009.Brewer_Blackbird/Brewer_Blackbird_0045_2303.jpg&#39;,
 475: &#39;images\\009.Brewer_Blackbird/Brewer_Blackbird_0065_2310.jpg&#39;,
 476: &#39;images\\009.Brewer_Blackbird/Brewer_Blackbird_0097_2322.jpg&#39;,
 477: &#39;images\\009.Brewer_Blackbird/Brewer_Blackbird_0133_2324.jpg&#39;,
 478: &#39;images\\009.Brewer_Blackbird/Brewer_Blackbird_0070_2325.jpg&#39;,
 479: &#39;images\\009.Brewer_Blackbird/Brewer_Blackbird_0116_2327.jpg&#39;,
 480: &#39;images\\009.Brewer_Blackbird/Brewer_Blackbird_0027_2329.jpg&#39;,
 481: &#39;images\\009.Brewer_Blackbird/Brewer_Blackbird_0112_2340.jpg&#39;,
 482: &#39;images\\009.Brewer_Blackbird/Brewer_Blackbird_0079_2343.jpg&#39;,
 483: &#39;images\\009.Brewer_Blackbird/Brewer_Blackbird_0004_2345.jpg&#39;,
 484: &#39;images\\010.Red_winged_Blackbird/Red_Winged_Blackbird_0091_4096.jpg&#39;,
 485: &#39;images\\010.Red_winged_Blackbird/Red_Winged_Blackbird_0059_4612.jpg&#39;,
 486: &#39;images\\010.Red_winged_Blackbird/Red_Winged_Blackbird_0054_4625.jpg&#39;,
 487: &#39;images\\010.Red_winged_Blackbird/Red_Winged_Blackbird_0022_4483.jpg&#39;,
 488: &#39;images\\010.Red_winged_Blackbird/Red_Winged_Blackbird_0017_4116.jpg&#39;,
 489: &#39;images\\010.Red_winged_Blackbird/Red_Winged_Blackbird_0079_4527.jpg&#39;,
 490: &#39;images\\010.Red_winged_Blackbird/Red_Winged_Blackbird_0075_4953.jpg&#39;,
 491: &#39;images\\010.Red_winged_Blackbird/Red_Winged_Blackbird_0005_5636.jpg&#39;,
 492: &#39;images\\010.Red_winged_Blackbird/Red_Winged_Blackbird_0058_4141.jpg&#39;,
 493: &#39;images\\010.Red_winged_Blackbird/Red_Winged_Blackbird_0074_4146.jpg&#39;,
 494: &#39;images\\010.Red_winged_Blackbird/Red_Winged_Blackbird_0042_3635.jpg&#39;,
 495: &#39;images\\010.Red_winged_Blackbird/Red_Winged_Blackbird_0049_5598.jpg&#39;,
 496: &#39;images\\010.Red_winged_Blackbird/Red_Winged_Blackbird_0023_5257.jpg&#39;,
 497: &#39;images\\010.Red_winged_Blackbird/Red_Winged_Blackbird_0093_5948.jpg&#39;,
 498: &#39;images\\010.Red_winged_Blackbird/Red_Winged_Blackbird_0064_4936.jpg&#39;,
 499: &#39;images\\010.Red_winged_Blackbird/Red_Winged_Blackbird_0104_3918.jpg&#39;,
 500: &#39;images\\010.Red_winged_Blackbird/Red_Winged_Blackbird_0060_4688.jpg&#39;,
 501: &#39;images\\010.Red_winged_Blackbird/Red_Winged_Blackbird_0024_4180.jpg&#39;,
 502: &#39;images\\010.Red_winged_Blackbird/Red_Winged_Blackbird_0061_4196.jpg&#39;,
 503: &#39;images\\010.Red_winged_Blackbird/Red_Winged_Blackbird_0089_4188.jpg&#39;,
 504: &#39;images\\010.Red_winged_Blackbird/Red_Winged_Blackbird_0101_6244.jpg&#39;,
 505: &#39;images\\010.Red_winged_Blackbird/Red_Winged_Blackbird_0028_4709.jpg&#39;,
 506: &#39;images\\010.Red_winged_Blackbird/Red_Winged_Blackbird_0109_4454.jpg&#39;,
 507: &#39;images\\010.Red_winged_Blackbird/Red_Winged_Blackbird_0001_3695.jpg&#39;,
 508: &#39;images\\010.Red_winged_Blackbird/Red_Winged_Blackbird_0053_4072.jpg&#39;,
 509: &#39;images\\010.Red_winged_Blackbird/Red_Winged_Blackbird_0006_6005.jpg&#39;,
 510: &#39;images\\010.Red_winged_Blackbird/Red_Winged_Blackbird_0007_3706.jpg&#39;,
 511: &#39;images\\010.Red_winged_Blackbird/Red_Winged_Blackbird_0012_6015.jpg&#39;,
 512: &#39;images\\010.Red_winged_Blackbird/Red_Winged_Blackbird_0013_5762.jpg&#39;,
 513: &#39;images\\010.Red_winged_Blackbird/Red_Winged_Blackbird_0062_4233.jpg&#39;,
 514: &#39;images\\010.Red_winged_Blackbird/Red_Winged_Blackbird_0099_3985.jpg&#39;,
 515: &#39;images\\010.Red_winged_Blackbird/Red_Winged_Blackbird_0046_4242.jpg&#39;,
 516: &#39;images\\010.Red_winged_Blackbird/Red_Winged_Blackbird_0071_3988.jpg&#39;,
 517: &#39;images\\010.Red_winged_Blackbird/Red_Winged_Blackbird_0027_4123.jpg&#39;,
 518: &#39;images\\010.Red_winged_Blackbird/Red_Winged_Blackbird_0032_4004.jpg&#39;,
 519: &#39;images\\010.Red_winged_Blackbird/Red_Winged_Blackbird_0088_4007.jpg&#39;,
 520: &#39;images\\010.Red_winged_Blackbird/Red_Winged_Blackbird_0040_4522.jpg&#39;,
 521: &#39;images\\010.Red_winged_Blackbird/Red_Winged_Blackbird_0010_6386.jpg&#39;,
 522: &#39;images\\010.Red_winged_Blackbird/Red_Winged_Blackbird_0045_4526.jpg&#39;,
 523: &#39;images\\010.Red_winged_Blackbird/Red_Winged_Blackbird_0014_3761.jpg&#39;,
 524: &#39;images\\010.Red_winged_Blackbird/Red_Winged_Blackbird_0021_3767.jpg&#39;,
 525: &#39;images\\010.Red_winged_Blackbird/Red_Winged_Blackbird_0065_4026.jpg&#39;,
 526: &#39;images\\010.Red_winged_Blackbird/Red_Winged_Blackbird_0039_4285.jpg&#39;,
 527: &#39;images\\010.Red_winged_Blackbird/Red_Winged_Blackbird_0081_6081.jpg&#39;,
 528: &#39;images\\010.Red_winged_Blackbird/Red_Winged_Blackbird_0029_4804.jpg&#39;,
 529: &#39;images\\010.Red_winged_Blackbird/Red_Winged_Blackbird_0052_5575.jpg&#39;,
 530: &#39;images\\010.Red_winged_Blackbird/Red_Winged_Blackbird_0096_5019.jpg&#39;,
 531: &#39;images\\010.Red_winged_Blackbird/Red_Winged_Blackbird_0066_5070.jpg&#39;,
 532: &#39;images\\010.Red_winged_Blackbird/Red_Winged_Blackbird_0009_5841.jpg&#39;,
 533: &#39;images\\010.Red_winged_Blackbird/Red_Winged_Blackbird_0020_4050.jpg&#39;,
 534: &#39;images\\010.Red_winged_Blackbird/Red_Winged_Blackbird_0011_5845.jpg&#39;,
 535: &#39;images\\010.Red_winged_Blackbird/Red_Winged_Blackbird_0085_5846.jpg&#39;,
 536: &#39;images\\010.Red_winged_Blackbird/Red_Winged_Blackbird_0047_3802.jpg&#39;,
 537: &#39;images\\010.Red_winged_Blackbird/Red_Winged_Blackbird_0025_5342.jpg&#39;,
 538: &#39;images\\010.Red_winged_Blackbird/Red_Winged_Blackbird_0094_5856.jpg&#39;,
 539: &#39;images\\010.Red_winged_Blackbird/Red_Winged_Blackbird_0105_4842.jpg&#39;,
 540: &#39;images\\010.Red_winged_Blackbird/Red_Winged_Blackbird_0072_4338.jpg&#39;,
 541: &#39;images\\010.Red_winged_Blackbird/Red_Winged_Blackbird_0044_5621.jpg&#39;,
 542: &#39;images\\010.Red_winged_Blackbird/Red_Winged_Blackbird_0055_4345.jpg&#39;,
 543: &#39;images\\010.Red_winged_Blackbird/Red_Winged_Blackbird_0078_5372.jpg&#39;,
 544: &#39;images\\011.Rusty_Blackbird/Rusty_Blackbird_0086_6658.jpg&#39;,
 545: &#39;images\\011.Rusty_Blackbird/Rusty_Blackbird_0113_6664.jpg&#39;,
 546: &#39;images\\011.Rusty_Blackbird/Rusty_Blackbird_0055_6923.jpg&#39;,
 547: &#39;images\\011.Rusty_Blackbird/Rusty_Blackbird_0054_6676.jpg&#39;,
 548: &#39;images\\011.Rusty_Blackbird/Rusty_Blackbird_0020_6679.jpg&#39;,
 549: &#39;images\\011.Rusty_Blackbird/Rusty_Blackbird_0016_6684.jpg&#39;,
 550: &#39;images\\011.Rusty_Blackbird/Rusty_Blackbird_0104_6685.jpg&#39;,
 551: &#39;images\\011.Rusty_Blackbird/Rusty_Blackbird_0043_2597.jpg&#39;,
 552: &#39;images\\011.Rusty_Blackbird/Rusty_Blackbird_0091_6695.jpg&#39;,
 553: &#39;images\\011.Rusty_Blackbird/Rusty_Blackbird_0109_6698.jpg&#39;,
 554: &#39;images\\011.Rusty_Blackbird/Rusty_Blackbird_0031_6699.jpg&#39;,
 555: &#39;images\\011.Rusty_Blackbird/Rusty_Blackbird_0019_6704.jpg&#39;,
 556: &#39;images\\011.Rusty_Blackbird/Rusty_Blackbird_0081_6967.jpg&#39;,
 557: &#39;images\\011.Rusty_Blackbird/Rusty_Blackbird_0085_6713.jpg&#39;,
 558: &#39;images\\011.Rusty_Blackbird/Rusty_Blackbird_0051_6715.jpg&#39;,
 559: &#39;images\\011.Rusty_Blackbird/Rusty_Blackbird_0076_6716.jpg&#39;,
 560: &#39;images\\011.Rusty_Blackbird/Rusty_Blackbird_0075_6717.jpg&#39;,
 561: &#39;images\\011.Rusty_Blackbird/Rusty_Blackbird_0087_6727.jpg&#39;,
 562: &#39;images\\011.Rusty_Blackbird/Rusty_Blackbird_0122_6736.jpg&#39;,
 563: &#39;images\\011.Rusty_Blackbird/Rusty_Blackbird_0112_3415.jpg&#39;,
 564: &#39;images\\011.Rusty_Blackbird/Rusty_Blackbird_0073_6744.jpg&#39;,
 565: &#39;images\\011.Rusty_Blackbird/Rusty_Blackbird_0003_6749.jpg&#39;,
 566: &#39;images\\011.Rusty_Blackbird/Rusty_Blackbird_0023_6752.jpg&#39;,
 567: &#39;images\\011.Rusty_Blackbird/Rusty_Blackbird_0047_7009.jpg&#39;,
 568: &#39;images\\011.Rusty_Blackbird/Rusty_Blackbird_0017_6755.jpg&#39;,
 569: &#39;images\\011.Rusty_Blackbird/Rusty_Blackbird_0060_6756.jpg&#39;,
 570: &#39;images\\011.Rusty_Blackbird/Rusty_Blackbird_0114_6760.jpg&#39;,
 571: &#39;images\\011.Rusty_Blackbird/Rusty_Blackbird_0120_6762.jpg&#39;,
 572: &#39;images\\011.Rusty_Blackbird/Rusty_Blackbird_0026_6768.jpg&#39;,
 573: &#39;images\\011.Rusty_Blackbird/Rusty_Blackbird_0005_6771.jpg&#39;,
 574: &#39;images\\011.Rusty_Blackbird/Rusty_Blackbird_0011_7028.jpg&#39;,
 575: &#39;images\\011.Rusty_Blackbird/Rusty_Blackbird_0102_6590.jpg&#39;,
 576: &#39;images\\011.Rusty_Blackbird/Rusty_Blackbird_0006_6633.jpg&#39;,
 577: &#39;images\\011.Rusty_Blackbird/Rusty_Blackbird_0001_6548.jpg&#39;,
 578: &#39;images\\011.Rusty_Blackbird/Rusty_Blackbird_0052_7035.jpg&#39;,
 579: &#39;images\\011.Rusty_Blackbird/Rusty_Blackbird_0057_6935.jpg&#39;,
 580: &#39;images\\011.Rusty_Blackbird/Rusty_Blackbird_0111_3220.jpg&#39;,
 581: &#39;images\\011.Rusty_Blackbird/Rusty_Blackbird_0036_6550.jpg&#39;,
 582: &#39;images\\011.Rusty_Blackbird/Rusty_Blackbird_0105_6937.jpg&#39;,
 583: &#39;images\\011.Rusty_Blackbird/Rusty_Blackbird_0022_6808.jpg&#39;,
 584: &#39;images\\011.Rusty_Blackbird/Rusty_Blackbird_0100_6597.jpg&#39;,
 585: &#39;images\\011.Rusty_Blackbird/Rusty_Blackbird_0092_2727.jpg&#39;,
 586: &#39;images\\011.Rusty_Blackbird/Rusty_Blackbird_0094_6582.jpg&#39;,
 587: &#39;images\\011.Rusty_Blackbird/Rusty_Blackbird_0107_6839.jpg&#39;,
 588: &#39;images\\011.Rusty_Blackbird/Rusty_Blackbird_0074_6585.jpg&#39;,
 589: &#39;images\\011.Rusty_Blackbird/Rusty_Blackbird_0096_6846.jpg&#39;,
 590: &#39;images\\011.Rusty_Blackbird/Rusty_Blackbird_0027_6593.jpg&#39;,
 591: &#39;images\\011.Rusty_Blackbird/Rusty_Blackbird_0009_6853.jpg&#39;,
 592: &#39;images\\011.Rusty_Blackbird/Rusty_Blackbird_0056_6856.jpg&#39;,
 593: &#39;images\\011.Rusty_Blackbird/Rusty_Blackbird_0108_6867.jpg&#39;,
 594: &#39;images\\011.Rusty_Blackbird/Rusty_Blackbird_0080_6877.jpg&#39;,
 595: &#39;images\\011.Rusty_Blackbird/Rusty_Blackbird_0033_6879.jpg&#39;,
 596: &#39;images\\011.Rusty_Blackbird/Rusty_Blackbird_0101_6880.jpg&#39;,
 597: &#39;images\\011.Rusty_Blackbird/Rusty_Blackbird_0015_6885.jpg&#39;,
 598: &#39;images\\011.Rusty_Blackbird/Rusty_Blackbird_0048_6632.jpg&#39;,
 599: &#39;images\\011.Rusty_Blackbird/Rusty_Blackbird_0093_6628.jpg&#39;,
 600: &#39;images\\011.Rusty_Blackbird/Rusty_Blackbird_0121_6637.jpg&#39;,
 601: &#39;images\\011.Rusty_Blackbird/Rusty_Blackbird_0032_6611.jpg&#39;,
 602: &#39;images\\011.Rusty_Blackbird/Rusty_Blackbird_0013_6902.jpg&#39;,
 603: &#39;images\\011.Rusty_Blackbird/Rusty_Blackbird_0082_6906.jpg&#39;,
 604: &#39;images\\012.Yellow_headed_Blackbird/Yellow_Headed_Blackbird_0108_7937.jpg&#39;,
 605: &#39;images\\012.Yellow_headed_Blackbird/Yellow_Headed_Blackbird_0074_8452.jpg&#39;,
 606: &#39;images\\012.Yellow_headed_Blackbird/Yellow_Headed_Blackbird_0031_8456.jpg&#39;,
 607: &#39;images\\012.Yellow_headed_Blackbird/Yellow_Headed_Blackbird_0095_8458.jpg&#39;,
 608: &#39;images\\012.Yellow_headed_Blackbird/Yellow_Headed_Blackbird_0015_8207.jpg&#39;,
 609: &#39;images\\012.Yellow_headed_Blackbird/Yellow_Headed_Blackbird_0061_8208.jpg&#39;,
 610: &#39;images\\012.Yellow_headed_Blackbird/Yellow_Headed_Blackbird_0065_8481.jpg&#39;,
 611: &#39;images\\012.Yellow_headed_Blackbird/Yellow_Headed_Blackbird_0086_8487.jpg&#39;,
 612: &#39;images\\012.Yellow_headed_Blackbird/Yellow_Headed_Blackbird_0057_8236.jpg&#39;,
 613: &#39;images\\012.Yellow_headed_Blackbird/Yellow_Headed_Blackbird_0082_8577.jpg&#39;,
 614: &#39;images\\012.Yellow_headed_Blackbird/Yellow_Headed_Blackbird_0008_8756.jpg&#39;,
 615: &#39;images\\012.Yellow_headed_Blackbird/Yellow_Headed_Blackbird_0009_8248.jpg&#39;,
 616: &#39;images\\012.Yellow_headed_Blackbird/Yellow_Headed_Blackbird_0043_8250.jpg&#39;,
 617: &#39;images\\012.Yellow_headed_Blackbird/Yellow_Headed_Blackbird_0017_8511.jpg&#39;,
 618: &#39;images\\012.Yellow_headed_Blackbird/Yellow_Headed_Blackbird_0088_8257.jpg&#39;,
 619: &#39;images\\012.Yellow_headed_Blackbird/Yellow_Headed_Blackbird_0025_8262.jpg&#39;,
 620: &#39;images\\012.Yellow_headed_Blackbird/Yellow_Headed_Blackbird_0041_8264.jpg&#39;,
 621: &#39;images\\012.Yellow_headed_Blackbird/Yellow_Headed_Blackbird_0018_8588.jpg&#39;,
 622: &#39;images\\012.Yellow_headed_Blackbird/Yellow_Headed_Blackbird_0109_8271.jpg&#39;,
 623: &#39;images\\012.Yellow_headed_Blackbird/Yellow_Headed_Blackbird_0034_7736.jpg&#39;,
 624: &#39;images\\012.Yellow_headed_Blackbird/Yellow_Headed_Blackbird_0079_8535.jpg&#39;,
 625: &#39;images\\012.Yellow_headed_Blackbird/Yellow_Headed_Blackbird_0040_7514.jpg&#39;,
 626: &#39;images\\012.Yellow_headed_Blackbird/Yellow_Headed_Blackbird_0026_8545.jpg&#39;,
 627: &#39;images\\012.Yellow_headed_Blackbird/Yellow_Headed_Blackbird_0049_8548.jpg&#39;,
 628: &#39;images\\012.Yellow_headed_Blackbird/Yellow_Headed_Blackbird_0020_8549.jpg&#39;,
 629: &#39;images\\012.Yellow_headed_Blackbird/Yellow_Headed_Blackbird_0091_8555.jpg&#39;,
 630: &#39;images\\012.Yellow_headed_Blackbird/Yellow_Headed_Blackbird_0083_8300.jpg&#39;,
 631: &#39;images\\012.Yellow_headed_Blackbird/Yellow_Headed_Blackbird_0062_8310.jpg&#39;,
 632: &#39;images\\012.Yellow_headed_Blackbird/Yellow_Headed_Blackbird_0042_8574.jpg&#39;,
 633: &#39;images\\012.Yellow_headed_Blackbird/Yellow_Headed_Blackbird_0089_8326.jpg&#39;,
 634: &#39;images\\012.Yellow_headed_Blackbird/Yellow_Headed_Blackbird_0024_8586.jpg&#39;,
 635: &#39;images\\012.Yellow_headed_Blackbird/Yellow_Headed_Blackbird_0077_8332.jpg&#39;,
 636: &#39;images\\012.Yellow_headed_Blackbird/Yellow_Headed_Blackbird_0003_8337.jpg&#39;,
 637: &#39;images\\012.Yellow_headed_Blackbird/Yellow_Headed_Blackbird_0080_8601.jpg&#39;,
 638: &#39;images\\012.Yellow_headed_Blackbird/Yellow_Headed_Blackbird_0023_7325.jpg&#39;,
 639: &#39;images\\012.Yellow_headed_Blackbird/Yellow_Headed_Blackbird_0058_8350.jpg&#39;,
 640: &#39;images\\012.Yellow_headed_Blackbird/Yellow_Headed_Blackbird_0055_8357.jpg&#39;,
 641: &#39;images\\012.Yellow_headed_Blackbird/Yellow_Headed_Blackbird_0087_8358.jpg&#39;,
 642: &#39;images\\012.Yellow_headed_Blackbird/Yellow_Headed_Blackbird_0038_8689.jpg&#39;,
 643: &#39;images\\012.Yellow_headed_Blackbird/Yellow_Headed_Blackbird_0013_8362.jpg&#39;,
 644: &#39;images\\012.Yellow_headed_Blackbird/Yellow_Headed_Blackbird_0085_8363.jpg&#39;,
 645: &#39;images\\012.Yellow_headed_Blackbird/Yellow_Headed_Blackbird_0007_8366.jpg&#39;,
 646: &#39;images\\012.Yellow_headed_Blackbird/Yellow_Headed_Blackbird_0098_8367.jpg&#39;,
 647: &#39;images\\012.Yellow_headed_Blackbird/Yellow_Headed_Blackbird_0072_8606.jpg&#39;,
 648: &#39;images\\012.Yellow_headed_Blackbird/Yellow_Headed_Blackbird_0051_8387.jpg&#39;,
 649: &#39;images\\012.Yellow_headed_Blackbird/Yellow_Headed_Blackbird_0059_8079.jpg&#39;,
 650: &#39;images\\012.Yellow_headed_Blackbird/Yellow_Headed_Blackbird_0100_8407.jpg&#39;,
 651: &#39;images\\012.Yellow_headed_Blackbird/Yellow_Headed_Blackbird_0053_8410.jpg&#39;,
 652: &#39;images\\012.Yellow_headed_Blackbird/Yellow_Headed_Blackbird_0056_8455.jpg&#39;,
 653: &#39;images\\012.Yellow_headed_Blackbird/Yellow_Headed_Blackbird_0070_8583.jpg&#39;,
 654: &#39;images\\012.Yellow_headed_Blackbird/Yellow_Headed_Blackbird_0102_8441.jpg&#39;,
 655: &#39;images\\012.Yellow_headed_Blackbird/Yellow_Headed_Blackbird_0084_8435.jpg&#39;,
 656: &#39;images\\012.Yellow_headed_Blackbird/Yellow_Headed_Blackbird_0047_7929.jpg&#39;,
 657: &#39;images\\012.Yellow_headed_Blackbird/Yellow_Headed_Blackbird_0073_8442.jpg&#39;,
 658: &#39;images\\012.Yellow_headed_Blackbird/Yellow_Headed_Blackbird_0012_8443.jpg&#39;,
 659: &#39;images\\012.Yellow_headed_Blackbird/Yellow_Headed_Blackbird_0035_8447.jpg&#39;,
 660: &#39;images\\013.Bobolink/Bobolink_0107_10252.jpg&#39;,
 661: &#39;images\\013.Bobolink/Bobolink_0007_9246.jpg&#39;,
 662: &#39;images\\013.Bobolink/Bobolink_0104_10273.jpg&#39;,
 663: &#39;images\\013.Bobolink/Bobolink_0001_9261.jpg&#39;,
 664: &#39;images\\013.Bobolink/Bobolink_0115_9265.jpg&#39;,
 665: &#39;images\\013.Bobolink/Bobolink_0039_9779.jpg&#39;,
 666: &#39;images\\013.Bobolink/Bobolink_0102_10807.jpg&#39;,
 667: &#39;images\\013.Bobolink/Bobolink_0033_10809.jpg&#39;,
 668: &#39;images\\013.Bobolink/Bobolink_0094_9823.jpg&#39;,
 669: &#39;images\\013.Bobolink/Bobolink_0008_9289.jpg&#39;,
 670: &#39;images\\013.Bobolink/Bobolink_0099_9314.jpg&#39;,
 671: &#39;images\\013.Bobolink/Bobolink_0101_9811.jpg&#39;,
 672: &#39;images\\013.Bobolink/Bobolink_0050_9821.jpg&#39;,
 673: &#39;images\\013.Bobolink/Bobolink_0074_9311.jpg&#39;,
 674: &#39;images\\013.Bobolink/Bobolink_0120_10859.jpg&#39;,
 675: &#39;images\\013.Bobolink/Bobolink_0097_10861.jpg&#39;,
 676: &#39;images\\013.Bobolink/Bobolink_0109_9869.jpg&#39;,
 677: &#39;images\\013.Bobolink/Bobolink_0013_9367.jpg&#39;,
 678: &#39;images\\013.Bobolink/Bobolink_0065_9375.jpg&#39;,
 679: &#39;images\\013.Bobolink/Bobolink_0018_9402.jpg&#39;,
 680: &#39;images\\013.Bobolink/Bobolink_0119_10430.jpg&#39;,
 681: &#39;images\\013.Bobolink/Bobolink_0126_11458.jpg&#39;,
 682: &#39;images\\013.Bobolink/Bobolink_0052_9423.jpg&#39;,
 683: &#39;images\\013.Bobolink/Bobolink_0081_9439.jpg&#39;,
 684: &#39;images\\013.Bobolink/Bobolink_0048_9988.jpg&#39;,
 685: &#39;images\\013.Bobolink/Bobolink_0044_9990.jpg&#39;,
 686: &#39;images\\013.Bobolink/Bobolink_0067_11533.jpg&#39;,
 687: &#39;images\\013.Bobolink/Bobolink_0110_9496.jpg&#39;,
 688: &#39;images\\013.Bobolink/Bobolink_0071_9503.jpg&#39;,
 689: &#39;images\\013.Bobolink/Bobolink_0128_9947.jpg&#39;,
 690: &#39;images\\013.Bobolink/Bobolink_0092_10026.jpg&#39;,
 691: &#39;images\\013.Bobolink/Bobolink_0014_11055.jpg&#39;,
 692: &#39;images\\013.Bobolink/Bobolink_0026_11057.jpg&#39;,
 693: &#39;images\\013.Bobolink/Bobolink_0019_10552.jpg&#39;,
 694: &#39;images\\013.Bobolink/Bobolink_0059_10041.jpg&#39;,
 695: &#39;images\\013.Bobolink/Bobolink_0112_11073.jpg&#39;,
 696: &#39;images\\013.Bobolink/Bobolink_0057_10051.jpg&#39;,
 697: &#39;images\\013.Bobolink/Bobolink_0049_9540.jpg&#39;,
 698: &#39;images\\013.Bobolink/Bobolink_0027_10569.jpg&#39;,
 699: &#39;images\\013.Bobolink/Bobolink_0002_11085.jpg&#39;,
 700: &#39;images\\013.Bobolink/Bobolink_0076_11093.jpg&#39;,
 701: &#39;images\\013.Bobolink/Bobolink_0131_9578.jpg&#39;,
 702: &#39;images\\013.Bobolink/Bobolink_0064_10092.jpg&#39;,
 703: &#39;images\\013.Bobolink/Bobolink_0035_11117.jpg&#39;,
 704: &#39;images\\013.Bobolink/Bobolink_0043_10607.jpg&#39;,
 705: &#39;images\\013.Bobolink/Bobolink_0056_9080.jpg&#39;,
 706: &#39;images\\013.Bobolink/Bobolink_0069_9085.jpg&#39;,
 707: &#39;images\\013.Bobolink/Bobolink_0021_10623.jpg&#39;,
 708: &#39;images\\013.Bobolink/Bobolink_0070_10624.jpg&#39;,
 709: &#39;images\\013.Bobolink/Bobolink_0114_10627.jpg&#39;,
 710: &#39;images\\013.Bobolink/Bobolink_0133_9618.jpg&#39;,
 711: &#39;images\\013.Bobolink/Bobolink_0106_9126.jpg&#39;,
 712: &#39;images\\013.Bobolink/Bobolink_0053_10166.jpg&#39;,
 713: &#39;images\\013.Bobolink/Bobolink_0124_10182.jpg&#39;,
 714: &#39;images\\013.Bobolink/Bobolink_0040_9681.jpg&#39;,
 715: &#39;images\\013.Bobolink/Bobolink_0117_10215.jpg&#39;,
 716: &#39;images\\013.Bobolink/Bobolink_0032_10217.jpg&#39;,
 717: &#39;images\\013.Bobolink/Bobolink_0020_9194.jpg&#39;,
 718: &#39;images\\013.Bobolink/Bobolink_0079_10736.jpg&#39;,
 719: &#39;images\\013.Bobolink/Bobolink_0047_9204.jpg&#39;,
 720: &#39;images\\014.Indigo_Bunting/Indigo_Bunting_0005_13832.jpg&#39;,
 721: &#39;images\\014.Indigo_Bunting/Indigo_Bunting_0014_14167.jpg&#39;,
 722: &#39;images\\014.Indigo_Bunting/Indigo_Bunting_0002_12163.jpg&#39;,
 723: &#39;images\\014.Indigo_Bunting/Indigo_Bunting_0068_13081.jpg&#39;,
 724: &#39;images\\014.Indigo_Bunting/Indigo_Bunting_0040_11805.jpg&#39;,
 725: &#39;images\\014.Indigo_Bunting/Indigo_Bunting_0075_12835.jpg&#39;,
 726: &#39;images\\014.Indigo_Bunting/Indigo_Bunting_0063_11820.jpg&#39;,
 727: &#39;images\\014.Indigo_Bunting/Indigo_Bunting_0028_12335.jpg&#39;,
 728: &#39;images\\014.Indigo_Bunting/Indigo_Bunting_0037_14128.jpg&#39;,
 729: &#39;images\\014.Indigo_Bunting/Indigo_Bunting_0044_14389.jpg&#39;,
 730: &#39;images\\014.Indigo_Bunting/Indigo_Bunting_0017_11574.jpg&#39;,
 731: &#39;images\\014.Indigo_Bunting/Indigo_Bunting_0027_11579.jpg&#39;,
 732: &#39;images\\014.Indigo_Bunting/Indigo_Bunting_0001_12469.jpg&#39;,
 733: &#39;images\\014.Indigo_Bunting/Indigo_Bunting_0066_12869.jpg&#39;,
 734: &#39;images\\014.Indigo_Bunting/Indigo_Bunting_0084_11848.jpg&#39;,
 735: &#39;images\\014.Indigo_Bunting/Indigo_Bunting_0049_13641.jpg&#39;,
 736: &#39;images\\014.Indigo_Bunting/Indigo_Bunting_0059_11596.jpg&#39;,
 737: &#39;images\\014.Indigo_Bunting/Indigo_Bunting_0053_13391.jpg&#39;,
 738: &#39;images\\014.Indigo_Bunting/Indigo_Bunting_0015_12632.jpg&#39;,
 739: &#39;images\\014.Indigo_Bunting/Indigo_Bunting_0016_13661.jpg&#39;,
 740: &#39;images\\014.Indigo_Bunting/Indigo_Bunting_0080_13416.jpg&#39;,
 741: &#39;images\\014.Indigo_Bunting/Indigo_Bunting_0018_11883.jpg&#39;,
 742: &#39;images\\014.Indigo_Bunting/Indigo_Bunting_0073_13933.jpg&#39;,
 743: &#39;images\\014.Indigo_Bunting/Indigo_Bunting_0072_14197.jpg&#39;,
 744: &#39;images\\014.Indigo_Bunting/Indigo_Bunting_0056_12637.jpg&#39;,
 745: &#39;images\\014.Indigo_Bunting/Indigo_Bunting_0071_11639.jpg&#39;,
 746: &#39;images\\014.Indigo_Bunting/Indigo_Bunting_0082_11907.jpg&#39;,
 747: &#39;images\\014.Indigo_Bunting/Indigo_Bunting_0004_13195.jpg&#39;,
 748: &#39;images\\014.Indigo_Bunting/Indigo_Bunting_0022_12781.jpg&#39;,
 749: &#39;images\\014.Indigo_Bunting/Indigo_Bunting_0036_13716.jpg&#39;,
 750: &#39;images\\014.Indigo_Bunting/Indigo_Bunting_0013_12949.jpg&#39;,
 751: &#39;images\\014.Indigo_Bunting/Indigo_Bunting_0076_12950.jpg&#39;,
 752: &#39;images\\014.Indigo_Bunting/Indigo_Bunting_0021_13979.jpg&#39;,
 753: &#39;images\\014.Indigo_Bunting/Indigo_Bunting_0060_14495.jpg&#39;,
 754: &#39;images\\014.Indigo_Bunting/Indigo_Bunting_0055_13473.jpg&#39;,
 755: &#39;images\\014.Indigo_Bunting/Indigo_Bunting_0041_13987.jpg&#39;,
 756: &#39;images\\014.Indigo_Bunting/Indigo_Bunting_0047_12966.jpg&#39;,
 757: &#39;images\\014.Indigo_Bunting/Indigo_Bunting_0058_12207.jpg&#39;,
 758: &#39;images\\014.Indigo_Bunting/Indigo_Bunting_0034_12464.jpg&#39;,
 759: &#39;images\\014.Indigo_Bunting/Indigo_Bunting_0054_12213.jpg&#39;,
 760: &#39;images\\014.Indigo_Bunting/Indigo_Bunting_0032_12215.jpg&#39;,
 761: &#39;images\\014.Indigo_Bunting/Indigo_Bunting_0025_12532.jpg&#39;,
 762: &#39;images\\014.Indigo_Bunting/Indigo_Bunting_0026_11964.jpg&#39;,
 763: &#39;images\\014.Indigo_Bunting/Indigo_Bunting_0052_11893.jpg&#39;,
 764: &#39;images\\014.Indigo_Bunting/Indigo_Bunting_0029_13761.jpg&#39;,
 765: &#39;images\\014.Indigo_Bunting/Indigo_Bunting_0010_13000.jpg&#39;,
 766: &#39;images\\014.Indigo_Bunting/Indigo_Bunting_0078_11852.jpg&#39;,
 767: &#39;images\\014.Indigo_Bunting/Indigo_Bunting_0061_13259.jpg&#39;,
 768: &#39;images\\014.Indigo_Bunting/Indigo_Bunting_0050_11811.jpg&#39;,
 769: &#39;images\\014.Indigo_Bunting/Indigo_Bunting_0039_12756.jpg&#39;,
 770: &#39;images\\014.Indigo_Bunting/Indigo_Bunting_0085_11991.jpg&#39;,
 771: &#39;images\\014.Indigo_Bunting/Indigo_Bunting_0065_14558.jpg&#39;,
 772: &#39;images\\014.Indigo_Bunting/Indigo_Bunting_0051_12837.jpg&#39;,
 773: &#39;images\\014.Indigo_Bunting/Indigo_Bunting_0033_12777.jpg&#39;,
 774: &#39;images\\014.Indigo_Bunting/Indigo_Bunting_0077_14060.jpg&#39;,
 775: &#39;images\\014.Indigo_Bunting/Indigo_Bunting_0006_14317.jpg&#39;,
 776: &#39;images\\014.Indigo_Bunting/Indigo_Bunting_0024_13523.jpg&#39;,
 777: &#39;images\\014.Indigo_Bunting/Indigo_Bunting_0031_13300.jpg&#39;,
 778: &#39;images\\014.Indigo_Bunting/Indigo_Bunting_0003_13049.jpg&#39;,
 779: &#39;images\\014.Indigo_Bunting/Indigo_Bunting_0074_12829.jpg&#39;,
 780: &#39;images\\015.Lazuli_Bunting/Lazuli_Bunting_0073_14594.jpg&#39;,
 781: &#39;images\\015.Lazuli_Bunting/Lazuli_Bunting_0074_14854.jpg&#39;,
 782: &#39;images\\015.Lazuli_Bunting/Lazuli_Bunting_0102_14605.jpg&#39;,
 783: &#39;images\\015.Lazuli_Bunting/Lazuli_Bunting_0047_14863.jpg&#39;,
 784: &#39;images\\015.Lazuli_Bunting/Lazuli_Bunting_0034_14864.jpg&#39;,
 785: &#39;images\\015.Lazuli_Bunting/Lazuli_Bunting_0101_14873.jpg&#39;,
 786: &#39;images\\015.Lazuli_Bunting/Lazuli_Bunting_0052_14618.jpg&#39;,
 787: &#39;images\\015.Lazuli_Bunting/Lazuli_Bunting_0085_14627.jpg&#39;,
 788: &#39;images\\015.Lazuli_Bunting/Lazuli_Bunting_0089_14598.jpg&#39;,
 789: &#39;images\\015.Lazuli_Bunting/Lazuli_Bunting_0004_14887.jpg&#39;,
 790: &#39;images\\015.Lazuli_Bunting/Lazuli_Bunting_0080_14893.jpg&#39;,
 791: &#39;images\\015.Lazuli_Bunting/Lazuli_Bunting_0027_14895.jpg&#39;,
 792: &#39;images\\015.Lazuli_Bunting/Lazuli_Bunting_0041_15152.jpg&#39;,
 793: &#39;images\\015.Lazuli_Bunting/Lazuli_Bunting_0061_15155.jpg&#39;,
 794: &#39;images\\015.Lazuli_Bunting/Lazuli_Bunting_0009_15163.jpg&#39;,
 795: &#39;images\\015.Lazuli_Bunting/Lazuli_Bunting_0078_15164.jpg&#39;,
 796: &#39;images\\015.Lazuli_Bunting/Lazuli_Bunting_0092_14656.jpg&#39;,
 797: &#39;images\\015.Lazuli_Bunting/Lazuli_Bunting_0066_14914.jpg&#39;,
 798: &#39;images\\015.Lazuli_Bunting/Lazuli_Bunting_0010_14915.jpg&#39;,
 799: &#39;images\\015.Lazuli_Bunting/Lazuli_Bunting_0001_14916.jpg&#39;,
 800: &#39;images\\015.Lazuli_Bunting/Lazuli_Bunting_0076_14662.jpg&#39;,
 801: &#39;images\\015.Lazuli_Bunting/Lazuli_Bunting_0095_14919.jpg&#39;,
 802: &#39;images\\015.Lazuli_Bunting/Lazuli_Bunting_0035_14920.jpg&#39;,
 803: &#39;images\\015.Lazuli_Bunting/Lazuli_Bunting_0070_14665.jpg&#39;,
 804: &#39;images\\015.Lazuli_Bunting/Lazuli_Bunting_0040_14923.jpg&#39;,
 805: &#39;images\\015.Lazuli_Bunting/Lazuli_Bunting_0026_14669.jpg&#39;,
 806: &#39;images\\015.Lazuli_Bunting/Lazuli_Bunting_0067_14672.jpg&#39;,
 807: &#39;images\\015.Lazuli_Bunting/Lazuli_Bunting_0008_15195.jpg&#39;,
 808: &#39;images\\015.Lazuli_Bunting/Lazuli_Bunting_0032_14778.jpg&#39;,
 809: &#39;images\\015.Lazuli_Bunting/Lazuli_Bunting_0021_14686.jpg&#39;,
 810: &#39;images\\015.Lazuli_Bunting/Lazuli_Bunting_0015_14690.jpg&#39;,
 811: &#39;images\\015.Lazuli_Bunting/Lazuli_Bunting_0028_14950.jpg&#39;,
 812: &#39;images\\015.Lazuli_Bunting/Lazuli_Bunting_0045_14954.jpg&#39;,
 813: &#39;images\\015.Lazuli_Bunting/Lazuli_Bunting_0107_14705.jpg&#39;,
 814: &#39;images\\015.Lazuli_Bunting/Lazuli_Bunting_0081_14709.jpg&#39;,
 815: &#39;images\\015.Lazuli_Bunting/Lazuli_Bunting_0094_11894.jpg&#39;,
 816: &#39;images\\015.Lazuli_Bunting/Lazuli_Bunting_0054_14714.jpg&#39;,
 817: &#39;images\\015.Lazuli_Bunting/Lazuli_Bunting_0030_14986.jpg&#39;,
 818: &#39;images\\015.Lazuli_Bunting/Lazuli_Bunting_0086_14992.jpg&#39;,
 819: &#39;images\\015.Lazuli_Bunting/Lazuli_Bunting_0046_14787.jpg&#39;,
 820: &#39;images\\015.Lazuli_Bunting/Lazuli_Bunting_0097_14617.jpg&#39;,
 821: &#39;images\\015.Lazuli_Bunting/Lazuli_Bunting_0059_14749.jpg&#39;,
 822: &#39;images\\015.Lazuli_Bunting/Lazuli_Bunting_0105_15017.jpg&#39;,
 823: &#39;images\\015.Lazuli_Bunting/Lazuli_Bunting_0031_15018.jpg&#39;,
 824: &#39;images\\015.Lazuli_Bunting/Lazuli_Bunting_0037_15021.jpg&#39;,
 825: &#39;images\\015.Lazuli_Bunting/Lazuli_Bunting_0093_15030.jpg&#39;,
 826: &#39;images\\015.Lazuli_Bunting/Lazuli_Bunting_0057_14775.jpg&#39;,
 827: &#39;images\\015.Lazuli_Bunting/Lazuli_Bunting_0056_15032.jpg&#39;,
 828: &#39;images\\015.Lazuli_Bunting/Lazuli_Bunting_0055_15043.jpg&#39;,
 829: &#39;images\\015.Lazuli_Bunting/Lazuli_Bunting_0082_15047.jpg&#39;,
 830: &#39;images\\015.Lazuli_Bunting/Lazuli_Bunting_0084_14815.jpg&#39;,
 831: &#39;images\\015.Lazuli_Bunting/Lazuli_Bunting_0042_14820.jpg&#39;,
 832: &#39;images\\015.Lazuli_Bunting/Lazuli_Bunting_0025_15079.jpg&#39;,
 833: &#39;images\\015.Lazuli_Bunting/Lazuli_Bunting_0014_14824.jpg&#39;,
 834: &#39;images\\015.Lazuli_Bunting/Lazuli_Bunting_0039_15081.jpg&#39;,
 835: &#39;images\\015.Lazuli_Bunting/Lazuli_Bunting_0020_14837.jpg&#39;,
 836: &#39;images\\015.Lazuli_Bunting/Lazuli_Bunting_0087_15096.jpg&#39;,
 837: &#39;images\\015.Lazuli_Bunting/Lazuli_Bunting_0048_14844.jpg&#39;,
 838: &#39;images\\016.Painted_Bunting/Painted_Bunting_0102_16642.jpg&#39;,
 839: &#39;images\\016.Painted_Bunting/Painted_Bunting_0004_16641.jpg&#39;,
 840: &#39;images\\016.Painted_Bunting/Painted_Bunting_0077_16819.jpg&#39;,
 841: &#39;images\\016.Painted_Bunting/Painted_Bunting_0039_15235.jpg&#39;,
 842: &#39;images\\016.Painted_Bunting/Painted_Bunting_0053_16404.jpg&#39;,
 843: &#39;images\\016.Painted_Bunting/Painted_Bunting_0050_16670.jpg&#39;,
 844: &#39;images\\016.Painted_Bunting/Painted_Bunting_0008_16416.jpg&#39;,
 845: &#39;images\\016.Painted_Bunting/Painted_Bunting_0061_16930.jpg&#39;,
 846: &#39;images\\016.Painted_Bunting/Painted_Bunting_0011_16690.jpg&#39;,
 847: &#39;images\\016.Painted_Bunting/Painted_Bunting_0040_16691.jpg&#39;,
 848: &#39;images\\016.Painted_Bunting/Painted_Bunting_0010_16948.jpg&#39;,
 849: &#39;images\\016.Painted_Bunting/Painted_Bunting_0072_16697.jpg&#39;,
 850: &#39;images\\016.Painted_Bunting/Painted_Bunting_0054_16711.jpg&#39;,
 851: &#39;images\\016.Painted_Bunting/Painted_Bunting_0069_16462.jpg&#39;,
 852: &#39;images\\016.Painted_Bunting/Painted_Bunting_0058_16719.jpg&#39;,
 853: &#39;images\\016.Painted_Bunting/Painted_Bunting_0025_16722.jpg&#39;,
 854: &#39;images\\016.Painted_Bunting/Painted_Bunting_0094_16467.jpg&#39;,
 855: &#39;images\\016.Painted_Bunting/Painted_Bunting_0079_15197.jpg&#39;,
 856: &#39;images\\016.Painted_Bunting/Painted_Bunting_0091_15198.jpg&#39;,
 857: &#39;images\\016.Painted_Bunting/Painted_Bunting_0100_16735.jpg&#39;,
 858: &#39;images\\016.Painted_Bunting/Painted_Bunting_0016_15200.jpg&#39;,
 859: &#39;images\\016.Painted_Bunting/Painted_Bunting_0073_16737.jpg&#39;,
 860: &#39;images\\016.Painted_Bunting/Painted_Bunting_0005_15202.jpg&#39;,
 861: &#39;images\\016.Painted_Bunting/Painted_Bunting_0028_15205.jpg&#39;,
 862: &#39;images\\016.Painted_Bunting/Painted_Bunting_0034_15207.jpg&#39;,
 863: &#39;images\\016.Painted_Bunting/Painted_Bunting_0055_15208.jpg&#39;,
 864: &#39;images\\016.Painted_Bunting/Painted_Bunting_0071_15209.jpg&#39;,
 865: &#39;images\\016.Painted_Bunting/Painted_Bunting_0093_15212.jpg&#39;,
 866: &#39;images\\016.Painted_Bunting/Painted_Bunting_0098_15226.jpg&#39;,
 867: &#39;images\\016.Painted_Bunting/Painted_Bunting_0076_16765.jpg&#39;,
 868: &#39;images\\016.Painted_Bunting/Painted_Bunting_0081_15230.jpg&#39;,
 869: &#39;images\\016.Painted_Bunting/Painted_Bunting_0019_15231.jpg&#39;,
 870: &#39;images\\016.Painted_Bunting/Painted_Bunting_0087_15232.jpg&#39;,
 871: &#39;images\\016.Painted_Bunting/Painted_Bunting_0096_15233.jpg&#39;,
 872: &#39;images\\016.Painted_Bunting/Painted_Bunting_0070_16515.jpg&#39;,
 873: &#39;images\\016.Painted_Bunting/Painted_Bunting_0066_15241.jpg&#39;,
 874: &#39;images\\016.Painted_Bunting/Painted_Bunting_0099_16525.jpg&#39;,
 875: &#39;images\\016.Painted_Bunting/Painted_Bunting_0006_15249.jpg&#39;,
 876: &#39;images\\016.Painted_Bunting/Painted_Bunting_0029_16530.jpg&#39;,
 877: &#39;images\\016.Painted_Bunting/Painted_Bunting_0084_16531.jpg&#39;,
 878: &#39;images\\016.Painted_Bunting/Painted_Bunting_0080_16534.jpg&#39;,
 879: &#39;images\\016.Painted_Bunting/Painted_Bunting_0046_16535.jpg&#39;,
 880: &#39;images\\016.Painted_Bunting/Painted_Bunting_0027_16536.jpg&#39;,
 881: &#39;images\\016.Painted_Bunting/Painted_Bunting_0086_16540.jpg&#39;,
 882: &#39;images\\016.Painted_Bunting/Painted_Bunting_0044_16557.jpg&#39;,
 883: &#39;images\\016.Painted_Bunting/Painted_Bunting_0085_15282.jpg&#39;,
 884: &#39;images\\016.Painted_Bunting/Painted_Bunting_0036_16563.jpg&#39;,
 885: &#39;images\\016.Painted_Bunting/Painted_Bunting_0078_16565.jpg&#39;,
 886: &#39;images\\016.Painted_Bunting/Painted_Bunting_0013_15294.jpg&#39;,
 887: &#39;images\\016.Painted_Bunting/Painted_Bunting_0021_15295.jpg&#39;,
 888: &#39;images\\016.Painted_Bunting/Painted_Bunting_0001_16585.jpg&#39;,
 889: &#39;images\\016.Painted_Bunting/Painted_Bunting_0083_16587.jpg&#39;,
 890: &#39;images\\016.Painted_Bunting/Painted_Bunting_0009_16674.jpg&#39;,
 891: &#39;images\\016.Painted_Bunting/Painted_Bunting_0056_16599.jpg&#39;,
 892: &#39;images\\016.Painted_Bunting/Painted_Bunting_0032_16605.jpg&#39;,
 893: &#39;images\\016.Painted_Bunting/Painted_Bunting_0049_16869.jpg&#39;,
 894: &#39;images\\016.Painted_Bunting/Painted_Bunting_0060_15224.jpg&#39;,
 895: &#39;images\\016.Painted_Bunting/Painted_Bunting_0002_16887.jpg&#39;,
 896: &#39;images\\017.Cardinal/Cardinal_0038_19203.jpg&#39;,
 897: &#39;images\\017.Cardinal/Cardinal_0072_17159.jpg&#39;,
 898: &#39;images\\017.Cardinal/Cardinal_0085_19162.jpg&#39;,
 899: &#39;images\\017.Cardinal/Cardinal_0047_17673.jpg&#39;,
 900: &#39;images\\017.Cardinal/Cardinal_0094_17165.jpg&#39;,
 901: &#39;images\\017.Cardinal/Cardinal_0035_17678.jpg&#39;,
 902: &#39;images\\017.Cardinal/Cardinal_0045_18021.jpg&#39;,
 903: &#39;images\\017.Cardinal/Cardinal_0103_17425.jpg&#39;,
 904: &#39;images\\017.Cardinal/Cardinal_0102_17808.jpg&#39;,
 905: &#39;images\\017.Cardinal/Cardinal_0006_17684.jpg&#39;,
 906: &#39;images\\017.Cardinal/Cardinal_0054_19334.jpg&#39;,
 907: &#39;images\\017.Cardinal/Cardinal_0075_17946.jpg&#39;,
 908: &#39;images\\017.Cardinal/Cardinal_0078_17181.jpg&#39;,
 909: &#39;images\\017.Cardinal/Cardinal_0041_17189.jpg&#39;,
 910: &#39;images\\017.Cardinal/Cardinal_0066_17803.jpg&#39;,
 911: &#39;images\\017.Cardinal/Cardinal_0040_17477.jpg&#39;,
 912: &#39;images\\017.Cardinal/Cardinal_0051_17223.jpg&#39;,
 913: &#39;images\\017.Cardinal/Cardinal_0093_17676.jpg&#39;,
 914: &#39;images\\017.Cardinal/Cardinal_0022_17233.jpg&#39;,
 915: &#39;images\\017.Cardinal/Cardinal_0023_19026.jpg&#39;,
 916: &#39;images\\017.Cardinal/Cardinal_0019_17368.jpg&#39;,
 917: &#39;images\\017.Cardinal/Cardinal_0089_18005.jpg&#39;,
 918: &#39;images\\017.Cardinal/Cardinal_0025_17239.jpg&#39;,
 919: &#39;images\\017.Cardinal/Cardinal_0033_19215.jpg&#39;,
 920: &#39;images\\017.Cardinal/Cardinal_0079_19044.jpg&#39;,
 921: &#39;images\\017.Cardinal/Cardinal_0105_19045.jpg&#39;,
 922: &#39;images\\017.Cardinal/Cardinal_0029_17297.jpg&#39;,
 923: &#39;images\\017.Cardinal/Cardinal_0081_17291.jpg&#39;,
 924: &#39;images\\017.Cardinal/Cardinal_0050_18035.jpg&#39;,
 925: &#39;images\\017.Cardinal/Cardinal_0007_18537.jpg&#39;,
 926: &#39;images\\017.Cardinal/Cardinal_0083_18042.jpg&#39;,
 927: &#39;images\\017.Cardinal/Cardinal_0020_18664.jpg&#39;,
 928: &#39;images\\017.Cardinal/Cardinal_0053_17541.jpg&#39;,
 929: &#39;images\\017.Cardinal/Cardinal_0028_18054.jpg&#39;,
 930: &#39;images\\017.Cardinal/Cardinal_0014_17389.jpg&#39;,
 931: &#39;images\\017.Cardinal/Cardinal_0052_18334.jpg&#39;,
 932: &#39;images\\017.Cardinal/Cardinal_0001_17057.jpg&#39;,
 933: &#39;images\\017.Cardinal/Cardinal_0074_18339.jpg&#39;,
 934: &#39;images\\017.Cardinal/Cardinal_0084_17576.jpg&#39;,
 935: &#39;images\\017.Cardinal/Cardinal_0037_18092.jpg&#39;,
 936: &#39;images\\017.Cardinal/Cardinal_0018_17071.jpg&#39;,
 937: &#39;images\\017.Cardinal/Cardinal_0056_18352.jpg&#39;,
 938: &#39;images\\017.Cardinal/Cardinal_0062_17334.jpg&#39;,
 939: &#39;images\\017.Cardinal/Cardinal_0092_17591.jpg&#39;,
 940: &#39;images\\017.Cardinal/Cardinal_0095_18108.jpg&#39;,
 941: &#39;images\\017.Cardinal/Cardinal_0039_17597.jpg&#39;,
 942: &#39;images\\017.Cardinal/Cardinal_0016_17862.jpg&#39;,
 943: &#39;images\\017.Cardinal/Cardinal_0012_18638.jpg&#39;,
 944: &#39;images\\017.Cardinal/Cardinal_0055_18898.jpg&#39;,
 945: &#39;images\\017.Cardinal/Cardinal_0010_18894.jpg&#39;,
 946: &#39;images\\017.Cardinal/Cardinal_0104_17122.jpg&#39;,
 947: &#39;images\\017.Cardinal/Cardinal_0057_17128.jpg&#39;,
 948: &#39;images\\017.Cardinal/Cardinal_0049_18258.jpg&#39;,
 949: &#39;images\\017.Cardinal/Cardinal_0082_17875.jpg&#39;,
 950: &#39;images\\017.Cardinal/Cardinal_0060_17139.jpg&#39;,
 951: &#39;images\\017.Cardinal/Cardinal_0097_17396.jpg&#39;,
 952: &#39;images\\017.Cardinal/Cardinal_0002_18424.jpg&#39;,
 953: &#39;images\\018.Spotted_Catbird/Spotted_Catbird_0018_796800.jpg&#39;,
 954: &#39;images\\018.Spotted_Catbird/Spotted_Catbird_0030_796801.jpg&#39;,
 955: &#39;images\\018.Spotted_Catbird/Spotted_Catbird_0012_796802.jpg&#39;,
 956: &#39;images\\018.Spotted_Catbird/Spotted_Catbird_0016_796803.jpg&#39;,
 957: &#39;images\\018.Spotted_Catbird/Spotted_Catbird_0004_796804.jpg&#39;,
 958: &#39;images\\018.Spotted_Catbird/Spotted_Catbird_0033_796805.jpg&#39;,
 959: &#39;images\\018.Spotted_Catbird/Spotted_Catbird_0031_796806.jpg&#39;,
 960: &#39;images\\018.Spotted_Catbird/Spotted_Catbird_0041_796807.jpg&#39;,
 961: &#39;images\\018.Spotted_Catbird/Spotted_Catbird_0015_796808.jpg&#39;,
 962: &#39;images\\018.Spotted_Catbird/Spotted_Catbird_0044_796809.jpg&#39;,
 963: &#39;images\\018.Spotted_Catbird/Spotted_Catbird_0037_796810.jpg&#39;,
 964: &#39;images\\018.Spotted_Catbird/Spotted_Catbird_0039_796811.jpg&#39;,
 965: &#39;images\\018.Spotted_Catbird/Spotted_Catbird_0028_796813.jpg&#39;,
 966: &#39;images\\018.Spotted_Catbird/Spotted_Catbird_0045_796814.jpg&#39;,
 967: &#39;images\\018.Spotted_Catbird/Spotted_Catbird_0011_796815.jpg&#39;,
 968: &#39;images\\018.Spotted_Catbird/Spotted_Catbird_0048_796817.jpg&#39;,
 969: &#39;images\\018.Spotted_Catbird/Spotted_Catbird_0026_796818.jpg&#39;,
 970: &#39;images\\018.Spotted_Catbird/Spotted_Catbird_0025_796819.jpg&#39;,
 971: &#39;images\\018.Spotted_Catbird/Spotted_Catbird_0040_796820.jpg&#39;,
 972: &#39;images\\018.Spotted_Catbird/Spotted_Catbird_0022_796821.jpg&#39;,
 973: &#39;images\\018.Spotted_Catbird/Spotted_Catbird_0003_796822.jpg&#39;,
 974: &#39;images\\018.Spotted_Catbird/Spotted_Catbird_0006_796823.jpg&#39;,
 975: &#39;images\\018.Spotted_Catbird/Spotted_Catbird_0029_796825.jpg&#39;,
 976: &#39;images\\018.Spotted_Catbird/Spotted_Catbird_0002_796827.jpg&#39;,
 977: &#39;images\\018.Spotted_Catbird/Spotted_Catbird_0032_796828.jpg&#39;,
 978: &#39;images\\018.Spotted_Catbird/Spotted_Catbird_0046_19399.jpg&#39;,
 979: &#39;images\\018.Spotted_Catbird/Spotted_Catbird_0047_19400.jpg&#39;,
 980: &#39;images\\018.Spotted_Catbird/Spotted_Catbird_0036_19406.jpg&#39;,
 981: &#39;images\\018.Spotted_Catbird/Spotted_Catbird_0005_19411.jpg&#39;,
 982: &#39;images\\018.Spotted_Catbird/Spotted_Catbird_0007_19424.jpg&#39;,
 983: &#39;images\\018.Spotted_Catbird/Spotted_Catbird_0014_19425.jpg&#39;,
 984: &#39;images\\018.Spotted_Catbird/Spotted_Catbird_0013_19428.jpg&#39;,
 985: &#39;images\\018.Spotted_Catbird/Spotted_Catbird_0042_19430.jpg&#39;,
 986: &#39;images\\018.Spotted_Catbird/Spotted_Catbird_0010_19436.jpg&#39;,
 987: &#39;images\\018.Spotted_Catbird/Spotted_Catbird_0034_19437.jpg&#39;,
 988: &#39;images\\018.Spotted_Catbird/Spotted_Catbird_0019_796788.jpg&#39;,
 989: &#39;images\\018.Spotted_Catbird/Spotted_Catbird_0008_796789.jpg&#39;,
 990: &#39;images\\018.Spotted_Catbird/Spotted_Catbird_0024_796791.jpg&#39;,
 991: &#39;images\\018.Spotted_Catbird/Spotted_Catbird_0023_796793.jpg&#39;,
 992: &#39;images\\018.Spotted_Catbird/Spotted_Catbird_0020_796794.jpg&#39;,
 993: &#39;images\\018.Spotted_Catbird/Spotted_Catbird_0009_796795.jpg&#39;,
 994: &#39;images\\018.Spotted_Catbird/Spotted_Catbird_0027_796796.jpg&#39;,
 995: &#39;images\\018.Spotted_Catbird/Spotted_Catbird_0001_796797.jpg&#39;,
 996: &#39;images\\018.Spotted_Catbird/Spotted_Catbird_0021_796798.jpg&#39;,
 997: &#39;images\\018.Spotted_Catbird/Spotted_Catbird_0035_796799.jpg&#39;,
 998: &#39;images\\019.Gray_Catbird/Gray_Catbird_0043_21008.jpg&#39;,
 999: &#39;images\\019.Gray_Catbird/Gray_Catbird_0032_21551.jpg&#39;,
 1000: &#39;images\\019.Gray_Catbird/Gray_Catbird_0067_21043.jpg&#39;,
 ...}</pre>
</div>

</div>

</div>
</div>

</div>
<div class="cell border-box-sizing code_cell rendered">
<div class="input">
<div class="prompt input_prompt">In&nbsp;[8]:</div>
<div class="inner_cell">
    <div class="input_area">
<div class=" highlight hl-ipython3"><pre><span></span>    <span class="n">cub</span><span class="o">.</span><span class="n">getImagesSizes</span><span class="p">()</span>
</pre></div>

    </div>
</div>
</div>

<div class="output_wrapper">
<div class="output">


<div class="output_area">

    <div class="prompt output_prompt">Out[8]:</div>




<div class="output_text output_subarea output_execute_result">
<pre>{1: [500, 335],
 2: [500, 336],
 3: [500, 347],
 4: [415, 500],
 5: [331, 380],
 6: [500, 470],
 7: [500, 340],
 8: [500, 391],
 9: [500, 416],
 10: [250, 208],
 11: [350, 350],
 12: [420, 280],
 13: [307, 500],
 14: [350, 350],
 15: [500, 379],
 16: [500, 357],
 17: [350, 350],
 18: [500, 334],
 19: [500, 356],
 20: [333, 500],
 21: [320, 240],
 22: [216, 136],
 23: [500, 390],
 24: [240, 187],
 25: [500, 357],
 26: [500, 375],
 27: [500, 414],
 28: [500, 335],
 29: [500, 332],
 30: [376, 322],
 31: [500, 360],
 32: [500, 392],
 33: [400, 333],
 34: [500, 441],
 35: [500, 338],
 36: [500, 337],
 37: [500, 500],
 38: [455, 450],
 39: [320, 223],
 40: [389, 500],
 41: [450, 500],
 42: [500, 383],
 43: [500, 332],
 44: [448, 272],
 45: [500, 375],
 46: [260, 359],
 47: [500, 275],
 48: [346, 500],
 49: [500, 375],
 50: [500, 332],
 51: [500, 500],
 52: [335, 400],
 53: [500, 385],
 54: [500, 375],
 55: [500, 301],
 56: [200, 200],
 57: [500, 333],
 58: [288, 192],
 59: [500, 334],
 60: [500, 320],
 61: [500, 375],
 62: [500, 375],
 63: [500, 375],
 64: [500, 271],
 65: [332, 500],
 66: [500, 333],
 67: [500, 333],
 68: [500, 333],
 69: [500, 372],
 70: [339, 500],
 71: [500, 375],
 72: [500, 375],
 73: [500, 333],
 74: [500, 367],
 75: [500, 333],
 76: [500, 314],
 77: [500, 332],
 78: [500, 281],
 79: [500, 429],
 80: [500, 333],
 81: [500, 333],
 82: [500, 385],
 83: [500, 500],
 84: [500, 500],
 85: [375, 500],
 86: [500, 478],
 87: [500, 347],
 88: [500, 375],
 89: [500, 334],
 90: [500, 333],
 91: [500, 306],
 92: [500, 333],
 93: [500, 375],
 94: [500, 334],
 95: [500, 340],
 96: [500, 375],
 97: [500, 375],
 98: [500, 333],
 99: [500, 312],
 100: [500, 340],
 101: [500, 307],
 102: [500, 341],
 103: [500, 333],
 104: [333, 500],
 105: [500, 333],
 106: [500, 333],
 107: [500, 375],
 108: [500, 334],
 109: [333, 500],
 110: [500, 397],
 111: [500, 337],
 112: [500, 385],
 113: [500, 333],
 114: [500, 334],
 115: [500, 335],
 116: [500, 333],
 117: [500, 331],
 118: [500, 375],
 119: [500, 375],
 120: [500, 375],
 121: [500, 320],
 122: [500, 357],
 123: [330, 500],
 124: [500, 334],
 125: [375, 500],
 126: [500, 357],
 127: [500, 335],
 128: [500, 356],
 129: [500, 332],
 130: [500, 392],
 131: [480, 360],
 132: [500, 333],
 133: [500, 379],
 134: [500, 332],
 135: [500, 333],
 136: [500, 375],
 137: [400, 500],
 138: [500, 333],
 139: [350, 500],
 140: [500, 500],
 141: [354, 500],
 142: [500, 334],
 143: [300, 284],
 144: [437, 376],
 145: [500, 335],
 146: [500, 322],
 147: [500, 333],
 148: [500, 302],
 149: [225, 354],
 150: [500, 364],
 151: [500, 217],
 152: [500, 333],
 153: [250, 188],
 154: [500, 333],
 155: [500, 400],
 156: [500, 345],
 157: [450, 352],
 158: [409, 450],
 159: [500, 411],
 160: [500, 370],
 161: [500, 334],
 162: [500, 480],
 163: [500, 484],
 164: [500, 333],
 165: [500, 335],
 166: [500, 313],
 167: [466, 282],
 168: [391, 500],
 169: [500, 375],
 170: [500, 399],
 171: [500, 330],
 172: [298, 320],
 173: [500, 333],
 174: [500, 334],
 175: [500, 309],
 176: [350, 397],
 177: [280, 420],
 178: [320, 240],
 179: [500, 372],
 180: [500, 400],
 181: [500, 375],
 182: [500, 500],
 183: [500, 357],
 184: [333, 500],
 185: [500, 333],
 186: [500, 375],
 187: [500, 371],
 188: [500, 333],
 189: [500, 333],
 190: [500, 334],
 191: [500, 375],
 192: [453, 500],
 193: [333, 500],
 194: [500, 375],
 195: [500, 375],
 196: [500, 332],
 197: [500, 333],
 198: [500, 416],
 199: [418, 500],
 200: [500, 444],
 201: [500, 333],
 202: [400, 500],
 203: [420, 280],
 204: [500, 344],
 205: [500, 478],
 206: [500, 360],
 207: [500, 367],
 208: [500, 375],
 209: [479, 500],
 210: [500, 375],
 211: [357, 500],
 212: [500, 337],
 213: [500, 349],
 214: [444, 500],
 215: [308, 500],
 216: [500, 335],
 217: [500, 374],
 218: [500, 375],
 219: [400, 500],
 220: [500, 333],
 221: [500, 332],
 222: [500, 392],
 223: [500, 375],
 224: [500, 383],
 225: [500, 375],
 226: [375, 500],
 227: [500, 333],
 228: [397, 500],
 229: [347, 500],
 230: [500, 333],
 231: [500, 375],
 232: [333, 500],
 233: [500, 375],
 234: [500, 398],
 235: [500, 375],
 236: [500, 477],
 237: [343, 367],
 238: [500, 378],
 239: [500, 400],
 240: [348, 500],
 241: [334, 500],
 242: [333, 500],
 243: [334, 500],
 244: [300, 254],
 245: [326, 500],
 246: [500, 375],
 247: [261, 320],
 248: [200, 200],
 249: [334, 500],
 250: [200, 273],
 251: [500, 478],
 252: [214, 320],
 253: [500, 328],
 254: [337, 500],
 255: [317, 500],
 256: [271, 404],
 257: [324, 480],
 258: [344, 500],
 259: [271, 404],
 260: [271, 404],
 261: [271, 404],
 262: [279, 381],
 263: [500, 375],
 264: [500, 333],
 265: [500, 493],
 266: [243, 280],
 267: [500, 333],
 268: [500, 399],
 269: [425, 500],
 270: [410, 500],
 271: [500, 334],
 272: [500, 375],
 273: [436, 500],
 274: [500, 339],
 275: [500, 375],
 276: [500, 363],
 277: [500, 403],
 278: [500, 402],
 279: [301, 465],
 280: [500, 421],
 281: [335, 500],
 282: [376, 500],
 283: [500, 400],
 284: [400, 500],
 285: [500, 333],
 286: [500, 375],
 287: [419, 500],
 288: [300, 286],
 289: [500, 374],
 290: [500, 333],
 291: [360, 430],
 292: [390, 500],
 293: [326, 500],
 294: [140, 153],
 295: [500, 375],
 296: [334, 500],
 297: [488, 500],
 298: [500, 375],
 299: [370, 500],
 300: [324, 500],
 301: [200, 300],
 302: [334, 500],
 303: [220, 330],
 304: [350, 350],
 305: [500, 333],
 306: [300, 450],
 307: [500, 334],
 308: [500, 457],
 309: [227, 350],
 310: [208, 216],
 311: [429, 340],
 312: [500, 333],
 313: [381, 249],
 314: [360, 360],
 315: [271, 404],
 316: [271, 404],
 317: [404, 271],
 318: [200, 262],
 319: [359, 500],
 320: [500, 426],
 321: [277, 500],
 322: [500, 373],
 323: [438, 500],
 324: [398, 500],
 325: [500, 366],
 326: [355, 500],
 327: [500, 356],
 328: [348, 500],
 329: [335, 500],
 330: [365, 500],
 331: [365, 243],
 332: [230, 178],
 333: [350, 466],
 334: [352, 500],
 335: [500, 408],
 336: [500, 344],
 337: [319, 480],
 338: [500, 375],
 339: [357, 500],
 340: [351, 500],
 341: [500, 333],
 342: [363, 500],
 343: [351, 500],
 344: [500, 375],
 345: [369, 500],
 346: [500, 363],
 347: [363, 500],
 348: [500, 334],
 349: [500, 348],
 350: [334, 500],
 351: [500, 334],
 352: [334, 500],
 353: [500, 360],
 354: [350, 350],
 355: [300, 254],
 356: [500, 375],
 357: [500, 333],
 358: [334, 500],
 359: [500, 334],
 360: [497, 500],
 361: [458, 500],
 362: [500, 341],
 363: [500, 344],
 364: [334, 500],
 365: [500, 500],
 366: [333, 500],
 367: [121, 170],
 368: [229, 284],
 369: [365, 500],
 370: [500, 395],
 371: [360, 430],
 372: [366, 500],
 373: [200, 150],
 374: [358, 500],
 375: [333, 500],
 376: [401, 500],
 377: [500, 335],
 378: [500, 500],
 379: [500, 323],
 380: [500, 393],
 381: [500, 333],
 382: [500, 333],
 383: [420, 280],
 384: [500, 405],
 385: [500, 375],
 386: [247, 149],
 387: [391, 500],
 388: [500, 396],
 389: [500, 396],
 390: [500, 363],
 391: [400, 320],
 392: [350, 291],
 393: [400, 290],
 394: [400, 294],
 395: [468, 276],
 396: [500, 334],
 397: [500, 375],
 398: [420, 280],
 399: [500, 375],
 400: [418, 300],
 401: [400, 287],
 402: [415, 271],
 403: [300, 278],
 404: [500, 293],
 405: [250, 167],
 406: [500, 500],
 407: [400, 253],
 408: [500, 375],
 409: [250, 328],
 410: [250, 202],
 411: [160, 128],
 412: [500, 350],
 413: [230, 158],
 414: [500, 273],
 415: [500, 265],
 416: [500, 375],
 417: [500, 407],
 418: [500, 358],
 419: [500, 375],
 420: [500, 333],
 421: [500, 375],
 422: [500, 333],
 423: [500, 500],
 424: [500, 333],
 425: [500, 319],
 426: [334, 500],
 427: [375, 500],
 428: [500, 375],
 429: [375, 500],
 430: [500, 350],
 431: [500, 375],
 432: [500, 311],
 433: [500, 333],
 434: [500, 423],
 435: [500, 386],
 436: [500, 369],
 437: [500, 298],
 438: [423, 500],
 439: [500, 464],
 440: [500, 402],
 441: [500, 333],
 442: [500, 439],
 443: [500, 400],
 444: [500, 402],
 445: [500, 334],
 446: [459, 500],
 447: [500, 500],
 448: [500, 333],
 449: [494, 500],
 450: [500, 352],
 451: [500, 364],
 452: [500, 332],
 453: [500, 334],
 454: [300, 200],
 455: [500, 375],
 456: [500, 364],
 457: [500, 333],
 458: [500, 375],
 459: [500, 355],
 460: [500, 332],
 461: [500, 448],
 462: [480, 397],
 463: [357, 500],
 464: [500, 375],
 465: [500, 243],
 466: [500, 466],
 467: [500, 333],
 468: [500, 415],
 469: [500, 375],
 470: [500, 321],
 471: [500, 374],
 472: [500, 358],
 473: [500, 362],
 474: [500, 500],
 475: [333, 500],
 476: [500, 375],
 477: [408, 500],
 478: [402, 500],
 479: [500, 352],
 480: [500, 400],
 481: [500, 398],
 482: [500, 491],
 483: [500, 497],
 484: [500, 439],
 485: [500, 356],
 486: [400, 500],
 487: [374, 500],
 488: [500, 400],
 489: [500, 335],
 490: [500, 375],
 491: [500, 322],
 492: [500, 375],
 493: [500, 301],
 494: [347, 500],
 495: [342, 500],
 496: [420, 498],
 497: [375, 500],
 498: [500, 386],
 499: [500, 334],
 500: [500, 355],
 501: [500, 332],
 502: [500, 317],
 503: [500, 348],
 504: [500, 332],
 505: [408, 500],
 506: [500, 397],
 507: [500, 398],
 508: [500, 375],
 509: [500, 333],
 510: [500, 278],
 511: [500, 339],
 512: [473, 500],
 513: [357, 500],
 514: [446, 500],
 515: [500, 335],
 516: [500, 333],
 517: [500, 318],
 518: [356, 500],
 519: [500, 353],
 520: [500, 333],
 521: [424, 500],
 522: [400, 500],
 523: [333, 500],
 524: [500, 335],
 525: [500, 372],
 526: [333, 500],
 527: [500, 409],
 528: [500, 375],
 529: [500, 400],
 530: [500, 375],
 531: [500, 342],
 532: [500, 364],
 533: [500, 400],
 534: [500, 375],
 535: [365, 500],
 536: [500, 333],
 537: [500, 375],
 538: [354, 500],
 539: [500, 406],
 540: [500, 333],
 541: [500, 475],
 542: [500, 333],
 543: [500, 375],
 544: [400, 500],
 545: [500, 331],
 546: [500, 375],
 547: [500, 429],
 548: [500, 333],
 549: [500, 333],
 550: [500, 386],
 551: [500, 375],
 552: [500, 305],
 553: [500, 375],
 554: [500, 423],
 555: [500, 391],
 556: [500, 350],
 557: [500, 500],
 558: [500, 383],
 559: [500, 357],
 560: [500, 296],
 561: [500, 493],
 562: [500, 333],
 563: [500, 357],
 564: [418, 218],
 565: [500, 464],
 566: [500, 333],
 567: [334, 500],
 568: [500, 357],
 569: [500, 330],
 570: [500, 375],
 571: [500, 375],
 572: [500, 357],
 573: [500, 333],
 574: [500, 335],
 575: [500, 328],
 576: [500, 411],
 577: [500, 333],
 578: [500, 352],
 579: [500, 377],
 580: [500, 379],
 581: [500, 407],
 582: [418, 500],
 583: [500, 368],
 584: [500, 441],
 585: [500, 334],
 586: [500, 489],
 587: [468, 500],
 588: [500, 373],
 589: [500, 400],
 590: [500, 333],
 591: [497, 500],
 592: [500, 401],
 593: [500, 349],
 594: [500, 332],
 595: [500, 333],
 596: [500, 318],
 597: [500, 375],
 598: [500, 353],
 599: [500, 332],
 600: [500, 384],
 601: [500, 333],
 602: [500, 333],
 603: [500, 334],
 604: [500, 333],
 605: [500, 391],
 606: [286, 500],
 607: [446, 500],
 608: [500, 333],
 609: [333, 500],
 610: [500, 375],
 611: [412, 500],
 612: [500, 368],
 613: [500, 336],
 614: [500, 375],
 615: [500, 333],
 616: [500, 333],
 617: [328, 500],
 618: [360, 240],
 619: [333, 500],
 620: [500, 375],
 621: [349, 500],
 622: [500, 334],
 623: [500, 334],
 624: [412, 500],
 625: [363, 500],
 626: [418, 500],
 627: [500, 371],
 628: [500, 334],
 629: [500, 335],
 630: [500, 406],
 631: [500, 367],
 632: [401, 500],
 633: [500, 482],
 634: [500, 375],
 635: [500, 375],
 636: [500, 386],
 637: [500, 337],
 638: [500, 326],
 639: [500, 332],
 640: [500, 337],
 641: [500, 332],
 642: [442, 500],
 643: [500, 454],
 644: [500, 332],
 645: [500, 443],
 646: [500, 375],
 647: [358, 500],
 648: [500, 358],
 649: [500, 333],
 650: [500, 332],
 651: [500, 375],
 652: [500, 488],
 653: [500, 325],
 654: [400, 500],
 655: [447, 500],
 656: [306, 460],
 657: [500, 375],
 658: [500, 333],
 659: [500, 333],
 660: [500, 334],
 661: [369, 500],
 662: [500, 333],
 663: [500, 375],
 664: [500, 375],
 665: [401, 500],
 666: [500, 394],
 667: [500, 375],
 668: [500, 375],
 669: [500, 375],
 670: [500, 375],
 671: [500, 368],
 672: [335, 500],
 673: [500, 328],
 674: [500, 385],
 675: [500, 371],
 676: [395, 500],
 677: [500, 441],
 678: [500, 357],
 679: [500, 306],
 680: [500, 461],
 681: [500, 427],
 682: [500, 332],
 683: [500, 471],
 684: [376, 500],
 685: [500, 333],
 686: [500, 323],
 687: [333, 500],
 688: [333, 500],
 689: [500, 304],
 690: [394, 480],
 691: [500, 370],
 692: [500, 390],
 693: [396, 500],
 694: [500, 333],
 695: [500, 333],
 696: [333, 500],
 697: [500, 388],
 698: [500, 374],
 699: [500, 376],
 700: [500, 357],
 701: [500, 333],
 702: [500, 318],
 703: [402, 500],
 704: [400, 500],
 705: [500, 373],
 706: [378, 500],
 707: [500, 383],
 708: [500, 336],
 709: [500, 500],
 710: [500, 360],
 711: [500, 340],
 712: [500, 333],
 713: [360, 288],
 714: [386, 500],
 715: [500, 348],
 716: [500, 333],
 717: [500, 334],
 718: [500, 375],
 719: [387, 500],
 720: [500, 375],
 721: [500, 302],
 722: [438, 500],
 723: [432, 288],
 724: [500, 333],
 725: [467, 500],
 726: [500, 492],
 727: [500, 333],
 728: [477, 279],
 729: [500, 366],
 730: [500, 333],
 731: [500, 420],
 732: [500, 333],
 733: [500, 392],
 734: [500, 356],
 735: [500, 333],
 736: [500, 357],
 737: [500, 375],
 738: [500, 333],
 739: [333, 500],
 740: [367, 500],
 741: [500, 474],
 742: [411, 500],
 743: [500, 359],
 744: [500, 333],
 745: [500, 372],
 746: [500, 375],
 747: [500, 375],
 748: [333, 500],
 749: [402, 500],
 750: [500, 375],
 751: [500, 333],
 752: [500, 342],
 753: [500, 375],
 754: [500, 455],
 755: [500, 375],
 756: [500, 345],
 757: [500, 375],
 758: [500, 384],
 759: [500, 375],
 760: [484, 500],
 761: [500, 357],
 762: [500, 400],
 763: [400, 500],
 764: [500, 422],
 765: [500, 340],
 766: [434, 500],
 767: [500, 375],
 768: [500, 333],
 769: [500, 425],
 770: [500, 399],
 771: [500, 375],
 772: [500, 368],
 773: [333, 500],
 774: [500, 333],
 775: [500, 500],
 776: [500, 333],
 777: [500, 306],
 778: [500, 372],
 779: [500, 282],
 780: [500, 366],
 781: [500, 400],
 782: [500, 332],
 783: [456, 500],
 784: [420, 280],
 785: [500, 400],
 786: [500, 230],
 787: [439, 500],
 788: [500, 342],
 789: [489, 500],
 790: [500, 333],
 791: [500, 420],
 792: [500, 375],
 793: [468, 500],
 794: [500, 500],
 795: [430, 500],
 796: [500, 322],
 797: [436, 500],
 798: [500, 428],
 799: [500, 400],
 800: [415, 500],
 801: [500, 409],
 802: [500, 500],
 803: [500, 485],
 804: [170, 453],
 805: [371, 500],
 806: [500, 375],
 807: [500, 382],
 808: [432, 288],
 809: [500, 334],
 810: [424, 500],
 811: [264, 500],
 812: [500, 473],
 813: [484, 500],
 814: [400, 500],
 815: [500, 318],
 816: [333, 500],
 817: [500, 326],
 818: [309, 500],
 819: [500, 381],
 820: [500, 345],
 821: [500, 359],
 822: [346, 432],
 823: [500, 400],
 824: [444, 500],
 825: [500, 333],
 826: [500, 270],
 827: [500, 357],
 828: [500, 433],
 829: [500, 317],
 830: [500, 333],
 831: [500, 460],
 832: [500, 418],
 833: [393, 500],
 834: [500, 342],
 835: [500, 313],
 836: [500, 326],
 837: [493, 500],
 838: [500, 333],
 839: [500, 389],
 840: [400, 500],
 841: [500, 486],
 842: [500, 333],
 843: [333, 500],
 844: [500, 380],
 845: [500, 375],
 846: [500, 375],
 847: [500, 362],
 848: [500, 404],
 849: [500, 449],
 850: [500, 406],
 851: [500, 304],
 852: [500, 358],
 853: [500, 338],
 854: [500, 393],
 855: [391, 500],
 856: [500, 475],
 857: [500, 333],
 858: [500, 339],
 859: [500, 420],
 860: [500, 332],
 861: [500, 333],
 862: [500, 359],
 863: [500, 394],
 864: [400, 500],
 865: [500, 397],
 866: [500, 333],
 867: [500, 349],
 868: [500, 404],
 869: [500, 375],
 870: [500, 358],
 871: [500, 426],
 872: [500, 365],
 873: [358, 500],
 874: [500, 375],
 875: [467, 500],
 876: [375, 500],
 877: [500, 411],
 878: [401, 500],
 879: [335, 500],
 880: [500, 478],
 881: [500, 495],
 882: [500, 333],
 883: [500, 324],
 884: [500, 333],
 885: [400, 500],
 886: [500, 340],
 887: [500, 400],
 888: [500, 375],
 889: [500, 332],
 890: [500, 334],
 891: [500, 324],
 892: [500, 375],
 893: [500, 333],
 894: [500, 333],
 895: [398, 500],
 896: [500, 336],
 897: [500, 397],
 898: [500, 334],
 899: [500, 398],
 900: [500, 348],
 901: [455, 500],
 902: [400, 500],
 903: [500, 424],
 904: [500, 375],
 905: [500, 427],
 906: [435, 500],
 907: [399, 500],
 908: [500, 477],
 909: [500, 390],
 910: [500, 384],
 911: [500, 338],
 912: [500, 421],
 913: [407, 500],
 914: [388, 500],
 915: [500, 407],
 916: [500, 333],
 917: [500, 353],
 918: [500, 362],
 919: [401, 500],
 920: [500, 346],
 921: [500, 390],
 922: [500, 333],
 923: [500, 341],
 924: [419, 500],
 925: [500, 375],
 926: [500, 375],
 927: [500, 386],
 928: [377, 500],
 929: [500, 250],
 930: [500, 375],
 931: [500, 330],
 932: [500, 464],
 933: [500, 333],
 934: [500, 409],
 935: [445, 500],
 936: [431, 500],
 937: [500, 375],
 938: [500, 375],
 939: [500, 500],
 940: [382, 500],
 941: [500, 429],
 942: [494, 500],
 943: [500, 434],
 944: [500, 333],
 945: [500, 332],
 946: [352, 500],
 947: [500, 393],
 948: [333, 500],
 949: [444, 500],
 950: [420, 500],
 951: [500, 375],
 952: [333, 500],
 953: [239, 320],
 954: [500, 333],
 955: [500, 381],
 956: [200, 133],
 957: [500, 400],
 958: [500, 375],
 959: [300, 226],
 960: [177, 131],
 961: [500, 407],
 962: [500, 333],
 963: [500, 333],
 964: [500, 333],
 965: [500, 327],
 966: [500, 326],
 967: [500, 333],
 968: [500, 333],
 969: [500, 335],
 970: [307, 500],
 971: [333, 500],
 972: [333, 500],
 973: [500, 353],
 974: [360, 284],
 975: [255, 263],
 976: [152, 238],
 977: [350, 234],
 978: [345, 500],
 979: [500, 333],
 980: [333, 500],
 981: [500, 337],
 982: [332, 500],
 983: [500, 397],
 984: [500, 375],
 985: [500, 333],
 986: [500, 375],
 987: [500, 333],
 988: [404, 271],
 989: [400, 266],
 990: [320, 221],
 991: [361, 383],
 992: [414, 300],
 993: [500, 333],
 994: [500, 347],
 995: [246, 314],
 996: [454, 500],
 997: [250, 253],
 998: [500, 333],
 999: [500, 375],
 1000: [500, 449],
 ...}</pre>
</div>

</div>

</div>
</div>

</div>
<div class="cell border-box-sizing code_cell rendered">
<div class="input">
<div class="prompt input_prompt">In&nbsp;[9]:</div>
<div class="inner_cell">
    <div class="input_area">
<div class=" highlight hl-ipython3"><pre><span></span>    <span class="n">cub</span><span class="o">.</span><span class="n">getImgClasses</span><span class="p">()</span>
</pre></div>

    </div>
</div>
</div>

<div class="output_wrapper">
<div class="output">


<div class="output_area">

    <div class="prompt output_prompt">Out[9]:</div>




<div class="output_text output_subarea output_execute_result">
<pre>{1: 1,
 2: 1,
 3: 1,
 4: 1,
 5: 1,
 6: 1,
 7: 1,
 8: 1,
 9: 1,
 10: 1,
 11: 1,
 12: 1,
 13: 1,
 14: 1,
 15: 1,
 16: 1,
 17: 1,
 18: 1,
 19: 1,
 20: 1,
 21: 1,
 22: 1,
 23: 1,
 24: 1,
 25: 1,
 26: 1,
 27: 1,
 28: 1,
 29: 1,
 30: 1,
 31: 1,
 32: 1,
 33: 1,
 34: 1,
 35: 1,
 36: 1,
 37: 1,
 38: 1,
 39: 1,
 40: 1,
 41: 1,
 42: 1,
 43: 1,
 44: 1,
 45: 1,
 46: 1,
 47: 1,
 48: 1,
 49: 1,
 50: 1,
 51: 1,
 52: 1,
 53: 1,
 54: 1,
 55: 1,
 56: 1,
 57: 1,
 58: 1,
 59: 1,
 60: 1,
 61: 2,
 62: 2,
 63: 2,
 64: 2,
 65: 2,
 66: 2,
 67: 2,
 68: 2,
 69: 2,
 70: 2,
 71: 2,
 72: 2,
 73: 2,
 74: 2,
 75: 2,
 76: 2,
 77: 2,
 78: 2,
 79: 2,
 80: 2,
 81: 2,
 82: 2,
 83: 2,
 84: 2,
 85: 2,
 86: 2,
 87: 2,
 88: 2,
 89: 2,
 90: 2,
 91: 2,
 92: 2,
 93: 2,
 94: 2,
 95: 2,
 96: 2,
 97: 2,
 98: 2,
 99: 2,
 100: 2,
 101: 2,
 102: 2,
 103: 2,
 104: 2,
 105: 2,
 106: 2,
 107: 2,
 108: 2,
 109: 2,
 110: 2,
 111: 2,
 112: 2,
 113: 2,
 114: 2,
 115: 2,
 116: 2,
 117: 2,
 118: 2,
 119: 2,
 120: 2,
 121: 3,
 122: 3,
 123: 3,
 124: 3,
 125: 3,
 126: 3,
 127: 3,
 128: 3,
 129: 3,
 130: 3,
 131: 3,
 132: 3,
 133: 3,
 134: 3,
 135: 3,
 136: 3,
 137: 3,
 138: 3,
 139: 3,
 140: 3,
 141: 3,
 142: 3,
 143: 3,
 144: 3,
 145: 3,
 146: 3,
 147: 3,
 148: 3,
 149: 3,
 150: 3,
 151: 3,
 152: 3,
 153: 3,
 154: 3,
 155: 3,
 156: 3,
 157: 3,
 158: 3,
 159: 3,
 160: 3,
 161: 3,
 162: 3,
 163: 3,
 164: 3,
 165: 3,
 166: 3,
 167: 3,
 168: 3,
 169: 3,
 170: 3,
 171: 3,
 172: 3,
 173: 3,
 174: 3,
 175: 3,
 176: 3,
 177: 3,
 178: 3,
 179: 4,
 180: 4,
 181: 4,
 182: 4,
 183: 4,
 184: 4,
 185: 4,
 186: 4,
 187: 4,
 188: 4,
 189: 4,
 190: 4,
 191: 4,
 192: 4,
 193: 4,
 194: 4,
 195: 4,
 196: 4,
 197: 4,
 198: 4,
 199: 4,
 200: 4,
 201: 4,
 202: 4,
 203: 4,
 204: 4,
 205: 4,
 206: 4,
 207: 4,
 208: 4,
 209: 4,
 210: 4,
 211: 4,
 212: 4,
 213: 4,
 214: 4,
 215: 4,
 216: 4,
 217: 4,
 218: 4,
 219: 4,
 220: 4,
 221: 4,
 222: 4,
 223: 4,
 224: 4,
 225: 4,
 226: 4,
 227: 4,
 228: 4,
 229: 4,
 230: 4,
 231: 4,
 232: 4,
 233: 4,
 234: 4,
 235: 4,
 236: 4,
 237: 4,
 238: 4,
 239: 5,
 240: 5,
 241: 5,
 242: 5,
 243: 5,
 244: 5,
 245: 5,
 246: 5,
 247: 5,
 248: 5,
 249: 5,
 250: 5,
 251: 5,
 252: 5,
 253: 5,
 254: 5,
 255: 5,
 256: 5,
 257: 5,
 258: 5,
 259: 5,
 260: 5,
 261: 5,
 262: 5,
 263: 5,
 264: 5,
 265: 5,
 266: 5,
 267: 5,
 268: 5,
 269: 5,
 270: 5,
 271: 5,
 272: 5,
 273: 5,
 274: 5,
 275: 5,
 276: 5,
 277: 5,
 278: 5,
 279: 5,
 280: 5,
 281: 5,
 282: 5,
 283: 6,
 284: 6,
 285: 6,
 286: 6,
 287: 6,
 288: 6,
 289: 6,
 290: 6,
 291: 6,
 292: 6,
 293: 6,
 294: 6,
 295: 6,
 296: 6,
 297: 6,
 298: 6,
 299: 6,
 300: 6,
 301: 6,
 302: 6,
 303: 6,
 304: 6,
 305: 6,
 306: 6,
 307: 6,
 308: 6,
 309: 6,
 310: 6,
 311: 6,
 312: 6,
 313: 6,
 314: 6,
 315: 6,
 316: 6,
 317: 6,
 318: 6,
 319: 6,
 320: 6,
 321: 6,
 322: 6,
 323: 6,
 324: 7,
 325: 7,
 326: 7,
 327: 7,
 328: 7,
 329: 7,
 330: 7,
 331: 7,
 332: 7,
 333: 7,
 334: 7,
 335: 7,
 336: 7,
 337: 7,
 338: 7,
 339: 7,
 340: 7,
 341: 7,
 342: 7,
 343: 7,
 344: 7,
 345: 7,
 346: 7,
 347: 7,
 348: 7,
 349: 7,
 350: 7,
 351: 7,
 352: 7,
 353: 7,
 354: 7,
 355: 7,
 356: 7,
 357: 7,
 358: 7,
 359: 7,
 360: 7,
 361: 7,
 362: 7,
 363: 7,
 364: 7,
 365: 7,
 366: 7,
 367: 7,
 368: 7,
 369: 7,
 370: 7,
 371: 7,
 372: 7,
 373: 7,
 374: 7,
 375: 7,
 376: 7,
 377: 8,
 378: 8,
 379: 8,
 380: 8,
 381: 8,
 382: 8,
 383: 8,
 384: 8,
 385: 8,
 386: 8,
 387: 8,
 388: 8,
 389: 8,
 390: 8,
 391: 8,
 392: 8,
 393: 8,
 394: 8,
 395: 8,
 396: 8,
 397: 8,
 398: 8,
 399: 8,
 400: 8,
 401: 8,
 402: 8,
 403: 8,
 404: 8,
 405: 8,
 406: 8,
 407: 8,
 408: 8,
 409: 8,
 410: 8,
 411: 8,
 412: 8,
 413: 8,
 414: 8,
 415: 8,
 416: 8,
 417: 8,
 418: 8,
 419: 8,
 420: 8,
 421: 8,
 422: 8,
 423: 8,
 424: 8,
 425: 9,
 426: 9,
 427: 9,
 428: 9,
 429: 9,
 430: 9,
 431: 9,
 432: 9,
 433: 9,
 434: 9,
 435: 9,
 436: 9,
 437: 9,
 438: 9,
 439: 9,
 440: 9,
 441: 9,
 442: 9,
 443: 9,
 444: 9,
 445: 9,
 446: 9,
 447: 9,
 448: 9,
 449: 9,
 450: 9,
 451: 9,
 452: 9,
 453: 9,
 454: 9,
 455: 9,
 456: 9,
 457: 9,
 458: 9,
 459: 9,
 460: 9,
 461: 9,
 462: 9,
 463: 9,
 464: 9,
 465: 9,
 466: 9,
 467: 9,
 468: 9,
 469: 9,
 470: 9,
 471: 9,
 472: 9,
 473: 9,
 474: 9,
 475: 9,
 476: 9,
 477: 9,
 478: 9,
 479: 9,
 480: 9,
 481: 9,
 482: 9,
 483: 9,
 484: 10,
 485: 10,
 486: 10,
 487: 10,
 488: 10,
 489: 10,
 490: 10,
 491: 10,
 492: 10,
 493: 10,
 494: 10,
 495: 10,
 496: 10,
 497: 10,
 498: 10,
 499: 10,
 500: 10,
 501: 10,
 502: 10,
 503: 10,
 504: 10,
 505: 10,
 506: 10,
 507: 10,
 508: 10,
 509: 10,
 510: 10,
 511: 10,
 512: 10,
 513: 10,
 514: 10,
 515: 10,
 516: 10,
 517: 10,
 518: 10,
 519: 10,
 520: 10,
 521: 10,
 522: 10,
 523: 10,
 524: 10,
 525: 10,
 526: 10,
 527: 10,
 528: 10,
 529: 10,
 530: 10,
 531: 10,
 532: 10,
 533: 10,
 534: 10,
 535: 10,
 536: 10,
 537: 10,
 538: 10,
 539: 10,
 540: 10,
 541: 10,
 542: 10,
 543: 10,
 544: 11,
 545: 11,
 546: 11,
 547: 11,
 548: 11,
 549: 11,
 550: 11,
 551: 11,
 552: 11,
 553: 11,
 554: 11,
 555: 11,
 556: 11,
 557: 11,
 558: 11,
 559: 11,
 560: 11,
 561: 11,
 562: 11,
 563: 11,
 564: 11,
 565: 11,
 566: 11,
 567: 11,
 568: 11,
 569: 11,
 570: 11,
 571: 11,
 572: 11,
 573: 11,
 574: 11,
 575: 11,
 576: 11,
 577: 11,
 578: 11,
 579: 11,
 580: 11,
 581: 11,
 582: 11,
 583: 11,
 584: 11,
 585: 11,
 586: 11,
 587: 11,
 588: 11,
 589: 11,
 590: 11,
 591: 11,
 592: 11,
 593: 11,
 594: 11,
 595: 11,
 596: 11,
 597: 11,
 598: 11,
 599: 11,
 600: 11,
 601: 11,
 602: 11,
 603: 11,
 604: 12,
 605: 12,
 606: 12,
 607: 12,
 608: 12,
 609: 12,
 610: 12,
 611: 12,
 612: 12,
 613: 12,
 614: 12,
 615: 12,
 616: 12,
 617: 12,
 618: 12,
 619: 12,
 620: 12,
 621: 12,
 622: 12,
 623: 12,
 624: 12,
 625: 12,
 626: 12,
 627: 12,
 628: 12,
 629: 12,
 630: 12,
 631: 12,
 632: 12,
 633: 12,
 634: 12,
 635: 12,
 636: 12,
 637: 12,
 638: 12,
 639: 12,
 640: 12,
 641: 12,
 642: 12,
 643: 12,
 644: 12,
 645: 12,
 646: 12,
 647: 12,
 648: 12,
 649: 12,
 650: 12,
 651: 12,
 652: 12,
 653: 12,
 654: 12,
 655: 12,
 656: 12,
 657: 12,
 658: 12,
 659: 12,
 660: 13,
 661: 13,
 662: 13,
 663: 13,
 664: 13,
 665: 13,
 666: 13,
 667: 13,
 668: 13,
 669: 13,
 670: 13,
 671: 13,
 672: 13,
 673: 13,
 674: 13,
 675: 13,
 676: 13,
 677: 13,
 678: 13,
 679: 13,
 680: 13,
 681: 13,
 682: 13,
 683: 13,
 684: 13,
 685: 13,
 686: 13,
 687: 13,
 688: 13,
 689: 13,
 690: 13,
 691: 13,
 692: 13,
 693: 13,
 694: 13,
 695: 13,
 696: 13,
 697: 13,
 698: 13,
 699: 13,
 700: 13,
 701: 13,
 702: 13,
 703: 13,
 704: 13,
 705: 13,
 706: 13,
 707: 13,
 708: 13,
 709: 13,
 710: 13,
 711: 13,
 712: 13,
 713: 13,
 714: 13,
 715: 13,
 716: 13,
 717: 13,
 718: 13,
 719: 13,
 720: 14,
 721: 14,
 722: 14,
 723: 14,
 724: 14,
 725: 14,
 726: 14,
 727: 14,
 728: 14,
 729: 14,
 730: 14,
 731: 14,
 732: 14,
 733: 14,
 734: 14,
 735: 14,
 736: 14,
 737: 14,
 738: 14,
 739: 14,
 740: 14,
 741: 14,
 742: 14,
 743: 14,
 744: 14,
 745: 14,
 746: 14,
 747: 14,
 748: 14,
 749: 14,
 750: 14,
 751: 14,
 752: 14,
 753: 14,
 754: 14,
 755: 14,
 756: 14,
 757: 14,
 758: 14,
 759: 14,
 760: 14,
 761: 14,
 762: 14,
 763: 14,
 764: 14,
 765: 14,
 766: 14,
 767: 14,
 768: 14,
 769: 14,
 770: 14,
 771: 14,
 772: 14,
 773: 14,
 774: 14,
 775: 14,
 776: 14,
 777: 14,
 778: 14,
 779: 14,
 780: 15,
 781: 15,
 782: 15,
 783: 15,
 784: 15,
 785: 15,
 786: 15,
 787: 15,
 788: 15,
 789: 15,
 790: 15,
 791: 15,
 792: 15,
 793: 15,
 794: 15,
 795: 15,
 796: 15,
 797: 15,
 798: 15,
 799: 15,
 800: 15,
 801: 15,
 802: 15,
 803: 15,
 804: 15,
 805: 15,
 806: 15,
 807: 15,
 808: 15,
 809: 15,
 810: 15,
 811: 15,
 812: 15,
 813: 15,
 814: 15,
 815: 15,
 816: 15,
 817: 15,
 818: 15,
 819: 15,
 820: 15,
 821: 15,
 822: 15,
 823: 15,
 824: 15,
 825: 15,
 826: 15,
 827: 15,
 828: 15,
 829: 15,
 830: 15,
 831: 15,
 832: 15,
 833: 15,
 834: 15,
 835: 15,
 836: 15,
 837: 15,
 838: 16,
 839: 16,
 840: 16,
 841: 16,
 842: 16,
 843: 16,
 844: 16,
 845: 16,
 846: 16,
 847: 16,
 848: 16,
 849: 16,
 850: 16,
 851: 16,
 852: 16,
 853: 16,
 854: 16,
 855: 16,
 856: 16,
 857: 16,
 858: 16,
 859: 16,
 860: 16,
 861: 16,
 862: 16,
 863: 16,
 864: 16,
 865: 16,
 866: 16,
 867: 16,
 868: 16,
 869: 16,
 870: 16,
 871: 16,
 872: 16,
 873: 16,
 874: 16,
 875: 16,
 876: 16,
 877: 16,
 878: 16,
 879: 16,
 880: 16,
 881: 16,
 882: 16,
 883: 16,
 884: 16,
 885: 16,
 886: 16,
 887: 16,
 888: 16,
 889: 16,
 890: 16,
 891: 16,
 892: 16,
 893: 16,
 894: 16,
 895: 16,
 896: 17,
 897: 17,
 898: 17,
 899: 17,
 900: 17,
 901: 17,
 902: 17,
 903: 17,
 904: 17,
 905: 17,
 906: 17,
 907: 17,
 908: 17,
 909: 17,
 910: 17,
 911: 17,
 912: 17,
 913: 17,
 914: 17,
 915: 17,
 916: 17,
 917: 17,
 918: 17,
 919: 17,
 920: 17,
 921: 17,
 922: 17,
 923: 17,
 924: 17,
 925: 17,
 926: 17,
 927: 17,
 928: 17,
 929: 17,
 930: 17,
 931: 17,
 932: 17,
 933: 17,
 934: 17,
 935: 17,
 936: 17,
 937: 17,
 938: 17,
 939: 17,
 940: 17,
 941: 17,
 942: 17,
 943: 17,
 944: 17,
 945: 17,
 946: 17,
 947: 17,
 948: 17,
 949: 17,
 950: 17,
 951: 17,
 952: 17,
 953: 18,
 954: 18,
 955: 18,
 956: 18,
 957: 18,
 958: 18,
 959: 18,
 960: 18,
 961: 18,
 962: 18,
 963: 18,
 964: 18,
 965: 18,
 966: 18,
 967: 18,
 968: 18,
 969: 18,
 970: 18,
 971: 18,
 972: 18,
 973: 18,
 974: 18,
 975: 18,
 976: 18,
 977: 18,
 978: 18,
 979: 18,
 980: 18,
 981: 18,
 982: 18,
 983: 18,
 984: 18,
 985: 18,
 986: 18,
 987: 18,
 988: 18,
 989: 18,
 990: 18,
 991: 18,
 992: 18,
 993: 18,
 994: 18,
 995: 18,
 996: 18,
 997: 18,
 998: 19,
 999: 19,
 1000: 19,
 ...}</pre>
</div>

</div>

</div>
</div>

</div>
<div class="cell border-box-sizing code_cell rendered">
<div class="input">
<div class="prompt input_prompt">In&nbsp;[10]:</div>
<div class="inner_cell">
    <div class="input_area">
<div class=" highlight hl-ipython3"><pre><span></span>    <span class="n">cub</span><span class="o">.</span><span class="n">getClasses</span><span class="p">()</span>
</pre></div>

    </div>
</div>
</div>

<div class="output_wrapper">
<div class="output">


<div class="output_area">

    <div class="prompt output_prompt">Out[10]:</div>




<div class="output_text output_subarea output_execute_result">
<pre>{1: &#39;001.Black_footed_Albatross&#39;,
 2: &#39;002.Laysan_Albatross&#39;,
 3: &#39;003.Sooty_Albatross&#39;,
 4: &#39;004.Groove_billed_Ani&#39;,
 5: &#39;005.Crested_Auklet&#39;,
 6: &#39;006.Least_Auklet&#39;,
 7: &#39;007.Parakeet_Auklet&#39;,
 8: &#39;008.Rhinoceros_Auklet&#39;,
 9: &#39;009.Brewer_Blackbird&#39;,
 10: &#39;010.Red_winged_Blackbird&#39;,
 11: &#39;011.Rusty_Blackbird&#39;,
 12: &#39;012.Yellow_headed_Blackbird&#39;,
 13: &#39;013.Bobolink&#39;,
 14: &#39;014.Indigo_Bunting&#39;,
 15: &#39;015.Lazuli_Bunting&#39;,
 16: &#39;016.Painted_Bunting&#39;,
 17: &#39;017.Cardinal&#39;,
 18: &#39;018.Spotted_Catbird&#39;,
 19: &#39;019.Gray_Catbird&#39;,
 20: &#39;020.Yellow_breasted_Chat&#39;,
 21: &#39;021.Eastern_Towhee&#39;,
 22: &#39;022.Chuck_will_Widow&#39;,
 23: &#39;023.Brandt_Cormorant&#39;,
 24: &#39;024.Red_faced_Cormorant&#39;,
 25: &#39;025.Pelagic_Cormorant&#39;,
 26: &#39;026.Bronzed_Cowbird&#39;,
 27: &#39;027.Shiny_Cowbird&#39;,
 28: &#39;028.Brown_Creeper&#39;,
 29: &#39;029.American_Crow&#39;,
 30: &#39;030.Fish_Crow&#39;,
 31: &#39;031.Black_billed_Cuckoo&#39;,
 32: &#39;032.Mangrove_Cuckoo&#39;,
 33: &#39;033.Yellow_billed_Cuckoo&#39;,
 34: &#39;034.Gray_crowned_Rosy_Finch&#39;,
 35: &#39;035.Purple_Finch&#39;,
 36: &#39;036.Northern_Flicker&#39;,
 37: &#39;037.Acadian_Flycatcher&#39;,
 38: &#39;038.Great_Crested_Flycatcher&#39;,
 39: &#39;039.Least_Flycatcher&#39;,
 40: &#39;040.Olive_sided_Flycatcher&#39;,
 41: &#39;041.Scissor_tailed_Flycatcher&#39;,
 42: &#39;042.Vermilion_Flycatcher&#39;,
 43: &#39;043.Yellow_bellied_Flycatcher&#39;,
 44: &#39;044.Frigatebird&#39;,
 45: &#39;045.Northern_Fulmar&#39;,
 46: &#39;046.Gadwall&#39;,
 47: &#39;047.American_Goldfinch&#39;,
 48: &#39;048.European_Goldfinch&#39;,
 49: &#39;049.Boat_tailed_Grackle&#39;,
 50: &#39;050.Eared_Grebe&#39;,
 51: &#39;051.Horned_Grebe&#39;,
 52: &#39;052.Pied_billed_Grebe&#39;,
 53: &#39;053.Western_Grebe&#39;,
 54: &#39;054.Blue_Grosbeak&#39;,
 55: &#39;055.Evening_Grosbeak&#39;,
 56: &#39;056.Pine_Grosbeak&#39;,
 57: &#39;057.Rose_breasted_Grosbeak&#39;,
 58: &#39;058.Pigeon_Guillemot&#39;,
 59: &#39;059.California_Gull&#39;,
 60: &#39;060.Glaucous_winged_Gull&#39;,
 61: &#39;061.Heermann_Gull&#39;,
 62: &#39;062.Herring_Gull&#39;,
 63: &#39;063.Ivory_Gull&#39;,
 64: &#39;064.Ring_billed_Gull&#39;,
 65: &#39;065.Slaty_backed_Gull&#39;,
 66: &#39;066.Western_Gull&#39;,
 67: &#39;067.Anna_Hummingbird&#39;,
 68: &#39;068.Ruby_throated_Hummingbird&#39;,
 69: &#39;069.Rufous_Hummingbird&#39;,
 70: &#39;070.Green_Violetear&#39;,
 71: &#39;071.Long_tailed_Jaeger&#39;,
 72: &#39;072.Pomarine_Jaeger&#39;,
 73: &#39;073.Blue_Jay&#39;,
 74: &#39;074.Florida_Jay&#39;,
 75: &#39;075.Green_Jay&#39;,
 76: &#39;076.Dark_eyed_Junco&#39;,
 77: &#39;077.Tropical_Kingbird&#39;,
 78: &#39;078.Gray_Kingbird&#39;,
 79: &#39;079.Belted_Kingfisher&#39;,
 80: &#39;080.Green_Kingfisher&#39;,
 81: &#39;081.Pied_Kingfisher&#39;,
 82: &#39;082.Ringed_Kingfisher&#39;,
 83: &#39;083.White_breasted_Kingfisher&#39;,
 84: &#39;084.Red_legged_Kittiwake&#39;,
 85: &#39;085.Horned_Lark&#39;,
 86: &#39;086.Pacific_Loon&#39;,
 87: &#39;087.Mallard&#39;,
 88: &#39;088.Western_Meadowlark&#39;,
 89: &#39;089.Hooded_Merganser&#39;,
 90: &#39;090.Red_breasted_Merganser&#39;,
 91: &#39;091.Mockingbird&#39;,
 92: &#39;092.Nighthawk&#39;,
 93: &#39;093.Clark_Nutcracker&#39;,
 94: &#39;094.White_breasted_Nuthatch&#39;,
 95: &#39;095.Baltimore_Oriole&#39;,
 96: &#39;096.Hooded_Oriole&#39;,
 97: &#39;097.Orchard_Oriole&#39;,
 98: &#39;098.Scott_Oriole&#39;,
 99: &#39;099.Ovenbird&#39;,
 100: &#39;100.Brown_Pelican&#39;,
 101: &#39;101.White_Pelican&#39;,
 102: &#39;102.Western_Wood_Pewee&#39;,
 103: &#39;103.Sayornis&#39;,
 104: &#39;104.American_Pipit&#39;,
 105: &#39;105.Whip_poor_Will&#39;,
 106: &#39;106.Horned_Puffin&#39;,
 107: &#39;107.Common_Raven&#39;,
 108: &#39;108.White_necked_Raven&#39;,
 109: &#39;109.American_Redstart&#39;,
 110: &#39;110.Geococcyx&#39;,
 111: &#39;111.Loggerhead_Shrike&#39;,
 112: &#39;112.Great_Grey_Shrike&#39;,
 113: &#39;113.Baird_Sparrow&#39;,
 114: &#39;114.Black_throated_Sparrow&#39;,
 115: &#39;115.Brewer_Sparrow&#39;,
 116: &#39;116.Chipping_Sparrow&#39;,
 117: &#39;117.Clay_colored_Sparrow&#39;,
 118: &#39;118.House_Sparrow&#39;,
 119: &#39;119.Field_Sparrow&#39;,
 120: &#39;120.Fox_Sparrow&#39;,
 121: &#39;121.Grasshopper_Sparrow&#39;,
 122: &#39;122.Harris_Sparrow&#39;,
 123: &#39;123.Henslow_Sparrow&#39;,
 124: &#39;124.Le_Conte_Sparrow&#39;,
 125: &#39;125.Lincoln_Sparrow&#39;,
 126: &#39;126.Nelson_Sharp_tailed_Sparrow&#39;,
 127: &#39;127.Savannah_Sparrow&#39;,
 128: &#39;128.Seaside_Sparrow&#39;,
 129: &#39;129.Song_Sparrow&#39;,
 130: &#39;130.Tree_Sparrow&#39;,
 131: &#39;131.Vesper_Sparrow&#39;,
 132: &#39;132.White_crowned_Sparrow&#39;,
 133: &#39;133.White_throated_Sparrow&#39;,
 134: &#39;134.Cape_Glossy_Starling&#39;,
 135: &#39;135.Bank_Swallow&#39;,
 136: &#39;136.Barn_Swallow&#39;,
 137: &#39;137.Cliff_Swallow&#39;,
 138: &#39;138.Tree_Swallow&#39;,
 139: &#39;139.Scarlet_Tanager&#39;,
 140: &#39;140.Summer_Tanager&#39;,
 141: &#39;141.Artic_Tern&#39;,
 142: &#39;142.Black_Tern&#39;,
 143: &#39;143.Caspian_Tern&#39;,
 144: &#39;144.Common_Tern&#39;,
 145: &#39;145.Elegant_Tern&#39;,
 146: &#39;146.Forsters_Tern&#39;,
 147: &#39;147.Least_Tern&#39;,
 148: &#39;148.Green_tailed_Towhee&#39;,
 149: &#39;149.Brown_Thrasher&#39;,
 150: &#39;150.Sage_Thrasher&#39;,
 151: &#39;151.Black_capped_Vireo&#39;,
 152: &#39;152.Blue_headed_Vireo&#39;,
 153: &#39;153.Philadelphia_Vireo&#39;,
 154: &#39;154.Red_eyed_Vireo&#39;,
 155: &#39;155.Warbling_Vireo&#39;,
 156: &#39;156.White_eyed_Vireo&#39;,
 157: &#39;157.Yellow_throated_Vireo&#39;,
 158: &#39;158.Bay_breasted_Warbler&#39;,
 159: &#39;159.Black_and_white_Warbler&#39;,
 160: &#39;160.Black_throated_Blue_Warbler&#39;,
 161: &#39;161.Blue_winged_Warbler&#39;,
 162: &#39;162.Canada_Warbler&#39;,
 163: &#39;163.Cape_May_Warbler&#39;,
 164: &#39;164.Cerulean_Warbler&#39;,
 165: &#39;165.Chestnut_sided_Warbler&#39;,
 166: &#39;166.Golden_winged_Warbler&#39;,
 167: &#39;167.Hooded_Warbler&#39;,
 168: &#39;168.Kentucky_Warbler&#39;,
 169: &#39;169.Magnolia_Warbler&#39;,
 170: &#39;170.Mourning_Warbler&#39;,
 171: &#39;171.Myrtle_Warbler&#39;,
 172: &#39;172.Nashville_Warbler&#39;,
 173: &#39;173.Orange_crowned_Warbler&#39;,
 174: &#39;174.Palm_Warbler&#39;,
 175: &#39;175.Pine_Warbler&#39;,
 176: &#39;176.Prairie_Warbler&#39;,
 177: &#39;177.Prothonotary_Warbler&#39;,
 178: &#39;178.Swainson_Warbler&#39;,
 179: &#39;179.Tennessee_Warbler&#39;,
 180: &#39;180.Wilson_Warbler&#39;,
 181: &#39;181.Worm_eating_Warbler&#39;,
 182: &#39;182.Yellow_Warbler&#39;,
 183: &#39;183.Northern_Waterthrush&#39;,
 184: &#39;184.Louisiana_Waterthrush&#39;,
 185: &#39;185.Bohemian_Waxwing&#39;,
 186: &#39;186.Cedar_Waxwing&#39;,
 187: &#39;187.American_Three_toed_Woodpecker&#39;,
 188: &#39;188.Pileated_Woodpecker&#39;,
 189: &#39;189.Red_bellied_Woodpecker&#39;,
 190: &#39;190.Red_cockaded_Woodpecker&#39;,
 191: &#39;191.Red_headed_Woodpecker&#39;,
 192: &#39;192.Downy_Woodpecker&#39;,
 193: &#39;193.Bewick_Wren&#39;,
 194: &#39;194.Cactus_Wren&#39;,
 195: &#39;195.Carolina_Wren&#39;,
 196: &#39;196.House_Wren&#39;,
 197: &#39;197.Marsh_Wren&#39;,
 198: &#39;198.Rock_Wren&#39;,
 199: &#39;199.Winter_Wren&#39;,
 200: &#39;200.Common_Yellowthroat&#39;}</pre>
</div>

</div>

</div>
</div>

</div>
<div class="cell border-box-sizing code_cell rendered">
<div class="input">
<div class="prompt input_prompt">In&nbsp;[11]:</div>
<div class="inner_cell">
    <div class="input_area">
<div class=" highlight hl-ipython3"><pre><span></span>    <span class="n">cub</span><span class="o">.</span><span class="n">writeCubToCsv</span><span class="p">(</span><span class="n">CSV_PATH</span><span class="p">)</span>
</pre></div>

    </div>
</div>
</div>

</div>
<div class="cell border-box-sizing code_cell rendered">
<div class="input">
<div class="prompt input_prompt">In&nbsp;[12]:</div>
<div class="inner_cell">
    <div class="input_area">
<div class=" highlight hl-ipython3"><pre><span></span>    <span class="k">del</span><span class="p">(</span><span class="n">cub</span><span class="p">)</span>
</pre></div>

    </div>
</div>
</div>

</div>
<div class="cell border-box-sizing code_cell rendered">
<div class="input">
<div class="prompt input_prompt">In&nbsp;[13]:</div>
<div class="inner_cell">
    <div class="input_area">
<div class=" highlight hl-ipython3"><pre><span></span><span class="n">csvData</span> <span class="o">=</span> <span class="n">getCsv</span><span class="p">(</span><span class="n">CSV_PATH</span><span class="p">)</span>
<span class="n">csvData</span><span class="o">.</span><span class="n">head</span><span class="p">(</span><span class="mi">10</span><span class="p">)</span>
</pre></div>

    </div>
</div>
</div>

<div class="output_wrapper">
<div class="output">


<div class="output_area">

    <div class="prompt output_prompt">Out[13]:</div>



<div class="output_html rendered_html output_subarea output_execute_result">
<div>
<style scoped>
    .dataframe tbody tr th:only-of-type {
        vertical-align: middle;
    }

    .dataframe tbody tr th {
        vertical-align: top;
    }

    .dataframe thead th {
        text-align: right;
    }
</style>
<table border="1" class="dataframe">
  <thead>
    <tr style="text-align: right;">
      <th></th>
      <th>filename</th>
      <th>width</th>
      <th>height</th>
      <th>class</th>
      <th>xmin</th>
      <th>ymin</th>
      <th>xmax</th>
      <th>ymax</th>
    </tr>
  </thead>
  <tbody>
    <tr>
      <th>0</th>
      <td>D:/Google-Drive/Technology/airboat/ML/Birds-DS...</td>
      <td>500</td>
      <td>335</td>
      <td>001.Black_footed_Albatross</td>
      <td>60</td>
      <td>27</td>
      <td>385</td>
      <td>331</td>
    </tr>
    <tr>
      <th>1</th>
      <td>D:/Google-Drive/Technology/airboat/ML/Birds-DS...</td>
      <td>500</td>
      <td>336</td>
      <td>001.Black_footed_Albatross</td>
      <td>139</td>
      <td>30</td>
      <td>292</td>
      <td>294</td>
    </tr>
    <tr>
      <th>2</th>
      <td>D:/Google-Drive/Technology/airboat/ML/Birds-DS...</td>
      <td>500</td>
      <td>347</td>
      <td>001.Black_footed_Albatross</td>
      <td>14</td>
      <td>112</td>
      <td>402</td>
      <td>298</td>
    </tr>
    <tr>
      <th>3</th>
      <td>D:/Google-Drive/Technology/airboat/ML/Birds-DS...</td>
      <td>415</td>
      <td>500</td>
      <td>001.Black_footed_Albatross</td>
      <td>112</td>
      <td>90</td>
      <td>367</td>
      <td>332</td>
    </tr>
    <tr>
      <th>4</th>
      <td>D:/Google-Drive/Technology/airboat/ML/Birds-DS...</td>
      <td>331</td>
      <td>380</td>
      <td>001.Black_footed_Albatross</td>
      <td>70</td>
      <td>50</td>
      <td>204</td>
      <td>353</td>
    </tr>
    <tr>
      <th>5</th>
      <td>D:/Google-Drive/Technology/airboat/ML/Birds-DS...</td>
      <td>500</td>
      <td>470</td>
      <td>001.Black_footed_Albatross</td>
      <td>33</td>
      <td>53</td>
      <td>284</td>
      <td>448</td>
    </tr>
    <tr>
      <th>6</th>
      <td>D:/Google-Drive/Technology/airboat/ML/Birds-DS...</td>
      <td>500</td>
      <td>340</td>
      <td>001.Black_footed_Albatross</td>
      <td>7</td>
      <td>75</td>
      <td>427</td>
      <td>337</td>
    </tr>
    <tr>
      <th>7</th>
      <td>D:/Google-Drive/Technology/airboat/ML/Birds-DS...</td>
      <td>500</td>
      <td>391</td>
      <td>001.Black_footed_Albatross</td>
      <td>78</td>
      <td>86</td>
      <td>411</td>
      <td>244</td>
    </tr>
    <tr>
      <th>8</th>
      <td>D:/Google-Drive/Technology/airboat/ML/Birds-DS...</td>
      <td>500</td>
      <td>416</td>
      <td>001.Black_footed_Albatross</td>
      <td>112</td>
      <td>76</td>
      <td>333</td>
      <td>265</td>
    </tr>
    <tr>
      <th>9</th>
      <td>D:/Google-Drive/Technology/airboat/ML/Birds-DS...</td>
      <td>250</td>
      <td>208</td>
      <td>001.Black_footed_Albatross</td>
      <td>27</td>
      <td>4</td>
      <td>226</td>
      <td>205</td>
    </tr>
  </tbody>
</table>
</div>
</div>

</div>

</div>
</div>

</div>
<div class="cell border-box-sizing code_cell rendered">
<div class="input">
<div class="prompt input_prompt">In&nbsp;[14]:</div>
<div class="inner_cell">
    <div class="input_area">
<div class=" highlight hl-ipython3"><pre><span></span><span class="n">imgNum</span> <span class="o">=</span> <span class="mi">5140</span>
<span class="n">Image</span><span class="o">.</span><span class="n">fromarray</span><span class="p">(</span><span class="n">draw_box</span><span class="p">(</span><span class="n">csvData</span><span class="p">,</span><span class="n">imgNum</span><span class="p">))</span>
</pre></div>

    </div>
</div>
</div>

<div class="output_wrapper">
<div class="output">


<div class="output_area">

    <div class="prompt output_prompt">Out[14]:</div>




<div class="output_png output_subarea output_execute_result">
<img src="data:image/png;base64,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
"
>
</div>

</div>

</div>
</div>

</div>
<div class="cell border-box-sizing code_cell rendered">
<div class="input">
<div class="prompt input_prompt">In&nbsp;[&nbsp;]:</div>
<div class="inner_cell">
    <div class="input_area">
<div class=" highlight hl-ipython3"><pre><span></span> 
</pre></div>

    </div>
</div>
</div>

</div>
    </div>
  </div>
</body>

 


</html>
